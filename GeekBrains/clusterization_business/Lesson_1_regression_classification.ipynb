{
 "cells": [
  {
   "cell_type": "markdown",
   "metadata": {},
   "source": [
    "<div style='color:white; background:black; font-weight: bold; padding:15px,15px,15px,15px; font-size: 30px; text-align: center'>Теория</div>"
   ]
  },
  {
   "cell_type": "markdown",
   "metadata": {},
   "source": [
    "<div style='text-align: center;font-size: 28px;font-weight: bold; color:blue'>Виды машинного обучения</div>"
   ]
  },
  {
   "cell_type": "markdown",
   "metadata": {},
   "source": [
    "![Виды машинного обучения](img/kinds_ml.png)"
   ]
  },
  {
   "cell_type": "markdown",
   "metadata": {},
   "source": [
    "<div style='text-align: center;font-size: 28px;font-weight: bold; color:blue'>Регрессия</div>"
   ]
  },
  {
   "cell_type": "markdown",
   "metadata": {},
   "source": [
    "![Виды машинного обучения](img/task_regression.png)"
   ]
  },
  {
   "cell_type": "markdown",
   "metadata": {},
   "source": [
    "<div style='text-align: center;font-size: 28px;font-weight: bold; color:blue'>Классификация</div>"
   ]
  },
  {
   "cell_type": "markdown",
   "metadata": {},
   "source": [
    "![Виды машинного обучения](img/task_classification.png)"
   ]
  },
  {
   "cell_type": "markdown",
   "metadata": {},
   "source": [
    "<div style='text-align: center;font-size: 28px;font-weight: bold; color:blue'>Кластеризация</div>"
   ]
  },
  {
   "cell_type": "markdown",
   "metadata": {},
   "source": [
    "![Виды машинного обучения](img/task_classterization.png)"
   ]
  },
  {
   "cell_type": "markdown",
   "metadata": {},
   "source": [
    "<div style='text-align: center;font-size: 28px;font-weight: bold; color:blue'>Функции потерь</div>"
   ]
  },
  {
   "cell_type": "markdown",
   "metadata": {},
   "source": [
    "<div style='text-align: center;font-size: 22px;font-weight: bold; color:red'>Mean squared error (MSE) - регрессия</div>"
   ]
  },
  {
   "cell_type": "markdown",
   "metadata": {},
   "source": [
    "![MSE](img/mse.png)"
   ]
  },
  {
   "cell_type": "markdown",
   "metadata": {},
   "source": [
    "<div style='text-align: center;font-size: 22px;font-weight: bold; color:red'>LogLoss - классификация</div>"
   ]
  },
  {
   "cell_type": "markdown",
   "metadata": {},
   "source": [
    "![Виды машинного обучения](img/logloss.png)"
   ]
  },
  {
   "cell_type": "markdown",
   "metadata": {},
   "source": [
    "<div style='color:white; background:black; font-weight: bold; padding:15px,15px,15px,15px; font-size: 30px; text-align: center'>Практика</div>"
   ]
  },
  {
   "cell_type": "code",
   "execution_count": 1,
   "metadata": {},
   "outputs": [],
   "source": [
    "import numpy as np \n",
    "import pandas as pd \n",
    "import matplotlib.pyplot as plt\n",
    "import seaborn as sns\n",
    "\n",
    "from sklearn.datasets import make_regression, make_classification\n",
    "from sklearn.linear_model import LinearRegression\n",
    "from sklearn.linear_model import LogisticRegression\n",
    "from sklearn.metrics import classification_report, confusion_matrix\n"
   ]
  },
  {
   "cell_type": "markdown",
   "metadata": {},
   "source": [
    "### Генерация выборки"
   ]
  },
  {
   "cell_type": "code",
   "execution_count": 2,
   "metadata": {},
   "outputs": [],
   "source": [
    "features, output, coef = make_regression(n_samples = 10000, #количество элементов\n",
    "                                         n_features = 5, #количество признаков\n",
    "                                         n_informative = 4, #количество информативных признаков\n",
    "                                         n_targets = 1, #количество целевых признаков\n",
    "                                         noise = 0, #шум\n",
    "                                         coef = True)\n",
    "\n",
    "X = pd.DataFrame(features, columns=['Фактор_1', 'Фактор_2', 'Фактор_3', 'Фактор_4', 'Фактор_5'])\n",
    "y = pd.DataFrame(output, columns=['Результат'])\n",
    "\n",
    "df = pd.concat([X, y], axis = 1)"
   ]
  },
  {
   "cell_type": "code",
   "execution_count": 3,
   "metadata": {},
   "outputs": [],
   "source": [
    "classification_data, classification_labels = make_classification(n_samples=500, #количество элементов\n",
    "                                                      n_features=5, #количество признаков\n",
    "                                                      n_informative=4, #количество информативных признаков\n",
    "                                                      n_classes=2, #количество классов\n",
    "                                                      n_redundant=0, #количество избыточных признаков\n",
    "                                                      random_state=23) #возможность генерировать одинаковые выборки\n"
   ]
  },
  {
   "cell_type": "markdown",
   "metadata": {},
   "source": [
    "### Небольшое повторение"
   ]
  },
  {
   "cell_type": "code",
   "execution_count": 4,
   "metadata": {},
   "outputs": [
    {
     "name": "stdout",
     "output_type": "stream",
     "text": [
      "break\n"
     ]
    }
   ],
   "source": [
    "for index, row in df.iterrows():\n",
    "    if row[\"Фактор_1\"] >= 3:\n",
    "        print(f\"На строке {index} значение Фактора 1 больше или равно 3\")\n",
    "        \n",
    "    elif row[\"Фактор_1\"] < -3:\n",
    "        print(\"break\")\n",
    "        break\n",
    "        \n",
    "    elif row[\"Фактор_1\"] != 1:\n",
    "        continue  \n",
    "        \n",
    "    else:\n",
    "        pass\n",
    "        print(\"pass\")"
   ]
  },
  {
   "cell_type": "markdown",
   "metadata": {},
   "source": [
    "### Предварительная обработка данных"
   ]
  },
  {
   "cell_type": "code",
   "execution_count": 5,
   "metadata": {},
   "outputs": [
    {
     "data": {
      "text/html": [
       "<div>\n",
       "<style scoped>\n",
       "    .dataframe tbody tr th:only-of-type {\n",
       "        vertical-align: middle;\n",
       "    }\n",
       "\n",
       "    .dataframe tbody tr th {\n",
       "        vertical-align: top;\n",
       "    }\n",
       "\n",
       "    .dataframe thead th {\n",
       "        text-align: right;\n",
       "    }\n",
       "</style>\n",
       "<table border=\"1\" class=\"dataframe\">\n",
       "  <thead>\n",
       "    <tr style=\"text-align: right;\">\n",
       "      <th></th>\n",
       "      <th>Фактор_1</th>\n",
       "      <th>Фактор_2</th>\n",
       "      <th>Фактор_3</th>\n",
       "      <th>Фактор_4</th>\n",
       "      <th>Фактор_5</th>\n",
       "      <th>Результат</th>\n",
       "    </tr>\n",
       "  </thead>\n",
       "  <tbody>\n",
       "    <tr>\n",
       "      <th>count</th>\n",
       "      <td>10000.000000</td>\n",
       "      <td>10000.000000</td>\n",
       "      <td>10000.000000</td>\n",
       "      <td>10000.000000</td>\n",
       "      <td>10000.000000</td>\n",
       "      <td>10000.000000</td>\n",
       "    </tr>\n",
       "    <tr>\n",
       "      <th>mean</th>\n",
       "      <td>-0.004767</td>\n",
       "      <td>-0.010539</td>\n",
       "      <td>0.013227</td>\n",
       "      <td>-0.013544</td>\n",
       "      <td>0.002263</td>\n",
       "      <td>-0.969915</td>\n",
       "    </tr>\n",
       "    <tr>\n",
       "      <th>std</th>\n",
       "      <td>0.996650</td>\n",
       "      <td>0.995168</td>\n",
       "      <td>1.003157</td>\n",
       "      <td>0.993141</td>\n",
       "      <td>1.002055</td>\n",
       "      <td>116.839847</td>\n",
       "    </tr>\n",
       "    <tr>\n",
       "      <th>min</th>\n",
       "      <td>-3.694216</td>\n",
       "      <td>-4.488351</td>\n",
       "      <td>-4.290500</td>\n",
       "      <td>-3.683090</td>\n",
       "      <td>-3.766115</td>\n",
       "      <td>-542.579750</td>\n",
       "    </tr>\n",
       "    <tr>\n",
       "      <th>25%</th>\n",
       "      <td>-0.679403</td>\n",
       "      <td>-0.683971</td>\n",
       "      <td>-0.652861</td>\n",
       "      <td>-0.674589</td>\n",
       "      <td>-0.669907</td>\n",
       "      <td>-79.600213</td>\n",
       "    </tr>\n",
       "    <tr>\n",
       "      <th>50%</th>\n",
       "      <td>-0.009961</td>\n",
       "      <td>-0.010542</td>\n",
       "      <td>0.015599</td>\n",
       "      <td>-0.010625</td>\n",
       "      <td>0.009703</td>\n",
       "      <td>-0.540595</td>\n",
       "    </tr>\n",
       "    <tr>\n",
       "      <th>75%</th>\n",
       "      <td>0.664969</td>\n",
       "      <td>0.673720</td>\n",
       "      <td>0.698109</td>\n",
       "      <td>0.652743</td>\n",
       "      <td>0.655830</td>\n",
       "      <td>78.448637</td>\n",
       "    </tr>\n",
       "    <tr>\n",
       "      <th>max</th>\n",
       "      <td>3.550831</td>\n",
       "      <td>4.270270</td>\n",
       "      <td>4.032198</td>\n",
       "      <td>4.367216</td>\n",
       "      <td>4.005923</td>\n",
       "      <td>441.086357</td>\n",
       "    </tr>\n",
       "  </tbody>\n",
       "</table>\n",
       "</div>"
      ],
      "text/plain": [
       "           Фактор_1      Фактор_2      Фактор_3      Фактор_4      Фактор_5  \\\n",
       "count  10000.000000  10000.000000  10000.000000  10000.000000  10000.000000   \n",
       "mean      -0.004767     -0.010539      0.013227     -0.013544      0.002263   \n",
       "std        0.996650      0.995168      1.003157      0.993141      1.002055   \n",
       "min       -3.694216     -4.488351     -4.290500     -3.683090     -3.766115   \n",
       "25%       -0.679403     -0.683971     -0.652861     -0.674589     -0.669907   \n",
       "50%       -0.009961     -0.010542      0.015599     -0.010625      0.009703   \n",
       "75%        0.664969      0.673720      0.698109      0.652743      0.655830   \n",
       "max        3.550831      4.270270      4.032198      4.367216      4.005923   \n",
       "\n",
       "          Результат  \n",
       "count  10000.000000  \n",
       "mean      -0.969915  \n",
       "std      116.839847  \n",
       "min     -542.579750  \n",
       "25%      -79.600213  \n",
       "50%       -0.540595  \n",
       "75%       78.448637  \n",
       "max      441.086357  "
      ]
     },
     "execution_count": 5,
     "metadata": {},
     "output_type": "execute_result"
    }
   ],
   "source": [
    "df.describe()"
   ]
  },
  {
   "cell_type": "code",
   "execution_count": 6,
   "metadata": {},
   "outputs": [
    {
     "name": "stdout",
     "output_type": "stream",
     "text": [
      "<class 'pandas.core.frame.DataFrame'>\n",
      "RangeIndex: 10000 entries, 0 to 9999\n",
      "Data columns (total 6 columns):\n",
      " #   Column     Non-Null Count  Dtype  \n",
      "---  ------     --------------  -----  \n",
      " 0   Фактор_1   10000 non-null  float64\n",
      " 1   Фактор_2   10000 non-null  float64\n",
      " 2   Фактор_3   10000 non-null  float64\n",
      " 3   Фактор_4   10000 non-null  float64\n",
      " 4   Фактор_5   10000 non-null  float64\n",
      " 5   Результат  10000 non-null  float64\n",
      "dtypes: float64(6)\n",
      "memory usage: 468.9 KB\n"
     ]
    }
   ],
   "source": [
    "df.info()"
   ]
  },
  {
   "cell_type": "code",
   "execution_count": 7,
   "metadata": {},
   "outputs": [],
   "source": [
    "df.iloc[1,2] = np.NaN\n",
    "df.iloc[1,3] = np.NaN\n",
    "df.iloc[2,4] = np.NaN"
   ]
  },
  {
   "cell_type": "code",
   "execution_count": 8,
   "metadata": {},
   "outputs": [
    {
     "data": {
      "text/html": [
       "<div>\n",
       "<style scoped>\n",
       "    .dataframe tbody tr th:only-of-type {\n",
       "        vertical-align: middle;\n",
       "    }\n",
       "\n",
       "    .dataframe tbody tr th {\n",
       "        vertical-align: top;\n",
       "    }\n",
       "\n",
       "    .dataframe thead th {\n",
       "        text-align: right;\n",
       "    }\n",
       "</style>\n",
       "<table border=\"1\" class=\"dataframe\">\n",
       "  <thead>\n",
       "    <tr style=\"text-align: right;\">\n",
       "      <th></th>\n",
       "      <th>Фактор_1</th>\n",
       "      <th>Фактор_2</th>\n",
       "      <th>Фактор_3</th>\n",
       "      <th>Фактор_4</th>\n",
       "      <th>Фактор_5</th>\n",
       "      <th>Результат</th>\n",
       "    </tr>\n",
       "  </thead>\n",
       "  <tbody>\n",
       "    <tr>\n",
       "      <th>0</th>\n",
       "      <td>0.721208</td>\n",
       "      <td>0.291442</td>\n",
       "      <td>0.583870</td>\n",
       "      <td>0.243701</td>\n",
       "      <td>-0.767147</td>\n",
       "      <td>72.363231</td>\n",
       "    </tr>\n",
       "    <tr>\n",
       "      <th>1</th>\n",
       "      <td>-2.252508</td>\n",
       "      <td>-0.167895</td>\n",
       "      <td>NaN</td>\n",
       "      <td>NaN</td>\n",
       "      <td>-0.494869</td>\n",
       "      <td>-60.670144</td>\n",
       "    </tr>\n",
       "    <tr>\n",
       "      <th>2</th>\n",
       "      <td>-1.013297</td>\n",
       "      <td>-1.256873</td>\n",
       "      <td>-0.106497</td>\n",
       "      <td>0.635093</td>\n",
       "      <td>NaN</td>\n",
       "      <td>-95.014729</td>\n",
       "    </tr>\n",
       "    <tr>\n",
       "      <th>3</th>\n",
       "      <td>0.392441</td>\n",
       "      <td>-0.282610</td>\n",
       "      <td>-0.053886</td>\n",
       "      <td>0.260777</td>\n",
       "      <td>0.347205</td>\n",
       "      <td>-14.366750</td>\n",
       "    </tr>\n",
       "    <tr>\n",
       "      <th>4</th>\n",
       "      <td>1.241075</td>\n",
       "      <td>0.658009</td>\n",
       "      <td>0.111451</td>\n",
       "      <td>1.676325</td>\n",
       "      <td>-1.443953</td>\n",
       "      <td>154.075072</td>\n",
       "    </tr>\n",
       "  </tbody>\n",
       "</table>\n",
       "</div>"
      ],
      "text/plain": [
       "   Фактор_1  Фактор_2  Фактор_3  Фактор_4  Фактор_5   Результат\n",
       "0  0.721208  0.291442  0.583870  0.243701 -0.767147   72.363231\n",
       "1 -2.252508 -0.167895       NaN       NaN -0.494869  -60.670144\n",
       "2 -1.013297 -1.256873 -0.106497  0.635093       NaN  -95.014729\n",
       "3  0.392441 -0.282610 -0.053886  0.260777  0.347205  -14.366750\n",
       "4  1.241075  0.658009  0.111451  1.676325 -1.443953  154.075072"
      ]
     },
     "execution_count": 8,
     "metadata": {},
     "output_type": "execute_result"
    }
   ],
   "source": [
    "df.head()"
   ]
  },
  {
   "cell_type": "code",
   "execution_count": 9,
   "metadata": {},
   "outputs": [],
   "source": [
    "df[\"Фактор_5\"] = df[\"Фактор_5\"].fillna(0)\n",
    "df[\"Фактор_3\"] = df[\"Фактор_3\"].fillna(df[\"Фактор_3\"].mean())\n",
    "df[\"Фактор_4\"] = df[\"Фактор_4\"].fillna(df[\"Фактор_4\"].median())"
   ]
  },
  {
   "cell_type": "code",
   "execution_count": 10,
   "metadata": {},
   "outputs": [
    {
     "data": {
      "text/html": [
       "<div>\n",
       "<style scoped>\n",
       "    .dataframe tbody tr th:only-of-type {\n",
       "        vertical-align: middle;\n",
       "    }\n",
       "\n",
       "    .dataframe tbody tr th {\n",
       "        vertical-align: top;\n",
       "    }\n",
       "\n",
       "    .dataframe thead th {\n",
       "        text-align: right;\n",
       "    }\n",
       "</style>\n",
       "<table border=\"1\" class=\"dataframe\">\n",
       "  <thead>\n",
       "    <tr style=\"text-align: right;\">\n",
       "      <th></th>\n",
       "      <th>Фактор_1</th>\n",
       "      <th>Фактор_2</th>\n",
       "      <th>Фактор_3</th>\n",
       "      <th>Фактор_4</th>\n",
       "      <th>Фактор_5</th>\n",
       "      <th>Результат</th>\n",
       "    </tr>\n",
       "  </thead>\n",
       "  <tbody>\n",
       "    <tr>\n",
       "      <th>0</th>\n",
       "      <td>0.721208</td>\n",
       "      <td>0.291442</td>\n",
       "      <td>0.583870</td>\n",
       "      <td>0.243701</td>\n",
       "      <td>-0.767147</td>\n",
       "      <td>72.363231</td>\n",
       "    </tr>\n",
       "    <tr>\n",
       "      <th>1</th>\n",
       "      <td>-2.252508</td>\n",
       "      <td>-0.167895</td>\n",
       "      <td>0.013261</td>\n",
       "      <td>-0.010351</td>\n",
       "      <td>-0.494869</td>\n",
       "      <td>-60.670144</td>\n",
       "    </tr>\n",
       "    <tr>\n",
       "      <th>2</th>\n",
       "      <td>-1.013297</td>\n",
       "      <td>-1.256873</td>\n",
       "      <td>-0.106497</td>\n",
       "      <td>0.635093</td>\n",
       "      <td>0.000000</td>\n",
       "      <td>-95.014729</td>\n",
       "    </tr>\n",
       "    <tr>\n",
       "      <th>3</th>\n",
       "      <td>0.392441</td>\n",
       "      <td>-0.282610</td>\n",
       "      <td>-0.053886</td>\n",
       "      <td>0.260777</td>\n",
       "      <td>0.347205</td>\n",
       "      <td>-14.366750</td>\n",
       "    </tr>\n",
       "    <tr>\n",
       "      <th>4</th>\n",
       "      <td>1.241075</td>\n",
       "      <td>0.658009</td>\n",
       "      <td>0.111451</td>\n",
       "      <td>1.676325</td>\n",
       "      <td>-1.443953</td>\n",
       "      <td>154.075072</td>\n",
       "    </tr>\n",
       "  </tbody>\n",
       "</table>\n",
       "</div>"
      ],
      "text/plain": [
       "   Фактор_1  Фактор_2  Фактор_3  Фактор_4  Фактор_5   Результат\n",
       "0  0.721208  0.291442  0.583870  0.243701 -0.767147   72.363231\n",
       "1 -2.252508 -0.167895  0.013261 -0.010351 -0.494869  -60.670144\n",
       "2 -1.013297 -1.256873 -0.106497  0.635093  0.000000  -95.014729\n",
       "3  0.392441 -0.282610 -0.053886  0.260777  0.347205  -14.366750\n",
       "4  1.241075  0.658009  0.111451  1.676325 -1.443953  154.075072"
      ]
     },
     "execution_count": 10,
     "metadata": {},
     "output_type": "execute_result"
    }
   ],
   "source": [
    "df.head()"
   ]
  },
  {
   "cell_type": "markdown",
   "metadata": {},
   "source": [
    "### Построение модели регрессии"
   ]
  },
  {
   "cell_type": "code",
   "execution_count": 11,
   "metadata": {},
   "outputs": [],
   "source": [
    "model = LinearRegression()"
   ]
  },
  {
   "cell_type": "code",
   "execution_count": 12,
   "metadata": {},
   "outputs": [
    {
     "data": {
      "text/plain": [
       "LinearRegression()"
      ]
     },
     "execution_count": 12,
     "metadata": {},
     "output_type": "execute_result"
    }
   ],
   "source": [
    "model.fit(X, y)"
   ]
  },
  {
   "cell_type": "code",
   "execution_count": 13,
   "metadata": {},
   "outputs": [
    {
     "data": {
      "text/plain": [
       "array([[ 4.48397552e+00,  9.22973464e+01,  5.19125848e+01,\n",
       "         4.89117137e+01, -7.10542736e-15]])"
      ]
     },
     "execution_count": 13,
     "metadata": {},
     "output_type": "execute_result"
    }
   ],
   "source": [
    "model.coef_"
   ]
  },
  {
   "cell_type": "code",
   "execution_count": 14,
   "metadata": {},
   "outputs": [
    {
     "name": "stdout",
     "output_type": "stream",
     "text": [
      "4.483975515887023\n",
      "92.29734640946461\n",
      "51.91258484109535\n",
      "48.911713688397775\n",
      "-7.105427357601002e-15\n"
     ]
    }
   ],
   "source": [
    "print(model.coef_[0][0])\n",
    "print(model.coef_[0][1])\n",
    "print(model.coef_[0][2])\n",
    "print(model.coef_[0][3])\n",
    "print(model.coef_[0][4])"
   ]
  },
  {
   "cell_type": "code",
   "execution_count": 15,
   "metadata": {},
   "outputs": [
    {
     "data": {
      "text/plain": [
       "array([ 4.48397552, 92.29734641, 51.91258484, 48.91171369,  0.        ])"
      ]
     },
     "execution_count": 15,
     "metadata": {},
     "output_type": "execute_result"
    }
   ],
   "source": [
    "coef"
   ]
  },
  {
   "cell_type": "code",
   "execution_count": 16,
   "metadata": {},
   "outputs": [
    {
     "data": {
      "text/plain": [
       "array([[197.60562045]])"
      ]
     },
     "execution_count": 16,
     "metadata": {},
     "output_type": "execute_result"
    }
   ],
   "source": [
    "model.predict([[1,1,1,1,1]])"
   ]
  },
  {
   "cell_type": "markdown",
   "metadata": {},
   "source": [
    "### Построение модели классификации"
   ]
  },
  {
   "cell_type": "code",
   "execution_count": 17,
   "metadata": {},
   "outputs": [],
   "source": [
    "model = LogisticRegression()"
   ]
  },
  {
   "cell_type": "code",
   "execution_count": 18,
   "metadata": {},
   "outputs": [
    {
     "data": {
      "text/plain": [
       "LogisticRegression()"
      ]
     },
     "execution_count": 18,
     "metadata": {},
     "output_type": "execute_result"
    }
   ],
   "source": [
    "model.fit(classification_data, classification_labels)"
   ]
  },
  {
   "cell_type": "code",
   "execution_count": 19,
   "metadata": {},
   "outputs": [
    {
     "data": {
      "text/plain": [
       "array([[-1.27257875,  0.14133928,  1.09158098,  1.07917765,  0.41005178]])"
      ]
     },
     "execution_count": 19,
     "metadata": {},
     "output_type": "execute_result"
    }
   ],
   "source": [
    "model.coef_"
   ]
  },
  {
   "cell_type": "code",
   "execution_count": 20,
   "metadata": {},
   "outputs": [
    {
     "name": "stdout",
     "output_type": "stream",
     "text": [
      "-1.2725787495313632\n",
      "0.14133927753322828\n",
      "1.0915809800274314\n",
      "1.0791776477235466\n",
      "0.41005178447339496\n"
     ]
    }
   ],
   "source": [
    "print(model.coef_[0][0])\n",
    "print(model.coef_[0][1])\n",
    "print(model.coef_[0][2])\n",
    "print(model.coef_[0][3])\n",
    "print(model.coef_[0][4])"
   ]
  },
  {
   "cell_type": "code",
   "execution_count": 21,
   "metadata": {},
   "outputs": [
    {
     "data": {
      "text/plain": [
       "array([[-3.67566532,  1.43280426, -3.2429289 ,  0.03384957,  0.21445597],\n",
       "       [-1.88805125,  0.34579464, -1.12421301, -2.02034321, -1.27646763],\n",
       "       [-1.1171786 ,  1.03383845, -2.72285658,  3.12372892, -1.25783655],\n",
       "       ...,\n",
       "       [-0.22826457, -0.33117903,  0.5864643 ,  0.82759742, -1.53438193],\n",
       "       [-2.73572828, -0.11190976,  1.45247929, -2.82114298,  0.20448847],\n",
       "       [-0.09801648, -1.52171115,  1.64739356,  0.14739146,  1.70819623]])"
      ]
     },
     "execution_count": 21,
     "metadata": {},
     "output_type": "execute_result"
    }
   ],
   "source": [
    "classification_data"
   ]
  },
  {
   "cell_type": "code",
   "execution_count": 22,
   "metadata": {},
   "outputs": [
    {
     "data": {
      "text/plain": [
       "array([1, 0, 1, 1, 0, 1, 0, 0, 0, 1, 1, 1, 1, 1, 0, 1, 0, 0, 1, 1, 0, 1,\n",
       "       0, 1, 1, 1, 1, 1, 0, 0, 1, 1, 1, 0, 1, 0, 0, 0, 1, 1, 0, 1, 0, 1,\n",
       "       1, 1, 1, 0, 1, 0, 1, 0, 0, 0, 0, 1, 0, 0, 1, 1, 1, 0, 0, 0, 1, 0,\n",
       "       0, 1, 1, 1, 0, 0, 0, 1, 0, 1, 1, 1, 0, 0, 1, 0, 0, 1, 0, 1, 0, 0,\n",
       "       0, 1, 1, 1, 0, 0, 1, 1, 1, 0, 0, 0, 1, 1, 1, 0, 0, 1, 1, 1, 0, 1,\n",
       "       1, 0, 1, 0, 0, 0, 1, 0, 1, 0, 1, 1, 1, 1, 0, 1, 0, 0, 1, 1, 1, 0,\n",
       "       0, 0, 0, 1, 1, 1, 1, 0, 1, 1, 1, 1, 1, 0, 1, 0, 1, 1, 1, 0, 0, 1,\n",
       "       1, 0, 1, 1, 0, 1, 0, 1, 0, 1, 0, 0, 0, 1, 1, 0, 0, 1, 0, 0, 0, 1,\n",
       "       0, 0, 1, 1, 1, 0, 0, 0, 0, 0, 0, 0, 1, 0, 0, 0, 0, 0, 0, 0, 0, 1,\n",
       "       1, 0, 0, 0, 1, 1, 1, 1, 0, 0, 0, 1, 1, 1, 1, 1, 1, 0, 0, 1, 1, 1,\n",
       "       0, 0, 0, 1, 0, 0, 1, 0, 1, 1, 0, 0, 0, 1, 0, 1, 1, 0, 0, 0, 1, 1,\n",
       "       0, 0, 1, 0, 0, 0, 0, 1, 0, 0, 1, 1, 1, 0, 1, 1, 1, 1, 0, 0, 1, 0,\n",
       "       0, 1, 1, 0, 0, 0, 0, 1, 0, 0, 1, 0, 0, 0, 0, 1, 1, 0, 0, 1, 1, 1,\n",
       "       0, 1, 1, 1, 0, 0, 0, 1, 1, 1, 1, 0, 0, 1, 0, 0, 1, 0, 1, 0, 0, 0,\n",
       "       1, 0, 1, 0, 1, 0, 1, 0, 1, 1, 1, 0, 1, 0, 0, 0, 0, 0, 1, 1, 0, 1,\n",
       "       1, 0, 1, 0, 0, 0, 0, 0, 1, 1, 1, 1, 1, 1, 1, 1, 1, 1, 1, 0, 0, 1,\n",
       "       1, 1, 0, 1, 0, 0, 0, 1, 1, 0, 1, 1, 1, 1, 0, 0, 1, 1, 0, 0, 1, 1,\n",
       "       0, 0, 0, 1, 0, 0, 0, 0, 1, 0, 1, 0, 0, 0, 1, 1, 0, 1, 1, 1, 1, 0,\n",
       "       0, 1, 0, 1, 1, 0, 1, 1, 0, 1, 1, 1, 0, 1, 1, 1, 1, 1, 0, 1, 0, 1,\n",
       "       0, 0, 0, 0, 0, 0, 1, 0, 1, 0, 1, 1, 0, 1, 1, 0, 0, 1, 0, 1, 1, 0,\n",
       "       1, 1, 0, 0, 1, 0, 0, 0, 1, 1, 0, 0, 0, 0, 0, 1, 0, 0, 0, 0, 1, 1,\n",
       "       1, 0, 1, 1, 0, 0, 1, 1, 0, 1, 1, 1, 1, 0, 0, 0, 0, 1, 1, 0, 1, 1,\n",
       "       1, 1, 0, 0, 0, 0, 0, 0, 0, 1, 0, 1, 1, 1, 1, 1])"
      ]
     },
     "execution_count": 22,
     "metadata": {},
     "output_type": "execute_result"
    }
   ],
   "source": [
    "classification_labels"
   ]
  },
  {
   "cell_type": "code",
   "execution_count": 23,
   "metadata": {},
   "outputs": [
    {
     "data": {
      "text/plain": [
       "array([1])"
      ]
     },
     "execution_count": 23,
     "metadata": {},
     "output_type": "execute_result"
    }
   ],
   "source": [
    "model.predict([[1,1,1,1,1]])"
   ]
  },
  {
   "cell_type": "markdown",
   "metadata": {},
   "source": [
    "### Самостоятельный кейс №1"
   ]
  },
  {
   "cell_type": "markdown",
   "metadata": {},
   "source": [
    "- Сгенерируйте выборку для регрессии, содержащую 15000 элементов, 5 информативных признаков, 4 неинформативных признака.\n",
    "- Добавьте шум равный 1.\n",
    "- Постройте модель линейной регрессии и оцените значение целевого признака для примера, содержащего только 0.\n",
    "- Подумайте, на какие показатели мог повлиять добавляемый шум."
   ]
  },
  {
   "cell_type": "markdown",
   "metadata": {},
   "source": [
    "### Домашняя работа №1"
   ]
  },
  {
   "cell_type": "code",
   "execution_count": 24,
   "metadata": {},
   "outputs": [],
   "source": [
    "features, output, coef = make_regression(n_samples = 15000, \n",
    "                                         n_features = 9, \n",
    "                                         n_informative = 4, \n",
    "                                         n_targets = 1, \n",
    "                                         noise = 1, \n",
    "                                         coef = True)"
   ]
  },
  {
   "cell_type": "code",
   "execution_count": 25,
   "metadata": {},
   "outputs": [
    {
     "data": {
      "text/html": [
       "<div>\n",
       "<style scoped>\n",
       "    .dataframe tbody tr th:only-of-type {\n",
       "        vertical-align: middle;\n",
       "    }\n",
       "\n",
       "    .dataframe tbody tr th {\n",
       "        vertical-align: top;\n",
       "    }\n",
       "\n",
       "    .dataframe thead th {\n",
       "        text-align: right;\n",
       "    }\n",
       "</style>\n",
       "<table border=\"1\" class=\"dataframe\">\n",
       "  <thead>\n",
       "    <tr style=\"text-align: right;\">\n",
       "      <th></th>\n",
       "      <th>Признак_1</th>\n",
       "      <th>Признак_2</th>\n",
       "      <th>Признак_3</th>\n",
       "      <th>Признак_4</th>\n",
       "      <th>Признак_5</th>\n",
       "      <th>Признак_6</th>\n",
       "      <th>Признак_7</th>\n",
       "      <th>Признак_8</th>\n",
       "      <th>Признак_9</th>\n",
       "    </tr>\n",
       "  </thead>\n",
       "  <tbody>\n",
       "    <tr>\n",
       "      <th>0</th>\n",
       "      <td>-0.283378</td>\n",
       "      <td>0.616652</td>\n",
       "      <td>0.211588</td>\n",
       "      <td>1.549045</td>\n",
       "      <td>0.255843</td>\n",
       "      <td>0.210986</td>\n",
       "      <td>0.767309</td>\n",
       "      <td>-0.593328</td>\n",
       "      <td>0.946092</td>\n",
       "    </tr>\n",
       "    <tr>\n",
       "      <th>1</th>\n",
       "      <td>1.507203</td>\n",
       "      <td>-0.258372</td>\n",
       "      <td>0.546736</td>\n",
       "      <td>-0.157540</td>\n",
       "      <td>0.622998</td>\n",
       "      <td>1.100814</td>\n",
       "      <td>0.006358</td>\n",
       "      <td>0.193451</td>\n",
       "      <td>-0.554567</td>\n",
       "    </tr>\n",
       "    <tr>\n",
       "      <th>2</th>\n",
       "      <td>-0.800042</td>\n",
       "      <td>1.074761</td>\n",
       "      <td>0.821412</td>\n",
       "      <td>-0.144543</td>\n",
       "      <td>-1.922967</td>\n",
       "      <td>-0.727108</td>\n",
       "      <td>1.035078</td>\n",
       "      <td>0.142251</td>\n",
       "      <td>1.728228</td>\n",
       "    </tr>\n",
       "    <tr>\n",
       "      <th>3</th>\n",
       "      <td>-0.866143</td>\n",
       "      <td>-1.200794</td>\n",
       "      <td>-1.244995</td>\n",
       "      <td>-0.444248</td>\n",
       "      <td>-0.514361</td>\n",
       "      <td>1.517714</td>\n",
       "      <td>-0.667133</td>\n",
       "      <td>-1.046214</td>\n",
       "      <td>-0.126269</td>\n",
       "    </tr>\n",
       "    <tr>\n",
       "      <th>4</th>\n",
       "      <td>-0.066316</td>\n",
       "      <td>-0.973918</td>\n",
       "      <td>-0.630449</td>\n",
       "      <td>-0.906616</td>\n",
       "      <td>-1.239555</td>\n",
       "      <td>-1.653993</td>\n",
       "      <td>-1.976440</td>\n",
       "      <td>-0.546609</td>\n",
       "      <td>-0.080369</td>\n",
       "    </tr>\n",
       "  </tbody>\n",
       "</table>\n",
       "</div>"
      ],
      "text/plain": [
       "   Признак_1  Признак_2  Признак_3  Признак_4  Признак_5  Признак_6  \\\n",
       "0  -0.283378   0.616652   0.211588   1.549045   0.255843   0.210986   \n",
       "1   1.507203  -0.258372   0.546736  -0.157540   0.622998   1.100814   \n",
       "2  -0.800042   1.074761   0.821412  -0.144543  -1.922967  -0.727108   \n",
       "3  -0.866143  -1.200794  -1.244995  -0.444248  -0.514361   1.517714   \n",
       "4  -0.066316  -0.973918  -0.630449  -0.906616  -1.239555  -1.653993   \n",
       "\n",
       "   Признак_7  Признак_8  Признак_9  \n",
       "0   0.767309  -0.593328   0.946092  \n",
       "1   0.006358   0.193451  -0.554567  \n",
       "2   1.035078   0.142251   1.728228  \n",
       "3  -0.667133  -1.046214  -0.126269  \n",
       "4  -1.976440  -0.546609  -0.080369  "
      ]
     },
     "execution_count": 25,
     "metadata": {},
     "output_type": "execute_result"
    }
   ],
   "source": [
    "X = pd.DataFrame(features, columns=[f'Признак_{n}' for n in range(1, 10)])\n",
    "X.head()"
   ]
  },
  {
   "cell_type": "code",
   "execution_count": 26,
   "metadata": {},
   "outputs": [
    {
     "data": {
      "text/html": [
       "<div>\n",
       "<style scoped>\n",
       "    .dataframe tbody tr th:only-of-type {\n",
       "        vertical-align: middle;\n",
       "    }\n",
       "\n",
       "    .dataframe tbody tr th {\n",
       "        vertical-align: top;\n",
       "    }\n",
       "\n",
       "    .dataframe thead th {\n",
       "        text-align: right;\n",
       "    }\n",
       "</style>\n",
       "<table border=\"1\" class=\"dataframe\">\n",
       "  <thead>\n",
       "    <tr style=\"text-align: right;\">\n",
       "      <th></th>\n",
       "      <th>Цель</th>\n",
       "    </tr>\n",
       "  </thead>\n",
       "  <tbody>\n",
       "    <tr>\n",
       "      <th>0</th>\n",
       "      <td>-17.659089</td>\n",
       "    </tr>\n",
       "    <tr>\n",
       "      <th>1</th>\n",
       "      <td>41.336933</td>\n",
       "    </tr>\n",
       "    <tr>\n",
       "      <th>2</th>\n",
       "      <td>16.904596</td>\n",
       "    </tr>\n",
       "    <tr>\n",
       "      <th>3</th>\n",
       "      <td>-96.248048</td>\n",
       "    </tr>\n",
       "    <tr>\n",
       "      <th>4</th>\n",
       "      <td>-46.167307</td>\n",
       "    </tr>\n",
       "  </tbody>\n",
       "</table>\n",
       "</div>"
      ],
      "text/plain": [
       "        Цель\n",
       "0 -17.659089\n",
       "1  41.336933\n",
       "2  16.904596\n",
       "3 -96.248048\n",
       "4 -46.167307"
      ]
     },
     "execution_count": 26,
     "metadata": {},
     "output_type": "execute_result"
    }
   ],
   "source": [
    "y = pd.DataFrame(output, columns=['Цель'])\n",
    "y.head()"
   ]
  },
  {
   "cell_type": "code",
   "execution_count": 27,
   "metadata": {},
   "outputs": [
    {
     "data": {
      "text/plain": [
       "LinearRegression()"
      ]
     },
     "execution_count": 27,
     "metadata": {},
     "output_type": "execute_result"
    }
   ],
   "source": [
    "model = LinearRegression()\n",
    "model.fit(features, output)"
   ]
  },
  {
   "cell_type": "code",
   "execution_count": 28,
   "metadata": {},
   "outputs": [
    {
     "data": {
      "text/plain": [
       "array([ 2.04773592e+01,  1.68113742e+01,  1.28392363e+01, -1.72713045e-03,\n",
       "        3.73858145e-03, -2.97485593e-03, -6.78677600e-03,  3.94897021e+01,\n",
       "        5.07765136e-03])"
      ]
     },
     "execution_count": 28,
     "metadata": {},
     "output_type": "execute_result"
    }
   ],
   "source": [
    "model.coef_"
   ]
  },
  {
   "cell_type": "code",
   "execution_count": 29,
   "metadata": {},
   "outputs": [
    {
     "name": "stdout",
     "output_type": "stream",
     "text": [
      "20.477359165371134\n",
      "16.811374229237785\n",
      "12.83923626297637\n",
      "-0.0017271304453014835\n",
      "0.0037385814504506953\n",
      "-0.0029748559261211227\n",
      "-0.006786776001211692\n",
      "39.489702051052035\n",
      "0.005077651358731394\n"
     ]
    }
   ],
   "source": [
    "for i in range(len(model.coef_)):\n",
    "    print(model.coef_[i])"
   ]
  },
  {
   "cell_type": "code",
   "execution_count": 30,
   "metadata": {},
   "outputs": [
    {
     "data": {
      "text/plain": [
       "array([20.46484186, 16.80955438, 12.84364742,  0.        ,  0.        ,\n",
       "        0.        ,  0.        , 39.50445653,  0.        ])"
      ]
     },
     "execution_count": 30,
     "metadata": {},
     "output_type": "execute_result"
    }
   ],
   "source": [
    "# коэффициенты при генерации выборок\n",
    "coef"
   ]
  },
  {
   "cell_type": "code",
   "execution_count": 31,
   "metadata": {},
   "outputs": [
    {
     "data": {
      "text/plain": [
       "array([0.01064069])"
      ]
     },
     "execution_count": 31,
     "metadata": {},
     "output_type": "execute_result"
    }
   ],
   "source": [
    "model.predict([[0, 0, 0, 0, 0, 0, 0, 0, 0]])"
   ]
  }
 ],
 "metadata": {
  "kernelspec": {
   "display_name": "Python 3",
   "language": "python",
   "name": "python3"
  },
  "language_info": {
   "codemirror_mode": {
    "name": "ipython",
    "version": 3
   },
   "file_extension": ".py",
   "mimetype": "text/x-python",
   "name": "python",
   "nbconvert_exporter": "python",
   "pygments_lexer": "ipython3",
   "version": "3.7.10"
  }
 },
 "nbformat": 4,
 "nbformat_minor": 2
}
