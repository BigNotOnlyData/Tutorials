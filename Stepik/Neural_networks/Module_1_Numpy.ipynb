{
 "cells": [
  {
   "cell_type": "markdown",
   "metadata": {},
   "source": [
    "# Основы Numpy"
   ]
  },
  {
   "cell_type": "markdown",
   "metadata": {},
   "source": [
    "## 1. Форма (размерность) массива (матрицы)"
   ]
  },
  {
   "cell_type": "markdown",
   "metadata": {},
   "source": [
    "У каждого n-мерного массива есть форма. Например, форма матрицы (двумерного массива) из 3 строк и 5 колонок — это (3, 5), форма вектора (вертикального массива) из 10 элементов — это (10, 1). В общем случае форма n-мерного массива — это кортеж (последовательность чисел) из n элементов (n1,…,nk) где ni — количество компонент массива в i-м измерении."
   ]
  },
  {
   "cell_type": "code",
   "execution_count": 1,
   "metadata": {},
   "outputs": [],
   "source": [
    "import numpy as np"
   ]
  },
  {
   "cell_type": "code",
   "execution_count": 2,
   "metadata": {},
   "outputs": [
    {
     "name": "stdout",
     "output_type": "stream",
     "text": [
      "[[1 2 3]\n",
      " [4 5 6]]\n"
     ]
    },
    {
     "data": {
      "text/plain": [
       "(2, 3)"
      ]
     },
     "execution_count": 2,
     "metadata": {},
     "output_type": "execute_result"
    }
   ],
   "source": [
    "a = np.array([[1,2,3], [4,5,6]])  # создаём массив\n",
    "print(a)\n",
    "a.shape  # смотрим на форму массива"
   ]
  },
  {
   "cell_type": "markdown",
   "metadata": {},
   "source": [
    "## 2. Создание массива"
   ]
  },
  {
   "cell_type": "markdown",
   "metadata": {},
   "source": [
    "+ `array(object)` — n-мерный массив из любой (возможно, вложенной) последовательности,\n",
    "+ `eye(N, M=N, k=0)` — двумерный массив с N строками с единицами на диагонали и нулями во всех остальных позициях. Число столбцов M по умолчанию равно N, k — сдвиг диагонали (0 для основной диагонали, положительные числа для верхних диагоналей и отрицательные для нижних),\n",
    "+ `zeros(shape)` — новый массив указанной формы, заполненный нулями,\n",
    "+ `ones(shape)` — новый массив указанной формы, заполненный единицами,\n",
    "+ `full(shape, fill_value`) — новый массив указанной формы, заполненный `fill_value`."
   ]
  },
  {
   "cell_type": "code",
   "execution_count": 3,
   "metadata": {},
   "outputs": [
    {
     "name": "stdout",
     "output_type": "stream",
     "text": [
      "[[0. 0. 0.]\n",
      " [1. 0. 0.]\n",
      " [0. 1. 0.]\n",
      " [0. 0. 1.]\n",
      " [0. 0. 0.]]\n"
     ]
    }
   ],
   "source": [
    "print(np.eye(5, 3, k=-1))"
   ]
  },
  {
   "cell_type": "code",
   "execution_count": 4,
   "metadata": {},
   "outputs": [
    {
     "name": "stdout",
     "output_type": "stream",
     "text": [
      "[[1 2 3]\n",
      " [4 5 6]]\n"
     ]
    }
   ],
   "source": [
    "print(np.array([[1,2,3], [4,5,6]])) # матрица формы (2, 3) из последовательности последовательностей"
   ]
  },
  {
   "cell_type": "markdown",
   "metadata": {},
   "source": [
    "## 3. Как получить доступ к элементу массива или выбрать кусок массива:"
   ]
  },
  {
   "cell_type": "markdown",
   "metadata": {},
   "source": [
    "+ в NumPy используется стандартное  выделение подмножеств: `a[start:stop:step]` выбирает элементы из `a` с индексами от `start` до `stop` с шагом `step`, т.е. `a[start]`, `a[start + step]`, `a[start + 2*step]` и так далее, пока индексы меньше `stop`; при `step = 1` этот параметр можно опустить, оставив `start:stop`, при `start`, равном минимальному индексу в массиве, или stop, равному максимальному индексу, эти индексы также можно опустить: это будет выглядеть как `a[:]`;\n",
    "+ отрицательные индексы;\n",
    "+ поддерживается синтаксис многоточия: `a[..., 1]` выбирает элементы с любым индексом в первом измерении и с индексом, равным 1, во втором измерении:  `a[:, 1]` оказывается эквивалентно `a[..., 1]`;\n",
    "+ можно указать индексы сразу в нескольких измерениях, указав их через запятую в квадратных скобках (как `a[..., 1]` в примере выше)."
   ]
  },
  {
   "cell_type": "markdown",
   "metadata": {},
   "source": [
    "### Задача 1"
   ]
  },
  {
   "cell_type": "markdown",
   "metadata": {},
   "source": [
    "Вариант 1"
   ]
  },
  {
   "cell_type": "code",
   "execution_count": 5,
   "metadata": {},
   "outputs": [
    {
     "name": "stdout",
     "output_type": "stream",
     "text": [
      "[[1. 0. 0. 0.]\n",
      " [0. 1. 0. 0.]\n",
      " [0. 0. 1. 0.]]\n"
     ]
    }
   ],
   "source": [
    "e1 = np.eye(3, 4)\n",
    "print(e1)"
   ]
  },
  {
   "cell_type": "code",
   "execution_count": 6,
   "metadata": {},
   "outputs": [
    {
     "name": "stdout",
     "output_type": "stream",
     "text": [
      "[[0. 1. 0. 0.]\n",
      " [0. 0. 1. 0.]\n",
      " [0. 0. 0. 1.]]\n"
     ]
    }
   ],
   "source": [
    "e2 = np.eye(3, 4, 1)\n",
    "print(e2)"
   ]
  },
  {
   "cell_type": "code",
   "execution_count": 7,
   "metadata": {},
   "outputs": [
    {
     "name": "stdout",
     "output_type": "stream",
     "text": [
      "[[2. 1. 0. 0.]\n",
      " [0. 2. 1. 0.]\n",
      " [0. 0. 2. 1.]]\n"
     ]
    }
   ],
   "source": [
    "e3 = 2 * e1 + e2\n",
    "print(e3)"
   ]
  },
  {
   "cell_type": "markdown",
   "metadata": {},
   "source": [
    "Вариант 2"
   ]
  },
  {
   "cell_type": "code",
   "execution_count": 8,
   "metadata": {},
   "outputs": [
    {
     "name": "stdout",
     "output_type": "stream",
     "text": [
      "[[2. 1. 0. 0.]\n",
      " [0. 2. 1. 0.]\n",
      " [0. 0. 2. 1.]]\n"
     ]
    }
   ],
   "source": [
    "ar = np.eye(3,4,1)\n",
    "np.fill_diagonal(ar, 2)\n",
    "print(ar)"
   ]
  },
  {
   "cell_type": "markdown",
   "metadata": {},
   "source": [
    "Вариант 3"
   ]
  },
  {
   "cell_type": "code",
   "execution_count": 9,
   "metadata": {},
   "outputs": [
    {
     "name": "stdout",
     "output_type": "stream",
     "text": [
      "[[2 1 0 0]\n",
      " [0 2 1 0]\n",
      " [0 0 2 1]]\n"
     ]
    }
   ],
   "source": [
    "print(np.array([np.roll([2,1,0,0],i) for i in range(3)]))"
   ]
  },
  {
   "cell_type": "markdown",
   "metadata": {},
   "source": [
    "## 4. Основные методы класса `ndarray`"
   ]
  },
  {
   "cell_type": "markdown",
   "metadata": {},
   "source": [
    "### 4.1. Форма массива"
   ]
  },
  {
   "cell_type": "markdown",
   "metadata": {},
   "source": [
    "+ `a.flatten()` — превращает массив в одномерный.\n",
    "+ `a.T` или `a.transpose(*axes)` — транспонирование (или смена порядка осей в случае, когда размерность массива больше двух).\n",
    "+ `a.reshape(shape)` — смена формы массива. Массив \"распрямляется\" и построчно заполняется в новую форму."
   ]
  },
  {
   "cell_type": "code",
   "execution_count": 10,
   "metadata": {},
   "outputs": [],
   "source": [
    "import random"
   ]
  },
  {
   "cell_type": "code",
   "execution_count": 11,
   "metadata": {},
   "outputs": [
    {
     "name": "stdout",
     "output_type": "stream",
     "text": [
      "[[[821 601 470]\n",
      "  [180 332 925]]\n",
      "\n",
      " [[658 522 573]\n",
      "  [594 211 826]]]\n"
     ]
    }
   ],
   "source": [
    "w = np.array(random.sample(range(1000), 12)) # одномерный массив из 12 случайных чисел от 1 до 1000\n",
    "w = w.reshape((2,2,3)) # превратим w в трёхмерную матрицу\n",
    "print(w)"
   ]
  },
  {
   "cell_type": "code",
   "execution_count": 12,
   "metadata": {},
   "outputs": [
    {
     "name": "stdout",
     "output_type": "stream",
     "text": [
      "[[[821 180]\n",
      "  [601 332]\n",
      "  [470 925]]\n",
      "\n",
      " [[658 594]\n",
      "  [522 211]\n",
      "  [573 826]]]\n"
     ]
    }
   ],
   "source": [
    "print(w.transpose(0,2,1))"
   ]
  },
  {
   "cell_type": "markdown",
   "metadata": {},
   "source": [
    "### Задача 2"
   ]
  },
  {
   "cell_type": "code",
   "execution_count": 13,
   "metadata": {},
   "outputs": [
    {
     "name": "stdout",
     "output_type": "stream",
     "text": [
      "[[2.]\n",
      " [1.]\n",
      " [0.]\n",
      " [0.]\n",
      " [0.]\n",
      " [2.]\n",
      " [1.]\n",
      " [0.]\n",
      " [0.]\n",
      " [0.]\n",
      " [2.]\n",
      " [1.]]\n"
     ]
    }
   ],
   "source": [
    "v = e3.reshape(-1, 1)\n",
    "print(v)"
   ]
  },
  {
   "cell_type": "code",
   "execution_count": 14,
   "metadata": {},
   "outputs": [
    {
     "name": "stdout",
     "output_type": "stream",
     "text": [
      "[[2.]\n",
      " [1.]\n",
      " [0.]\n",
      " [0.]\n",
      " [0.]\n",
      " [2.]\n",
      " [1.]\n",
      " [0.]\n",
      " [0.]\n",
      " [0.]\n",
      " [2.]\n",
      " [1.]]\n"
     ]
    }
   ],
   "source": [
    "print(e3.reshape(e3.size,1))"
   ]
  },
  {
   "cell_type": "markdown",
   "metadata": {},
   "source": [
    "### 4.2. Базовые статистики"
   ]
  },
  {
   "cell_type": "markdown",
   "metadata": {},
   "source": [
    "+ `a.min(axis=None)`, `a.max(axis=None)`, `a.mean(axis=None)`, `a.std(axis=None)` — минимум, максимум, среднее арифметическое и стандартное отклонение вдоль указанной оси. По умолчанию ось не указана и статистика считается по всему массиву. `a.argmin(axis=None)`, `a.argmax(axis=None)` — индексы минимального и максимального элемента. Пример:"
   ]
  },
  {
   "cell_type": "code",
   "execution_count": 15,
   "metadata": {},
   "outputs": [
    {
     "name": "stdout",
     "output_type": "stream",
     "text": [
      "[[1 2 3 4]\n",
      " [1 2 3 4]\n",
      " [1 2 3 4]]\n"
     ]
    }
   ],
   "source": [
    "v = np.array([[1, 2, 3, 4] for i in range(3)])\n",
    "print(v)"
   ]
  },
  {
   "cell_type": "code",
   "execution_count": 16,
   "metadata": {},
   "outputs": [
    {
     "name": "stdout",
     "output_type": "stream",
     "text": [
      "[1. 2. 3. 4.]\n",
      "[2.5 2.5 2.5]\n",
      "2.5\n"
     ]
    }
   ],
   "source": [
    "print(v.mean(axis=0))  # вдоль столбцов\n",
    "print(v.mean(axis=1))  # вдоль строк\n",
    "print(v.mean(axis=None))  # вдоль всего массива"
   ]
  },
  {
   "cell_type": "markdown",
   "metadata": {},
   "source": [
    "+ `a.sum(axis=None)`, `a.prod(axis=None)` — сумма и произведение всех элементов вдоль указанной оси. `a.cumsum(axis=None)`, `a.cumprod(axis=None)` — частичные суммы и произведения (для (a1,⋯,an) вектор частичных сумм — это (a1,a1+a2,⋯,a1+⋯+an)."
   ]
  },
  {
   "cell_type": "markdown",
   "metadata": {},
   "source": [
    "### 4.3. Линейная алгебра"
   ]
  },
  {
   "cell_type": "markdown",
   "metadata": {},
   "source": [
    "Пакет `numpy.linalg`"
   ]
  },
  {
   "cell_type": "markdown",
   "metadata": {},
   "source": [
    "+ `a.dot(b)` — матричное произведение двух массивов (размерности должны быть согласованы),\n",
    "+ `linalg.matrix_power(M, n)` — возведение матрицы M в степень n,\n",
    "+ `a.T` — транспонирование\n",
    "+ `linalg.norm(a, ord=None)` — норма матрицы a, по умолчанию норма Фробениуса для матриц и L2-норма для векторов; подробное описание возможных норм — в справке,\n",
    "+ `linalg.inv(a)` — матрица, обратная к `a` (если `a` необратима, выбрасывается `LinAlgError`; псевдообратная считается через `linalg.pinv(a)`)"
   ]
  },
  {
   "cell_type": "code",
   "execution_count": 17,
   "metadata": {},
   "outputs": [
    {
     "name": "stdout",
     "output_type": "stream",
     "text": [
      "[[19 22]\n",
      " [43 50]]\n"
     ]
    }
   ],
   "source": [
    "m1 = np.array([[1, 2], [3, 4]])\n",
    "m2 = np.array([[5, 6], [7, 8]])\n",
    "a = m1.dot(m2)\n",
    "print(a)"
   ]
  },
  {
   "cell_type": "code",
   "execution_count": 18,
   "metadata": {},
   "outputs": [
    {
     "name": "stdout",
     "output_type": "stream",
     "text": [
      "[[1. 0.]\n",
      " [0. 1.]]\n"
     ]
    }
   ],
   "source": [
    "ainv = np.linalg.inv(a)\n",
    "print(a.dot(ainv))"
   ]
  },
  {
   "cell_type": "markdown",
   "metadata": {},
   "source": [
    "### Задача 3"
   ]
  },
  {
   "cell_type": "code",
   "execution_count": 19,
   "metadata": {},
   "outputs": [
    {
     "name": "stdout",
     "output_type": "stream",
     "text": [
      "2 3\n",
      "3 4 5 6 7 8\n",
      "3 4\n",
      "1 2 3 4 5 6 7 8 9 8 7 6\n"
     ]
    }
   ],
   "source": [
    "x_shape = tuple(map(int, input().split()))\n",
    "X = np.fromiter(map(int, input().split()), np.int).reshape(x_shape)\n",
    "y_shape = tuple(map(int, input().split()))\n",
    "Y = np.fromiter(map(int, input().split()), np.int).reshape(y_shape)"
   ]
  },
  {
   "cell_type": "code",
   "execution_count": 20,
   "metadata": {},
   "outputs": [
    {
     "name": "stdout",
     "output_type": "stream",
     "text": [
      "[[3 4 5]\n",
      " [6 7 8]]\n",
      "[[1 2 3 4]\n",
      " [5 6 7 8]\n",
      " [9 8 7 6]]\n"
     ]
    }
   ],
   "source": [
    "print(X)\n",
    "print(Y)"
   ]
  },
  {
   "cell_type": "code",
   "execution_count": 21,
   "metadata": {},
   "outputs": [
    {
     "name": "stdout",
     "output_type": "stream",
     "text": [
      "matrix shapes do not match\n"
     ]
    }
   ],
   "source": [
    "try:\n",
    "    res = X @ Y.T\n",
    "    print(res)\n",
    "except ValueError:\n",
    "    print('matrix shapes do not match')"
   ]
  },
  {
   "cell_type": "markdown",
   "metadata": {},
   "source": [
    "## 5. Как считать данные из файла:"
   ]
  },
  {
   "cell_type": "markdown",
   "metadata": {},
   "source": [
    "### Задача 4"
   ]
  },
  {
   "cell_type": "code",
   "execution_count": 22,
   "metadata": {},
   "outputs": [],
   "source": [
    "from urllib.request import urlopen"
   ]
  },
  {
   "cell_type": "code",
   "execution_count": 23,
   "metadata": {},
   "outputs": [],
   "source": [
    "# объект файла\n",
    "f = urlopen('https://stepic.org/media/attachments/lesson/16462/boston_houses.csv')"
   ]
  },
  {
   "cell_type": "code",
   "execution_count": 24,
   "metadata": {},
   "outputs": [],
   "source": [
    "data = np.loadtxt(f, skiprows=1, delimiter=\",\")\n",
    "# print(data)"
   ]
  },
  {
   "cell_type": "code",
   "execution_count": 25,
   "metadata": {},
   "outputs": [
    {
     "data": {
      "text/plain": [
       "array([22.53280632,  3.61352356, 11.36363636,  0.06916996,  0.55469506,\n",
       "        6.28463439,  3.79504269])"
      ]
     },
     "execution_count": 25,
     "metadata": {},
     "output_type": "execute_result"
    }
   ],
   "source": [
    "data.mean(axis=0)"
   ]
  },
  {
   "cell_type": "markdown",
   "metadata": {},
   "source": [
    "### Задача 5"
   ]
  },
  {
   "cell_type": "code",
   "execution_count": 26,
   "metadata": {},
   "outputs": [],
   "source": [
    "import matplotlib.pyplot as plt"
   ]
  },
  {
   "cell_type": "markdown",
   "metadata": {},
   "source": [
    "![вектор коэффициентов в регрессионой модели](Pictures/beta_regres_model.png)"
   ]
  },
  {
   "cell_type": "code",
   "execution_count": 27,
   "metadata": {},
   "outputs": [
    {
     "name": "stdout",
     "output_type": "stream",
     "text": [
      "[[ 1 60]\n",
      " [ 1 50]\n",
      " [ 1 75]]\n"
     ]
    }
   ],
   "source": [
    "# 1 в начале каждой строке вводим для коэффициента бета0\n",
    "V = np.array([[1, 60], [1, 50], [1, 75]])\n",
    "print(V)"
   ]
  },
  {
   "cell_type": "code",
   "execution_count": 28,
   "metadata": {},
   "outputs": [
    {
     "name": "stdout",
     "output_type": "stream",
     "text": [
      "[[10]\n",
      " [ 7]\n",
      " [12]]\n"
     ]
    }
   ],
   "source": [
    "D = np.array([[10, 7, 12]]).T\n",
    "print(D)"
   ]
  },
  {
   "cell_type": "code",
   "execution_count": 29,
   "metadata": {},
   "outputs": [
    {
     "data": {
      "text/plain": [
       "array([[-2.34210526],\n",
       "       [ 0.19473684]])"
      ]
     },
     "execution_count": 29,
     "metadata": {},
     "output_type": "execute_result"
    }
   ],
   "source": [
    "beta = np.linalg.inv(V.T.dot(V)).dot(V.T).dot(D)\n",
    "beta"
   ]
  },
  {
   "cell_type": "code",
   "execution_count": 30,
   "metadata": {},
   "outputs": [
    {
     "name": "stdout",
     "output_type": "stream",
     "text": [
      "[[7.39473684]]\n"
     ]
    }
   ],
   "source": [
    "# Предсказание\n",
    "V_pred = np.array([[1, 50]])\n",
    "D_pred = V_pred @ beta\n",
    "print(D_pred)"
   ]
  },
  {
   "cell_type": "code",
   "execution_count": 31,
   "metadata": {},
   "outputs": [],
   "source": [
    "# график\n",
    "n = 100 # строк\n",
    "one = np.ones((n, 1))\n",
    "v = np.arange(n).reshape(-1, 1)\n",
    "V_pred = np.hstack((one, v))\n",
    "D_pred = V_pred @ beta"
   ]
  },
  {
   "cell_type": "code",
   "execution_count": 32,
   "metadata": {},
   "outputs": [
    {
     "data": {
      "image/png": "[encoded data removed]",
      "text/plain": [
       "<Figure size 432x288 with 1 Axes>"
      ]
     },
     "metadata": {
      "needs_background": "light"
     },
     "output_type": "display_data"
    }
   ],
   "source": [
    "plt.figure()\n",
    "plt.plot(V_pred[...,1], D_pred)\n",
    "plt.scatter(V[...,1], D, color='r')\n",
    "plt.show()"
   ]
  },
  {
   "cell_type": "markdown",
   "metadata": {},
   "source": [
    "### Задача 6"
   ]
  },
  {
   "cell_type": "code",
   "execution_count": 33,
   "metadata": {},
   "outputs": [
    {
     "name": "stdout",
     "output_type": "stream",
     "text": [
      "https://stepic.org/media/attachments/lesson/16462/boston_houses.csv\n"
     ]
    }
   ],
   "source": [
    "import urllib\n",
    "from urllib import request\n",
    "import numpy as np\n",
    "\n",
    "fname = input()  # read file name from stdin\n",
    "f = request.urlopen(fname)  # open file from URL\n",
    "data = np.loadtxt(f, delimiter=',', skiprows=1)  # load data to work with"
   ]
  },
  {
   "cell_type": "code",
   "execution_count": 34,
   "metadata": {},
   "outputs": [
    {
     "data": {
      "text/plain": [
       "(506, 7)"
      ]
     },
     "execution_count": 34,
     "metadata": {},
     "output_type": "execute_result"
    }
   ],
   "source": [
    "data.shape"
   ]
  },
  {
   "cell_type": "code",
   "execution_count": 35,
   "metadata": {},
   "outputs": [
    {
     "name": "stdout",
     "output_type": "stream",
     "text": [
      "(506, 1)\n"
     ]
    }
   ],
   "source": [
    "Y = data[:,0].reshape(-1, 1)\n",
    "print(Y.shape)"
   ]
  },
  {
   "cell_type": "code",
   "execution_count": 36,
   "metadata": {},
   "outputs": [
    {
     "name": "stdout",
     "output_type": "stream",
     "text": [
      "(506, 7)\n"
     ]
    }
   ],
   "source": [
    "X_0 = data[:,1:].reshape(Y.shape[0], -1)\n",
    "ones = np.ones_like(Y)\n",
    "X = np.hstack((ones, X_0))\n",
    "print(X.shape)"
   ]
  },
  {
   "cell_type": "code",
   "execution_count": 37,
   "metadata": {},
   "outputs": [
    {
     "data": {
      "text/plain": [
       "array([[ -3.65580429],\n",
       "       [ -0.2163955 ],\n",
       "       [  0.0737306 ],\n",
       "       [  4.41245058],\n",
       "       [-25.46844878],\n",
       "       [  7.14320155],\n",
       "       [ -1.30108768]])"
      ]
     },
     "execution_count": 37,
     "metadata": {},
     "output_type": "execute_result"
    }
   ],
   "source": [
    "beta = np.linalg.inv(X.T.dot(X)).dot(X.T).dot(Y)\n",
    "beta"
   ]
  },
  {
   "cell_type": "code",
   "execution_count": 38,
   "metadata": {},
   "outputs": [
    {
     "name": "stdout",
     "output_type": "stream",
     "text": [
      "-3.6558042850642045 -0.2163955023691414 0.0737305981754855 4.41245057691283 -25.468448784098932 7.143201550746207 -1.3010876776489972\n"
     ]
    }
   ],
   "source": [
    "res = beta.flatten()\n",
    "print(*res)"
   ]
  }
 ],
 "metadata": {
  "kernelspec": {
   "display_name": "Python 3",
   "language": "python",
   "name": "python3"
  },
  "language_info": {
   "codemirror_mode": {
    "name": "ipython",
    "version": 3
   },
   "file_extension": ".py",
   "mimetype": "text/x-python",
   "name": "python",
   "nbconvert_exporter": "python",
   "pygments_lexer": "ipython3",
   "version": "3.7.6"
  }
 },
 "nbformat": 4,
 "nbformat_minor": 4
}
