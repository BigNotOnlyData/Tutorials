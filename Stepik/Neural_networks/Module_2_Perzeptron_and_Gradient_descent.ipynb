{
 "cells": [
  {
   "cell_type": "markdown",
   "metadata": {},
   "source": [
    "<div style=\"width: 100%; text-align: center; font-size: 36px; font-weight: 600;  color: #3de642; padding: 10px 10px\">Перцептрон и градиентный спуск</div>\n",
    "\n",
    "[Англоязычный сайт про нейронные сети](http://neuralnetworksanddeeplearning.com/chap1.html)\n",
    "\n",
    "[Перевод на хабре](https://habr.com/ru/post/456738/)\n"
   ]
  },
  {
   "cell_type": "markdown",
   "metadata": {},
   "source": [
    "<div style=\"width: 100%; text-align: center; font-size: 28px; font-weight: 600;  color: #463ee6; padding-top: 10px\">Общая структура искусственного нейрона</div>\n",
    "\n",
    "![](Pictures/artifical_neuron.png)\n",
    "\n",
    "<div style=\"width: 100%; text-align: center; font-size: 28px; font-weight: 600;  color: #463ee6; padding-top: 10px\">Перцептрон</div>"
   ]
  },
  {
   "cell_type": "markdown",
   "metadata": {},
   "source": [
    "🚩 На сегоднишний день перцепроны применяютя для решения задач с огромным количеством предикторов."
   ]
  },
  {
   "cell_type": "markdown",
   "metadata": {},
   "source": [
    "🚩 **Перцептрон** — это один из типов искусственных нейронов, который представляет собой алгоритм для выполнения двоичной классификации:\n",
    "![Перцептрон. Математическая запись](Pictures/Perzeptron.png)\n",
    "\n",
    "**b** - также можно представить как некий порог, если его превысить, то нейрон активируется\n",
    "\n",
    "<div style=\"width: 100%; text-align: center; font-size: 22px; font-weight: 600;  color: #f244e1; padding-top: 10px\">Псевдокод алгоритма обучения перцептрона</div>\n",
    "\n",
    "![Псевдокод обучения перцептрона](Pictures/algoritm_training.png)"
   ]
  },
  {
   "cell_type": "markdown",
   "metadata": {},
   "source": [
    "<div style=\"width: 100%; text-align: center; font-size: 22px; font-weight: 600;  color: #f244e1;\">Правило обновления весов эквивалентное приведенному алгоритму</div>\n",
    "\n",
    "🚩 Позволяет компактно описать (и быстро запрограммировать) алгоритм, а иногда и ускорить вычисления. \n",
    "![Псевдокод обучения перцкптрона](Pictures/update_weights.png)\n",
    "Тут **y**  — правильный ответ для текущего примера, **y^** — выходная активация перцептрона, **xi** — i-й вход перцептрона на текущем примере, **wi** —   i-й вес перцептрона, **Δwi** — изменение i-го веса после предъявления текущего примера."
   ]
  },
  {
   "cell_type": "markdown",
   "metadata": {},
   "source": [
    "### Задача с грушами. Обучение перцептрона🤩"
   ]
  },
  {
   "cell_type": "markdown",
   "metadata": {},
   "source": [
    "![](Pictures/pears.png)"
   ]
  },
  {
   "cell_type": "code",
   "execution_count": 1,
   "metadata": {},
   "outputs": [],
   "source": [
    "import numpy as np"
   ]
  },
  {
   "cell_type": "code",
   "execution_count": 2,
   "metadata": {},
   "outputs": [
    {
     "name": "stdout",
     "output_type": "stream",
     "text": [
      "[[1.  0.3 1. ]\n",
      " [0.4 0.5 1. ]\n",
      " [0.7 0.8 0. ]]\n"
     ]
    }
   ],
   "source": [
    "examples = np.array([[1, 0.3, 1], [0.4, 0.5, 1], [0.7, 0.8, 0]])\n",
    "print(examples)"
   ]
  },
  {
   "cell_type": "code",
   "execution_count": 3,
   "metadata": {},
   "outputs": [
    {
     "name": "stdout",
     "output_type": "stream",
     "text": [
      "[[1.]\n",
      " [1.]\n",
      " [0.]]\n"
     ]
    }
   ],
   "source": [
    "# выходные значения (груша или нет)\n",
    "Y = examples[:, 2].reshape(-1, 1)\n",
    "print(Y)"
   ]
  },
  {
   "cell_type": "code",
   "execution_count": 4,
   "metadata": {},
   "outputs": [
    {
     "name": "stdout",
     "output_type": "stream",
     "text": [
      "[[1.]\n",
      " [1.]\n",
      " [1.]]\n"
     ]
    }
   ],
   "source": [
    "# смещение\n",
    "b = np.ones_like(Y)\n",
    "print(b)"
   ]
  },
  {
   "cell_type": "code",
   "execution_count": 5,
   "metadata": {},
   "outputs": [
    {
     "name": "stdout",
     "output_type": "stream",
     "text": [
      "[[1.  1.  0.3]\n",
      " [1.  0.4 0.5]\n",
      " [1.  0.7 0.8]]\n"
     ]
    }
   ],
   "source": [
    "# матрица значений предикаторов + смещения\n",
    "X = np.hstack((b, examples[:, :2]))\n",
    "print(X)"
   ]
  },
  {
   "cell_type": "code",
   "execution_count": 6,
   "metadata": {},
   "outputs": [
    {
     "name": "stdout",
     "output_type": "stream",
     "text": [
      "[0. 0. 0.]\n"
     ]
    }
   ],
   "source": [
    "# начальные веса 1элемент - смещение, 2элемент - желтизна, 3элемент - симметричность\n",
    "w = np.array([0., 0., 0.])\n",
    "print(w)"
   ]
  },
  {
   "cell_type": "code",
   "execution_count": 8,
   "metadata": {},
   "outputs": [],
   "source": [
    "def Predict(example: int) -> int:\n",
    "    # скалярное произведение векторов\n",
    "    sumator = X[example].reshape(1, -1) @ w.reshape(-1, 1)\n",
    "    return 1 if sumator[0, 0] > 0 else 0\n",
    "   \n",
    "def Target(example: int) -> int:\n",
    "    return Y[example, 0]"
   ]
  },
  {
   "cell_type": "code",
   "execution_count": 9,
   "metadata": {},
   "outputs": [
    {
     "name": "stdout",
     "output_type": "stream",
     "text": [
      "Итерация: 0\n",
      "Весовые коэффициенты: [0. 0. 0.]\n",
      "\n",
      "Итерация: 1\n",
      "Весовые коэффициенты: [ 0.   0.3 -0.5]\n",
      "\n",
      "Итерация: 2\n",
      "Весовые коэффициенты: [ 0.00000000e+00  1.11022302e-16 -8.00000000e-01]\n",
      "\n",
      "Итерация: 3\n",
      "Весовые коэффициенты: [ 0.   0.3 -1.3]\n",
      "\n",
      "Итерация: 4\n",
      "Весовые коэффициенты: [ 0.   0.6 -1.8]\n",
      "\n",
      "Итерация: 5\n",
      "Весовые коэффициенты: [ 0.   0.3 -2.1]\n",
      "\n",
      "Итерация: 6\n",
      "Весовые коэффициенты: [ 0.   0.6 -2.6]\n",
      "\n",
      "Итерация: 7\n",
      "Весовые коэффициенты: [ 0.   0.9 -3.1]\n",
      "\n",
      "Итерация: 8\n",
      "Весовые коэффициенты: [ 0.   1.2 -3.6]\n",
      "\n",
      "Итерация: 9\n",
      "Весовые коэффициенты: [ 1.   1.6 -3.1]\n",
      "\n",
      "Конец\n"
     ]
    }
   ],
   "source": [
    "perfect = False\n",
    "it = 0\n",
    "while not perfect:\n",
    "    print(\"Итерация:\", it)\n",
    "    print(f\"Весовые коэффициенты: {w}\", end='\\n\\n')\n",
    "    perfect = True\n",
    "    it += 1\n",
    "    for i, e in enumerate(X):\n",
    "        if Predict(i) != Target(i):\n",
    "            perfect = False\n",
    "            if Predict(i) == 0:\n",
    "                w += e\n",
    "            elif Predict(i) == 1:\n",
    "                w -= e\n",
    "print('Конец')           "
   ]
  },
  {
   "cell_type": "markdown",
   "metadata": {},
   "source": [
    "<div style=\"width: 100%; text-align: center; font-size: 22px; font-weight: 600;  color: #f244e1;\">Геометрическая интерпретация обучения перцептрона</div>\n",
    "\n",
    "![](Pictures/pos_neg_vectors.png)"
   ]
  },
  {
   "cell_type": "markdown",
   "metadata": {},
   "source": [
    "<div style=\"width: 100%; text-align: center; font-size: 22px; font-weight: 600;  color: #f244e1;\">Ограничения применения перцептрона</div>\n",
    "\n",
    "+ Не может решить XOR проблему\n",
    "+ Не может отличить два паттерна, если мы разрешаем перенос их через край "
   ]
  },
  {
   "cell_type": "markdown",
   "metadata": {},
   "source": [
    "<div style=\"width: 100%; text-align: center; font-size: 28px; font-weight: 600;  color: #463ee6;\">Базовые типы искуственных нейронов</div>"
   ]
  },
  {
   "cell_type": "markdown",
   "metadata": {},
   "source": [
    "🚩 **Искусственные нейроны** - кирпичики из которых будут строятся нейронные сети.\n",
    "\n",
    "Приведенные ниже нейроны будут отличаться только активационной функцией.\n",
    "\n",
    "<div style=\"width: 100%; text-align: left; font-size: 22px; font-weight: 600;  color: #0abb19; padding: 20px\"> - Линейный нейрон</div>\n",
    "\n",
    "\n",
    "Переформулированная на языке искусственных нейронов модель линейной регрессии.\n",
    "\n",
    "\n",
    "🚩 Применяется если на выходе хотим получить вещественное число (например рост).\n",
    "\n",
    "![Здесь должна быть картинка](Pictures/linear_neuron.png)\n",
    "\n",
    "\n",
    "Краткая запись:\n",
    "\n",
    "\n",
    "![Здесь должна быть картинка](Pictures/linear_neuron_easy.png)\n",
    "![Здесь должна быть картинка](Pictures/linear_graph.png)\n",
    "\n",
    "\n",
    "<div style=\"width: 100%; text-align: center; font-size: 14px; font-weight: 300;  color: black; padding: 10px\">График линейной функции активации</div>"
   ]
  },
  {
   "cell_type": "markdown",
   "metadata": {},
   "source": [
    "<div style=\"width: 100%; text-align: left; font-size: 22px; font-weight: 600;  color: #0abb19; padding: 20px\"> - Перцептрон</div>\n",
    "\n",
    "Краткая запись:\n",
    "\n",
    "![](Pictures/Perzeptron_easy.png)\n",
    "![](Pictures/porogovay_f.png)\n",
    "\n",
    "<div style=\"width: 100%; text-align: center; font-size: 14px; font-weight: 300;  color: black; padding: 10px\">График пороговой функции активации</div>"
   ]
  },
  {
   "cell_type": "markdown",
   "metadata": {},
   "source": [
    "<div style=\"width: 100%; text-align: left; font-size: 22px; font-weight: 600;  color: #0abb19; padding: 20px\"> - Сигмоидальный нейрон</div>\n",
    "🚩 Интерпритируем выходные значения как вероятности\n",
    "\n",
    "![](Pictures/sigma.png)\n",
    "![](Pictures/sigma_graph.png)\n",
    "\n",
    "<div style=\"width: 100%; text-align: left; font-size: 22px; font-weight: 600;  color: #0abb19; padding: 20px\"> - Нейрон основанный на гиперболическом тангесе</div>\n",
    "🚩Используется как стандартный нейрон\n",
    "\n",
    "![](Pictures/th.png)\n",
    "![](Pictures/th_graph.png)\n",
    "\n",
    "<div style=\"width: 100%; text-align: left; font-size: 22px; font-weight: 600;  color: #0abb19; padding: 20px\"> - Relu (кусочно-линейный или улучшенный линейный) нейрон</div>\n",
    "🚩 Применяют в сверточных нейронных сетях. В многослойных сетях работает не хуже гиперболического тангеса.\n",
    "\n",
    "![](Pictures/relu.png)\n",
    "![](Pictures/relu_graph.png)\n",
    "\n",
    "<div style=\"width: 100%; text-align: left; font-size: 22px; font-weight: 600;  color: #0abb19; padding: 20px\"> - Softplus нейрон</div>\n",
    "🚩Позваляет дифференцировать Relu нейрон\n",
    "\n",
    "![](Pictures/softplus.png)\n",
    "![](Pictures/softplus_graph.png)"
   ]
  },
  {
   "cell_type": "markdown",
   "metadata": {},
   "source": [
    "<div style=\"width: 100%; text-align: center; font-size: 28px; font-weight: 600;  color: #463ee6; padding-top: 10px\">Градиентный спуск</div>"
   ]
  },
  {
   "cell_type": "markdown",
   "metadata": {},
   "source": [
    "<div style=\"width: 100%; text-align: center; font-size: 22px; font-weight: 600;  color: #f244e1;\">Целевая функция</div>\n",
    "\n",
    "🚩 **Целевая функция** - мера того, насколько хорошо ведет себя алгоритм. Мера успешности алгоритма. Показывает насколько в целом наша модель ошибалась.\n",
    "\n",
    "🚩 Необходимо **минимизировать** целевую функцию!\n",
    "\n",
    "Целевую функцию также называют **функцией потерь**, но это не совсем синонимы.\n",
    "\n",
    "Различают потери на конкретном примере *Loss funtion* или *Cost function*.\n",
    "В этом случае целевая функция - это обобщенная комбинация функций потерь для отдельных примеров\n",
    "![](Pictures/target_func.png)\n",
    "\n",
    "Можно посмотреть еще:\n",
    "+ Функция эмпирического риска\n",
    "+ Функция стрктурного риска\n",
    "\n",
    "<div style=\"width: 100%; text-align: center; font-size: 22px; font-weight: 600;  color: #f244e1;\">Поверхность целевой функции</div>\n",
    "\n",
    "![](Pictures/target_surf.png)\n",
    "<div style=\"width: 100%; text-align: center; font-size: 14px; font-weight: 300;  color: black; padding: 10px\">График поверхности целевой функции от 2 параметров</div>"
   ]
  },
  {
   "cell_type": "code",
   "execution_count": 10,
   "metadata": {},
   "outputs": [
    {
     "data": {
      "image/png": "[encoded data removed]",
      "text/plain": [
       "<Figure size 432x288 with 1 Axes>"
      ]
     },
     "metadata": {
      "needs_background": "light"
     },
     "output_type": "display_data"
    }
   ],
   "source": [
    "import matplotlib.pyplot as plt\n",
    "from mpl_toolkits.mplot3d import axes3d\n",
    "\n",
    "X = np.linspace(-6, 6, 20)/6\n",
    "\n",
    "w_0, w_1 = 4, -2\n",
    "#истинная функция\n",
    "y = lambda x: w_0 + w_1 * x\n",
    "\n",
    "w0 = np.linspace(-2, 10, 10)\n",
    "w1 = np.linspace(-8, 4, 10)\n",
    "W0, W1 = np.meshgrid(w0, w1)\n",
    "#предсказанная функция\n",
    "y_predict = lambda x: W0 + W1*x\n",
    "\n",
    "# целевая функция\n",
    "J = sum([(y_predict(x) - y(x) )**2 for x in X])\n",
    "\n",
    "# График целевой функции\n",
    "fig = plt.figure()\n",
    "ax = plt.axes(projection=\"3d\")\n",
    "ax.plot_wireframe(W0, W1, J, color='green')\n",
    "#ax.plot_surface(W0, W1, J, cmap='inferno', alpha=0.8)\n",
    "ax.set_xlabel('w0')\n",
    "ax.set_ylabel('w1')\n",
    "ax.set_zlabel('J')\n",
    "\n",
    "\n",
    "plt.show()"
   ]
  },
  {
   "cell_type": "markdown",
   "metadata": {},
   "source": [
    "Мы не знаем на самом деле как выглядит поверхность целевой функции. Чтобы найти ее **минимум** используют **градиентный спуск**.\n",
    "\n",
    "<div style=\"width: 100%; text-align: center; font-size: 22px; font-weight: 600;  color: #f244e1; padding: 10px;\">Градиент</div>\n",
    "\n",
    "🚩 **Градиент** - вектор, своим направлением указывающий направление наибольшего возрастания некоторой величины.\n",
    "\n",
    "![](Pictures/gradient.png)\n",
    "\n",
    "<div style=\"width: 100%; text-align: center; font-size: 22px; font-weight: 600;  color: #f244e1; padding: 10px;\">Алгоритм обучения градиентного спуска</div>\n",
    "\n",
    "1. Вычисляем значение градиента в определенной точке\n",
    "2. Домножаем градиент на *-1*, чтобы получить направление наискорейшего спуска\n",
    "3. Домножаем полученное значение на *альфу* - константа скорости обучения (влияет на величину шагов)\n",
    "4. Прибавляем полученное к весам которые были\n",
    "5. Таким образом получаем новые веса на следущем шаге алгоритма\n"
   ]
  },
  {
   "cell_type": "markdown",
   "metadata": {},
   "source": [
    "Зададим следующее правило изменения весов:\n",
    "$w_{j+1} = w_j + \\Delta w_j$,\n",
    "\n",
    "где $\\Delta w_j = - \\alpha\\cdot \\nabla J\\left(w_j\\right)$, обратите внимание, $w_j$ — это вектор весов на шаге алгоритма с номером *j*.\n",
    "\n",
    "+ $\\nabla J\\left(w_j\\right)$ — градиент J в точке $w_j$, \n",
    "+ $\\alpha$ — некоторая **положительная** константа (спойлер: learning rate, то, насколько хорошо усваивается новая информация),\n",
    "+ $x^{(i)}$ — вектор входных данных i-го примера, \n",
    "+ $y^{(i)}$ — правильный ответ для i-го примера, \n",
    "+ $\\hat y^{(i)}$ — ответ нашей модели для примера с номером i, например, $\\sigma\\left(w^T x^{(i)}\\right)$ для логистического нейрона или $w^T x^{(i)}$ для линейного.\n",
    "\n",
    "![](Pictures/alg_grad_descent.png)"
   ]
  },
  {
   "cell_type": "markdown",
   "metadata": {},
   "source": [
    "Алгоритм завершается когда веса перестают изменяться (градиент равен 0). На практике такое почти нереально. \n",
    "Чтобы остановить процедуру расчета:\n",
    "+ Задают константу *эпсилон*. Если изменение весов меньше *эпсилон*, то завершаем расчет;\n",
    "+ Задают максимальное число шагов. Когда превышаем его, то завершаем расчет.\n",
    "\n",
    "<div style=\"width: 100%; text-align: center; font-size: 22px; font-weight: 600;  color: #f244e1; padding: 10px;\">Замечания по алгоритму</div>\n",
    "\n",
    "Успешность алгоритма зависит от:\n",
    "+ выбора начальной точки\n",
    "\n",
    "   🚩🚩🚩 **ВНИМАНИЕ**. Градиент может быть равен 0 на плато (ровная поверхность) не являющемся минимумом функции.\n",
    "   \n",
    "+ выбора константы скорости обучения\n",
    "   + Если выбрать слишком большое значение, то будем перескакивать глобальный минимум;\n",
    "   + Если выбрать слишком маленькое значение, то можем провалиться в \"ямку\" локального минимума и не выбраться из нее.\n",
    "\n",
    "![](Pictures/global_local.png)"
   ]
  },
  {
   "cell_type": "markdown",
   "metadata": {},
   "source": [
    "<div style=\"width: 100%; text-align: center; font-size: 22px; font-weight: 600;  color: #f244e1; padding: 10px;\">Градиент для ЛИНЕЙНОГО нейрона с квадратичной целевой функцией</div>\n",
    "\n",
    "[Вывод градиента для линейного нейрона](https://stepik.org/lesson/26104/step/6?auth=login&unit=8104)\n",
    "![](Pictures/grad_linier.png)\n",
    "\n",
    "🚩 **Стохастический градиентный спуск (mini Batch)** - подход когда используются не все данные.\n",
    "\n",
    "+ Уменьшается время выполнения одного шага, но грдиент будет неточным\n",
    "+ Есть шанс выйти из локального минимума\n",
    "\n",
    "Крайний случай *n=1*. Так называемое **онлайн обучение**. Например удобно для обучения модели показа рекламы на вебсайте. Если появляется новый пользователь, то сразу на нем переобучаем модель и забываем его (больше не нужно хранить о нем данные).\n",
    "\n",
    "\n",
    "\n"
   ]
  },
  {
   "cell_type": "markdown",
   "metadata": {},
   "source": [
    "<div style=\"width: 100%; text-align: center; font-size: 22px; font-weight: 600;  color: #f244e1; padding: 10px;\">Градиент для ЛОГИСТИЧЕСКОГО нейрона с квадратичной целевой функцией</div>\n",
    "\n",
    "[Вывод градиента для логистического нейрона](https://stepik.org/lesson/26104/step/10?auth=login&unit=8104)\n",
    "![](Pictures/grad_sigma.png)"
   ]
  },
  {
   "cell_type": "markdown",
   "metadata": {},
   "source": [
    "<div style=\"width: 100%; text-align: center; font-size: 22px; font-weight: 600;  color: #f244e1; padding: 10px;\">Помощники при дифференцировании</div>\n",
    "\n",
    "Дифференцирование:\n",
    "+ **Символьное**. Помогает проверить вывод формул;\n",
    "+ **Численное**. Помогает проверить что полученная формула работает;\n",
    "+ **Автоматическое**. Позволяет без формул получить градиет, если правильно описать работу алгоритма.\n",
    "\n",
    "[Один из помощников - Библиотека Theano](https://pypi.org/project/Theano/)"
   ]
  },
  {
   "cell_type": "markdown",
   "metadata": {},
   "source": [
    "## Практика\n",
    "\n",
    "[Практика со степика](https://stepik.org/lesson/21776/step/1?auth=login&unit=5194)\n",
    "\n",
    "[GitHub с исходниками](https://github.com/stacymiller/stepic_neural_networks_public)"
   ]
  }
 ],
 "metadata": {
  "kernelspec": {
   "display_name": "Python 3",
   "language": "python",
   "name": "python3"
  },
  "language_info": {
   "codemirror_mode": {
    "name": "ipython",
    "version": 3
   },
   "file_extension": ".py",
   "mimetype": "text/x-python",
   "name": "python",
   "nbconvert_exporter": "python",
   "pygments_lexer": "ipython3",
   "version": "3.7.6"
  }
 },
 "nbformat": 4,
 "nbformat_minor": 4
}
