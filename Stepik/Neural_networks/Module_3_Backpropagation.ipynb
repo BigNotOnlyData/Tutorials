{
 "cells": [
  {
   "cell_type": "markdown",
   "metadata": {},
   "source": [
    "<div style=\"width: 100%; text-align: center; font-size: 36px; font-weight: 600;  color: #3de642; padding: 10px 10px; line-height: 1em\">Многослойный перцептрон и алгоритм обратного распространения ошибки</div>\n",
    "\n",
    "[1. Оригинальный сайт-книга на английском](http://neuralnetworksanddeeplearning.com/chap2.html)\n",
    "\n",
    "[2. Перевод вышеизложенной книги на хабре](https://habr.com/ru/post/457980/)\n",
    "\n",
    "[3. Статья на английском с примером вычисления](https://mattmazur.com/2015/03/17/a-step-by-step-backpropagation-example/)\n",
    "\n",
    "[4. Видео на ютубе](https://www.youtube.com/watch?v=rP_k8cpsNWY&list=LL&index=1&t=469s)\n"
   ]
  },
  {
   "cell_type": "markdown",
   "metadata": {},
   "source": [
    "<div style=\"width: 100%; text-align: center; font-size: 28px; font-weight: 600;  color: #463ee6; padding-top: 10px\">Многослойный перцептрон (перцептрон Румельхарта)</div>\n",
    "\n",
    "![Структурная схема](Pictures/multi_perz.png)\n",
    "\n",
    "**Forward propogation** - вычисление и хранение промежуточных переменных (включая выходные данные) для нейронной сети в порядке от входного уровня к выходному уровню.\n",
    "\n",
    "🚩 Разные слои могут иметь разные активационные функции\n",
    "\n",
    "🚩 В случае если в задаче классификации больше двух классов, то на выходе можем иметь вектор активаций Y (больше одного нейрона на выходном слое), у которго все нули кроме одного элемента, который соответсвует определенному классу и равен 1.\n",
    "\n",
    "<div style=\"width: 100%; text-align: center; font-size: 22px; font-weight: 600;  color: #f244e1; padding-top: 10px\">Условности</div>\n",
    "\n",
    "![Условности](Pictures/conventions.png)\n",
    "\n",
    "$w_{jk}^l$ — вес, идущий из нейрона с номером k слоя l−1 в нейрон с номером j слоя l.\n",
    "\n",
    "$z_j^l$ — значение сумматорной функции нейрона номер j на слое l.\n",
    "\n",
    "$a_j^l$ — значение активационной функции нейрона номер j на слое l.\n",
    "\n",
    "$b_j^l$ — значение смещения нейрона номер j на слое l.\n",
    "\n",
    "![Функция активации](Pictures/activation_func.png)\n",
    "\n",
    "![Функция активации](Pictures/summator_func.png)\n",
    "\n",
    "![Функция активации](Pictures/matrix_w.png)"
   ]
  },
  {
   "cell_type": "markdown",
   "metadata": {},
   "source": [
    "<div style=\"width: 100%; text-align: center; font-size: 22px; font-weight: 600;  color: #f244e1; padding-top: 10px\">Преимущества многослойного перцептрона</div>\n",
    "\n",
    "![Преимущества](Pictures/plus_multy.png)\n",
    "\n",
    "Преимущества:\n",
    "+ Можно находить нелинейные границы решений, т.е. можно обучить сложным закономерностям\n",
    "\n",
    "+ Нейронные сети - универсальные аппроксиматоры. Многослойный перцептронн может приблизить любую функию (если задать веса). Как обучить это другой вопрос\n",
    "\n",
    "+ Если увеличить количество слоев, то количество нейронов значительно сокращается чтобы аппроксимировать функцию\n",
    "\n",
    "+ [Можно решить XOR задачу](http://www.aiportal.ru/articles/neural-networks/decision-xor.html)"
   ]
  },
  {
   "cell_type": "markdown",
   "metadata": {},
   "source": [
    "<div style=\"width: 100%; text-align: center; font-size: 28px; font-weight: 600;  color: #463ee6; padding-top: 10px\">Алгоритм обратного распространения ошибки</div>"
   ]
  },
  {
   "cell_type": "markdown",
   "metadata": {},
   "source": [
    "**Backward propogation** (обратное распространение) - метод расчета градиента параметров нейронной сети на основании функции потерь. Метод проходит по сети в обратном порядке, от выходного до входного уровня, в соответствии с правилом цепи.\n",
    "\n",
    "Обратное распространение связано с пониманием того, как изменение весов и смещений сети меняет функцию стоимости (целевую функцию). По сути, это означает подсчёт частных производных **∂C/∂$w_{jk}^l$** и **∂C/∂$b_j^l$**. Но для их вычисления сначала мы вычисляем промежуточное значение $δ_j^l$, которую мы называем ошибкой в нейроне №j в слое №l. Обратное распространение даст нам процедуру для вычисления ошибки $δ_j^l$, а потом свяжет $δ_j^l$ с **∂C/∂$w_{jk}^l$** и **∂C/∂$b_j^l$**.\n",
    "\n",
    "![Ошибка по определению](Pictures/error.png)\n",
    "\n",
    "![4 кита обратного распространения ошибки](Pictures/backpropogation.png)\n",
    "\n",
    "Алгоритм обратного распространения ошибки:\n",
    "1. Выбрать *m* примеров, на основании которых будет производиться изменение весов.\n",
    "2. Осуществить прямое распространение активации для каждого примера, не забывая при этом сохранять промежуточные активации для каждого слоя куда-нибудь, чтобы не пересчитывать их потом.\n",
    "3. Используем первого кита, чтобы посчитать ошибки нейронов в выходном слое по каждому примеру.\n",
    "4. Используем второго кита. Теперь у нас есть ошибки нейронов во всех слоях, по каждому примеру.\n",
    "5. Используем третьего и четвёртого кита, не забываем просуммировать. Теперь у нас есть градиенты по параметрам и смещениям.\n",
    "6. Обновляем параметры.\n",
    "7. Проверяем критерии остановки алгоритма."
   ]
  },
  {
   "cell_type": "markdown",
   "metadata": {},
   "source": [
    "🚩 Входные данные лучше приводить в один диапазон"
   ]
  },
  {
   "cell_type": "markdown",
   "metadata": {},
   "source": [
    "### Пример 1\n",
    "Структура нейронной сети взята из [этой статьи](https://mattmazur.com/2015/03/17/a-step-by-step-backpropagation-example/)"
   ]
  },
  {
   "cell_type": "code",
   "execution_count": 1,
   "metadata": {},
   "outputs": [],
   "source": [
    "import numpy as np"
   ]
  },
  {
   "cell_type": "code",
   "execution_count": 2,
   "metadata": {},
   "outputs": [],
   "source": [
    "def sigmoid(z):\n",
    "    \"\"\"Сигмоидальная функция\"\"\"\n",
    "    return 1.0/(1.0+np.exp(-z))\n",
    "\n",
    "def sigmoid_prime(z):\n",
    "    \"\"\"Производная сигмоидальной функции\"\"\"\n",
    "    return sigmoid(z)*(1-sigmoid(z))\n",
    "\n",
    "def J_quadratic(y_predict, y_target):\n",
    "    \"\"\"Квадратичная целевая функция\"\"\"\n",
    "    return 0.5 * np.mean((y_predict - y_target) ** 2)\n",
    "\n",
    "def J_quadratic_prime(y_predict, y_target):\n",
    "    \"\"\"Производная квадратичной целевой функции\"\"\"\n",
    "    return y_predict - y_target\n"
   ]
  },
  {
   "cell_type": "code",
   "execution_count": 6,
   "metadata": {},
   "outputs": [],
   "source": [
    "class Neuron:\n",
    "    \"\"\"Класс для создания одного нейрона\"\"\"\n",
    "    def __init__(self, weights, inputs, bias, activation_function=sigmoid, activation_function_derivative=sigmoid_prime):\n",
    "        \"\"\" \n",
    "        weights - вектор весов размерностью (1, m)\n",
    "        inputs - вектор входов размерностью (m, 1). Для нейронов скрытых и выходного слоев\n",
    "        это вектор активаций предыдущего слоя.\n",
    "        m - число входов и соответственно весов.\n",
    "        bias - значение смещения (число)\n",
    "        \"\"\"\n",
    "        self.w = weights\n",
    "        self.input = inputs\n",
    "        self.b = bias\n",
    "        self.activation_function = activation_function\n",
    "        self.activation_function_derivative = activation_function_derivative\n",
    "        \n",
    "    def summatory(self):\n",
    "        \"\"\"Сумматорная функция.\n",
    "           Возвращает numpy.ndarray размерностью (1, 1)\n",
    "        \"\"\"\n",
    "        return self.w @ self.input + self.b\n",
    "    \n",
    "    def activation(self):\n",
    "        \"\"\"Активационная функция.\n",
    "           Возвращает numpy.ndarray размерностью (1, 1)\n",
    "        \"\"\"\n",
    "        return self.activation_function(self.summatory())\n",
    "    \n",
    "    def activation_prime(self):\n",
    "        \"\"\"Производная активационной функции.\n",
    "           Возвращает numpy.ndarray размерностью (1, 1)\n",
    "        \"\"\"\n",
    "        return self.activation_function_derivative(self.summatory())\n",
    "    "
   ]
  },
  {
   "cell_type": "code",
   "execution_count": 12,
   "metadata": {},
   "outputs": [],
   "source": [
    "class Network:\n",
    "    \"\"\"Класс для создания нейронной сети\"\"\"\n",
    "    def __init__(self, sizes, inputs, weights, biases, target):\n",
    "        \"\"\"\n",
    "        sizes - список количества нейронов по слоям с учетом входного слоя, где указывается количество входов.\n",
    "        inputs - вектор входов размерностью (m, 1), где m - количество входов.\n",
    "        weights - список, элементы которго это матрицы весов для соответсвующих слоев. \n",
    "        biases - список массиов смещений для каждого слоя.\n",
    "        Длина списка у weights и biases равна количеству слоев без учета входного слоя.\n",
    "        target - вектор выходных значений разменостью (n, 1), где n - количество выходов\n",
    "        \"\"\"\n",
    "        self.num_layers = len(sizes)\n",
    "        self.sizes = sizes\n",
    "        self.w = weights\n",
    "        self.input = inputs\n",
    "        self.b = biases\n",
    "        self.Y = target\n",
    "        # Список значений сумматорных функций \n",
    "        self.z = [np.zeros((j, 1)) for j in self.sizes[1:]]\n",
    "        # Список значений активаций\n",
    "        self.a = [np.zeros((j, 1)) for j in self.sizes]\n",
    "        self.a[0] = self.input\n",
    "        # Список ошибок. Он же список градиентов по смещениям\n",
    "        self.deltas = [np.zeros((j, 1)) for j in self.sizes[1:]]\n",
    "        # Список градиентов по весам\n",
    "        self.nabla_w = [np.zeros(w.shape) for w in self.w]\n",
    "        # Список значений производных активаций \n",
    "        self.a_primes = [np.zeros((j, 1)) for j in self.sizes[1:]] \n",
    "            \n",
    "    def forward_propagation(self):\n",
    "        \"\"\"\n",
    "        Прямое распространение активации.\n",
    "        Возвращает кортеж значений сумматорных функций и активации\n",
    "        \"\"\"\n",
    "        # i - номер слоя\n",
    "        for i in range(self.num_layers - 1): \n",
    "            # Уменьшаем количество слоев на 1, чтобы не учитывать входной,\n",
    "            # так как на нем нейроны не создаем. \n",
    "            # n - номер нейрона в слое\n",
    "            for n in range(self.sizes[1:][i]):\n",
    "                neuron = Neuron(self.w[i][n], self.a[i], self.b[i][n])\n",
    "                z = neuron.summatory()\n",
    "                a = neuron.activation()\n",
    "                a_prime = neuron.activation_prime()\n",
    "                self.z[i][n] = z\n",
    "                self.a[i+1][n] = a\n",
    "                self.a_primes[i][n] = a_prime    \n",
    " \n",
    "        return (self.z, self.a)\n",
    "    \n",
    "    def back_propagation(self):\n",
    "        \"\"\"\n",
    "        Обратное распространение ошибки.\n",
    "        Возвращает градиенты смещений и весов\n",
    "        \"\"\"\n",
    "        # Первый кит. Ошибка выходного слоя\n",
    "        net.forward_propagation()\n",
    "        dJ_da = J_quadratic_prime(self.a[-1], self.Y)\n",
    "        self.deltas[-1] = dJ_da * self.a_primes[-1]\n",
    "        self.nabla_w[-1] = np.dot(self.a[-2], self.deltas[-1].T)\n",
    "        # Второй кит. Ошибки на остальных слоях\n",
    "        for i in range(2, self.num_layers):\n",
    "            delta = self.w[-i+1].T.dot(self.deltas[-i+1]) * self.a_primes[-i]\n",
    "            self.deltas[-i] = delta\n",
    "            self.nabla_w[-i] = np.dot(self.a[-i-1], self.deltas[-i].T)\n",
    "        return (self.deltas, self.nabla_w)\n",
    "    \n",
    "    def get_w(self, j, k, l):\n",
    "        \"\"\"Возвращает вес с заданными индексами\"\"\"\n",
    "        return self.nabla_w[l][j, k]"
   ]
  },
  {
   "cell_type": "code",
   "execution_count": 13,
   "metadata": {},
   "outputs": [],
   "source": [
    "# Задаем начальные параметры сети\n",
    "sizes = [2, 2, 2]\n",
    "inputs = np.array([[0.05, 0.1]]).T\n",
    "weights = [np.array([[0.15, 0.2], [0.25, 0.3]]), np.array([[0.4, 0.45],[0.5, 0.55]])]\n",
    "biases = [np.array([[0.35], [0.35]]), np.array([[0.6], [0.6]])]\n",
    "target = np.array([[0.01, 0.99]]).T"
   ]
  },
  {
   "cell_type": "code",
   "execution_count": 14,
   "metadata": {},
   "outputs": [
    {
     "name": "stdout",
     "output_type": "stream",
     "text": [
      "Результат прямого распространения активации:\n",
      "0 слой\n",
      "Z: [[0.3775]\n",
      " [0.3925]]\n",
      "a: [[0.59326999]\n",
      " [0.59688438]]\n",
      "\n",
      "1 слой\n",
      "Z: [[1.10590597]\n",
      " [1.2249214 ]]\n",
      "a: [[0.75136507]\n",
      " [0.77292847]]\n",
      "\n"
     ]
    }
   ],
   "source": [
    "# Создаем сеть\n",
    "net = Network(sizes, inputs, weights, biases, target)\n",
    "z, a = net.forward_propagation()\n",
    "print(\"Результат прямого распространения активации:\")\n",
    "for i, e in enumerate(zip(z, a[1:])):\n",
    "    print(f'{i} слой')\n",
    "    print(\"Z:\", e[0])\n",
    "    print(\"a:\", e[1], end='\\n\\n')"
   ]
  },
  {
   "cell_type": "code",
   "execution_count": 15,
   "metadata": {},
   "outputs": [
    {
     "name": "stdout",
     "output_type": "stream",
     "text": [
      "0 слой\n",
      "b: [[0.00877135]\n",
      " [0.00995425]]\n",
      "w: [[0.00043857 0.00049771]\n",
      " [0.00087714 0.00099543]]\n",
      "\n",
      "1 слой\n",
      "b: [[ 0.13849856]\n",
      " [-0.03809824]]\n",
      "w: [[ 0.08216704 -0.02260254]\n",
      " [ 0.08266763 -0.02274024]]\n",
      "\n"
     ]
    }
   ],
   "source": [
    "# Результат обратного распространения ошибки\n",
    "dJ_db, dJ_dw = net.back_propagation()\n",
    "for i, e in enumerate(zip(dJ_db, dJ_dw)):\n",
    "    print(f'{i} слой')\n",
    "    print(\"b:\", e[0])\n",
    "    print(\"w:\", e[1], end='\\n\\n')"
   ]
  },
  {
   "cell_type": "code",
   "execution_count": 16,
   "metadata": {},
   "outputs": [
    {
     "data": {
      "text/plain": [
       "-0.02274024221597822"
      ]
     },
     "execution_count": 16,
     "metadata": {},
     "output_type": "execute_result"
    }
   ],
   "source": [
    "# Извлекаем вес\n",
    "net.get_w(j=1, k=1, l=1)"
   ]
  },
  {
   "cell_type": "markdown",
   "metadata": {},
   "source": [
    "### Пример 2\n",
    "Здесь у первого нейрона скрытого слоя активационная функция - ReLU, остальные сигмоды. Выход =1, смещения =0.\n",
    "\n",
    "Изменился только метод `forward_propagation()` в классе `Network`\n",
    "![4 кита обратного распространения ошибки](Pictures/network.png)"
   ]
  },
  {
   "cell_type": "code",
   "execution_count": 17,
   "metadata": {},
   "outputs": [],
   "source": [
    "def relu(z):\n",
    "    \"\"\"ReLU функция\"\"\"\n",
    "    return max(z, 0)\n",
    "\n",
    "def relu_prime(z):\n",
    "    \"\"\"Производная ReLU функции\"\"\"\n",
    "    return int(z > 0)"
   ]
  },
  {
   "cell_type": "code",
   "execution_count": 18,
   "metadata": {},
   "outputs": [],
   "source": [
    "class Network:\n",
    "    \"\"\"Класс для создания нейронной сети\"\"\"\n",
    "    def __init__(self, sizes, inputs, weights, biases, target):\n",
    "        \"\"\"\n",
    "        sizes - список количества нейронов по слоям с учетом входного слоя, где указывается количество входов.\n",
    "        inputs - вектор входов размерностью (m, 1), где m - количество входов.\n",
    "        weights - список, элементы которго это матрицы весов для соответсвующих слоев. \n",
    "        biases - список массиов смещений для каждого слоя.\n",
    "        Длина списка у weights и biases равна количеству слоев без учета входного слоя.\n",
    "        target - вектор выходных значений разменостью (n, 1), где n - количество выходов\n",
    "        \"\"\"\n",
    "        self.num_layers = len(sizes)\n",
    "        self.sizes = sizes\n",
    "        self.w = weights\n",
    "        self.input = inputs\n",
    "        self.b = biases\n",
    "        self.Y = target\n",
    "        # Список значений сумматорных функций \n",
    "        self.z = [np.zeros((j, 1)) for j in self.sizes[1:]]\n",
    "        # Список значений активаций\n",
    "        self.a = [np.zeros((j, 1)) for j in self.sizes]\n",
    "        self.a[0] = self.input\n",
    "        # Список ошибок. Он же список градиентов по смещениям\n",
    "        self.deltas = [np.zeros((j, 1)) for j in self.sizes[1:]]\n",
    "        # Список градиентов по весам\n",
    "        self.nabla_w = [np.zeros(w.shape) for w in self.w]\n",
    "        # Список значений производных активаций \n",
    "        self.a_primes = [np.zeros((j, 1)) for j in self.sizes[1:]]            \n",
    "    \n",
    "    def forward_propagation(self):\n",
    "        \"\"\"\n",
    "        Прямое распространение активации.\n",
    "        Возвращает кортеж значений сумматорных функций и активации\n",
    "        \"\"\"\n",
    "        # i - номер слоя (начинается без учета входного слоя)\n",
    "        for i in range(self.num_layers - 1): \n",
    "            # Уменьшаем количество слоев на 1, чтобы не учитывать входной,\n",
    "            # так как на нем нейроны не создаем. \n",
    "            # n - номер нейрона в слое\n",
    "            for n in range(self.sizes[1:][i]):\n",
    "                # Задаем активационную функцию ReLU\n",
    "                if i == 0 and n == 0:\n",
    "                    neuron = Neuron(self.w[i][n], self.a[i], self.b[i][n], activation_function=relu, activation_function_derivative=relu_prime)\n",
    "                # Задаем активационную функцию сигмоиды для остальных\n",
    "                else:    \n",
    "                    neuron = Neuron(self.w[i][n], self.a[i], self.b[i][n])\n",
    "                    \n",
    "                z = neuron.summatory()\n",
    "                a = neuron.activation()\n",
    "                a_prime = neuron.activation_prime()\n",
    "                self.z[i][n] = z\n",
    "                self.a[i+1][n] = a\n",
    "                self.a_primes[i][n] = a_prime   \n",
    " \n",
    "        return (self.z, self.a)\n",
    "    \n",
    "    def back_propagation(self):\n",
    "        \"\"\"\n",
    "        Обратное распространение ошибки.\n",
    "        Возвращает градиенты смещений и весов\n",
    "        \"\"\"\n",
    "        # Первый кит. Ошибка выходного слоя\n",
    "        net.forward_propagation()\n",
    "        dJ_da = J_quadratic_prime(self.a[-1], self.Y)\n",
    "        self.deltas[-1] = dJ_da * self.a_primes[-1]\n",
    "        self.nabla_w[-1] = np.dot(self.a[-2], self.deltas[-1].T).T\n",
    "        # Второй кит. Ошибки на остальных слоях\n",
    "        for i in range(2, self.num_layers):\n",
    "            delta = self.w[-i+1].T.dot(self.deltas[-i+1]) * self.a_primes[-i]\n",
    "            self.deltas[-i] = delta\n",
    "            self.nabla_w[-i] = np.dot(self.a[-i-1], self.deltas[-i].T).T\n",
    "        return (self.deltas, self.nabla_w)\n",
    "    \n",
    "    def get_w(self, j, k, l):\n",
    "        \"\"\"Возвращает вес с заданными индексами\"\"\"\n",
    "        return self.nabla_w[l][j, k]"
   ]
  },
  {
   "cell_type": "code",
   "execution_count": 19,
   "metadata": {},
   "outputs": [],
   "source": [
    "# Задаем начальные параметры сети\n",
    "sizes = [3, 2, 1]\n",
    "inputs = np.array([[0, 1, 1]]).T\n",
    "weights = [np.array([[0.7, 0.2, 0.7], [0.8, 0.3, 0.6]]), np.array([[0.2, 0.4]])]\n",
    "biases = [np.array([[0], [0], [0]]), np.array([[0]])]\n",
    "target = np.array([[1]]).T"
   ]
  },
  {
   "cell_type": "code",
   "execution_count": 20,
   "metadata": {},
   "outputs": [
    {
     "name": "stdout",
     "output_type": "stream",
     "text": [
      "Результат прямого распространения активации:\n",
      "0 слой\n",
      "Z: [[0.9]\n",
      " [0.9]]\n",
      "a: [[0.9      ]\n",
      " [0.7109495]]\n",
      "\n",
      "1 слой\n",
      "Z: [[0.4643798]]\n",
      "a: [[0.61405267]]\n",
      "\n"
     ]
    }
   ],
   "source": [
    "# Создаем сеть\n",
    "net = Network(sizes, inputs, weights, biases, target)\n",
    "z, a = net.forward_propagation()\n",
    "print(\"Результат прямого распространения активации:\")\n",
    "for i, e in enumerate(zip(z, a[1:])):\n",
    "    print(f'{i} слой')\n",
    "    print(\"Z:\", e[0])\n",
    "    print(\"a:\", e[1], end='\\n\\n')"
   ]
  },
  {
   "cell_type": "code",
   "execution_count": 21,
   "metadata": {},
   "outputs": [
    {
     "name": "stdout",
     "output_type": "stream",
     "text": [
      "0 слой\n",
      "b: [[-0.01829328]\n",
      " [-0.00751855]]\n",
      "w: [[-0.         -0.01829328 -0.01829328]\n",
      " [-0.         -0.00751855 -0.00751855]]\n",
      "\n",
      "1 слой\n",
      "b: [[-0.09146642]]\n",
      "w: [[-0.08231978 -0.06502801]]\n",
      "\n"
     ]
    }
   ],
   "source": [
    "# Результат обратного распространения ошибки\n",
    "dJ_db, dJ_dw = net.back_propagation()\n",
    "for i, e in enumerate(zip(dJ_db, dJ_dw)):\n",
    "    print(f'{i} слой')\n",
    "    print(\"b:\", e[0])\n",
    "    print(\"w:\", e[1], end='\\n\\n')"
   ]
  },
  {
   "cell_type": "code",
   "execution_count": 22,
   "metadata": {},
   "outputs": [
    {
     "data": {
      "text/plain": [
       "-0.0075185513677826785"
      ]
     },
     "execution_count": 22,
     "metadata": {},
     "output_type": "execute_result"
    }
   ],
   "source": [
    "net.get_w(j=1, k=2, l=0)"
   ]
  },
  {
   "cell_type": "markdown",
   "metadata": {},
   "source": [
    "<div style=\"width: 100%; text-align: center; font-size: 22px; font-weight: 600;  color: #f244e1; padding-top: 10px\">Целевые функции</div>\n",
    "\n",
    "[Сайт с книгой \"The Elements of\n",
    "Statistical Learning\"](http://statweb.stanford.edu/~tibs/ElemStatLearn/)\n",
    "\n",
    "[Статья L1- и L2-регуляризация](https://msdn.microsoft.com/ru-ru/magazine/dn904675.aspx)\n",
    "\n",
    "<div style=\"width: 100%; text-align: left; font-size: 22px; font-weight: 600;  color: #0abb19; padding: 20px\"> - L1, L2 - регуляризация</div>\n",
    "\n",
    "**L1- и L2-регуляризация** — эта два тесно связанных метода для уменьшения степени переобучения модели. \n",
    "\n",
    "+ L1-регуляризация: к целевой функции добавляем сумму модулей весов  \n",
    "  [Функция сигнум](https://ru.wikipedia.org/wiki/Sgn)\n",
    "+ L2-регуляризация: к целевой функции добавляем сумму квадратов весов\n",
    "\n",
    "🚩Данные методы \"штрафуют\" за большие веса.\n",
    "\n",
    "🚩Применяя оба метода получим: L1 + L2 = **Elastic net** регуляризация\n",
    "\n",
    "$\\lambda$ - гиперпараметр, выбираем маленьким\n",
    "\n",
    "\n",
    "\n",
    "![L1 Регулизация](Pictures/L1_regularization.png)\n",
    "![L2 Регулизация](Pictures/L2_regularization.png)\n",
    "\n",
    "<div style=\"width: 100%; text-align: left; font-size: 22px; font-weight: 600;  color: #0abb19; padding: 20px\"> - Кросс энтропия</div>\n",
    "\n",
    "🚩Для бинарных классификаторов\n",
    "\n",
    "🚩Минимизурая целевую функцию - максимизируем функцию правдободобия\n",
    "\n",
    "![Кросс энтропия](Pictures/cross_entropy.png)"
   ]
  },
  {
   "cell_type": "markdown",
   "metadata": {},
   "source": [
    "<div style=\"width: 100%; text-align: center; font-size: 22px; font-weight: 600;  color: #f244e1; padding-top: 10px\">Алгоритм стохастического градиентного спуска на многослойной нейронной сети</div>\n",
    "\n",
    "1. Входим в цикл по эпохам:\n",
    "2. Случайным образом разбиваем **X,y** на батчи $(\\bar X^{(i)}, \\bar y^{(i)})$\n",
    "3. Входим в цикл по батчам. Для каждого батча из разбиения:\n",
    "4. Считаем предсказания сети $y^{(i)}$ для примеров батча (forward pass)\n",
    "5. Считаем частные производные целевой функции JJJ по всем весам и смещениям сети на примерах $\\bar X^{(i)}, \\bar y^{(i)}$ (backpropagation, обратное распространение ошибки)\n",
    "6. Смещаем все веса и смещения сети в сторону, противоположную подсчитанному градиенту, пропорционально заданному learning rate: $w_{jk}^l-= \\mathtt{learning\\_rate}\\cdot\\frac{\\partial J}{\\partial w_{jk}^l}$\n",
    "7. Конец описания цикла по батчам\n",
    "8. Считаем значение целевой функции на всех имеющихся примерах **X, y** для сети с обновлёнными весами\n",
    "9. Если значение целевой функции на обновлённых весах мало изменилось по сравнению с таковым на предыдущей итерации, или если достигнуто максимальное допустимое число эпох — выходим из цикла\n",
    "10. Конец описания цикла по эпохам"
   ]
  }
 ],
 "metadata": {
  "kernelspec": {
   "display_name": "Python 3",
   "language": "python",
   "name": "python3"
  },
  "language_info": {
   "codemirror_mode": {
    "name": "ipython",
    "version": 3
   },
   "file_extension": ".py",
   "mimetype": "text/x-python",
   "name": "python",
   "nbconvert_exporter": "python",
   "pygments_lexer": "ipython3",
   "version": "3.7.6"
  }
 },
 "nbformat": 4,
 "nbformat_minor": 4
}
