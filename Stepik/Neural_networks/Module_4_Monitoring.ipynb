{
 "cells": [
  {
   "cell_type": "markdown",
   "metadata": {},
   "source": [
    "<div style=\"width: 100%; text-align: center; font-size: 36px; font-weight: 600;  color: #3de642; padding: 10px 10px; line-height: 1em\">Мониторинг состояния сети</div>\n",
    "\n",
    "[Статья из лекции со степика](http://static.googleusercontent.com/media/research.google.com/ru//archive/unsupervised_icml2012.pdf)\n",
    "\n",
    "<div style=\"width: 100%; text-align: center; font-size: 28px; font-weight: 600;  color: #463ee6; padding-top: 10px\">Переобучение</div>\n",
    "\n",
    "**Переобучение** - это явление, при котором модель вместо того, чтобы из полученных примеров выделить общую закономерность, просто их запоминает. \"Зубрежка без понимания\".\n",
    "\n",
    "🚩Многочлен 3 степени, натренированный на 35 точках из одного периода синусоиды, будет иметь лучшую предсказательную способность, чем многочлен 40 степени. Хотя казалось бы, чем больше степень понинома тем ближе модель к исходным точкам, то есть целевая функция минимальна. Здесь применим принцип [Бритвы Оккамы](https://ru.wikipedia.org/wiki/%D0%91%D1%80%D0%B8%D1%82%D0%B2%D0%B0_%D0%9E%D0%BA%D0%BA%D0%B0%D0%BC%D0%B0)\n",
    "\n",
    "![Переобучение](Pictures/overfitting.png)\n",
    "\n",
    "Если данные разделить на тренировочные (точки на графике) и тестовые (часть синусоиды где нет точек), то увидим что модель с 3 степенью полинома лучше предсказывает данные на тестовой выборке.\n",
    "![Переобучение](Pictures/overfitting2.png)\n"
   ]
  },
  {
   "cell_type": "markdown",
   "metadata": {},
   "source": [
    "<div style=\"width: 100%; text-align: center; font-size: 28px; font-weight: 600;  color: #463ee6; padding-top: 10px\">Кросс-валидация</div>\n",
    "\n",
    "**Cross-validation (перекрёстная проверка, скользящий контроль)** — метод оценки аналитической модели и её поведения на независимых данных. При оценке модели имеющиеся в наличии данные разбиваются на k частей. Затем на k−1 частях данных производится обучение модели, а оставшаяся часть данных используется для тестирования. Процедура повторяется k раз; в итоге каждая из k частей данных используется для тестирования. В результате получается оценка эффективности выбранной модели с наиболее равномерным использованием имеющихся данных.\n",
    "![Переобучение](Pictures/cross_validation.png)"
   ]
  },
  {
   "cell_type": "markdown",
   "metadata": {},
   "source": [
    "<div style=\"width: 100%; text-align: center; font-size: 22px; font-weight: 600;  color: #f244e1; padding-top: 10px\">Проблема - решение</div>\n",
    "\n",
    "1. Застревание в локальном минимуме - Попробовать несколько начальных точек (начальных весов) сети\n",
    "2. Веса и целевая функция почти/вообще не меняются - Нормировать входы\n",
    "3. Переобучение - Устроить кросс-валидацию\n",
    "4. Форма изменения целевой функции хорошая, но обучение протекает долго - Увеличить learning rate"
   ]
  }
 ],
 "metadata": {
  "kernelspec": {
   "display_name": "Python 3",
   "language": "python",
   "name": "python3"
  },
  "language_info": {
   "codemirror_mode": {
    "name": "ipython",
    "version": 3
   },
   "file_extension": ".py",
   "mimetype": "text/x-python",
   "name": "python",
   "nbconvert_exporter": "python",
   "pygments_lexer": "ipython3",
   "version": "3.7.6"
  }
 },
 "nbformat": 4,
 "nbformat_minor": 4
}
