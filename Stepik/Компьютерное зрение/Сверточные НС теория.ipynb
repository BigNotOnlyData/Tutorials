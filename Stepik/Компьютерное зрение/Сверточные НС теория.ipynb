{
 "cells": [
  {
   "cell_type": "markdown",
   "metadata": {},
   "source": [
    "# Нейронные сети и компьютерное зрение\n",
    "\n",
    "# 1. Задачи решаемые при помощи НН\n",
    "\n",
    "\n",
    "## Бинарная классификация\n",
    "\n",
    "+ Функция активации - сигмоида\n",
    "+ Функция потерь - бинарная кросс-энтропия\n",
    "\n",
    "## Многоклассовая классификация\n",
    "\n",
    "+ Функция активации - софтмакс\n",
    "+ Функция потерь - кросс-энтропия\n",
    "\n",
    "## Локализация\n",
    "\n",
    "![local](img/local.png)\n",
    "\n",
    "![local](img/local_act.png)\n",
    "\n",
    "## Сегментация\n",
    "\n",
    "Задача - отделить пиксели где объект есть от пикселей где его нет. Сеть выдает скоры для каждого пикселя\n",
    "\n",
    "+ Функция активации - сигмоида\n",
    "+ Функция потерь - бинарная кросс-энтропия\n",
    "\n",
    "![segment](img/segment.png)\n",
    "\n",
    "## Сжатие размерности\n",
    "\n",
    "+ Относится к обучению без учителя.\n",
    "+ В Embedding слое должно быть значительно меньше параметров чем пикселей на изображение\n",
    "+ По сжатому состоянию картинке (embedding) дальше можно решать задачи классификации\n",
    "\n",
    "![embedding](img/embed.png)\n",
    "\n",
    "## Super Resolution\n",
    "\n",
    "+ увеличение или уменьшение разрешения картинки\n",
    "\n",
    "![superresolution](img/superresolution.png)"
   ]
  },
  {
   "cell_type": "markdown",
   "metadata": {},
   "source": [
    "# 2. Методы оптимизации\n",
    "\n",
    "Невозможно заранее определить, какой из оптимизаторов покажет лучшие результаты \n",
    "\n",
    "+ **Cтохастический градиентный спуск (SGD)**\n",
    "  + стохастический - вычисление градиента на части данных (батчи)\n",
    "+ **Градиентный спуск с импульсом**\n",
    "+ **Rprop**\n",
    "  + изменяет скорость обучения в зависимости от градиента\n",
    "  + плохо работает с батчами\n",
    "+ **RMSprop**\n",
    "  + Если вдоль направления производная болшая, то нужно идти помедленее и наоборот\n",
    "+ **Adam**\n",
    "  + хорошие результаты для большого класса НН\n",
    "  + параметры как правило не нужно подбирать. Оптимальные α=3*10^-4, β1 = 0.9, β2 = 0.999"
   ]
  },
  {
   "cell_type": "markdown",
   "metadata": {},
   "source": [
    "# 3. Сверточные нейронные сети\n",
    "\n",
    "Преимущества по сравнению с полносвязными НН:\n",
    "+ Инвариантны к положению объекта на картинке\n",
    "+ Более легковесны\n",
    "+ Учитывает структуру пикселей (соседство пикселей)\n",
    "\n",
    "## Сверточный слой\n",
    "\n",
    "Параметры свертки:\n",
    "+ Шаг свертки (stride)\n",
    "+ Отступ (Padding)\n",
    "+ Размер ядра свертки (kernel size)\n",
    "+ Количество входных каналов\n",
    "+ Количество выходных каналов\n",
    "\n",
    "1 канал\n",
    "\n",
    "![conv](img/conv.png)\n",
    "\n",
    "3 канала\n",
    "![conv](img/conv_channel.png)\n",
    "\n",
    "## Polling слой\n",
    "\n",
    "Позволяет экономить память выкидывая часть информации\n",
    "\n",
    "Разновидности:\n",
    "+ MaxPool\n",
    "+ MinPool\n",
    "+ AvgPool\n",
    "\n",
    "![polling](img/polling.png)"
   ]
  },
  {
   "cell_type": "markdown",
   "metadata": {
    "id": "DCiwNaqBYwGF"
   },
   "source": [
    "# 4. Архитекруры сверточных нейронных сетей"
   ]
  },
  {
   "cell_type": "markdown",
   "metadata": {
    "id": "aLvm1uJuZBWW"
   },
   "source": [
    "## LeNet (1998)\n",
    "\n",
    "⚡ Придумана для распознавания одноканальных (чернобелых) рукописных цифр\n",
    "\n",
    "⚡ Функция активации tanh, свёрточные слои и пулинг\n",
    "\n",
    "![lenet](img/lenet.png)"
   ]
  },
  {
   "cell_type": "markdown",
   "metadata": {},
   "source": [
    "## AlexNet (2012)\n",
    "\n",
    "⚡ Каскад свёрток (увеличение receptive field) и функция активации ReLU\n",
    "\n",
    "![AlexNet](img/alexnet.png)"
   ]
  },
  {
   "cell_type": "markdown",
   "metadata": {},
   "source": [
    "## VGG (2014)\n",
    "\n",
    "⚡ Обучать урезанную версию сети, постепенно добавляя слои, а также свёртки 1х1. Помогает бороться с затухающим градиентом\n",
    "\n",
    "![AlexNet](img/vgg.png)"
   ]
  },
  {
   "cell_type": "markdown",
   "metadata": {},
   "source": [
    "## GoogLeNet (2015)\n",
    "\n",
    "⚡ В Inception blok применяются параллельные вычисления к картинке с последущей конкатенацией результатов\n",
    "\n",
    "⚡ Слои, где собирается тензор из нескольких свёрток разного размера\n",
    "\n",
    "⚡ Применяются вспомогательные функции потерь при затухании градиентов\n",
    "\n",
    "![inception_block](img/inception_block.png)\n",
    "\n",
    "![GoogLeNet](img/googlelenet.png)"
   ]
  },
  {
   "cell_type": "markdown",
   "metadata": {},
   "source": [
    "## ResNet (2015)\n",
    "\n",
    "⚡ Обходные соединения, пробрасывающие градиент ошибки в обход свёртки\n",
    "\n",
    "⚡ Может принимать картинки любого размера за счет усреднения на выходе\n",
    "\n",
    "![residual_block](img/residual_block.png)\n",
    "\n",
    "![residual_block](img/resnet.png)"
   ]
  },
  {
   "cell_type": "markdown",
   "metadata": {},
   "source": [
    "# 5. Регуляризация и нормализация\n",
    "\n",
    "## Борьба с пререобучением:\n",
    "\n",
    "1. упростить модель\n",
    "2. увеличить количество данных\n",
    "\n",
    "+ **Аугментация** - способ получить больше данных. Для картинок:\n",
    "  + вырезать часть изображения\n",
    "  + сжать/расширить изображение\n",
    "  + отзеркалить\n",
    "  + повернуть\n",
    "  + поменять контраст, цвет, насыщенность\n",
    "  + добавить шумы\n",
    "\n",
    "3. Early stopping\n",
    "4. Регуляризация\n",
    "  + Тихонова (Ridge)\n",
    "  + Lasso\n",
    "5. **DropOut**\n",
    "  + отключение некоторых связей в НН\n",
    "  + зануление некоторых нейронов\n",
    "  \n",
    "## Нормализация\n",
    "\n",
    "Нормализованные данные приводят к более быстрому обучению модели\n",
    "\n",
    "### BatchNorm\n",
    "https://pytorch.org/docs/stable/generated/torch.nn.BatchNorm1d.html?highlight=eval\n",
    "\n",
    "+ Можно использовать на каждом слое НН\n",
    "+ Во время тренировки батч-нормализация оценивает статистики по одному батчу, а во время валидации используются усредненные статистики по всей истории обучения\n",
    "\n"
   ]
  },
  {
   "cell_type": "markdown",
   "metadata": {
    "id": "IVP21VnX9U9t"
   },
   "source": [
    "# 6. Семинар: Реализация сверточного слоя "
   ]
  },
  {
   "cell_type": "code",
   "execution_count": 1,
   "metadata": {
    "id": "t1X0505BWtFv"
   },
   "outputs": [],
   "source": [
    "import torch\n",
    "import torch.nn as nn\n",
    "import numpy as np\n",
    "from abc import ABC, abstractmethod"
   ]
  },
  {
   "cell_type": "markdown",
   "metadata": {},
   "source": [
    "## Через циклы"
   ]
  },
  {
   "cell_type": "code",
   "execution_count": 2,
   "metadata": {
    "colab": {
     "base_uri": "https://localhost:8080/"
    },
    "id": "nfDXWW7ijwFX",
    "outputId": "e771dcd3-e32e-4800-a83a-78a0629269e5"
   },
   "outputs": [
    {
     "name": "stdout",
     "output_type": "stream",
     "text": [
      "True\n"
     ]
    }
   ],
   "source": [
    "def calc_out_shape(input_matrix_shape, out_channels, kernel_size, stride, padding):\n",
    "    batch_size, channels_count, input_height, input_width = input_matrix_shape\n",
    "    output_height = (input_height + 2 * padding - (kernel_size - 1) - 1) // stride + 1\n",
    "    output_width = (input_width + 2 * padding - (kernel_size - 1) - 1) // stride + 1\n",
    "\n",
    "    return batch_size, out_channels, output_height, output_width\n",
    "\n",
    "\n",
    "class ABCConv2d(ABC):\n",
    "    def __init__(self, in_channels, out_channels, kernel_size, stride):\n",
    "        self.in_channels = in_channels\n",
    "        self.out_channels = out_channels\n",
    "        self.kernel_size = kernel_size\n",
    "        self.stride = stride\n",
    "\n",
    "    def set_kernel(self, kernel):\n",
    "        self.kernel = kernel\n",
    "\n",
    "    @abstractmethod\n",
    "    def __call__(self, input_tensor):\n",
    "        pass\n",
    "\n",
    "\n",
    "class Conv2d(ABCConv2d):\n",
    "    def __init__(self, in_channels, out_channels, kernel_size, stride):\n",
    "        self.conv2d = torch.nn.Conv2d(in_channels, out_channels, kernel_size,\n",
    "                                      stride, padding=0, bias=False)\n",
    "\n",
    "    def set_kernel(self, kernel):\n",
    "        self.conv2d.weight.data = kernel\n",
    "\n",
    "    def __call__(self, input_tensor):\n",
    "        return self.conv2d(input_tensor)\n",
    "\n",
    "\n",
    "def create_and_call_conv2d_layer(conv2d_layer_class, stride, kernel, input_matrix):\n",
    "    out_channels = kernel.shape[0]\n",
    "    in_channels = kernel.shape[1]\n",
    "    kernel_size = kernel.shape[2]\n",
    "\n",
    "    layer = conv2d_layer_class(in_channels, out_channels, kernel_size, stride)\n",
    "    layer.set_kernel(kernel)\n",
    "\n",
    "    return layer(input_matrix)\n",
    "\n",
    "\n",
    "def test_conv2d_layer(conv2d_layer_class, batch_size=2,\n",
    "                      input_height=4, input_width=4, stride=2):\n",
    "    kernel = torch.tensor(\n",
    "                      [[[[0., 1, 0],\n",
    "                         [1,  2, 1],\n",
    "                         [0,  1, 0]],\n",
    "\n",
    "                        [[1, 2, 1],\n",
    "                         [0, 3, 3],\n",
    "                         [0, 1, 10]],\n",
    "\n",
    "                        [[10, 11, 12],\n",
    "                         [13, 14, 15],\n",
    "                         [16, 17, 18]]]])\n",
    "\n",
    "    in_channels = kernel.shape[1]\n",
    "\n",
    "    input_tensor = torch.arange(0, batch_size * in_channels *\n",
    "                                input_height * input_width,\n",
    "                                out=torch.FloatTensor()) \\\n",
    "        .reshape(batch_size, in_channels, input_height, input_width)\n",
    "\n",
    "    custom_conv2d_out = create_and_call_conv2d_layer(\n",
    "        conv2d_layer_class, stride, kernel, input_tensor)\n",
    "    conv2d_out = create_and_call_conv2d_layer(\n",
    "        Conv2d, stride, kernel, input_tensor)\n",
    "\n",
    "    return torch.allclose(custom_conv2d_out, conv2d_out) \\\n",
    "             and (custom_conv2d_out.shape == conv2d_out.shape)\n",
    "\n",
    "\n",
    "# Сверточный слой через циклы.\n",
    "class Conv2dLoop(ABCConv2d):\n",
    "    def __call__(self, input_tensor):\n",
    "      #инициализация выходного тензора\n",
    "        output_tensor = torch.zeros(calc_out_shape(input_tensor.shape, self.out_channels, self.kernel_size, self.stride, 0))\n",
    "        # цикл по картинкам\n",
    "        for image in torch.arange(output_tensor.shape[0]):\n",
    "            # цикл по входным каналам картинок\n",
    "            for channel in torch.arange(input_tensor.shape[1]):\n",
    "                # цикл по высоте выходного слоя\n",
    "                for height in torch.arange(output_tensor.shape[2]):\n",
    "                    # цикл по ширине выходного слоя\n",
    "                    for width in torch.arange(output_tensor.shape[3]):\n",
    "                        # делаем срез входного тензора\n",
    "                        pre_tensor = input_tensor[image, channel, height*self.stride: height*self.stride+self.kernel_size, \n",
    "                                          width*self.stride:width*self.stride+self.kernel_size]\n",
    "                        # цикл по выходным каналам\n",
    "                        for out_kernel in torch.arange(output_tensor.shape[1]):\n",
    "                            output_tensor[image, out_kernel, height, width] += (pre_tensor * self.kernel[out_kernel, channel]).sum()\n",
    "        return output_tensor\n",
    "\n",
    "# Корректность реализации определится в сравнении со стандартным слоем из pytorch.\n",
    "# Проверка происходит автоматически вызовом следующего кода\n",
    "# (раскомментируйте для самостоятельной проверки,\n",
    "#  в коде для сдачи задания должно быть закомментировано):\n",
    "print(test_conv2d_layer(Conv2dLoop))"
   ]
  },
  {
   "cell_type": "markdown",
   "metadata": {
    "id": "TUU4Cy1cEdcN"
   },
   "source": [
    "## Через матричное перемножение"
   ]
  },
  {
   "cell_type": "code",
   "execution_count": 3,
   "metadata": {
    "colab": {
     "base_uri": "https://localhost:8080/"
    },
    "id": "mXedGQCUEbq4",
    "outputId": "5b50be19-04b2-445a-eb3c-21f12d7ad7ab"
   },
   "outputs": [
    {
     "name": "stdout",
     "output_type": "stream",
     "text": [
      "True\n"
     ]
    }
   ],
   "source": [
    "class Conv2dMatrix(ABCConv2d):\n",
    "    # Функция преобразование кернела в матрицу нужного вида.\n",
    "    def one_filter(self, torch_input, filter, output_height, output_width):\n",
    "        image = torch_input[0, 0]\n",
    "        rows = []\n",
    "        # цикл по высоте выходного слоя\n",
    "        for height in torch.arange(output_height):\n",
    "            # цикл по ширине выходного слоя\n",
    "            for width in torch.arange(output_width):\n",
    "                # делаем маску нулей изображения \n",
    "                mask = torch.zeros_like(image)\n",
    "                # заполняем маску знаениями ядра\n",
    "                mask[height*self.stride: height*self.stride+self.kernel_size, \n",
    "                                  width*self.stride:width*self.stride+self.kernel_size] += filter\n",
    "                # вытягиваем тензор в одну строку\n",
    "                rows.append(mask.flatten().unsqueeze(0))\n",
    "        # состыковываем строки весов ядра        \n",
    "        w = torch.cat(rows, 0)\n",
    "        return w\n",
    "\n",
    "\n",
    "    def _unsqueeze_kernel(self, torch_input, output_height, output_width):\n",
    "        filters = []\n",
    "        # цикл по фильтрам ядра\n",
    "        for filter in self.kernel[0]:\n",
    "            w = self.one_filter(torch_input, filter, output_height, output_width)\n",
    "            filters.append(w)\n",
    "        # присоедиям горизонтально фильтры    \n",
    "        kernel_unsqueezed = torch.cat(filters, 1)\n",
    "        return kernel_unsqueezed\n",
    "\n",
    "    def __call__(self, torch_input):\n",
    "        batch_size, out_channels, output_height, output_width\\\n",
    "            = calc_out_shape(\n",
    "                input_matrix_shape=torch_input.shape,\n",
    "                out_channels=self.kernel.shape[0],\n",
    "                kernel_size=self.kernel.shape[2],\n",
    "                stride=self.stride,\n",
    "                padding=0)\n",
    "\n",
    "        kernel_unsqueezed = self._unsqueeze_kernel(torch_input, output_height, output_width)\n",
    "        # print(kernel_unsqueezed)\n",
    "        result = kernel_unsqueezed @ torch_input.view((batch_size, -1)).permute(1, 0)\n",
    "        return result.permute(1, 0).view((batch_size, self.out_channels,\n",
    "                                          output_height, output_width))\n",
    "\n",
    "# Проверка происходит автоматически вызовом следующего кода\n",
    "# (раскомментируйте для самостоятельной проверки,\n",
    "#  в коде для сдачи задания должно быть закомментировано):\n",
    "print(test_conv2d_layer(Conv2dMatrix))"
   ]
  },
  {
   "cell_type": "markdown",
   "metadata": {
    "id": "N9pTvkLAoeAR"
   },
   "source": [
    "## Вытягивание матрицы весов"
   ]
  },
  {
   "cell_type": "code",
   "execution_count": 4,
   "metadata": {
    "colab": {
     "base_uri": "https://localhost:8080/"
    },
    "id": "EsbXKke9ode5",
    "outputId": "16a583d6-3069-4d1f-e088-cc321bcaa0d3"
   },
   "outputs": [
    {
     "name": "stdout",
     "output_type": "stream",
     "text": [
      "True\n"
     ]
    }
   ],
   "source": [
    "class Conv2dMatrixV2(ABCConv2d):\n",
    "    # Функция преобразования кернела в нужный формат.\n",
    "    def _convert_kernel(self):\n",
    "        converted_kernel = self.kernel.reshape(self.kernel.shape[0], -1)\n",
    "        return converted_kernel\n",
    "\n",
    "    # Функция преобразования входа в нужный формат.\n",
    "    def _convert_input(self, torch_input, output_height, output_width):\n",
    "        res = []\n",
    "        # цикл по картинкам\n",
    "        for image in torch.arange(torch_input.shape[0]):\n",
    "            channel_flat = []\n",
    "            # цикл по входным каналам картинок\n",
    "            for channel in torch.arange(torch_input.shape[1]):\n",
    "                # цикл по высоте выходного слоя\n",
    "                for height in torch.arange(output_height):\n",
    "                    # цикл по ширине выходного слоя\n",
    "                    for width in torch.arange(output_width):\n",
    "                        # делаем срез входного тензора\n",
    "                        pre_tensor = torch_input[image, channel, height*self.stride: height*self.stride+self.kernel_size,\n",
    "                                         width*self.stride:width*self.stride+self.kernel_size]\n",
    "                \n",
    "                        channel_flat.append(pre_tensor.flatten().unsqueeze(0))\n",
    "            converted_image = torch.cat(channel_flat).flatten().unsqueeze(1)\n",
    "            res.append(converted_image)\n",
    "        converted_input = torch.cat(res, dim=1)\n",
    "        return converted_input\n",
    "\n",
    "    def __call__(self, torch_input):\n",
    "        batch_size, out_channels, output_height, output_width\\\n",
    "            = calc_out_shape(\n",
    "                input_matrix_shape=torch_input.shape,\n",
    "                out_channels=self.kernel.shape[0],\n",
    "                kernel_size=self.kernel.shape[2],\n",
    "                stride=self.stride,\n",
    "                padding=0)\n",
    "\n",
    "        converted_kernel = self._convert_kernel()\n",
    "        converted_input = self._convert_input(torch_input, output_height, output_width)\n",
    "\n",
    "        conv2d_out_alternative_matrix_v2 = converted_kernel @ converted_input\n",
    "        return conv2d_out_alternative_matrix_v2.transpose(1,0).view(torch_input.shape[0],\n",
    "                                                     self.out_channels, \n",
    "                                                     output_height,\n",
    "                                                     output_width)\n",
    "\n",
    "# Проверка происходит автоматически вызовом следующего кода\n",
    "# (раскомментируйте для самостоятельной проверки,\n",
    "#  в коде для сдачи задания должно быть закомментировано):\n",
    "print(test_conv2d_layer(Conv2dMatrixV2))"
   ]
  },
  {
   "cell_type": "markdown",
   "metadata": {},
   "source": [
    "# 7. Семинар. Слой нормализации"
   ]
  },
  {
   "cell_type": "code",
   "execution_count": 8,
   "metadata": {},
   "outputs": [
    {
     "name": "stdout",
     "output_type": "stream",
     "text": [
      "True\n"
     ]
    }
   ],
   "source": [
    "def custom_batch_norm1d(input_tensor, eps):\n",
    "    normed_tensor = (input_tensor - torch.mean(input_tensor, dim=0)) / \\\n",
    "    (torch.sqrt(torch.var(input_tensor, dim=0, unbiased=False) + eps))\n",
    "    return normed_tensor\n",
    "\n",
    "\n",
    "input_tensor = torch.Tensor([[0.0, 0, 1, 0, 2], [0, 1, 1, 0, 10]])\n",
    "batch_norm = nn.BatchNorm1d(input_tensor.shape[1], affine=False)\n",
    "\n",
    "# Проверка происходит автоматически вызовом следующего кода\n",
    "# (раскомментируйте для самостоятельной проверки,\n",
    "#  в коде для сдачи задания должно быть закомментировано):\n",
    "\n",
    "all_correct = True\n",
    "for eps_power in range(10):\n",
    "    eps = np.power(10., -eps_power)\n",
    "    batch_norm.eps = eps\n",
    "    batch_norm_out = batch_norm(input_tensor)\n",
    "    custom_batch_norm_out = custom_batch_norm1d(input_tensor, eps)\n",
    "\n",
    "    all_correct &= torch.allclose(batch_norm_out, custom_batch_norm_out)\n",
    "    all_correct &= batch_norm_out.shape == custom_batch_norm_out.shape\n",
    "print(all_correct)"
   ]
  },
  {
   "cell_type": "code",
   "execution_count": 10,
   "metadata": {},
   "outputs": [
    {
     "name": "stdout",
     "output_type": "stream",
     "text": [
      "True\n"
     ]
    }
   ],
   "source": [
    "input_size = 7\n",
    "batch_size = 5\n",
    "input_tensor = torch.randn(batch_size, input_size, dtype=torch.float)\n",
    "\n",
    "eps = 1e-3\n",
    "\n",
    "def custom_batch_norm1d(input_tensor, weight, bias, eps):\n",
    "    mean = torch.mean(input_tensor,dim=0)\n",
    "    var = torch.var(input_tensor, dim=0, unbiased=False)\n",
    "    std = torch.sqrt(var + eps)            \n",
    "    z = (input_tensor - mean) / (std)\n",
    "    normed_tensor = z * weight + bias\n",
    "    return normed_tensor\n",
    "\n",
    "# Проверка происходит автоматически вызовом следующего кода\n",
    "# (раскомментируйте для самостоятельной проверки,\n",
    "#  в коде для сдачи задания должно быть закомментировано):\n",
    "batch_norm = nn.BatchNorm1d(input_size, eps=eps)\n",
    "batch_norm.bias.data = torch.randn(input_size, dtype=torch.float)\n",
    "batch_norm.weight.data = torch.randn(input_size, dtype=torch.float)\n",
    "batch_norm_out = batch_norm(input_tensor)\n",
    "custom_batch_norm_out = custom_batch_norm1d(input_tensor, batch_norm.weight.data, batch_norm.bias.data, eps)\n",
    "print(torch.allclose(batch_norm_out, custom_batch_norm_out) \\\n",
    "      and batch_norm_out.shape == custom_batch_norm_out.shape)"
   ]
  },
  {
   "cell_type": "code",
   "execution_count": 12,
   "metadata": {},
   "outputs": [
    {
     "name": "stdout",
     "output_type": "stream",
     "text": [
      "True\n"
     ]
    }
   ],
   "source": [
    "input_size = 3\n",
    "batch_size = 5\n",
    "eps = 1e-1\n",
    "\n",
    "\n",
    "class CustomBatchNorm1d:\n",
    "    def __init__(self, weight, bias, eps, momentum):\n",
    "        self.weight = weight\n",
    "        self.bias = bias\n",
    "        self.eps = eps\n",
    "        self.momentum = momentum\n",
    "        self.running_mean = torch.zeros(input_size)\n",
    "        self.running_var = torch.ones(input_size)\n",
    "        self.training = True\n",
    "\n",
    "    def __call__(self, input_tensor):\n",
    "        if self.training is False:\n",
    "            mean = self.running_mean\n",
    "            var = self.running_var\n",
    "        else:\n",
    "            mean = torch.mean(input_tensor,dim=0)\n",
    "            var = torch.var(input_tensor, dim=0, unbiased=False)\n",
    "            self.running_mean = self.momentum * mean + (1-self.momentum) * self.running_mean\n",
    "            self.running_var = self.momentum * var * (batch_size/(batch_size-1)) + (1 - self.momentum) * \\\n",
    "            self.running_var \n",
    "\n",
    "        std = torch.sqrt(var  + self.eps)    \n",
    "        z = (input_tensor - mean) / (std)\n",
    "        normed_tensor = z * self.weight + self.bias  \n",
    "        return normed_tensor\n",
    "            \n",
    "\n",
    "    def eval(self):\n",
    "        # В этом методе реализуйте переключение в режим предикта.\n",
    "        self.training = False\n",
    "\n",
    "\n",
    "batch_norm = nn.BatchNorm1d(input_size, eps=eps)\n",
    "batch_norm.bias.data = torch.randn(input_size, dtype=torch.float)\n",
    "batch_norm.weight.data = torch.randn(input_size, dtype=torch.float)\n",
    "batch_norm.momentum = 0.5\n",
    "\n",
    "custom_batch_norm1d = CustomBatchNorm1d(batch_norm.weight.data,\n",
    "                                        batch_norm.bias.data, eps, batch_norm.momentum)\n",
    "\n",
    "# Проверка происходит автоматически вызовом следующего кода\n",
    "# (раскомментируйте для самостоятельной проверки,\n",
    "#  в коде для сдачи задания должно быть закомментировано):\n",
    "all_correct = True\n",
    "for i in range(8):\n",
    "    torch_input = torch.randn(batch_size, input_size, dtype=torch.float)\n",
    "    norm_output = batch_norm(torch_input)\n",
    "    custom_output = custom_batch_norm1d(torch_input)\n",
    "    all_correct &= torch.allclose(norm_output, custom_output, atol=1e-06) \\\n",
    "        and norm_output.shape == custom_output.shape\n",
    "\n",
    "batch_norm.eval()\n",
    "custom_batch_norm1d.eval()\n",
    "\n",
    "for i in range(8):\n",
    "    torch_input = torch.randn(batch_size, input_size, dtype=torch.float)\n",
    "    norm_output = batch_norm(torch_input)\n",
    "    custom_output = custom_batch_norm1d(torch_input)\n",
    "    all_correct &= torch.allclose(norm_output, custom_output, atol=1e-06) \\\n",
    "        and norm_output.shape == custom_output.shape\n",
    "print(all_correct)"
   ]
  },
  {
   "cell_type": "code",
   "execution_count": 13,
   "metadata": {},
   "outputs": [
    {
     "name": "stdout",
     "output_type": "stream",
     "text": [
      "True\n"
     ]
    }
   ],
   "source": [
    "eps = 1e-3\n",
    "\n",
    "input_channels = 3\n",
    "batch_size = 3\n",
    "height = 10\n",
    "width = 10\n",
    "\n",
    "batch_norm_2d = nn.BatchNorm2d(input_channels, affine=False, eps=eps)\n",
    "\n",
    "input_tensor = torch.randn(batch_size, input_channels, height, width, dtype=torch.float)\n",
    "\n",
    "\n",
    "def custom_batch_norm2d(input_tensor, eps):\n",
    "    output_tensor = torch.zeros_like(input_tensor)\n",
    "    for c in range(input_tensor.shape[1]):\n",
    "        mean_ = torch.mean(input_tensor[:,c,:,:])\n",
    "        vars_ = torch.var(input_tensor[:,c,:,:], unbiased=False)\n",
    "        std_ = torch.sqrt(vars_ + eps)\n",
    "        output_tensor[:,c,:,:] = (input_tensor[:,c,:,:] - mean_) / std_\n",
    "\n",
    "    normed_tensor = output_tensor * 1 + 0\n",
    "#     #Лучшее решение\n",
    "#     mean = input_tensor.mean(dim=(0,2,3), keepdim=True)\n",
    "#     var = (input_tensor-mean).pow(2).mean(dim=(0,2,3), keepdim=True)\n",
    "#     normed_tensor = (input_tensor-mean)/torch.sqrt(var+eps)\n",
    "\n",
    "    return normed_tensor\n",
    "\n",
    "\n",
    "# Проверка происходит автоматически вызовом следующего кода\n",
    "# (раскомментируйте для самостоятельной проверки,\n",
    "#  в коде для сдачи задания должно быть закомментировано):\n",
    "norm_output = batch_norm_2d(input_tensor)\n",
    "# print('НОРМ', norm_output)\n",
    "custom_output = custom_batch_norm2d(input_tensor, eps)\n",
    "# print('МОЙ', custom_output)\n",
    "print(torch.allclose(norm_output, custom_output) and norm_output.shape == custom_output.shape)"
   ]
  },
  {
   "cell_type": "code",
   "execution_count": 14,
   "metadata": {},
   "outputs": [
    {
     "name": "stdout",
     "output_type": "stream",
     "text": [
      "True\n"
     ]
    }
   ],
   "source": [
    "eps = 1e-10\n",
    "\n",
    "\n",
    "def custom_layer_norm(input_tensor, eps):\n",
    "    mean = input_tensor.mean(dim=tuple(range(1, len(input_tensor.shape))), keepdim=True)\n",
    "    var = (input_tensor-mean).pow(2).mean(dim=tuple(range(1, len(input_tensor.shape))), keepdim=True)\n",
    "    normed_tensor = (input_tensor-mean)/torch.sqrt(var+eps)\n",
    "    return normed_tensor\n",
    "\n",
    "\n",
    "# Проверка происходит автоматически вызовом следующего кода\n",
    "# (раскомментируйте для самостоятельной проверки,\n",
    "#  в коде для сдачи задания должно быть закомментировано):\n",
    "all_correct = True\n",
    "for dim_count in range(3, 9):\n",
    "    input_tensor = torch.randn(*list(range(3, dim_count + 2)), dtype=torch.float)\n",
    "    layer_norm = nn.LayerNorm(input_tensor.size()[1:], elementwise_affine=False, eps=eps)\n",
    "\n",
    "    norm_output = layer_norm(input_tensor)\n",
    "    custom_output = custom_layer_norm(input_tensor, eps)\n",
    "\n",
    "    all_correct &= torch.allclose(norm_output, custom_output, 1e-2)\n",
    "    all_correct &= norm_output.shape == custom_output.shape\n",
    "print(all_correct)"
   ]
  },
  {
   "cell_type": "code",
   "execution_count": 15,
   "metadata": {},
   "outputs": [
    {
     "name": "stdout",
     "output_type": "stream",
     "text": [
      "True\n"
     ]
    }
   ],
   "source": [
    "eps = 1e-3\n",
    "\n",
    "batch_size = 5\n",
    "input_channels = 2\n",
    "input_length = 30\n",
    "\n",
    "instance_norm = nn.InstanceNorm1d(input_channels, affine=False, eps=eps)\n",
    "\n",
    "input_tensor = torch.randn(batch_size, input_channels, input_length, dtype=torch.float)\n",
    "\n",
    "\n",
    "def custom_instance_norm1d(input_tensor, eps):\n",
    "    mean = input_tensor.mean(dim=(2), keepdim=True)\n",
    "    var = (input_tensor-mean).pow(2).mean(dim=(2), keepdim=True)\n",
    "    normed_tensor = (input_tensor-mean)/torch.sqrt(var+eps)\n",
    "    return normed_tensor\n",
    "\n",
    "\n",
    "# Проверка происходит автоматически вызовом следующего кода\n",
    "# (раскомментируйте для самостоятельной проверки,\n",
    "#  в коде для сдачи задания должно быть закомментировано):\n",
    "norm_output = instance_norm(input_tensor)\n",
    "custom_output = custom_instance_norm1d(input_tensor, eps)\n",
    "print(torch.allclose(norm_output, custom_output, atol=1e-06) and norm_output.shape == custom_output.shape)"
   ]
  },
  {
   "cell_type": "markdown",
   "metadata": {},
   "source": [
    "https://arxiv.org/pdf/1803.08494.pdf"
   ]
  },
  {
   "cell_type": "code",
   "execution_count": 16,
   "metadata": {},
   "outputs": [
    {
     "name": "stdout",
     "output_type": "stream",
     "text": [
      "True\n"
     ]
    }
   ],
   "source": [
    "channel_count = 6\n",
    "eps = 1e-3\n",
    "batch_size = 20\n",
    "input_size = 2\n",
    "\n",
    "input_tensor = torch.randn(batch_size, channel_count, input_size)\n",
    "\n",
    "\n",
    "def custom_group_norm(input_tensor, groups, eps):\n",
    "    N, C, L = input_tensor.shape\n",
    "    x = torch.reshape(input_tensor, [N, groups, C // groups, L])\n",
    "    mean = x.mean(dim=(2, 3), keepdim=True)\n",
    "    var = (x-mean).pow(2).mean(dim=(2, 3), keepdim=True)\n",
    "    normed_tensor = ((x-mean)/torch.sqrt(var+eps)).reshape(N, C, L)\n",
    "    return normed_tensor\n",
    "\n",
    "\n",
    "# Проверка происходит автоматически вызовом следующего кода\n",
    "# (раскомментируйте для самостоятельной проверки,\n",
    "#  в коде для сдачи задания должно быть закомментировано):\n",
    "all_correct = True\n",
    "for groups in [1, 2, 3, 6]:\n",
    "    group_norm = nn.GroupNorm(groups, channel_count, eps=eps, affine=False)\n",
    "    norm_output = group_norm(input_tensor)\n",
    "    custom_output = custom_group_norm(input_tensor, groups, eps)\n",
    "    all_correct &= torch.allclose(norm_output, custom_output, 1e-3)\n",
    "    all_correct &= norm_output.shape == custom_output.shape\n",
    "print(all_correct)"
   ]
  },
  {
   "cell_type": "markdown",
   "metadata": {},
   "source": [
    "# 8. Наименьшее затухание градиента"
   ]
  },
  {
   "cell_type": "code",
   "execution_count": 3,
   "metadata": {},
   "outputs": [
    {
     "name": "stdout",
     "output_type": "stream",
     "text": [
      "42\n",
      "ELU\n",
      "0.45622111071075777\n",
      "Hardtanh\n",
      "0.34066947680839804\n",
      "LeakyReLU\n",
      "0.4554302493817175\n",
      "LogSigmoid\n",
      "0.25474448641529307\n",
      "PReLU\n",
      "0.420650872474871\n",
      "ReLU\n",
      "0.38253963836003096\n",
      "ReLU6\n",
      "0.3814026044867933\n",
      "RReLU\n",
      "0.3783517877686245\n",
      "SELU\n",
      "0.6172542834468185\n",
      "CELU\n",
      "0.519119741236791\n",
      "Sigmoid\n",
      "0.007594654063323106\n",
      "Softplus\n",
      "0.25964870156425607\n",
      "Softshrink\n",
      "0.20243875443935394\n",
      "Softsign\n",
      "0.06452517481287941\n",
      "Tanh\n",
      "0.16103094387799502\n",
      "Tanhshrink\n",
      "0.02247800910559467\n",
      "Hardshrink\n",
      "0.6688168460130691\n"
     ]
    }
   ],
   "source": [
    "seed = int(input())\n",
    "np.random.seed(seed)\n",
    "torch.manual_seed(seed)\n",
    "\n",
    "NUMBER_OF_EXPERIMENTS = 200\n",
    "\n",
    "class SimpleNet(torch.nn.Module):\n",
    "    def __init__(self, activation):\n",
    "        super().__init__()\n",
    "\n",
    "        self.activation = activation\n",
    "        self.fc1 = torch.nn.Linear(1, 1, bias=False)  # one neuron without bias\n",
    "        self.fc1.weight.data.fill_(1.)  # init weight with 1\n",
    "        self.fc2 = torch.nn.Linear(1, 1, bias=False)\n",
    "        self.fc2.weight.data.fill_(1.)\n",
    "        self.fc3 = torch.nn.Linear(1, 1, bias=False)\n",
    "        self.fc3.weight.data.fill_(1.)\n",
    "\n",
    "    def forward(self, x):\n",
    "        x = self.activation(self.fc1(x))\n",
    "        x = self.activation(self.fc2(x))\n",
    "        x = self.activation(self.fc3(x))\n",
    "        return x\n",
    "\n",
    "    def get_fc1_grad_abs_value(self):\n",
    "        return torch.abs(self.fc1.weight.grad)\n",
    "\n",
    "def get_fc1_grad_abs_value(net, x):\n",
    "    output = net.forward(x)\n",
    "    output.backward()  # no loss function. Pretending that we want to minimize output\n",
    "                       # In our case output is scalar, so we can calculate backward\n",
    "    fc1_grad = net.get_fc1_grad_abs_value().item()\n",
    "    net.zero_grad()\n",
    "    return fc1_grad\n",
    "\n",
    "\n",
    "activation =  {'ELU': torch.nn.ELU(), 'Hardtanh': torch.nn.Hardtanh(),\n",
    "               'LeakyReLU': torch.nn.LeakyReLU(), 'LogSigmoid': torch.nn.LogSigmoid(),\n",
    "               'PReLU': torch.nn.PReLU(), 'ReLU': torch.nn.ReLU(), 'ReLU6': torch.nn.ReLU6(),\n",
    "               'RReLU': torch.nn.RReLU(), 'SELU': torch.nn.SELU(), 'CELU': torch.nn.CELU(),\n",
    "               'Sigmoid': torch.nn.Sigmoid(), 'Softplus': torch.nn.Softplus(),\n",
    "               'Softshrink': torch.nn.Softshrink(), 'Softsign': torch.nn.Softsign(),\n",
    "               'Tanh': torch.nn.Tanh(), 'Tanhshrink': torch.nn.Tanhshrink(),\n",
    "               'Hardshrink': torch.nn.Hardshrink()}\n",
    "\n",
    "for name, activation in activation.items():\n",
    "    print(name)\n",
    "    net = SimpleNet(activation=activation)\n",
    "\n",
    "    fc1_grads = []\n",
    "    for x in torch.randn((NUMBER_OF_EXPERIMENTS, 1)):\n",
    "        fc1_grads.append(get_fc1_grad_abs_value(net, x))\n",
    "\n",
    "    # Проверка осуществляется автоматически, вызовом функции:\n",
    "    print(np.mean(fc1_grads))\n",
    "    # (раскомментируйте, если решаете задачу локально)"
   ]
  },
  {
   "cell_type": "code",
   "execution_count": null,
   "metadata": {},
   "outputs": [],
   "source": []
  }
 ],
 "metadata": {
  "colab": {
   "name": "НС_torch.ipynb",
   "provenance": []
  },
  "kernelspec": {
   "display_name": "Python 3",
   "language": "python",
   "name": "python3"
  },
  "language_info": {
   "codemirror_mode": {
    "name": "ipython",
    "version": 3
   },
   "file_extension": ".py",
   "mimetype": "text/x-python",
   "name": "python",
   "nbconvert_exporter": "python",
   "pygments_lexer": "ipython3",
   "version": "3.7.10"
  }
 },
 "nbformat": 4,
 "nbformat_minor": 1
}
