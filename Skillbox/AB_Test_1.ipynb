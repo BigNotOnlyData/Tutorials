{
 "cells": [
  {
   "cell_type": "code",
   "execution_count": 25,
   "id": "de109406",
   "metadata": {},
   "outputs": [],
   "source": [
    "import numpy as np\n",
    "import pandas as pd\n",
    "import matplotlib.pyplot as plt\n",
    "import random"
   ]
  },
  {
   "cell_type": "markdown",
   "id": "f2a9f088",
   "metadata": {},
   "source": [
    "# Какой объем выборки взять?"
   ]
  },
  {
   "cell_type": "markdown",
   "id": "067bb44b",
   "metadata": {},
   "source": [
    "https://mindbox.ru/academy/ab-test-calculator/"
   ]
  },
  {
   "cell_type": "markdown",
   "id": "6208403c",
   "metadata": {},
   "source": [
    "$$n = \\frac{z^2*p*(1-p)}{error^2}$$\n",
    "\n",
    "**p** - ожидаемое значение доли (которое ожидаем еще до проведения тестирования)\n",
    "\n",
    "**error** - максимальная погрешность (ошибка), которую мы хотим допускать при получении\n",
    "результатов\n",
    "\n",
    "**z** - значение стандартной нормальной величины, которое соответствует выбранному\n",
    "уровню доверия"
   ]
  },
  {
   "cell_type": "code",
   "execution_count": 3,
   "id": "d489b2ec",
   "metadata": {},
   "outputs": [
    {
     "data": {
      "text/plain": [
       "250.69444444444443"
      ]
     },
     "execution_count": 3,
     "metadata": {},
     "output_type": "execute_result"
    }
   ],
   "source": [
    "def number_of_sample(z=0.95, p=0.5, error=0.03):\n",
    "    return z ** 2 * p * (1 - p) / error ** 2\n",
    "number_of_sample()"
   ]
  },
  {
   "cell_type": "markdown",
   "id": "7272a15a",
   "metadata": {},
   "source": [
    "# Доверительный интервал"
   ]
  },
  {
   "cell_type": "markdown",
   "id": "a479e865",
   "metadata": {},
   "source": [
    "https://rpsychologist.com/d3/ci/"
   ]
  },
  {
   "cell_type": "markdown",
   "id": "4edd3a30",
   "metadata": {},
   "source": [
    "## - Доверительный интервал для доли"
   ]
  },
  {
   "cell_type": "code",
   "execution_count": null,
   "id": "eafae40e",
   "metadata": {},
   "outputs": [],
   "source": [
    "import scipy.stats as st"
   ]
  },
  {
   "cell_type": "code",
   "execution_count": 7,
   "id": "f8949a54",
   "metadata": {},
   "outputs": [
    {
     "name": "stdout",
     "output_type": "stream",
     "text": [
      "9\n",
      "0.5555555555555556\n",
      "0.16563466499998442\n"
     ]
    }
   ],
   "source": [
    "users = np.array([1, 0, 0, 0, 1, 1, 1, 0, 1])\n",
    "n = users.size \n",
    "p = users.sum() / n\n",
    "se = np.sqrt(p * (1 - p) / n)\n",
    "print(n, p, se, sep='\\n')"
   ]
  },
  {
   "cell_type": "code",
   "execution_count": 8,
   "id": "17f7bc8f",
   "metadata": {},
   "outputs": [
    {
     "data": {
      "text/plain": [
       "(0.2309175775642291, 0.880193533546882)"
      ]
     },
     "execution_count": 8,
     "metadata": {},
     "output_type": "execute_result"
    }
   ],
   "source": [
    "st.norm.interval(0.95, loc=p, scale = se) "
   ]
  },
  {
   "cell_type": "markdown",
   "id": "ba32b38a",
   "metadata": {},
   "source": [
    "## - Доверительный интервал для среднего"
   ]
  },
  {
   "cell_type": "code",
   "execution_count": null,
   "id": "0f34fc5d",
   "metadata": {},
   "outputs": [],
   "source": [
    "import statsmodels.stats.api as stm"
   ]
  },
  {
   "cell_type": "code",
   "execution_count": 9,
   "id": "043daede",
   "metadata": {},
   "outputs": [
    {
     "data": {
      "text/plain": [
       "(32.834861697945676, 33.165138302054324)"
      ]
     },
     "execution_count": 9,
     "metadata": {},
     "output_type": "execute_result"
    }
   ],
   "source": [
    "ages = np.array([23, 24, 38, 34, 36, 37, 39])\n",
    "\n",
    "stm.DescrStatsW(ages).tconfint_mean(0.95) "
   ]
  },
  {
   "cell_type": "markdown",
   "id": "69eb78a7",
   "metadata": {},
   "source": [
    "# Проверка гипотез"
   ]
  },
  {
   "cell_type": "markdown",
   "id": "302f4d51",
   "metadata": {},
   "source": [
    "## - Бутстрэп"
   ]
  },
  {
   "cell_type": "code",
   "execution_count": 26,
   "id": "6951a551",
   "metadata": {},
   "outputs": [],
   "source": [
    "df = pd.read_csv(\"conversion.csv\") "
   ]
  },
  {
   "cell_type": "code",
   "execution_count": 27,
   "id": "77ecac61",
   "metadata": {},
   "outputs": [
    {
     "data": {
      "text/plain": [
       "0.6325"
      ]
     },
     "execution_count": 27,
     "metadata": {},
     "output_type": "execute_result"
    }
   ],
   "source": [
    "p_old = df['OLD'].mean() \n",
    "p_new = df['NEW'].mean()\n",
    "p_new - p_old"
   ]
  },
  {
   "cell_type": "code",
   "execution_count": 28,
   "id": "8a292054",
   "metadata": {},
   "outputs": [],
   "source": [
    "differences = np.zeros((1, 1500)) "
   ]
  },
  {
   "cell_type": "code",
   "execution_count": 29,
   "id": "b52551eb",
   "metadata": {},
   "outputs": [],
   "source": [
    "for i in range(0, 1500):\n",
    "    s1 = random.choices(df['OLD'], k = 800)\n",
    "    s2 = random.choices(df['NEW'], k = 800)\n",
    "    p1 = np.mean(s1)\n",
    "    p2 = np.mean(s2)\n",
    "    differences[0][i] = p2 - p1"
   ]
  },
  {
   "cell_type": "code",
   "execution_count": 30,
   "id": "d597a902",
   "metadata": {},
   "outputs": [
    {
     "data": {
      "text/plain": [
       "0"
      ]
     },
     "execution_count": 30,
     "metadata": {},
     "output_type": "execute_result"
    }
   ],
   "source": [
    "((differences - np.mean(differences)) >= 0.6325).sum() "
   ]
  },
  {
   "cell_type": "markdown",
   "id": "b70fda6d",
   "metadata": {},
   "source": [
    "0 < 0.05 отвергаем H0 гипотезу"
   ]
  },
  {
   "cell_type": "code",
   "execution_count": 82,
   "id": "01025169",
   "metadata": {},
   "outputs": [
    {
     "data": {
      "image/png": "[encoded data removed]",
      "text/plain": [
       "<Figure size 720x360 with 2 Axes>"
      ]
     },
     "metadata": {
      "needs_background": "light"
     },
     "output_type": "display_data"
    }
   ],
   "source": [
    "fig, axs = plt.subplots(1, 2, figsize=(10, 5))\n",
    "axs[0].hist(differences.squeeze(), bins=10)\n",
    "axs[1].hist(differences.squeeze() - np.mean(differences), bins=10);"
   ]
  },
  {
   "cell_type": "markdown",
   "id": "0e3e013e",
   "metadata": {},
   "source": [
    "## - Статистический тест (критерий)"
   ]
  },
  {
   "cell_type": "code",
   "execution_count": 40,
   "id": "c3680f23",
   "metadata": {},
   "outputs": [],
   "source": [
    "from statsmodels.stats.proportion import proportions_ztest"
   ]
  },
  {
   "cell_type": "code",
   "execution_count": 41,
   "id": "f713e0f0",
   "metadata": {},
   "outputs": [],
   "source": [
    "ns_old = df['OLD'].sum() \n",
    "ns_new = df['NEW'].sum()\n",
    "n = df.shape[0]"
   ]
  },
  {
   "cell_type": "code",
   "execution_count": 65,
   "id": "be79434a",
   "metadata": {},
   "outputs": [
    {
     "name": "stdout",
     "output_type": "stream",
     "text": [
      "pvalue= 2.5535397372869267e-146\n"
     ]
    }
   ],
   "source": [
    "count = np.array([ns_old, ns_new])\n",
    "nobs = np.array([n, n])\n",
    "zstat, pvalue = proportions_ztest(count, nobs, alternative='smaller') \n",
    "print('pvalue=', pvalue)"
   ]
  },
  {
   "cell_type": "markdown",
   "id": "9ef50cec",
   "metadata": {},
   "source": [
    "### Homework"
   ]
  },
  {
   "cell_type": "code",
   "execution_count": 52,
   "id": "4da59d23",
   "metadata": {},
   "outputs": [
    {
     "data": {
      "text/html": [
       "<div>\n",
       "<style scoped>\n",
       "    .dataframe tbody tr th:only-of-type {\n",
       "        vertical-align: middle;\n",
       "    }\n",
       "\n",
       "    .dataframe tbody tr th {\n",
       "        vertical-align: top;\n",
       "    }\n",
       "\n",
       "    .dataframe thead th {\n",
       "        text-align: right;\n",
       "    }\n",
       "</style>\n",
       "<table border=\"1\" class=\"dataframe\">\n",
       "  <thead>\n",
       "    <tr style=\"text-align: right;\">\n",
       "      <th></th>\n",
       "      <th>X</th>\n",
       "      <th>id</th>\n",
       "      <th>age</th>\n",
       "      <th>group</th>\n",
       "      <th>vote</th>\n",
       "    </tr>\n",
       "  </thead>\n",
       "  <tbody>\n",
       "    <tr>\n",
       "      <th>1</th>\n",
       "      <td>1</td>\n",
       "      <td>1</td>\n",
       "      <td>21</td>\n",
       "      <td>control</td>\n",
       "      <td>1</td>\n",
       "    </tr>\n",
       "    <tr>\n",
       "      <th>2</th>\n",
       "      <td>2</td>\n",
       "      <td>2</td>\n",
       "      <td>20</td>\n",
       "      <td>control</td>\n",
       "      <td>1</td>\n",
       "    </tr>\n",
       "    <tr>\n",
       "      <th>3</th>\n",
       "      <td>3</td>\n",
       "      <td>3</td>\n",
       "      <td>22</td>\n",
       "      <td>control</td>\n",
       "      <td>2</td>\n",
       "    </tr>\n",
       "    <tr>\n",
       "      <th>4</th>\n",
       "      <td>4</td>\n",
       "      <td>4</td>\n",
       "      <td>18</td>\n",
       "      <td>control</td>\n",
       "      <td>1</td>\n",
       "    </tr>\n",
       "    <tr>\n",
       "      <th>5</th>\n",
       "      <td>5</td>\n",
       "      <td>5</td>\n",
       "      <td>23</td>\n",
       "      <td>control</td>\n",
       "      <td>0</td>\n",
       "    </tr>\n",
       "  </tbody>\n",
       "</table>\n",
       "</div>"
      ],
      "text/plain": [
       "   X  id  age    group  vote\n",
       "1  1   1   21  control     1\n",
       "2  2   2   20  control     1\n",
       "3  3   3   22  control     2\n",
       "4  4   4   18  control     1\n",
       "5  5   5   23  control     0"
      ]
     },
     "execution_count": 52,
     "metadata": {},
     "output_type": "execute_result"
    }
   ],
   "source": [
    "df_parfume = pd.read_csv('parfume.csv', index_col=0)\n",
    "df_parfume.head()"
   ]
  },
  {
   "cell_type": "code",
   "execution_count": 58,
   "id": "3d678d59",
   "metadata": {},
   "outputs": [],
   "source": [
    "df_parfume = df_parfume[df_parfume.vote.isin([0, 1])]\n",
    "\n",
    "test = df_parfume[df_parfume.group == 'test']\n",
    "control = df_parfume[df_parfume.group == 'control']"
   ]
  },
  {
   "cell_type": "code",
   "execution_count": 84,
   "id": "15b8ad6d",
   "metadata": {},
   "outputs": [
    {
     "data": {
      "image/png": "[encoded data removed]",
      "text/plain": [
       "<Figure size 720x360 with 2 Axes>"
      ]
     },
     "metadata": {
      "needs_background": "light"
     },
     "output_type": "display_data"
    }
   ],
   "source": [
    "fig, axs = plt.subplots(1, 2, figsize=(10, 5))\n",
    "test.vote.hist(ax=axs[0])\n",
    "control.vote.hist(ax=axs[1]);"
   ]
  },
  {
   "cell_type": "code",
   "execution_count": 66,
   "id": "d953b8b5",
   "metadata": {},
   "outputs": [],
   "source": [
    "count_test = test.vote.sum()\n",
    "count_control = control.vote.sum()\n",
    "\n",
    "nobs_test = test.vote.size\n",
    "nobs_control = control.vote.size"
   ]
  },
  {
   "cell_type": "code",
   "execution_count": 68,
   "id": "4b5c3d62",
   "metadata": {},
   "outputs": [
    {
     "name": "stdout",
     "output_type": "stream",
     "text": [
      "pvalue= 0.00017463865746718515\n",
      "Отвергаем H0\n"
     ]
    }
   ],
   "source": [
    "count = np.array([count_test, count_control])\n",
    "nobs = np.array([nobs_test, nobs_control])\n",
    "zstat, pvalue = proportions_ztest(count, nobs, alternative='larger') \n",
    "print('pvalue=', pvalue)\n",
    "if pvalue < 0.05:\n",
    "    print('Отвергаем H0')\n",
    "else:\n",
    "    print('Оставляем H0')"
   ]
  }
 ],
 "metadata": {
  "kernelspec": {
   "display_name": "Python 3",
   "language": "python",
   "name": "python3"
  },
  "language_info": {
   "codemirror_mode": {
    "name": "ipython",
    "version": 3
   },
   "file_extension": ".py",
   "mimetype": "text/x-python",
   "name": "python",
   "nbconvert_exporter": "python",
   "pygments_lexer": "ipython3",
   "version": "3.7.10"
  }
 },
 "nbformat": 4,
 "nbformat_minor": 5
}
