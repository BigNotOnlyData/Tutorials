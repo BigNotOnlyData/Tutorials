{
 "cells": [
  {
   "cell_type": "markdown",
   "metadata": {},
   "source": [
    "https://mindbox.ru/academy/ab-test-calculator/\n",
    "\n",
    "Определили что тест будет идти 20 дней. В каждой группе по 100 тыс наблюдений"
   ]
  },
  {
   "cell_type": "code",
   "execution_count": 1,
   "metadata": {
    "id": "YeFS4EGbbLXI"
   },
   "outputs": [],
   "source": [
    "import numpy as np\n",
    "import pandas as pd\n",
    "import math\n",
    "import matplotlib.pyplot as plt\n",
    "\n",
    "import scipy\n",
    "from statsmodels.stats.weightstats import *"
   ]
  },
  {
   "cell_type": "code",
   "execution_count": null,
   "metadata": {
    "id": "HEm3mtaPbLXc"
   },
   "outputs": [],
   "source": [
    "#a_web = a_web.drop(columns=['Unnamed: 0','uid','kk_id_x','ref','bizmod_x','cdt','kk_id_y','bizmod_y','view','response'])"
   ]
  },
  {
   "cell_type": "code",
   "execution_count": null,
   "metadata": {
    "id": "napdtlgNbLXp"
   },
   "outputs": [],
   "source": [
    "#a_web.to_excel(r'C:/Users/Profi/Downloads/example.xlsx')"
   ]
  },
  {
   "cell_type": "code",
   "execution_count": 14,
   "metadata": {
    "id": "a0Pr5ulxbLX2"
   },
   "outputs": [
    {
     "data": {
      "text/html": [
       "<div>\n",
       "<style scoped>\n",
       "    .dataframe tbody tr th:only-of-type {\n",
       "        vertical-align: middle;\n",
       "    }\n",
       "\n",
       "    .dataframe tbody tr th {\n",
       "        vertical-align: top;\n",
       "    }\n",
       "\n",
       "    .dataframe thead th {\n",
       "        text-align: right;\n",
       "    }\n",
       "</style>\n",
       "<table border=\"1\" class=\"dataframe\">\n",
       "  <thead>\n",
       "    <tr style=\"text-align: right;\">\n",
       "      <th></th>\n",
       "      <th>case_id</th>\n",
       "      <th>spec_id</th>\n",
       "      <th>order_id</th>\n",
       "      <th>first_dt</th>\n",
       "      <th>e_dt</th>\n",
       "      <th>d_view</th>\n",
       "    </tr>\n",
       "  </thead>\n",
       "  <tbody>\n",
       "    <tr>\n",
       "      <th>0</th>\n",
       "      <td>B</td>\n",
       "      <td>ffa2dd59dc131d92994c2f267c19251dbb836ecbb11eec...</td>\n",
       "      <td>NaN</td>\n",
       "      <td>NaT</td>\n",
       "      <td>NaT</td>\n",
       "      <td>NaT</td>\n",
       "    </tr>\n",
       "    <tr>\n",
       "      <th>1</th>\n",
       "      <td>B</td>\n",
       "      <td>e800fca7e8c2e643c56572d66933bfeaf2cc66a914328d...</td>\n",
       "      <td>NaN</td>\n",
       "      <td>NaT</td>\n",
       "      <td>NaT</td>\n",
       "      <td>NaT</td>\n",
       "    </tr>\n",
       "    <tr>\n",
       "      <th>2</th>\n",
       "      <td>B</td>\n",
       "      <td>c28ed784882c00fff28a0b0fdd434127bb5de905ca2318...</td>\n",
       "      <td>NaN</td>\n",
       "      <td>NaT</td>\n",
       "      <td>NaT</td>\n",
       "      <td>NaT</td>\n",
       "    </tr>\n",
       "    <tr>\n",
       "      <th>3</th>\n",
       "      <td>B</td>\n",
       "      <td>f651bd1ee3f165513b5096aa0e858529da005ae656563e...</td>\n",
       "      <td>NaN</td>\n",
       "      <td>NaT</td>\n",
       "      <td>NaT</td>\n",
       "      <td>NaT</td>\n",
       "    </tr>\n",
       "    <tr>\n",
       "      <th>4</th>\n",
       "      <td>B</td>\n",
       "      <td>002fa07fb4f6c54fcc8934855e7bd5fe2167f8526c23f6...</td>\n",
       "      <td>NaN</td>\n",
       "      <td>NaT</td>\n",
       "      <td>NaT</td>\n",
       "      <td>NaT</td>\n",
       "    </tr>\n",
       "    <tr>\n",
       "      <th>5</th>\n",
       "      <td>B</td>\n",
       "      <td>5ed3bc204623d795cfef6f58c6d5ff72fe2167d104930a...</td>\n",
       "      <td>NaN</td>\n",
       "      <td>NaT</td>\n",
       "      <td>NaT</td>\n",
       "      <td>NaT</td>\n",
       "    </tr>\n",
       "    <tr>\n",
       "      <th>6</th>\n",
       "      <td>B</td>\n",
       "      <td>23d28918997b4f75e3397c3b3d9b989e9b81d02163b625...</td>\n",
       "      <td>18112901.0</td>\n",
       "      <td>2019-03-25 00:05:24</td>\n",
       "      <td>NaT</td>\n",
       "      <td>2019-03-25</td>\n",
       "    </tr>\n",
       "    <tr>\n",
       "      <th>7</th>\n",
       "      <td>B</td>\n",
       "      <td>d4cbb1c1394ff825932392a1a46a5865547d598655f6e8...</td>\n",
       "      <td>NaN</td>\n",
       "      <td>NaT</td>\n",
       "      <td>NaT</td>\n",
       "      <td>NaT</td>\n",
       "    </tr>\n",
       "    <tr>\n",
       "      <th>8</th>\n",
       "      <td>B</td>\n",
       "      <td>6c63ea5727d6d834f303c7bfbf3845d70a3d9f68e1c917...</td>\n",
       "      <td>NaN</td>\n",
       "      <td>NaT</td>\n",
       "      <td>NaT</td>\n",
       "      <td>NaT</td>\n",
       "    </tr>\n",
       "    <tr>\n",
       "      <th>9</th>\n",
       "      <td>B</td>\n",
       "      <td>bc911f5b8448ca396fe967c35147f8083efc065d4cd64e...</td>\n",
       "      <td>18190878.0</td>\n",
       "      <td>2019-03-29 08:43:35</td>\n",
       "      <td>NaT</td>\n",
       "      <td>2019-03-29</td>\n",
       "    </tr>\n",
       "    <tr>\n",
       "      <th>10</th>\n",
       "      <td>B</td>\n",
       "      <td>bc911f5b8448ca396fe967c35147f8083efc065d4cd64e...</td>\n",
       "      <td>18190878.0</td>\n",
       "      <td>2019-03-29 08:43:35</td>\n",
       "      <td>NaT</td>\n",
       "      <td>2019-03-29</td>\n",
       "    </tr>\n",
       "    <tr>\n",
       "      <th>11</th>\n",
       "      <td>B</td>\n",
       "      <td>bc911f5b8448ca396fe967c35147f8083efc065d4cd64e...</td>\n",
       "      <td>18216799.0</td>\n",
       "      <td>2019-03-29 16:32:47</td>\n",
       "      <td>NaT</td>\n",
       "      <td>2019-03-29</td>\n",
       "    </tr>\n",
       "    <tr>\n",
       "      <th>12</th>\n",
       "      <td>B</td>\n",
       "      <td>bc911f5b8448ca396fe967c35147f8083efc065d4cd64e...</td>\n",
       "      <td>18238209.0</td>\n",
       "      <td>2019-03-30 17:57:32</td>\n",
       "      <td>NaT</td>\n",
       "      <td>2019-03-30</td>\n",
       "    </tr>\n",
       "    <tr>\n",
       "      <th>13</th>\n",
       "      <td>B</td>\n",
       "      <td>bc911f5b8448ca396fe967c35147f8083efc065d4cd64e...</td>\n",
       "      <td>18238209.0</td>\n",
       "      <td>2019-03-30 17:57:32</td>\n",
       "      <td>NaT</td>\n",
       "      <td>2019-03-30</td>\n",
       "    </tr>\n",
       "    <tr>\n",
       "      <th>14</th>\n",
       "      <td>B</td>\n",
       "      <td>ac5c630c1e8d46111dd3198a0517617e16bcaf470343ec...</td>\n",
       "      <td>NaN</td>\n",
       "      <td>NaT</td>\n",
       "      <td>NaT</td>\n",
       "      <td>NaT</td>\n",
       "    </tr>\n",
       "    <tr>\n",
       "      <th>15</th>\n",
       "      <td>B</td>\n",
       "      <td>6708ce37ac55fbcf6bcdad65bef45a59ea5c314fe19e5e...</td>\n",
       "      <td>NaN</td>\n",
       "      <td>NaT</td>\n",
       "      <td>NaT</td>\n",
       "      <td>NaT</td>\n",
       "    </tr>\n",
       "    <tr>\n",
       "      <th>16</th>\n",
       "      <td>B</td>\n",
       "      <td>1cc608fb3431e9ad413c5c8b9f744cc745227ab25ca1f8...</td>\n",
       "      <td>NaN</td>\n",
       "      <td>NaT</td>\n",
       "      <td>NaT</td>\n",
       "      <td>NaT</td>\n",
       "    </tr>\n",
       "    <tr>\n",
       "      <th>17</th>\n",
       "      <td>B</td>\n",
       "      <td>372b434d2ec1165f9524d1127256ba14ffa00ff0a9146f...</td>\n",
       "      <td>NaN</td>\n",
       "      <td>NaT</td>\n",
       "      <td>NaT</td>\n",
       "      <td>NaT</td>\n",
       "    </tr>\n",
       "    <tr>\n",
       "      <th>18</th>\n",
       "      <td>B</td>\n",
       "      <td>de935d1c76bc8b3f1892af0af70296201c021a5e96f86a...</td>\n",
       "      <td>18381076.0</td>\n",
       "      <td>2019-04-07 09:21:28</td>\n",
       "      <td>NaT</td>\n",
       "      <td>2019-04-07</td>\n",
       "    </tr>\n",
       "    <tr>\n",
       "      <th>19</th>\n",
       "      <td>B</td>\n",
       "      <td>de935d1c76bc8b3f1892af0af70296201c021a5e96f86a...</td>\n",
       "      <td>18559974.0</td>\n",
       "      <td>2019-04-15 22:01:27</td>\n",
       "      <td>NaT</td>\n",
       "      <td>2019-04-15</td>\n",
       "    </tr>\n",
       "    <tr>\n",
       "      <th>20</th>\n",
       "      <td>B</td>\n",
       "      <td>32c2ce1741e61564be4731788473037c441103124ff119...</td>\n",
       "      <td>18267090.0</td>\n",
       "      <td>2019-04-03 20:00:10</td>\n",
       "      <td>NaT</td>\n",
       "      <td>2019-04-03</td>\n",
       "    </tr>\n",
       "    <tr>\n",
       "      <th>21</th>\n",
       "      <td>B</td>\n",
       "      <td>32c2ce1741e61564be4731788473037c441103124ff119...</td>\n",
       "      <td>18315868.0</td>\n",
       "      <td>2019-04-03 19:33:19</td>\n",
       "      <td>NaT</td>\n",
       "      <td>2019-04-03</td>\n",
       "    </tr>\n",
       "    <tr>\n",
       "      <th>22</th>\n",
       "      <td>B</td>\n",
       "      <td>32c2ce1741e61564be4731788473037c441103124ff119...</td>\n",
       "      <td>18315868.0</td>\n",
       "      <td>2019-04-03 19:33:19</td>\n",
       "      <td>NaT</td>\n",
       "      <td>2019-04-03</td>\n",
       "    </tr>\n",
       "    <tr>\n",
       "      <th>23</th>\n",
       "      <td>B</td>\n",
       "      <td>32c2ce1741e61564be4731788473037c441103124ff119...</td>\n",
       "      <td>18568122.0</td>\n",
       "      <td>2019-04-16 11:53:10</td>\n",
       "      <td>NaT</td>\n",
       "      <td>2019-04-16</td>\n",
       "    </tr>\n",
       "    <tr>\n",
       "      <th>24</th>\n",
       "      <td>B</td>\n",
       "      <td>6bf19b0d313784a890715048b478d7eb62bb0b4fae5ea3...</td>\n",
       "      <td>NaN</td>\n",
       "      <td>NaT</td>\n",
       "      <td>NaT</td>\n",
       "      <td>NaT</td>\n",
       "    </tr>\n",
       "    <tr>\n",
       "      <th>25</th>\n",
       "      <td>B</td>\n",
       "      <td>e9ffff0d7c0bfe55ce15ea321793929defa13ff4cc33ea...</td>\n",
       "      <td>18510735.0</td>\n",
       "      <td>2019-04-13 23:30:23</td>\n",
       "      <td>NaT</td>\n",
       "      <td>2019-04-13</td>\n",
       "    </tr>\n",
       "    <tr>\n",
       "      <th>26</th>\n",
       "      <td>B</td>\n",
       "      <td>e9ffff0d7c0bfe55ce15ea321793929defa13ff4cc33ea...</td>\n",
       "      <td>18590015.0</td>\n",
       "      <td>2019-04-17 17:42:35</td>\n",
       "      <td>2019-04-17 17:42:50</td>\n",
       "      <td>2019-04-17</td>\n",
       "    </tr>\n",
       "    <tr>\n",
       "      <th>27</th>\n",
       "      <td>B</td>\n",
       "      <td>8ebedf7e1feeba9c0e2e65a54bdcd92a8109fc718e7db8...</td>\n",
       "      <td>NaN</td>\n",
       "      <td>NaT</td>\n",
       "      <td>NaT</td>\n",
       "      <td>NaT</td>\n",
       "    </tr>\n",
       "    <tr>\n",
       "      <th>28</th>\n",
       "      <td>B</td>\n",
       "      <td>98ba290427e12376750c8acd8c5678f940f3549cd91a82...</td>\n",
       "      <td>NaN</td>\n",
       "      <td>NaT</td>\n",
       "      <td>NaT</td>\n",
       "      <td>NaT</td>\n",
       "    </tr>\n",
       "    <tr>\n",
       "      <th>29</th>\n",
       "      <td>B</td>\n",
       "      <td>c7ceb2b086304662b17f1db25a09503bbe298f771e14f0...</td>\n",
       "      <td>18400865.0</td>\n",
       "      <td>2019-04-08 10:13:01</td>\n",
       "      <td>NaT</td>\n",
       "      <td>2019-04-08</td>\n",
       "    </tr>\n",
       "  </tbody>\n",
       "</table>\n",
       "</div>"
      ],
      "text/plain": [
       "   case_id                                            spec_id    order_id  \\\n",
       "0        B  ffa2dd59dc131d92994c2f267c19251dbb836ecbb11eec...         NaN   \n",
       "1        B  e800fca7e8c2e643c56572d66933bfeaf2cc66a914328d...         NaN   \n",
       "2        B  c28ed784882c00fff28a0b0fdd434127bb5de905ca2318...         NaN   \n",
       "3        B  f651bd1ee3f165513b5096aa0e858529da005ae656563e...         NaN   \n",
       "4        B  002fa07fb4f6c54fcc8934855e7bd5fe2167f8526c23f6...         NaN   \n",
       "5        B  5ed3bc204623d795cfef6f58c6d5ff72fe2167d104930a...         NaN   \n",
       "6        B  23d28918997b4f75e3397c3b3d9b989e9b81d02163b625...  18112901.0   \n",
       "7        B  d4cbb1c1394ff825932392a1a46a5865547d598655f6e8...         NaN   \n",
       "8        B  6c63ea5727d6d834f303c7bfbf3845d70a3d9f68e1c917...         NaN   \n",
       "9        B  bc911f5b8448ca396fe967c35147f8083efc065d4cd64e...  18190878.0   \n",
       "10       B  bc911f5b8448ca396fe967c35147f8083efc065d4cd64e...  18190878.0   \n",
       "11       B  bc911f5b8448ca396fe967c35147f8083efc065d4cd64e...  18216799.0   \n",
       "12       B  bc911f5b8448ca396fe967c35147f8083efc065d4cd64e...  18238209.0   \n",
       "13       B  bc911f5b8448ca396fe967c35147f8083efc065d4cd64e...  18238209.0   \n",
       "14       B  ac5c630c1e8d46111dd3198a0517617e16bcaf470343ec...         NaN   \n",
       "15       B  6708ce37ac55fbcf6bcdad65bef45a59ea5c314fe19e5e...         NaN   \n",
       "16       B  1cc608fb3431e9ad413c5c8b9f744cc745227ab25ca1f8...         NaN   \n",
       "17       B  372b434d2ec1165f9524d1127256ba14ffa00ff0a9146f...         NaN   \n",
       "18       B  de935d1c76bc8b3f1892af0af70296201c021a5e96f86a...  18381076.0   \n",
       "19       B  de935d1c76bc8b3f1892af0af70296201c021a5e96f86a...  18559974.0   \n",
       "20       B  32c2ce1741e61564be4731788473037c441103124ff119...  18267090.0   \n",
       "21       B  32c2ce1741e61564be4731788473037c441103124ff119...  18315868.0   \n",
       "22       B  32c2ce1741e61564be4731788473037c441103124ff119...  18315868.0   \n",
       "23       B  32c2ce1741e61564be4731788473037c441103124ff119...  18568122.0   \n",
       "24       B  6bf19b0d313784a890715048b478d7eb62bb0b4fae5ea3...         NaN   \n",
       "25       B  e9ffff0d7c0bfe55ce15ea321793929defa13ff4cc33ea...  18510735.0   \n",
       "26       B  e9ffff0d7c0bfe55ce15ea321793929defa13ff4cc33ea...  18590015.0   \n",
       "27       B  8ebedf7e1feeba9c0e2e65a54bdcd92a8109fc718e7db8...         NaN   \n",
       "28       B  98ba290427e12376750c8acd8c5678f940f3549cd91a82...         NaN   \n",
       "29       B  c7ceb2b086304662b17f1db25a09503bbe298f771e14f0...  18400865.0   \n",
       "\n",
       "              first_dt                e_dt     d_view  \n",
       "0                  NaT                 NaT        NaT  \n",
       "1                  NaT                 NaT        NaT  \n",
       "2                  NaT                 NaT        NaT  \n",
       "3                  NaT                 NaT        NaT  \n",
       "4                  NaT                 NaT        NaT  \n",
       "5                  NaT                 NaT        NaT  \n",
       "6  2019-03-25 00:05:24                 NaT 2019-03-25  \n",
       "7                  NaT                 NaT        NaT  \n",
       "8                  NaT                 NaT        NaT  \n",
       "9  2019-03-29 08:43:35                 NaT 2019-03-29  \n",
       "10 2019-03-29 08:43:35                 NaT 2019-03-29  \n",
       "11 2019-03-29 16:32:47                 NaT 2019-03-29  \n",
       "12 2019-03-30 17:57:32                 NaT 2019-03-30  \n",
       "13 2019-03-30 17:57:32                 NaT 2019-03-30  \n",
       "14                 NaT                 NaT        NaT  \n",
       "15                 NaT                 NaT        NaT  \n",
       "16                 NaT                 NaT        NaT  \n",
       "17                 NaT                 NaT        NaT  \n",
       "18 2019-04-07 09:21:28                 NaT 2019-04-07  \n",
       "19 2019-04-15 22:01:27                 NaT 2019-04-15  \n",
       "20 2019-04-03 20:00:10                 NaT 2019-04-03  \n",
       "21 2019-04-03 19:33:19                 NaT 2019-04-03  \n",
       "22 2019-04-03 19:33:19                 NaT 2019-04-03  \n",
       "23 2019-04-16 11:53:10                 NaT 2019-04-16  \n",
       "24                 NaT                 NaT        NaT  \n",
       "25 2019-04-13 23:30:23                 NaT 2019-04-13  \n",
       "26 2019-04-17 17:42:35 2019-04-17 17:42:50 2019-04-17  \n",
       "27                 NaT                 NaT        NaT  \n",
       "28                 NaT                 NaT        NaT  \n",
       "29 2019-04-08 10:13:01                 NaT 2019-04-08  "
      ]
     },
     "execution_count": 14,
     "metadata": {},
     "output_type": "execute_result"
    }
   ],
   "source": [
    "a_web = pd.read_excel('example.xlsx')\n",
    "a_web.head(30)"
   ]
  },
  {
   "cell_type": "code",
   "execution_count": 3,
   "metadata": {
    "id": "aNdEnMZWbLX7",
    "outputId": "400e9b38-3530-4360-b818-8a88a4e25cc5"
   },
   "outputs": [
    {
     "data": {
      "text/plain": [
       "case_id             object\n",
       "spec_id             object\n",
       "order_id           float64\n",
       "first_dt    datetime64[ns]\n",
       "e_dt        datetime64[ns]\n",
       "d_view      datetime64[ns]\n",
       "dtype: object"
      ]
     },
     "execution_count": 3,
     "metadata": {},
     "output_type": "execute_result"
    }
   ],
   "source": [
    "a_web.dtypes"
   ]
  },
  {
   "cell_type": "code",
   "execution_count": 4,
   "metadata": {
    "id": "E57yjxRQbLYI",
    "outputId": "0137beaa-c2ce-4e53-9635-557420308286"
   },
   "outputs": [
    {
     "data": {
      "text/plain": [
       "(302364, 6)"
      ]
     },
     "execution_count": 4,
     "metadata": {},
     "output_type": "execute_result"
    }
   ],
   "source": [
    "a_web.shape"
   ]
  },
  {
   "cell_type": "code",
   "execution_count": 5,
   "metadata": {},
   "outputs": [
    {
     "name": "stdout",
     "output_type": "stream",
     "text": [
      "<class 'pandas.core.frame.DataFrame'>\n",
      "RangeIndex: 302364 entries, 0 to 302363\n",
      "Data columns (total 6 columns):\n",
      " #   Column    Non-Null Count   Dtype         \n",
      "---  ------    --------------   -----         \n",
      " 0   case_id   302364 non-null  object        \n",
      " 1   spec_id   302364 non-null  object        \n",
      " 2   order_id  229900 non-null  float64       \n",
      " 3   first_dt  229900 non-null  datetime64[ns]\n",
      " 4   e_dt      43536 non-null   datetime64[ns]\n",
      " 5   d_view    229900 non-null  datetime64[ns]\n",
      "dtypes: datetime64[ns](3), float64(1), object(2)\n",
      "memory usage: 13.8+ MB\n"
     ]
    }
   ],
   "source": [
    "a_web.info()"
   ]
  },
  {
   "cell_type": "code",
   "execution_count": 18,
   "metadata": {
    "id": "yE1nMERibLYM"
   },
   "outputs": [],
   "source": [
    "# для корректной работы метода isnan()\n",
    "a_web ['e_dt'] = pd.to_datetime(a_web ['e_dt']).dt.day"
   ]
  },
  {
   "cell_type": "markdown",
   "metadata": {
    "id": "tbsybnoWbLYV"
   },
   "source": [
    "# Конверсия и p-value"
   ]
  },
  {
   "cell_type": "markdown",
   "metadata": {},
   "source": [
    "Метрика - доля заказов, на которое специалист откликнулся, относительно всех просмотренных заказов, или конверсия из просмотра в отклик."
   ]
  },
  {
   "cell_type": "code",
   "execution_count": 19,
   "metadata": {
    "id": "Yod5bIshbLYW"
   },
   "outputs": [],
   "source": [
    "# для удобства подсчетов\n",
    "# Просмотр\n",
    "a_web['view'] = a_web.apply(lambda x: str(x.spec_id) + str(x.order_id)  if ~np.isnan(x.order_id) else np.nan, axis=1)\n",
    "# Ответ\n",
    "a_web['response'] = a_web.apply(lambda x: str(x.spec_id) + str(x.order_id)  if ~np.isnan(x.e_dt) else np.nan, axis=1)"
   ]
  },
  {
   "cell_type": "code",
   "execution_count": 63,
   "metadata": {},
   "outputs": [
    {
     "data": {
      "text/html": [
       "<div>\n",
       "<style scoped>\n",
       "    .dataframe tbody tr th:only-of-type {\n",
       "        vertical-align: middle;\n",
       "    }\n",
       "\n",
       "    .dataframe tbody tr th {\n",
       "        vertical-align: top;\n",
       "    }\n",
       "\n",
       "    .dataframe thead th {\n",
       "        text-align: right;\n",
       "    }\n",
       "</style>\n",
       "<table border=\"1\" class=\"dataframe\">\n",
       "  <thead>\n",
       "    <tr style=\"text-align: right;\">\n",
       "      <th></th>\n",
       "      <th>case_id</th>\n",
       "      <th>spec_id</th>\n",
       "      <th>order_id</th>\n",
       "      <th>first_dt</th>\n",
       "      <th>e_dt</th>\n",
       "      <th>d_view</th>\n",
       "      <th>view</th>\n",
       "      <th>response</th>\n",
       "    </tr>\n",
       "  </thead>\n",
       "  <tbody>\n",
       "    <tr>\n",
       "      <th>6</th>\n",
       "      <td>B</td>\n",
       "      <td>23d28918997b4f75e3397c3b3d9b989e9b81d02163b625...</td>\n",
       "      <td>18112901.0</td>\n",
       "      <td>2019-03-25 00:05:24</td>\n",
       "      <td>NaN</td>\n",
       "      <td>2019-03-25</td>\n",
       "      <td>23d28918997b4f75e3397c3b3d9b989e9b81d02163b625...</td>\n",
       "      <td>NaN</td>\n",
       "    </tr>\n",
       "    <tr>\n",
       "      <th>9</th>\n",
       "      <td>B</td>\n",
       "      <td>bc911f5b8448ca396fe967c35147f8083efc065d4cd64e...</td>\n",
       "      <td>18190878.0</td>\n",
       "      <td>2019-03-29 08:43:35</td>\n",
       "      <td>NaN</td>\n",
       "      <td>2019-03-29</td>\n",
       "      <td>bc911f5b8448ca396fe967c35147f8083efc065d4cd64e...</td>\n",
       "      <td>NaN</td>\n",
       "    </tr>\n",
       "    <tr>\n",
       "      <th>10</th>\n",
       "      <td>B</td>\n",
       "      <td>bc911f5b8448ca396fe967c35147f8083efc065d4cd64e...</td>\n",
       "      <td>18190878.0</td>\n",
       "      <td>2019-03-29 08:43:35</td>\n",
       "      <td>NaN</td>\n",
       "      <td>2019-03-29</td>\n",
       "      <td>bc911f5b8448ca396fe967c35147f8083efc065d4cd64e...</td>\n",
       "      <td>NaN</td>\n",
       "    </tr>\n",
       "    <tr>\n",
       "      <th>11</th>\n",
       "      <td>B</td>\n",
       "      <td>bc911f5b8448ca396fe967c35147f8083efc065d4cd64e...</td>\n",
       "      <td>18216799.0</td>\n",
       "      <td>2019-03-29 16:32:47</td>\n",
       "      <td>NaN</td>\n",
       "      <td>2019-03-29</td>\n",
       "      <td>bc911f5b8448ca396fe967c35147f8083efc065d4cd64e...</td>\n",
       "      <td>NaN</td>\n",
       "    </tr>\n",
       "    <tr>\n",
       "      <th>12</th>\n",
       "      <td>B</td>\n",
       "      <td>bc911f5b8448ca396fe967c35147f8083efc065d4cd64e...</td>\n",
       "      <td>18238209.0</td>\n",
       "      <td>2019-03-30 17:57:32</td>\n",
       "      <td>NaN</td>\n",
       "      <td>2019-03-30</td>\n",
       "      <td>bc911f5b8448ca396fe967c35147f8083efc065d4cd64e...</td>\n",
       "      <td>NaN</td>\n",
       "    </tr>\n",
       "  </tbody>\n",
       "</table>\n",
       "</div>"
      ],
      "text/plain": [
       "   case_id                                            spec_id    order_id  \\\n",
       "6        B  23d28918997b4f75e3397c3b3d9b989e9b81d02163b625...  18112901.0   \n",
       "9        B  bc911f5b8448ca396fe967c35147f8083efc065d4cd64e...  18190878.0   \n",
       "10       B  bc911f5b8448ca396fe967c35147f8083efc065d4cd64e...  18190878.0   \n",
       "11       B  bc911f5b8448ca396fe967c35147f8083efc065d4cd64e...  18216799.0   \n",
       "12       B  bc911f5b8448ca396fe967c35147f8083efc065d4cd64e...  18238209.0   \n",
       "\n",
       "              first_dt  e_dt     d_view  \\\n",
       "6  2019-03-25 00:05:24   NaN 2019-03-25   \n",
       "9  2019-03-29 08:43:35   NaN 2019-03-29   \n",
       "10 2019-03-29 08:43:35   NaN 2019-03-29   \n",
       "11 2019-03-29 16:32:47   NaN 2019-03-29   \n",
       "12 2019-03-30 17:57:32   NaN 2019-03-30   \n",
       "\n",
       "                                                 view response  \n",
       "6   23d28918997b4f75e3397c3b3d9b989e9b81d02163b625...      NaN  \n",
       "9   bc911f5b8448ca396fe967c35147f8083efc065d4cd64e...      NaN  \n",
       "10  bc911f5b8448ca396fe967c35147f8083efc065d4cd64e...      NaN  \n",
       "11  bc911f5b8448ca396fe967c35147f8083efc065d4cd64e...      NaN  \n",
       "12  bc911f5b8448ca396fe967c35147f8083efc065d4cd64e...      NaN  "
      ]
     },
     "execution_count": 63,
     "metadata": {},
     "output_type": "execute_result"
    }
   ],
   "source": [
    "a_web[a_web.d_view.notna()].head()"
   ]
  },
  {
   "cell_type": "markdown",
   "metadata": {},
   "source": [
    "Считаем кумулятивное число просмотров и откликов по вариантам, изменение конверсии по дням и ее стат.значимость с помощью z-test"
   ]
  },
  {
   "cell_type": "code",
   "execution_count": 21,
   "metadata": {
    "id": "hY9_IkFxbLYg"
   },
   "outputs": [],
   "source": [
    "# Количество уникальных просмотров и откликов\n",
    "a_views = a_web.groupby(['case_id','d_view']).agg({'view':'nunique','response':'nunique'})"
   ]
  },
  {
   "cell_type": "code",
   "execution_count": 40,
   "metadata": {},
   "outputs": [
    {
     "data": {
      "text/html": [
       "<div>\n",
       "<style scoped>\n",
       "    .dataframe tbody tr th:only-of-type {\n",
       "        vertical-align: middle;\n",
       "    }\n",
       "\n",
       "    .dataframe tbody tr th {\n",
       "        vertical-align: top;\n",
       "    }\n",
       "\n",
       "    .dataframe thead th {\n",
       "        text-align: right;\n",
       "    }\n",
       "</style>\n",
       "<table border=\"1\" class=\"dataframe\">\n",
       "  <thead>\n",
       "    <tr style=\"text-align: right;\">\n",
       "      <th></th>\n",
       "      <th></th>\n",
       "      <th>view</th>\n",
       "      <th>response</th>\n",
       "      <th>conversion</th>\n",
       "    </tr>\n",
       "    <tr>\n",
       "      <th>case_id</th>\n",
       "      <th>d_view</th>\n",
       "      <th></th>\n",
       "      <th></th>\n",
       "      <th></th>\n",
       "    </tr>\n",
       "  </thead>\n",
       "  <tbody>\n",
       "    <tr>\n",
       "      <th rowspan=\"5\" valign=\"top\">B</th>\n",
       "      <th>2019-04-15</th>\n",
       "      <td>88804</td>\n",
       "      <td>15667</td>\n",
       "      <td>0.176422</td>\n",
       "    </tr>\n",
       "    <tr>\n",
       "      <th>2019-04-16</th>\n",
       "      <td>92326</td>\n",
       "      <td>16284</td>\n",
       "      <td>0.176375</td>\n",
       "    </tr>\n",
       "    <tr>\n",
       "      <th>2019-04-17</th>\n",
       "      <td>96046</td>\n",
       "      <td>16955</td>\n",
       "      <td>0.176530</td>\n",
       "    </tr>\n",
       "    <tr>\n",
       "      <th>2019-04-18</th>\n",
       "      <td>99537</td>\n",
       "      <td>17580</td>\n",
       "      <td>0.176618</td>\n",
       "    </tr>\n",
       "    <tr>\n",
       "      <th>2019-04-19</th>\n",
       "      <td>101343</td>\n",
       "      <td>17884</td>\n",
       "      <td>0.176470</td>\n",
       "    </tr>\n",
       "  </tbody>\n",
       "</table>\n",
       "</div>"
      ],
      "text/plain": [
       "                      view  response  conversion\n",
       "case_id d_view                                  \n",
       "B       2019-04-15   88804     15667    0.176422\n",
       "        2019-04-16   92326     16284    0.176375\n",
       "        2019-04-17   96046     16955    0.176530\n",
       "        2019-04-18   99537     17580    0.176618\n",
       "        2019-04-19  101343     17884    0.176470"
      ]
     },
     "execution_count": 40,
     "metadata": {},
     "output_type": "execute_result"
    }
   ],
   "source": [
    "c = a_views.groupby('case_id').cumsum()\n",
    "c['conversion']=c.response/c.view\n",
    "c.tail()"
   ]
  },
  {
   "cell_type": "code",
   "execution_count": 38,
   "metadata": {
    "id": "a4u1KLRsbLYn",
    "outputId": "bd15f294-f6ed-47f0-fef1-824d05049a9c"
   },
   "outputs": [
    {
     "data": {
      "text/html": [
       "<div>\n",
       "<style scoped>\n",
       "    .dataframe tbody tr th:only-of-type {\n",
       "        vertical-align: middle;\n",
       "    }\n",
       "\n",
       "    .dataframe tbody tr th {\n",
       "        vertical-align: top;\n",
       "    }\n",
       "\n",
       "    .dataframe thead th {\n",
       "        text-align: right;\n",
       "    }\n",
       "</style>\n",
       "<table border=\"1\" class=\"dataframe\">\n",
       "  <thead>\n",
       "    <tr style=\"text-align: right;\">\n",
       "      <th></th>\n",
       "      <th></th>\n",
       "      <th>view</th>\n",
       "      <th>response</th>\n",
       "      <th>conversion</th>\n",
       "    </tr>\n",
       "    <tr>\n",
       "      <th>case_id</th>\n",
       "      <th>d_view</th>\n",
       "      <th></th>\n",
       "      <th></th>\n",
       "      <th></th>\n",
       "    </tr>\n",
       "  </thead>\n",
       "  <tbody>\n",
       "    <tr>\n",
       "      <th>A</th>\n",
       "      <th>2019-04-19</th>\n",
       "      <td>90488</td>\n",
       "      <td>18390</td>\n",
       "      <td>0.203231</td>\n",
       "    </tr>\n",
       "    <tr>\n",
       "      <th>B</th>\n",
       "      <th>2019-04-19</th>\n",
       "      <td>101343</td>\n",
       "      <td>17884</td>\n",
       "      <td>0.176470</td>\n",
       "    </tr>\n",
       "  </tbody>\n",
       "</table>\n",
       "</div>"
      ],
      "text/plain": [
       "                      view  response  conversion\n",
       "case_id d_view                                  \n",
       "A       2019-04-19   90488     18390    0.203231\n",
       "B       2019-04-19  101343     17884    0.176470"
      ]
     },
     "execution_count": 38,
     "metadata": {},
     "output_type": "execute_result"
    }
   ],
   "source": [
    "# последний день\n",
    "c.query(\"d_view=='2019-04-19'\")"
   ]
  },
  {
   "cell_type": "markdown",
   "metadata": {},
   "source": [
    "Конверсия В < A"
   ]
  },
  {
   "cell_type": "code",
   "execution_count": 41,
   "metadata": {
    "id": "FCRRsDq4bLYt"
   },
   "outputs": [],
   "source": [
    "import pylab\n",
    "import matplotlib.dates as mdates"
   ]
  },
  {
   "cell_type": "code",
   "execution_count": 46,
   "metadata": {
    "id": "e397YHOZbLYv",
    "outputId": "ec508b8e-ef21-4528-ece4-80fcbeda45a8"
   },
   "outputs": [
    {
     "data": {
      "image/png": "[encoded data removed]",
      "text/plain": [
       "<Figure size 720x360 with 1 Axes>"
      ]
     },
     "metadata": {
      "needs_background": "light"
     },
     "output_type": "display_data"
    }
   ],
   "source": [
    "diff = pd.DataFrame(c.conversion.loc['B'] - c.conversion.loc['A'])\n",
    "\n",
    "fig, ax = plt.subplots(1, 1, figsize=(10, 5))\n",
    "ax.plot(diff*100)\n",
    "myFmt = mdates.DateFormatter('%Y-%m-%d')\n",
    "ax.xaxis.set_major_formatter(myFmt)\n",
    "plt.xticks(fontsize=14, rotation=45)\n",
    "plt.yticks(fontsize=14)\n",
    "plt.xlabel(\"Дата\", fontsize=18)\n",
    "plt.ylabel(\"Разница В-А, процентные пункты\", fontsize=18)\n",
    "plt.show()\n",
    "# diff.plot(kind='line',alpha=0.75, rot=0)\n",
    "# plt.xlabel(\"\")\n",
    "# plt.show()"
   ]
  },
  {
   "cell_type": "markdown",
   "metadata": {},
   "source": [
    "### ztest"
   ]
  },
  {
   "cell_type": "code",
   "execution_count": 55,
   "metadata": {
    "id": "e397YHOZbLYv",
    "outputId": "ec508b8e-ef21-4528-ece4-80fcbeda45a8"
   },
   "outputs": [
    {
     "data": {
      "text/plain": [
       "Text(0, 0.5, 'p-value, логарифм. шкала')"
      ]
     },
     "execution_count": 55,
     "metadata": {},
     "output_type": "execute_result"
    },
    {
     "data": {
      "image/png": "[encoded data removed]",
      "text/plain": [
       "<Figure size 720x360 with 1 Axes>"
      ]
     },
     "metadata": {
      "needs_background": "light"
     },
     "output_type": "display_data"
    }
   ],
   "source": [
    "from statsmodels.stats.proportion import proportions_ztest\n",
    "new_ar=[]\n",
    "for i in range(len(c.loc['A'])):\n",
    "    count = np.array([c.response.loc['A'][i], c.response.loc['B'][i]])\n",
    "    nobs = np.array([c.view.loc['A'][i], c.view.loc['B'][i]])\n",
    "    stat, pval = proportions_ztest(count, nobs)\n",
    "    new_ar.append(pval)\n",
    "    \n",
    "p_value = pd.DataFrame(new_ar)\n",
    "p_value = p_value.rename(columns={0: \"p_val\"})\n",
    "p_value['date'] =  c.loc['A'].reset_index().d_view\n",
    "\n",
    "p_value = p_value.set_index('date')\n",
    "\n",
    "# p_value.plot(kind='line',alpha=10, rot=0,logy=True,figsize=(15,10),fontsize = 18)\n",
    "# ax.xaxis.set_major_formatter(mdates.DateFormatter('%d-%m-%Y'))\n",
    "# ax.set_yscale('log')\n",
    "\n",
    "fig, ax = plt.subplots(1,1,figsize = (10,5))\n",
    "ax.plot(np.log(p_value.p_val))\n",
    "myFmt = mdates.DateFormatter('%Y-%m-%d')\n",
    "ax.xaxis.set_major_formatter(myFmt)\n",
    "plt.xticks(fontsize=14)\n",
    "plt.xticks(rotation=45)\n",
    "plt.yticks(fontsize=14)\n",
    "plt.xlabel(\"Дата\",fontsize=18)\n",
    "plt.ylabel(\"p-value, логарифм. шкала\",fontsize=18)"
   ]
  },
  {
   "cell_type": "markdown",
   "metadata": {
    "id": "_YvEUJudbLY5"
   },
   "source": [
    "# Метрики по спецам"
   ]
  },
  {
   "cell_type": "code",
   "execution_count": 65,
   "metadata": {
    "id": "MFuCs8oNbLY6"
   },
   "outputs": [],
   "source": [
    "a_views_by_spec = a_web.groupby(['case_id','spec_id']).agg({'view':'nunique','response':'nunique'})"
   ]
  },
  {
   "cell_type": "code",
   "execution_count": 66,
   "metadata": {
    "id": "YT3bvkykbLY9",
    "outputId": "050adcc3-e7c5-46f5-f32e-7d56714c7cb2",
    "scrolled": false
   },
   "outputs": [
    {
     "data": {
      "text/html": [
       "<div>\n",
       "<style scoped>\n",
       "    .dataframe tbody tr th:only-of-type {\n",
       "        vertical-align: middle;\n",
       "    }\n",
       "\n",
       "    .dataframe tbody tr th {\n",
       "        vertical-align: top;\n",
       "    }\n",
       "\n",
       "    .dataframe thead th {\n",
       "        text-align: right;\n",
       "    }\n",
       "</style>\n",
       "<table border=\"1\" class=\"dataframe\">\n",
       "  <thead>\n",
       "    <tr style=\"text-align: right;\">\n",
       "      <th></th>\n",
       "      <th></th>\n",
       "      <th>view</th>\n",
       "      <th>response</th>\n",
       "    </tr>\n",
       "    <tr>\n",
       "      <th>case_id</th>\n",
       "      <th>spec_id</th>\n",
       "      <th></th>\n",
       "      <th></th>\n",
       "    </tr>\n",
       "  </thead>\n",
       "  <tbody>\n",
       "    <tr>\n",
       "      <th rowspan=\"5\" valign=\"top\">A</th>\n",
       "      <th>00005e804540ae2671aa53998ed7497983f89449746babe498512524</th>\n",
       "      <td>0</td>\n",
       "      <td>0</td>\n",
       "    </tr>\n",
       "    <tr>\n",
       "      <th>00016f5b07b639fc203809bd914a2e307881c3eb8b69c62e5bb1b489</th>\n",
       "      <td>0</td>\n",
       "      <td>0</td>\n",
       "    </tr>\n",
       "    <tr>\n",
       "      <th>00017abfb978e4c3f8d870b56f418d8dda19a9b3357b10fa37e2ea46</th>\n",
       "      <td>6</td>\n",
       "      <td>1</td>\n",
       "    </tr>\n",
       "    <tr>\n",
       "      <th>0001d918d29aa0384ea723ae2514e60a44d6e2df71619d0c0ad80d6d</th>\n",
       "      <td>0</td>\n",
       "      <td>0</td>\n",
       "    </tr>\n",
       "    <tr>\n",
       "      <th>00021f0647e6380456ed7c76378ae06ba2f4a2a688a261e019687701</th>\n",
       "      <td>0</td>\n",
       "      <td>0</td>\n",
       "    </tr>\n",
       "    <tr>\n",
       "      <th>...</th>\n",
       "      <th>...</th>\n",
       "      <td>...</td>\n",
       "      <td>...</td>\n",
       "    </tr>\n",
       "    <tr>\n",
       "      <th rowspan=\"5\" valign=\"top\">B</th>\n",
       "      <th>fffb99c4e5f24d78ba4b2272fb2cd19aac1727002342cf4c0d21252d</th>\n",
       "      <td>2</td>\n",
       "      <td>1</td>\n",
       "    </tr>\n",
       "    <tr>\n",
       "      <th>fffc06887246af2d4d2684761b052fec0397fff643d2fe3956735189</th>\n",
       "      <td>3</td>\n",
       "      <td>1</td>\n",
       "    </tr>\n",
       "    <tr>\n",
       "      <th>fffc0eb4c4efcbf4cb789d7da2ce7d01da36b79965e8344a6f02d9fa</th>\n",
       "      <td>0</td>\n",
       "      <td>0</td>\n",
       "    </tr>\n",
       "    <tr>\n",
       "      <th>ffff325cf26453d6a8565f892c80910b6e4c2253e4fd8497760447e5</th>\n",
       "      <td>0</td>\n",
       "      <td>0</td>\n",
       "    </tr>\n",
       "    <tr>\n",
       "      <th>ffff80f4d8a4f9c81e91aeade906ea9bf4efe7c69b0b4c756158b763</th>\n",
       "      <td>0</td>\n",
       "      <td>0</td>\n",
       "    </tr>\n",
       "  </tbody>\n",
       "</table>\n",
       "<p>114330 rows × 2 columns</p>\n",
       "</div>"
      ],
      "text/plain": [
       "                                                            view  response\n",
       "case_id spec_id                                                           \n",
       "A       00005e804540ae2671aa53998ed7497983f89449746babe...     0         0\n",
       "        00016f5b07b639fc203809bd914a2e307881c3eb8b69c62...     0         0\n",
       "        00017abfb978e4c3f8d870b56f418d8dda19a9b3357b10f...     6         1\n",
       "        0001d918d29aa0384ea723ae2514e60a44d6e2df71619d0...     0         0\n",
       "        00021f0647e6380456ed7c76378ae06ba2f4a2a688a261e...     0         0\n",
       "...                                                          ...       ...\n",
       "B       fffb99c4e5f24d78ba4b2272fb2cd19aac1727002342cf4...     2         1\n",
       "        fffc06887246af2d4d2684761b052fec0397fff643d2fe3...     3         1\n",
       "        fffc0eb4c4efcbf4cb789d7da2ce7d01da36b79965e8344...     0         0\n",
       "        ffff325cf26453d6a8565f892c80910b6e4c2253e4fd849...     0         0\n",
       "        ffff80f4d8a4f9c81e91aeade906ea9bf4efe7c69b0b4c7...     0         0\n",
       "\n",
       "[114330 rows x 2 columns]"
      ]
     },
     "execution_count": 66,
     "metadata": {},
     "output_type": "execute_result"
    }
   ],
   "source": [
    "a_views_by_spec"
   ]
  },
  {
   "cell_type": "code",
   "execution_count": 67,
   "metadata": {
    "id": "9WltJ6F8bLZE",
    "outputId": "0006c89c-0bc7-4886-e7ba-bb56853f4a75"
   },
   "outputs": [
    {
     "data": {
      "text/html": [
       "<div>\n",
       "<style scoped>\n",
       "    .dataframe tbody tr th:only-of-type {\n",
       "        vertical-align: middle;\n",
       "    }\n",
       "\n",
       "    .dataframe tbody tr th {\n",
       "        vertical-align: top;\n",
       "    }\n",
       "\n",
       "    .dataframe thead th {\n",
       "        text-align: right;\n",
       "    }\n",
       "</style>\n",
       "<table border=\"1\" class=\"dataframe\">\n",
       "  <thead>\n",
       "    <tr style=\"text-align: right;\">\n",
       "      <th></th>\n",
       "      <th>count</th>\n",
       "      <th>mean</th>\n",
       "      <th>std</th>\n",
       "      <th>min</th>\n",
       "      <th>25%</th>\n",
       "      <th>50%</th>\n",
       "      <th>75%</th>\n",
       "      <th>max</th>\n",
       "    </tr>\n",
       "    <tr>\n",
       "      <th>case_id</th>\n",
       "      <th></th>\n",
       "      <th></th>\n",
       "      <th></th>\n",
       "      <th></th>\n",
       "      <th></th>\n",
       "      <th></th>\n",
       "      <th></th>\n",
       "      <th></th>\n",
       "    </tr>\n",
       "  </thead>\n",
       "  <tbody>\n",
       "    <tr>\n",
       "      <th>A</th>\n",
       "      <td>56818.0</td>\n",
       "      <td>1.592594</td>\n",
       "      <td>7.271583</td>\n",
       "      <td>0.0</td>\n",
       "      <td>0.0</td>\n",
       "      <td>0.0</td>\n",
       "      <td>1.0</td>\n",
       "      <td>764.0</td>\n",
       "    </tr>\n",
       "    <tr>\n",
       "      <th>B</th>\n",
       "      <td>57512.0</td>\n",
       "      <td>1.762119</td>\n",
       "      <td>7.458915</td>\n",
       "      <td>0.0</td>\n",
       "      <td>0.0</td>\n",
       "      <td>0.0</td>\n",
       "      <td>1.0</td>\n",
       "      <td>363.0</td>\n",
       "    </tr>\n",
       "  </tbody>\n",
       "</table>\n",
       "</div>"
      ],
      "text/plain": [
       "           count      mean       std  min  25%  50%  75%    max\n",
       "case_id                                                        \n",
       "A        56818.0  1.592594  7.271583  0.0  0.0  0.0  1.0  764.0\n",
       "B        57512.0  1.762119  7.458915  0.0  0.0  0.0  1.0  363.0"
      ]
     },
     "execution_count": 67,
     "metadata": {},
     "output_type": "execute_result"
    }
   ],
   "source": [
    "a_views_by_spec.groupby('case_id').view.describe()"
   ]
  },
  {
   "cell_type": "code",
   "execution_count": 68,
   "metadata": {
    "id": "HnItaujDbLZK",
    "outputId": "d0eb23c7-bc79-45af-aeed-e2ed5ba1ba25"
   },
   "outputs": [
    {
     "data": {
      "text/html": [
       "<div>\n",
       "<style scoped>\n",
       "    .dataframe tbody tr th:only-of-type {\n",
       "        vertical-align: middle;\n",
       "    }\n",
       "\n",
       "    .dataframe tbody tr th {\n",
       "        vertical-align: top;\n",
       "    }\n",
       "\n",
       "    .dataframe thead th {\n",
       "        text-align: right;\n",
       "    }\n",
       "</style>\n",
       "<table border=\"1\" class=\"dataframe\">\n",
       "  <thead>\n",
       "    <tr style=\"text-align: right;\">\n",
       "      <th></th>\n",
       "      <th>count</th>\n",
       "      <th>mean</th>\n",
       "      <th>std</th>\n",
       "      <th>min</th>\n",
       "      <th>25%</th>\n",
       "      <th>50%</th>\n",
       "      <th>75%</th>\n",
       "      <th>max</th>\n",
       "    </tr>\n",
       "    <tr>\n",
       "      <th>case_id</th>\n",
       "      <th></th>\n",
       "      <th></th>\n",
       "      <th></th>\n",
       "      <th></th>\n",
       "      <th></th>\n",
       "      <th></th>\n",
       "      <th></th>\n",
       "      <th></th>\n",
       "    </tr>\n",
       "  </thead>\n",
       "  <tbody>\n",
       "    <tr>\n",
       "      <th>A</th>\n",
       "      <td>56818.0</td>\n",
       "      <td>0.323665</td>\n",
       "      <td>3.16577</td>\n",
       "      <td>0.0</td>\n",
       "      <td>0.0</td>\n",
       "      <td>0.0</td>\n",
       "      <td>0.0</td>\n",
       "      <td>563.0</td>\n",
       "    </tr>\n",
       "    <tr>\n",
       "      <th>B</th>\n",
       "      <td>57512.0</td>\n",
       "      <td>0.310961</td>\n",
       "      <td>2.06235</td>\n",
       "      <td>0.0</td>\n",
       "      <td>0.0</td>\n",
       "      <td>0.0</td>\n",
       "      <td>0.0</td>\n",
       "      <td>209.0</td>\n",
       "    </tr>\n",
       "  </tbody>\n",
       "</table>\n",
       "</div>"
      ],
      "text/plain": [
       "           count      mean      std  min  25%  50%  75%    max\n",
       "case_id                                                       \n",
       "A        56818.0  0.323665  3.16577  0.0  0.0  0.0  0.0  563.0\n",
       "B        57512.0  0.310961  2.06235  0.0  0.0  0.0  0.0  209.0"
      ]
     },
     "execution_count": 68,
     "metadata": {},
     "output_type": "execute_result"
    }
   ],
   "source": [
    "a_views_by_spec.groupby('case_id').response.describe()"
   ]
  },
  {
   "cell_type": "markdown",
   "metadata": {
    "id": "CErUW40mbLZM"
   },
   "source": [
    "Кто в  хвосте?"
   ]
  },
  {
   "cell_type": "code",
   "execution_count": 69,
   "metadata": {
    "id": "07AHtSBabLZN",
    "outputId": "08b2036d-013a-4db7-b696-78bc53df2363"
   },
   "outputs": [
    {
     "data": {
      "text/html": [
       "<div>\n",
       "<style scoped>\n",
       "    .dataframe tbody tr th:only-of-type {\n",
       "        vertical-align: middle;\n",
       "    }\n",
       "\n",
       "    .dataframe tbody tr th {\n",
       "        vertical-align: top;\n",
       "    }\n",
       "\n",
       "    .dataframe thead th {\n",
       "        text-align: right;\n",
       "    }\n",
       "</style>\n",
       "<table border=\"1\" class=\"dataframe\">\n",
       "  <thead>\n",
       "    <tr style=\"text-align: right;\">\n",
       "      <th></th>\n",
       "      <th></th>\n",
       "      <th>view</th>\n",
       "      <th>response</th>\n",
       "    </tr>\n",
       "    <tr>\n",
       "      <th>case_id</th>\n",
       "      <th>spec_id</th>\n",
       "      <th></th>\n",
       "      <th></th>\n",
       "    </tr>\n",
       "  </thead>\n",
       "  <tbody>\n",
       "    <tr>\n",
       "      <th>A</th>\n",
       "      <th>e33a77a7a3af3609b838d77341c00856c76bf761ecea5b477e0cddfc</th>\n",
       "      <td>764</td>\n",
       "      <td>563</td>\n",
       "    </tr>\n",
       "  </tbody>\n",
       "</table>\n",
       "</div>"
      ],
      "text/plain": [
       "                                                            view  response\n",
       "case_id spec_id                                                           \n",
       "A       e33a77a7a3af3609b838d77341c00856c76bf761ecea5b4...   764       563"
      ]
     },
     "execution_count": 69,
     "metadata": {},
     "output_type": "execute_result"
    }
   ],
   "source": [
    "a_views_by_spec[a_views_by_spec.view>500]"
   ]
  },
  {
   "cell_type": "markdown",
   "metadata": {},
   "source": [
    "Это бот"
   ]
  },
  {
   "cell_type": "markdown",
   "metadata": {
    "id": "srN0BC6YbLZP"
   },
   "source": [
    "# Метрики конверсии без бота"
   ]
  },
  {
   "cell_type": "code",
   "execution_count": 71,
   "metadata": {
    "id": "sQgdgmd8bLZP"
   },
   "outputs": [],
   "source": [
    "a_views_by_spec_clean = a_views_by_spec.query(\"spec_id!='e33a77a7a3af3609b838d77341c00856c76bf761ecea5b477e0cddfc'\")"
   ]
  },
  {
   "cell_type": "code",
   "execution_count": 72,
   "metadata": {
    "id": "nGhHYZJobLZT"
   },
   "outputs": [],
   "source": [
    "a_web_clean = a_web.query(\"spec_id!='e33a77a7a3af3609b838d77341c00856c76bf761ecea5b477e0cddfc'\")"
   ]
  },
  {
   "cell_type": "code",
   "execution_count": 73,
   "metadata": {
    "id": "46r_IQCDbLZW"
   },
   "outputs": [],
   "source": [
    "a_views_clean = a_web_clean.groupby(['case_id','d_view']).agg({'view':'nunique','response':'nunique'})\n",
    "c_clean = a_views_clean.groupby('case_id').cumsum()\n",
    "c_clean['conversion']=c_clean.response/c_clean.view"
   ]
  },
  {
   "cell_type": "code",
   "execution_count": 74,
   "metadata": {
    "id": "Byq9EMTzbLZa",
    "outputId": "6b932161-2054-4827-c954-44fef8f0c09f"
   },
   "outputs": [
    {
     "data": {
      "text/html": [
       "<div>\n",
       "<style scoped>\n",
       "    .dataframe tbody tr th:only-of-type {\n",
       "        vertical-align: middle;\n",
       "    }\n",
       "\n",
       "    .dataframe tbody tr th {\n",
       "        vertical-align: top;\n",
       "    }\n",
       "\n",
       "    .dataframe thead th {\n",
       "        text-align: right;\n",
       "    }\n",
       "</style>\n",
       "<table border=\"1\" class=\"dataframe\">\n",
       "  <thead>\n",
       "    <tr style=\"text-align: right;\">\n",
       "      <th></th>\n",
       "      <th></th>\n",
       "      <th>view</th>\n",
       "      <th>response</th>\n",
       "      <th>conversion</th>\n",
       "    </tr>\n",
       "    <tr>\n",
       "      <th>case_id</th>\n",
       "      <th>d_view</th>\n",
       "      <th></th>\n",
       "      <th></th>\n",
       "      <th></th>\n",
       "    </tr>\n",
       "  </thead>\n",
       "  <tbody>\n",
       "    <tr>\n",
       "      <th>A</th>\n",
       "      <th>2019-04-19</th>\n",
       "      <td>89724</td>\n",
       "      <td>17827</td>\n",
       "      <td>0.198687</td>\n",
       "    </tr>\n",
       "    <tr>\n",
       "      <th>B</th>\n",
       "      <th>2019-04-19</th>\n",
       "      <td>101343</td>\n",
       "      <td>17884</td>\n",
       "      <td>0.176470</td>\n",
       "    </tr>\n",
       "  </tbody>\n",
       "</table>\n",
       "</div>"
      ],
      "text/plain": [
       "                      view  response  conversion\n",
       "case_id d_view                                  \n",
       "A       2019-04-19   89724     17827    0.198687\n",
       "B       2019-04-19  101343     17884    0.176470"
      ]
     },
     "execution_count": 74,
     "metadata": {},
     "output_type": "execute_result"
    }
   ],
   "source": [
    "c_clean.query(\"d_view=='2019-04-19'\") "
   ]
  },
  {
   "cell_type": "code",
   "execution_count": 75,
   "metadata": {
    "id": "v-VZfbbFbLZe",
    "outputId": "705d80ab-0b59-4dfb-c2a7-036aa83f8fff"
   },
   "outputs": [
    {
     "data": {
      "text/plain": [
       "Text(0, 0.5, 'Разница В-А, процентные пункты')"
      ]
     },
     "execution_count": 75,
     "metadata": {},
     "output_type": "execute_result"
    },
    {
     "data": {
      "image/png": "[encoded data removed]",
      "text/plain": [
       "<Figure size 720x360 with 1 Axes>"
      ]
     },
     "metadata": {
      "needs_background": "light"
     },
     "output_type": "display_data"
    }
   ],
   "source": [
    "diff = pd.DataFrame(c_clean.conversion.loc['B'] - c_clean.conversion.loc['A'])\n",
    "# diff.plot(kind='line',alpha=0.75, rot=0)\n",
    "# plt.xlabel(\"\")\n",
    "# plt.show()\n",
    "fig, ax = plt.subplots(1,1,figsize = (10,5))\n",
    "ax.plot(diff*100,color='red',linewidth=4)\n",
    "myFmt = mdates.DateFormatter('%Y-%m-%d')\n",
    "ax.xaxis.set_major_formatter(myFmt)\n",
    "plt.xticks(fontsize=14)\n",
    "plt.xticks(rotation=45)\n",
    "plt.yticks(fontsize=14)\n",
    "plt.xlabel(\"Дата\",fontsize=18)\n",
    "plt.ylabel(\"Разница В-А, процентные пункты\",fontsize=18)"
   ]
  },
  {
   "cell_type": "code",
   "execution_count": 76,
   "metadata": {
    "id": "W0s76fXjbLZi",
    "outputId": "8c6bbc2e-ede6-4a86-9aef-ac651c427bfd"
   },
   "outputs": [
    {
     "data": {
      "text/plain": [
       "Text(0, 0.5, 'p-value, логарифм. шкала')"
      ]
     },
     "execution_count": 76,
     "metadata": {},
     "output_type": "execute_result"
    },
    {
     "data": {
      "image/png": "[encoded data removed]",
      "text/plain": [
       "<Figure size 720x360 with 1 Axes>"
      ]
     },
     "metadata": {
      "needs_background": "light"
     },
     "output_type": "display_data"
    }
   ],
   "source": [
    "from statsmodels.stats.proportion import proportions_ztest\n",
    "new_ar=[]\n",
    "for i in range(len(c_clean.loc['A'])):\n",
    "    count = np.array([c_clean.response.loc['A'][i], c_clean.response.loc['B'][i]])\n",
    "    nobs = np.array([c_clean.view.loc['A'][i], c_clean.view.loc[\"B\"][i]])\n",
    "    stat, pval = proportions_ztest(count, nobs)\n",
    "    new_ar.append(pval)\n",
    "    \n",
    "p_value = pd.DataFrame(new_ar)\n",
    "p_value = p_value.rename(columns={0: \"p_val\"})\n",
    "p_value['date'] = c_clean.loc['B'].reset_index().d_view\n",
    "p_value = p_value.set_index('date')\n",
    "\n",
    "\n",
    "fig, ax = plt.subplots(1,1,figsize = (10,5))\n",
    "ax.plot(np.log(p_value.p_val),color='red',linewidth=4)\n",
    "myFmt = mdates.DateFormatter('%Y-%m-%d')\n",
    "ax.xaxis.set_major_formatter(myFmt)\n",
    "plt.xticks(fontsize=14)\n",
    "plt.xticks(rotation=45)\n",
    "plt.yticks(fontsize=14)\n",
    "plt.xlabel(\"Дата\",fontsize=18)\n",
    "plt.ylabel(\"p-value, логарифм. шкала\",fontsize=18)\n",
    "\n",
    "# p_value.plot(kind='line',alpha=10, rot=0,logy=True,figsize=(15,10),fontsize = 18)\n",
    "# plt.xlabel(\"\")\n",
    "# plt.show()"
   ]
  },
  {
   "cell_type": "markdown",
   "metadata": {
    "id": "p7PSK-HebLZm"
   },
   "source": [
    "# Метрики в разрезе по спецам, без бота"
   ]
  },
  {
   "cell_type": "code",
   "execution_count": 77,
   "metadata": {
    "id": "5ttC3cSUbLZn",
    "outputId": "75806407-568a-47ad-e2d9-8ddd9c3de18f"
   },
   "outputs": [
    {
     "data": {
      "text/html": [
       "<div>\n",
       "<style scoped>\n",
       "    .dataframe tbody tr th:only-of-type {\n",
       "        vertical-align: middle;\n",
       "    }\n",
       "\n",
       "    .dataframe tbody tr th {\n",
       "        vertical-align: top;\n",
       "    }\n",
       "\n",
       "    .dataframe thead th {\n",
       "        text-align: right;\n",
       "    }\n",
       "</style>\n",
       "<table border=\"1\" class=\"dataframe\">\n",
       "  <thead>\n",
       "    <tr style=\"text-align: right;\">\n",
       "      <th></th>\n",
       "      <th>count</th>\n",
       "      <th>mean</th>\n",
       "      <th>std</th>\n",
       "      <th>min</th>\n",
       "      <th>25%</th>\n",
       "      <th>50%</th>\n",
       "      <th>75%</th>\n",
       "      <th>max</th>\n",
       "    </tr>\n",
       "    <tr>\n",
       "      <th>case_id</th>\n",
       "      <th></th>\n",
       "      <th></th>\n",
       "      <th></th>\n",
       "      <th></th>\n",
       "      <th></th>\n",
       "      <th></th>\n",
       "      <th></th>\n",
       "      <th></th>\n",
       "    </tr>\n",
       "  </thead>\n",
       "  <tbody>\n",
       "    <tr>\n",
       "      <th>A</th>\n",
       "      <td>56817.0</td>\n",
       "      <td>1.579175</td>\n",
       "      <td>6.530392</td>\n",
       "      <td>0.0</td>\n",
       "      <td>0.0</td>\n",
       "      <td>0.0</td>\n",
       "      <td>1.0</td>\n",
       "      <td>346.0</td>\n",
       "    </tr>\n",
       "    <tr>\n",
       "      <th>B</th>\n",
       "      <td>57512.0</td>\n",
       "      <td>1.762119</td>\n",
       "      <td>7.458915</td>\n",
       "      <td>0.0</td>\n",
       "      <td>0.0</td>\n",
       "      <td>0.0</td>\n",
       "      <td>1.0</td>\n",
       "      <td>363.0</td>\n",
       "    </tr>\n",
       "  </tbody>\n",
       "</table>\n",
       "</div>"
      ],
      "text/plain": [
       "           count      mean       std  min  25%  50%  75%    max\n",
       "case_id                                                        \n",
       "A        56817.0  1.579175  6.530392  0.0  0.0  0.0  1.0  346.0\n",
       "B        57512.0  1.762119  7.458915  0.0  0.0  0.0  1.0  363.0"
      ]
     },
     "execution_count": 77,
     "metadata": {},
     "output_type": "execute_result"
    }
   ],
   "source": [
    "a_views_by_spec_clean.groupby('case_id').view.describe()"
   ]
  },
  {
   "cell_type": "code",
   "execution_count": 78,
   "metadata": {
    "id": "44ecHdDmbLZq",
    "outputId": "73ff0825-1933-45b5-8902-388b0ea7363c"
   },
   "outputs": [
    {
     "data": {
      "text/html": [
       "<div>\n",
       "<style scoped>\n",
       "    .dataframe tbody tr th:only-of-type {\n",
       "        vertical-align: middle;\n",
       "    }\n",
       "\n",
       "    .dataframe tbody tr th {\n",
       "        vertical-align: top;\n",
       "    }\n",
       "\n",
       "    .dataframe thead th {\n",
       "        text-align: right;\n",
       "    }\n",
       "</style>\n",
       "<table border=\"1\" class=\"dataframe\">\n",
       "  <thead>\n",
       "    <tr style=\"text-align: right;\">\n",
       "      <th></th>\n",
       "      <th>count</th>\n",
       "      <th>mean</th>\n",
       "      <th>std</th>\n",
       "      <th>min</th>\n",
       "      <th>25%</th>\n",
       "      <th>50%</th>\n",
       "      <th>75%</th>\n",
       "      <th>max</th>\n",
       "    </tr>\n",
       "    <tr>\n",
       "      <th>case_id</th>\n",
       "      <th></th>\n",
       "      <th></th>\n",
       "      <th></th>\n",
       "      <th></th>\n",
       "      <th></th>\n",
       "      <th></th>\n",
       "      <th></th>\n",
       "      <th></th>\n",
       "    </tr>\n",
       "  </thead>\n",
       "  <tbody>\n",
       "    <tr>\n",
       "      <th>A</th>\n",
       "      <td>56817.0</td>\n",
       "      <td>0.313762</td>\n",
       "      <td>2.109437</td>\n",
       "      <td>0.0</td>\n",
       "      <td>0.0</td>\n",
       "      <td>0.0</td>\n",
       "      <td>0.0</td>\n",
       "      <td>313.0</td>\n",
       "    </tr>\n",
       "    <tr>\n",
       "      <th>B</th>\n",
       "      <td>57512.0</td>\n",
       "      <td>0.310961</td>\n",
       "      <td>2.062350</td>\n",
       "      <td>0.0</td>\n",
       "      <td>0.0</td>\n",
       "      <td>0.0</td>\n",
       "      <td>0.0</td>\n",
       "      <td>209.0</td>\n",
       "    </tr>\n",
       "  </tbody>\n",
       "</table>\n",
       "</div>"
      ],
      "text/plain": [
       "           count      mean       std  min  25%  50%  75%    max\n",
       "case_id                                                        \n",
       "A        56817.0  0.313762  2.109437  0.0  0.0  0.0  0.0  313.0\n",
       "B        57512.0  0.310961  2.062350  0.0  0.0  0.0  0.0  209.0"
      ]
     },
     "execution_count": 78,
     "metadata": {},
     "output_type": "execute_result"
    }
   ],
   "source": [
    "a_views_by_spec_clean.groupby('case_id').response.describe()"
   ]
  },
  {
   "cell_type": "markdown",
   "metadata": {
    "id": "HIh-HHL1bLZu"
   },
   "source": [
    "## Как выглядит распределение метрик \n",
    "- \"среднее число просмотров на спеца\"  \n",
    "- \"среднее число откликов на спеца\""
   ]
  },
  {
   "cell_type": "code",
   "execution_count": 87,
   "metadata": {
    "id": "IIPwJfKSbLZv",
    "outputId": "c1acdff8-5033-4b1c-fbde-ebb921bc516b"
   },
   "outputs": [
    {
     "data": {
      "text/plain": [
       "Text(0, 0.5, 'Число специалистов')"
      ]
     },
     "execution_count": 87,
     "metadata": {},
     "output_type": "execute_result"
    },
    {
     "data": {
      "image/png": "[encoded data removed]",
      "text/plain": [
       "<Figure size 720x720 with 1 Axes>"
      ]
     },
     "metadata": {
      "needs_background": "light"
     },
     "output_type": "display_data"
    }
   ],
   "source": [
    "fig, ax = plt.subplots(1,1,figsize = (10,10))\n",
    "ax.hist(np.log(a_views_by_spec_clean.loc['A'].view+1))\n",
    "plt.xticks(fontsize=14)\n",
    "plt.yticks(fontsize=14)\n",
    "plt.xlabel(\"Число просмотров, логарифм. шкала\",fontsize=18)\n",
    "plt.ylabel(\"Число специалистов\",fontsize=18)"
   ]
  },
  {
   "cell_type": "code",
   "execution_count": 80,
   "metadata": {
    "id": "wOYV_7lcbLZy",
    "outputId": "f8bd7647-99f0-4017-ab62-0916af6fec32"
   },
   "outputs": [
    {
     "data": {
      "text/plain": [
       "Text(0, 0.5, 'Число специалистов')"
      ]
     },
     "execution_count": 80,
     "metadata": {},
     "output_type": "execute_result"
    },
    {
     "data": {
      "image/png": "[encoded data removed]",
      "text/plain": [
       "<Figure size 720x720 with 1 Axes>"
      ]
     },
     "metadata": {
      "needs_background": "light"
     },
     "output_type": "display_data"
    }
   ],
   "source": [
    "fig, ax = plt.subplots(1,1,figsize = (10,10))\n",
    "ax.hist(np.log(a_views_by_spec_clean.loc['A'].response+1))\n",
    "plt.xticks(fontsize=14)\n",
    "plt.yticks(fontsize=14)\n",
    "plt.xlabel(\"Число откликов, логарифм. шкала\",fontsize=18)\n",
    "plt.ylabel(\"Число специалистов\",fontsize=18)"
   ]
  },
  {
   "cell_type": "markdown",
   "metadata": {},
   "source": [
    "Распределение ненормальное, используем бутстреп"
   ]
  },
  {
   "cell_type": "code",
   "execution_count": 90,
   "metadata": {
    "id": "4UwjJ2uSbLZ3"
   },
   "outputs": [],
   "source": [
    "def bootstrap(arr,n=100,N_TRIAL = 1000,func = np.mean):\n",
    "    res = []\n",
    "    n = min(len(arr),n)\n",
    "    # Инициализируем цикл попыток\n",
    "    for _ in range(N_TRIAL):\n",
    "        # Делаем подвыборку размера n\n",
    "        if len(arr.shape)>1:\n",
    "            ind = np.random.choice(np.arange(arr.shape[0]), size = (n,))\n",
    "            subsample = arr.iloc[ind]\n",
    "        else:\n",
    "            subsample = np.random.choice(arr, size = (n,))\n",
    "        # рассчитываем статистику\n",
    "        stat = func(subsample)\n",
    "        res.append(stat)\n",
    "    return res # shape (N_TRIAL,)"
   ]
  },
  {
   "cell_type": "markdown",
   "metadata": {
    "id": "gTJHg7UsbLZ6"
   },
   "source": [
    "## Просмотры, значимость"
   ]
  },
  {
   "cell_type": "code",
   "execution_count": 91,
   "metadata": {
    "id": "mV-vFg6YbLZ7"
   },
   "outputs": [],
   "source": [
    "samples_a = bootstrap(a_views_by_spec_clean.query(\"case_id=='A'\")['view'],N_TRIAL = 3000)\n",
    "samples_b = bootstrap(a_views_by_spec_clean.query(\"case_id=='B'\")['view'],N_TRIAL = 3000)"
   ]
  },
  {
   "cell_type": "code",
   "execution_count": 108,
   "metadata": {},
   "outputs": [
    {
     "data": {
      "text/plain": [
       "<matplotlib.lines.Line2D at 0x1fbdc5798c8>"
      ]
     },
     "execution_count": 108,
     "metadata": {},
     "output_type": "execute_result"
    },
    {
     "data": {
      "image/png": "[encoded data removed]",
      "text/plain": [
       "<Figure size 432x288 with 1 Axes>"
      ]
     },
     "metadata": {
      "needs_background": "light"
     },
     "output_type": "display_data"
    }
   ],
   "source": [
    "import seaborn as sns\n",
    "ax = sns.histplot(samples_a, label='A', kde=True, color='orange', element=\"step\", alpha=.5)\n",
    "sns.histplot(samples_b, ax=ax, label='B', kde=True, color='b', element=\"step\", alpha=.1)\n",
    "ax.legend(['A', 'B'])\n",
    "ax.axvline(np.percentile(samples_a, 2.5), linestyle='-', color='r')\n",
    "ax.axvline(np.percentile(samples_a, 97.5), linestyle='-', color='g')\n",
    "\n",
    "ax.axvline(np.percentile(samples_b, 2.5), linestyle='--', color='r')\n",
    "ax.axvline(np.percentile(samples_b, 97.5), linestyle='--', color='g')"
   ]
  },
  {
   "cell_type": "markdown",
   "metadata": {},
   "source": [
    "Доверительные интервалы пересекаются, значит значимых отличий нет"
   ]
  },
  {
   "cell_type": "code",
   "execution_count": 109,
   "metadata": {
    "id": "pJxSiGRFbLaH"
   },
   "outputs": [],
   "source": [
    "buf = []\n",
    "for i in range(1000):\n",
    "    a_sample =  a_views_by_spec_clean.query(\"case_id=='A'\")['view'].sample(100)\n",
    "    b_sample =  a_views_by_spec_clean.query(\"case_id=='B'\")['view'].sample(100)\n",
    "    buf.append(np.mean(b_sample)-np.mean(a_sample))"
   ]
  },
  {
   "cell_type": "code",
   "execution_count": 110,
   "metadata": {
    "id": "UPmyURZtbLaL",
    "outputId": "63a52f7e-f3e2-4a4a-d977-d501599791df"
   },
   "outputs": [
    {
     "name": "stdout",
     "output_type": "stream",
     "text": [
      "min = -1.94025 max = 2.16025\n"
     ]
    },
    {
     "data": {
      "image/png": "[encoded data removed]",
      "text/plain": [
       "<Figure size 432x288 with 1 Axes>"
      ]
     },
     "metadata": {
      "needs_background": "light"
     },
     "output_type": "display_data"
    }
   ],
   "source": [
    "ax_buf = sns.histplot(buf, kde=True, element=\"step\")\n",
    "ax_buf.axvline(np.percentile(buf,2.5),linestyle = '-',color='r')\n",
    "ax_buf.axvline(np.percentile(buf,97.5),linestyle = '-',color='r')\n",
    "print('min =',np.percentile(buf,2.5),'max =',np.percentile(buf,97.5))"
   ]
  },
  {
   "cell_type": "markdown",
   "metadata": {},
   "source": [
    "Распределение вокруг 0, значит варианты мало отличаются"
   ]
  },
  {
   "cell_type": "markdown",
   "metadata": {
    "id": "sjE-YOA_bLaO"
   },
   "source": [
    "## Отклики, значимость"
   ]
  },
  {
   "cell_type": "code",
   "execution_count": 111,
   "metadata": {
    "id": "B65AySrHbLaP",
    "outputId": "205b20b4-e37a-4e3f-9818-2e061ec55de8"
   },
   "outputs": [
    {
     "data": {
      "text/plain": [
       "<matplotlib.lines.Line2D at 0x1fbe34acd48>"
      ]
     },
     "execution_count": 111,
     "metadata": {},
     "output_type": "execute_result"
    },
    {
     "data": {
      "image/png": "[encoded data removed]",
      "text/plain": [
       "<Figure size 432x288 with 1 Axes>"
      ]
     },
     "metadata": {
      "needs_background": "light"
     },
     "output_type": "display_data"
    }
   ],
   "source": [
    "samples_a_resp = bootstrap(a_views_by_spec_clean.query(\"case_id=='A'\")['response'],N_TRIAL = 3000)\n",
    "samples_b_resp = bootstrap(a_views_by_spec_clean.query(\"case_id=='B'\")['response'],N_TRIAL = 3000)\n",
    "ax = sns.histplot(samples_a_resp, label='A', kde=True, color='orange', element=\"step\", alpha=.5)\n",
    "sns.histplot(samples_b_resp, ax=ax, label='B', kde=True, color='b', element=\"step\", alpha=.1)\n",
    "ax.legend(['A','B'])\n",
    "ax.axvline(np.percentile(samples_a_resp,5),linestyle = '-',color='r')\n",
    "ax.axvline(np.percentile(samples_a_resp,95),linestyle = '-',color='g')\n",
    "\n",
    "ax.axvline(np.percentile(samples_b_resp,5),linestyle = '--',color='r')\n",
    "ax.axvline(np.percentile(samples_b_resp,95),linestyle = '--',color='g')"
   ]
  },
  {
   "cell_type": "code",
   "execution_count": 112,
   "metadata": {
    "id": "S0OrZnX8bLaS"
   },
   "outputs": [],
   "source": [
    "buf_1=[]\n",
    "for i in range(1000):\n",
    "    a_sample =  a_views_by_spec_clean.query(\"case_id=='A'\")['response'].sample(100)\n",
    "    b_sample =  a_views_by_spec_clean.query(\"case_id=='B'\")['response'].sample(100)\n",
    "    buf_1.append(np.mean(b_sample)-np.mean(a_sample))"
   ]
  },
  {
   "cell_type": "code",
   "execution_count": 113,
   "metadata": {
    "id": "68HxWiRwbLaa",
    "outputId": "055d716f-5f37-4d65-c88b-6032699924bf"
   },
   "outputs": [
    {
     "name": "stdout",
     "output_type": "stream",
     "text": [
      "min = -0.59 max = 0.4502499999999998\n"
     ]
    },
    {
     "data": {
      "image/png": "[encoded data removed]",
      "text/plain": [
       "<Figure size 432x288 with 1 Axes>"
      ]
     },
     "metadata": {
      "needs_background": "light"
     },
     "output_type": "display_data"
    }
   ],
   "source": [
    "ax_buf = sns.histplot(buf_1, kde=True, element=\"step\")\n",
    "ax_buf.axvline(np.percentile(buf_1,2.5),linestyle = '-',color='r')\n",
    "ax_buf.axvline(np.percentile(buf_1,97.5),linestyle = '-',color='r')\n",
    "print('min =',np.percentile(buf_1,2.5),'max =',np.percentile(buf_1,97.5))"
   ]
  },
  {
   "cell_type": "markdown",
   "metadata": {
    "id": "qZXZ7MmSbLad"
   },
   "source": [
    "https://towardsdatascience.com/ab-testing-with-python-e5964dd66143\n",
    "\n",
    "https://www.kaggle.com/code/tammyrotem/ab-tests-with-python/notebook"
   ]
  }
 ],
 "metadata": {
  "colab": {
   "provenance": []
  },
  "kernelspec": {
   "display_name": "Python 3",
   "language": "python",
   "name": "python3"
  },
  "language_info": {
   "codemirror_mode": {
    "name": "ipython",
    "version": 3
   },
   "file_extension": ".py",
   "mimetype": "text/x-python",
   "name": "python",
   "nbconvert_exporter": "python",
   "pygments_lexer": "ipython3",
   "version": "3.7.10"
  }
 },
 "nbformat": 4,
 "nbformat_minor": 1
}
