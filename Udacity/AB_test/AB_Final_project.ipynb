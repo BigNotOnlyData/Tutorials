{
 "cells": [
  {
   "cell_type": "markdown",
   "id": "6deb4ac4",
   "metadata": {},
   "source": [
    "+ [Инструкция](https://docs.google.com/document/u/1/d/1aCquhIqsUApgsxQ8-SQBAigFDcfWVVohLEXcV6jWbdI/pub)\n",
    "+ [kaggle: Udacity AB Testing by Google](https://www.kaggle.com/code/zacksshen/udacity-ab-testing-by-google)\n",
    "+ [kaggle: AB_Tests_with_Python](https://www.kaggle.com/code/tammyrotem/ab-tests-with-python/notebook)\n",
    "\n",
    "# Обзор эксперимента: бесплатная пробная версия\n",
    "\n",
    "Курсы имеют две опции на странице обзора курса: \n",
    "+ «начать бесплатную пробную версию» \n",
    "+ «доступ к материалам курса»\n",
    "\n",
    "**Изменение** - если студент нажимал «Начать бесплатную пробную версию», его спрашивали, сколько времени он может посвятить курсу. Если указывал меньшее время, чем требуется, то ему предлагалось выбрать вторую опцию «доступ к материалам курса»\n",
    "\n",
    "**Гипотеза** заключалась в том, что это могло бы заранее установить более четкие ожидания для пользователей, тем самым уменьшив количество разочарованных студентов, которые бросили бесплатную пробную версию, потому что у них не было достаточно времени.\n",
    "\n",
    "**Unit of diversion** - cookie, если студент взял бесплатную пробную версию, то user id\n",
    "\n",
    "![Пример изменения](img/Final_Project_Experiment_Screenshot.png)\n",
    "\n"
   ]
  },
  {
   "cell_type": "markdown",
   "id": "ea00441a",
   "metadata": {},
   "source": [
    "# Выбор метрики\n",
    "\n",
    "+ **Количество файлов cookie**: количество уникальных файлов cookie для просмотра страницы обзора курса. (дмин=3000)\n",
    "+ **Количество идентификаторов пользователей**: количество пользователей, подписавшихся на бесплатную пробную версию. (дмин=50)\n",
    "+ **Количество кликов**: то есть количество уникальных файлов cookie для нажатия кнопки «Начать бесплатную пробную версию» (что происходит до срабатывания функции проверки бесплатной пробной версии). (дмин=240)\n",
    "+ **Вероятность клика**: количество уникальных файлов cookie для нажатия кнопки «Начать бесплатную пробную версию», разделенное на количество уникальных файлов cookie для просмотра страницы обзора курса. (dмин=0,01)\n",
    "+ **Валовая конверсия**: количество идентификаторов пользователей для завершения оформления заказа и регистрации в бесплатной пробной версии, разделенное на количество уникальных файлов cookie для нажатия кнопки «Начать бесплатную пробную версию». (dмин= 0,01)\n",
    "+ **Удержание**: количество идентификаторов пользователей, которые должны оставаться зарегистрированными после 14-дневной границы (и, таким образом, совершить хотя бы один платеж), разделенное на количество идентификаторов пользователей для завершения оформления заказа. (dмин=0,01)\n",
    "+ **Чистая конверсия**: количество идентификаторов пользователей, которые останутся зарегистрированными после 14-дневной границы (и, таким образом, совершят хотя бы один платеж), разделенное на количество уникальных файлов cookie, чтобы нажать кнопку «Начать бесплатную пробную версию». (dмин = 0,0075)\n",
    "\n",
    "![funnel](img/funnel.png)\n",
    "\n",
    "1. Инвариантные\n",
    "    + Количество файлов cookie\n",
    "    + Количество кликов\n",
    "    + Вероятность клика\n",
    "2. Измерительные\n",
    "    + Валовая конверсия\n",
    "    + Удержание\n",
    "    + Чистая конверсия"
   ]
  },
  {
   "cell_type": "markdown",
   "id": "922abffa",
   "metadata": {},
   "source": [
    "# Измерение стандартной ошибки (se)\n",
    "\n",
    "*Совет 1*: Убедитесь, что вы используете только информацию, приведенную в таблице базовых значений. Не используйте результаты эксперимента, так как этот шаг необходимо выполнить до запуска эксперимента.\n",
    "\n",
    "*Совет 2*. Убедитесь, что вы выяснили, сколько единиц анализа будет соответствовать 5000 просмотрам страниц для каждой метрики. Опять же, используйте заданные базовые значения.\n",
    "\n",
    " $$SE = \\sqrt{\\frac{p(1-p)}{n}}$$"
   ]
  },
  {
   "cell_type": "code",
   "execution_count": 1,
   "id": "1bb82524",
   "metadata": {},
   "outputs": [],
   "source": [
    "import numpy as np\n",
    "import matplotlib.pyplot as plt\n",
    "import pandas as pd"
   ]
  },
  {
   "cell_type": "markdown",
   "id": "73c0f740",
   "metadata": {},
   "source": [
    "Даны исходные значения метрик"
   ]
  },
  {
   "cell_type": "code",
   "execution_count": 2,
   "id": "69e8b509",
   "metadata": {},
   "outputs": [
    {
     "data": {
      "text/html": [
       "<div>\n",
       "<style scoped>\n",
       "    .dataframe tbody tr th:only-of-type {\n",
       "        vertical-align: middle;\n",
       "    }\n",
       "\n",
       "    .dataframe tbody tr th {\n",
       "        vertical-align: top;\n",
       "    }\n",
       "\n",
       "    .dataframe thead th {\n",
       "        text-align: right;\n",
       "    }\n",
       "</style>\n",
       "<table border=\"1\" class=\"dataframe\">\n",
       "  <thead>\n",
       "    <tr style=\"text-align: right;\">\n",
       "      <th></th>\n",
       "      <th>Value</th>\n",
       "      <th>MDE</th>\n",
       "    </tr>\n",
       "    <tr>\n",
       "      <th>Metric Name</th>\n",
       "      <th></th>\n",
       "      <th></th>\n",
       "    </tr>\n",
       "  </thead>\n",
       "  <tbody>\n",
       "    <tr>\n",
       "      <th>Unique cookies to view course overview page per day:</th>\n",
       "      <td>40000.000000</td>\n",
       "      <td>3000.0000</td>\n",
       "    </tr>\n",
       "    <tr>\n",
       "      <th>Unique cookies to click \"Start free trial\" per day:</th>\n",
       "      <td>3200.000000</td>\n",
       "      <td>240.0000</td>\n",
       "    </tr>\n",
       "    <tr>\n",
       "      <th>Enrollments per day:</th>\n",
       "      <td>660.000000</td>\n",
       "      <td>50.0000</td>\n",
       "    </tr>\n",
       "    <tr>\n",
       "      <th>Click-through-probability on \"Start free trial\":</th>\n",
       "      <td>0.080000</td>\n",
       "      <td>0.0100</td>\n",
       "    </tr>\n",
       "    <tr>\n",
       "      <th>Probability of enrolling, given click:</th>\n",
       "      <td>0.206250</td>\n",
       "      <td>0.0100</td>\n",
       "    </tr>\n",
       "    <tr>\n",
       "      <th>Probability of payment, given enroll:</th>\n",
       "      <td>0.530000</td>\n",
       "      <td>0.0100</td>\n",
       "    </tr>\n",
       "    <tr>\n",
       "      <th>Probability of payment, given click</th>\n",
       "      <td>0.109313</td>\n",
       "      <td>0.0075</td>\n",
       "    </tr>\n",
       "  </tbody>\n",
       "</table>\n",
       "</div>"
      ],
      "text/plain": [
       "                                                           Value        MDE\n",
       "Metric Name                                                                \n",
       "Unique cookies to view course overview page per...  40000.000000  3000.0000\n",
       "Unique cookies to click \"Start free trial\" per ...   3200.000000   240.0000\n",
       "Enrollments per day:                                  660.000000    50.0000\n",
       "Click-through-probability on \"Start free trial\":        0.080000     0.0100\n",
       "Probability of enrolling, given click:                  0.206250     0.0100\n",
       "Probability of payment, given enroll:                   0.530000     0.0100\n",
       "Probability of payment, given click                     0.109313     0.0075"
      ]
     },
     "execution_count": 2,
     "metadata": {},
     "output_type": "execute_result"
    }
   ],
   "source": [
    "baseline = pd.read_excel('data/Final Project Baseline Values.xlsx',\n",
    "                         index_col=0, header=None, \n",
    "                         names=['Metric Name', 'Value']\n",
    "                        )\n",
    "baseline[\"MDE\"] = [3000, 240, 50, 0.01, 0.01, 0.01, 0.0075]\n",
    "baseline"
   ]
  },
  {
   "cell_type": "code",
   "execution_count": 3,
   "id": "6d1cfc5c",
   "metadata": {},
   "outputs": [
    {
     "data": {
      "text/html": [
       "<div>\n",
       "<style scoped>\n",
       "    .dataframe tbody tr th:only-of-type {\n",
       "        vertical-align: middle;\n",
       "    }\n",
       "\n",
       "    .dataframe tbody tr th {\n",
       "        vertical-align: top;\n",
       "    }\n",
       "\n",
       "    .dataframe thead th {\n",
       "        text-align: right;\n",
       "    }\n",
       "</style>\n",
       "<table border=\"1\" class=\"dataframe\">\n",
       "  <thead>\n",
       "    <tr style=\"text-align: right;\">\n",
       "      <th></th>\n",
       "      <th>Value</th>\n",
       "      <th>MDE</th>\n",
       "      <th>n</th>\n",
       "      <th>se</th>\n",
       "    </tr>\n",
       "  </thead>\n",
       "  <tbody>\n",
       "    <tr>\n",
       "      <th>Валовая конверсия</th>\n",
       "      <td>0.206250</td>\n",
       "      <td>0.0100</td>\n",
       "      <td>400.0</td>\n",
       "      <td>0.0202</td>\n",
       "    </tr>\n",
       "    <tr>\n",
       "      <th>Удержание</th>\n",
       "      <td>0.530000</td>\n",
       "      <td>0.0100</td>\n",
       "      <td>82.5</td>\n",
       "      <td>0.0549</td>\n",
       "    </tr>\n",
       "    <tr>\n",
       "      <th>Чистая конверсия</th>\n",
       "      <td>0.109313</td>\n",
       "      <td>0.0075</td>\n",
       "      <td>400.0</td>\n",
       "      <td>0.0156</td>\n",
       "    </tr>\n",
       "  </tbody>\n",
       "</table>\n",
       "</div>"
      ],
      "text/plain": [
       "                      Value     MDE      n      se\n",
       "Валовая конверсия  0.206250  0.0100  400.0  0.0202\n",
       "Удержание          0.530000  0.0100   82.5  0.0549\n",
       "Чистая конверсия   0.109313  0.0075  400.0  0.0156"
      ]
     },
     "execution_count": 3,
     "metadata": {},
     "output_type": "execute_result"
    }
   ],
   "source": [
    "scale = 5000 / 40_000\n",
    "\n",
    "eval_metric = baseline.iloc[-3:].copy()\n",
    "eval_metric.index = [\"Валовая конверсия\", \"Удержание\", \"Чистая конверсия\"]\n",
    "eval_metric[\"n\"] = np.array([3200, 660, 3200]) * scale\n",
    "eval_metric[\"se\"] = round(np.sqrt(eval_metric[\"Value\"] * (1 - eval_metric[\"Value\"]) / eval_metric['n']), 4)\n",
    "eval_metric"
   ]
  },
  {
   "cell_type": "markdown",
   "id": "e552c86f",
   "metadata": {},
   "source": [
    "# Выбор размера выборок с учетом мощности"
   ]
  },
  {
   "cell_type": "code",
   "execution_count": 4,
   "id": "40ca018c",
   "metadata": {},
   "outputs": [],
   "source": [
    "alpha = 0.05\n",
    "beta = 0.2"
   ]
  },
  {
   "cell_type": "markdown",
   "id": "ca359948",
   "metadata": {},
   "source": [
    "Определить требуемое кол-во просмотров страницы:\n",
    "+ По [калькулятору](https://www.evanmiller.org/ab-testing/sample-size.html)\n",
    "посчитали размер выборок\n",
    "+ Домножили на маштабируемый коэффициент для *Просмотр страницы*\n",
    "+ Умножили на 2, так как две выборки: A и B"
   ]
  },
  {
   "cell_type": "code",
   "execution_count": 5,
   "id": "12c7415f",
   "metadata": {},
   "outputs": [
    {
     "data": {
      "text/html": [
       "<div>\n",
       "<style scoped>\n",
       "    .dataframe tbody tr th:only-of-type {\n",
       "        vertical-align: middle;\n",
       "    }\n",
       "\n",
       "    .dataframe tbody tr th {\n",
       "        vertical-align: top;\n",
       "    }\n",
       "\n",
       "    .dataframe thead th {\n",
       "        text-align: right;\n",
       "    }\n",
       "</style>\n",
       "<table border=\"1\" class=\"dataframe\">\n",
       "  <thead>\n",
       "    <tr style=\"text-align: right;\">\n",
       "      <th></th>\n",
       "      <th>Value</th>\n",
       "      <th>MDE</th>\n",
       "      <th>n</th>\n",
       "      <th>se</th>\n",
       "      <th>sample_size</th>\n",
       "      <th>pageviews</th>\n",
       "    </tr>\n",
       "  </thead>\n",
       "  <tbody>\n",
       "    <tr>\n",
       "      <th>Валовая конверсия</th>\n",
       "      <td>0.206250</td>\n",
       "      <td>0.0100</td>\n",
       "      <td>400.0</td>\n",
       "      <td>0.0202</td>\n",
       "      <td>25835</td>\n",
       "      <td>6.458750e+05</td>\n",
       "    </tr>\n",
       "    <tr>\n",
       "      <th>Удержание</th>\n",
       "      <td>0.530000</td>\n",
       "      <td>0.0100</td>\n",
       "      <td>82.5</td>\n",
       "      <td>0.0549</td>\n",
       "      <td>39115</td>\n",
       "      <td>4.741212e+06</td>\n",
       "    </tr>\n",
       "    <tr>\n",
       "      <th>Чистая конверсия</th>\n",
       "      <td>0.109313</td>\n",
       "      <td>0.0075</td>\n",
       "      <td>400.0</td>\n",
       "      <td>0.0156</td>\n",
       "      <td>27563</td>\n",
       "      <td>6.890750e+05</td>\n",
       "    </tr>\n",
       "  </tbody>\n",
       "</table>\n",
       "</div>"
      ],
      "text/plain": [
       "                      Value     MDE      n      se  sample_size     pageviews\n",
       "Валовая конверсия  0.206250  0.0100  400.0  0.0202        25835  6.458750e+05\n",
       "Удержание          0.530000  0.0100   82.5  0.0549        39115  4.741212e+06\n",
       "Чистая конверсия   0.109313  0.0075  400.0  0.0156        27563  6.890750e+05"
      ]
     },
     "execution_count": 5,
     "metadata": {},
     "output_type": "execute_result"
    }
   ],
   "source": [
    "eval_metric['sample_size'] = [25_835, 39_115, 27_563]\n",
    "eval_metric['pageviews'] = eval_metric['sample_size'] * np.array([40000 / 3200, 40000 / 660, 40000 / 3200])\n",
    "eval_metric['pageviews'] = eval_metric['pageviews'] * 2\n",
    "eval_metric"
   ]
  },
  {
   "cell_type": "code",
   "execution_count": 6,
   "id": "24bcf299",
   "metadata": {},
   "outputs": [
    {
     "name": "stdout",
     "output_type": "stream",
     "text": [
      "Требуемое количество просмотров: 4,741,212\n"
     ]
    }
   ],
   "source": [
    "print(f\"Требуемое количество просмотров: {round(eval_metric['pageviews'].max()):,}\")"
   ]
  },
  {
   "cell_type": "markdown",
   "id": "e0a93bdd",
   "metadata": {},
   "source": [
    "# Продолжительность"
   ]
  },
  {
   "cell_type": "code",
   "execution_count": 7,
   "id": "ce424274",
   "metadata": {},
   "outputs": [
    {
     "data": {
      "text/html": [
       "<div>\n",
       "<style scoped>\n",
       "    .dataframe tbody tr th:only-of-type {\n",
       "        vertical-align: middle;\n",
       "    }\n",
       "\n",
       "    .dataframe tbody tr th {\n",
       "        vertical-align: top;\n",
       "    }\n",
       "\n",
       "    .dataframe thead th {\n",
       "        text-align: right;\n",
       "    }\n",
       "</style>\n",
       "<table border=\"1\" class=\"dataframe\">\n",
       "  <thead>\n",
       "    <tr style=\"text-align: right;\">\n",
       "      <th></th>\n",
       "      <th>Value</th>\n",
       "      <th>MDE</th>\n",
       "      <th>n</th>\n",
       "      <th>se</th>\n",
       "      <th>sample_size</th>\n",
       "      <th>pageviews</th>\n",
       "      <th>duration</th>\n",
       "    </tr>\n",
       "  </thead>\n",
       "  <tbody>\n",
       "    <tr>\n",
       "      <th>Валовая конверсия</th>\n",
       "      <td>0.206250</td>\n",
       "      <td>0.0100</td>\n",
       "      <td>400.0</td>\n",
       "      <td>0.0202</td>\n",
       "      <td>25835</td>\n",
       "      <td>6.458750e+05</td>\n",
       "      <td>17.0</td>\n",
       "    </tr>\n",
       "    <tr>\n",
       "      <th>Удержание</th>\n",
       "      <td>0.530000</td>\n",
       "      <td>0.0100</td>\n",
       "      <td>82.5</td>\n",
       "      <td>0.0549</td>\n",
       "      <td>39115</td>\n",
       "      <td>4.741212e+06</td>\n",
       "      <td>119.0</td>\n",
       "    </tr>\n",
       "    <tr>\n",
       "      <th>Чистая конверсия</th>\n",
       "      <td>0.109313</td>\n",
       "      <td>0.0075</td>\n",
       "      <td>400.0</td>\n",
       "      <td>0.0156</td>\n",
       "      <td>27563</td>\n",
       "      <td>6.890750e+05</td>\n",
       "      <td>18.0</td>\n",
       "    </tr>\n",
       "  </tbody>\n",
       "</table>\n",
       "</div>"
      ],
      "text/plain": [
       "                      Value     MDE      n      se  sample_size     pageviews  \\\n",
       "Валовая конверсия  0.206250  0.0100  400.0  0.0202        25835  6.458750e+05   \n",
       "Удержание          0.530000  0.0100   82.5  0.0549        39115  4.741212e+06   \n",
       "Чистая конверсия   0.109313  0.0075  400.0  0.0156        27563  6.890750e+05   \n",
       "\n",
       "                   duration  \n",
       "Валовая конверсия      17.0  \n",
       "Удержание             119.0  \n",
       "Чистая конверсия       18.0  "
      ]
     },
     "execution_count": 7,
     "metadata": {},
     "output_type": "execute_result"
    }
   ],
   "source": [
    "fraq = 1\n",
    "eval_metric['duration'] = np.ceil(eval_metric['pageviews'] / (40_000 * fraq))\n",
    "eval_metric"
   ]
  },
  {
   "cell_type": "code",
   "execution_count": 8,
   "id": "16f5826d",
   "metadata": {},
   "outputs": [
    {
     "name": "stdout",
     "output_type": "stream",
     "text": [
      "Процент трафика для эксперимента: 100%\n",
      "Продолжительность эксперимента: 18 дней\n"
     ]
    }
   ],
   "source": [
    "print(\"Процент трафика для эксперимента: 100%\")\n",
    "print(\"Продолжительность эксперимента: 18 дней\")"
   ]
  },
  {
   "cell_type": "markdown",
   "id": "44b5a70d",
   "metadata": {},
   "source": [
    "**Удержание** не сможем проанализировать, так как для него нужно значительно больше времени"
   ]
  },
  {
   "cell_type": "markdown",
   "id": "477c2e21",
   "metadata": {},
   "source": [
    "# Анализ"
   ]
  },
  {
   "cell_type": "code",
   "execution_count": 9,
   "id": "22daa916",
   "metadata": {},
   "outputs": [
    {
     "data": {
      "text/html": [
       "<div>\n",
       "<style scoped>\n",
       "    .dataframe tbody tr th:only-of-type {\n",
       "        vertical-align: middle;\n",
       "    }\n",
       "\n",
       "    .dataframe tbody tr th {\n",
       "        vertical-align: top;\n",
       "    }\n",
       "\n",
       "    .dataframe thead th {\n",
       "        text-align: right;\n",
       "    }\n",
       "</style>\n",
       "<table border=\"1\" class=\"dataframe\">\n",
       "  <thead>\n",
       "    <tr style=\"text-align: right;\">\n",
       "      <th></th>\n",
       "      <th>Date</th>\n",
       "      <th>Pageviews</th>\n",
       "      <th>Clicks</th>\n",
       "      <th>Enrollments</th>\n",
       "      <th>Payments</th>\n",
       "    </tr>\n",
       "  </thead>\n",
       "  <tbody>\n",
       "    <tr>\n",
       "      <th>0</th>\n",
       "      <td>Sat, Oct 11</td>\n",
       "      <td>7723</td>\n",
       "      <td>687</td>\n",
       "      <td>134.0</td>\n",
       "      <td>70.0</td>\n",
       "    </tr>\n",
       "    <tr>\n",
       "      <th>1</th>\n",
       "      <td>Sun, Oct 12</td>\n",
       "      <td>9102</td>\n",
       "      <td>779</td>\n",
       "      <td>147.0</td>\n",
       "      <td>70.0</td>\n",
       "    </tr>\n",
       "    <tr>\n",
       "      <th>2</th>\n",
       "      <td>Mon, Oct 13</td>\n",
       "      <td>10511</td>\n",
       "      <td>909</td>\n",
       "      <td>167.0</td>\n",
       "      <td>95.0</td>\n",
       "    </tr>\n",
       "    <tr>\n",
       "      <th>3</th>\n",
       "      <td>Tue, Oct 14</td>\n",
       "      <td>9871</td>\n",
       "      <td>836</td>\n",
       "      <td>156.0</td>\n",
       "      <td>105.0</td>\n",
       "    </tr>\n",
       "    <tr>\n",
       "      <th>4</th>\n",
       "      <td>Wed, Oct 15</td>\n",
       "      <td>10014</td>\n",
       "      <td>837</td>\n",
       "      <td>163.0</td>\n",
       "      <td>64.0</td>\n",
       "    </tr>\n",
       "  </tbody>\n",
       "</table>\n",
       "</div>"
      ],
      "text/plain": [
       "          Date  Pageviews  Clicks  Enrollments  Payments\n",
       "0  Sat, Oct 11       7723     687        134.0      70.0\n",
       "1  Sun, Oct 12       9102     779        147.0      70.0\n",
       "2  Mon, Oct 13      10511     909        167.0      95.0\n",
       "3  Tue, Oct 14       9871     836        156.0     105.0\n",
       "4  Wed, Oct 15      10014     837        163.0      64.0"
      ]
     },
     "execution_count": 9,
     "metadata": {},
     "output_type": "execute_result"
    }
   ],
   "source": [
    "df_A = pd.read_excel(\"data/Final Project Results.xlsx\", sheet_name=\"Control\")\n",
    "df_A.head()"
   ]
  },
  {
   "cell_type": "code",
   "execution_count": 10,
   "id": "bd9c1c6d",
   "metadata": {},
   "outputs": [
    {
     "data": {
      "text/html": [
       "<div>\n",
       "<style scoped>\n",
       "    .dataframe tbody tr th:only-of-type {\n",
       "        vertical-align: middle;\n",
       "    }\n",
       "\n",
       "    .dataframe tbody tr th {\n",
       "        vertical-align: top;\n",
       "    }\n",
       "\n",
       "    .dataframe thead th {\n",
       "        text-align: right;\n",
       "    }\n",
       "</style>\n",
       "<table border=\"1\" class=\"dataframe\">\n",
       "  <thead>\n",
       "    <tr style=\"text-align: right;\">\n",
       "      <th></th>\n",
       "      <th>Date</th>\n",
       "      <th>Pageviews</th>\n",
       "      <th>Clicks</th>\n",
       "      <th>Enrollments</th>\n",
       "      <th>Payments</th>\n",
       "    </tr>\n",
       "  </thead>\n",
       "  <tbody>\n",
       "    <tr>\n",
       "      <th>0</th>\n",
       "      <td>Sat, Oct 11</td>\n",
       "      <td>7716</td>\n",
       "      <td>686</td>\n",
       "      <td>105.0</td>\n",
       "      <td>34.0</td>\n",
       "    </tr>\n",
       "    <tr>\n",
       "      <th>1</th>\n",
       "      <td>Sun, Oct 12</td>\n",
       "      <td>9288</td>\n",
       "      <td>785</td>\n",
       "      <td>116.0</td>\n",
       "      <td>91.0</td>\n",
       "    </tr>\n",
       "    <tr>\n",
       "      <th>2</th>\n",
       "      <td>Mon, Oct 13</td>\n",
       "      <td>10480</td>\n",
       "      <td>884</td>\n",
       "      <td>145.0</td>\n",
       "      <td>79.0</td>\n",
       "    </tr>\n",
       "    <tr>\n",
       "      <th>3</th>\n",
       "      <td>Tue, Oct 14</td>\n",
       "      <td>9867</td>\n",
       "      <td>827</td>\n",
       "      <td>138.0</td>\n",
       "      <td>92.0</td>\n",
       "    </tr>\n",
       "    <tr>\n",
       "      <th>4</th>\n",
       "      <td>Wed, Oct 15</td>\n",
       "      <td>9793</td>\n",
       "      <td>832</td>\n",
       "      <td>140.0</td>\n",
       "      <td>94.0</td>\n",
       "    </tr>\n",
       "  </tbody>\n",
       "</table>\n",
       "</div>"
      ],
      "text/plain": [
       "          Date  Pageviews  Clicks  Enrollments  Payments\n",
       "0  Sat, Oct 11       7716     686        105.0      34.0\n",
       "1  Sun, Oct 12       9288     785        116.0      91.0\n",
       "2  Mon, Oct 13      10480     884        145.0      79.0\n",
       "3  Tue, Oct 14       9867     827        138.0      92.0\n",
       "4  Wed, Oct 15       9793     832        140.0      94.0"
      ]
     },
     "execution_count": 10,
     "metadata": {},
     "output_type": "execute_result"
    }
   ],
   "source": [
    "df_B = pd.read_excel(\"data/Final Project Results.xlsx\", sheet_name=\"Experiment\")\n",
    "df_B.head()"
   ]
  },
  {
   "cell_type": "markdown",
   "id": "59b7ac53",
   "metadata": {},
   "source": [
    "## Проверка работоспособности эксперимента"
   ]
  },
  {
   "cell_type": "code",
   "execution_count": 11,
   "id": "0bedf887",
   "metadata": {},
   "outputs": [],
   "source": [
    "from scipy import stats"
   ]
  },
  {
   "cell_type": "code",
   "execution_count": 188,
   "id": "b9a9d09a",
   "metadata": {},
   "outputs": [],
   "source": [
    "def plot_ci_interval(observed, error, h_0, mde=None, name=''):\n",
    "    fig, ax = plt.subplots(figsize=(6, 1))\n",
    "    ax.yaxis.set_label_position(\"right\")\n",
    "    ax.yaxis.tick_right()\n",
    "    \n",
    "    ax.errorbar(x=observed, y=name, xerr=error, fmt='o', color='orange',\n",
    "                ecolor='lightgreen', elinewidth=5, capsize=20, capthick=2)\n",
    "    ax.axvline(h_0, color='red', ls='--')\n",
    "\n",
    "    y_max = ax.get_ylim()[1]\n",
    "    y = y_max + 0.2 * y_max\n",
    "    ax.text(h_0, y, 'H0', ha='center', weight='bold')\n",
    "    \n",
    "    if mde:\n",
    "        mde = -mde if observed < h_0 else mde\n",
    "        ax.axvline(mde, ls='--')\n",
    "        ax.text(mde, y, 'MDE', ha='center', weight='bold')\n",
    "    "
   ]
  },
  {
   "cell_type": "markdown",
   "id": "7815aec9",
   "metadata": {},
   "source": [
    "`stats.norm.ppf(0.975)` - вернёт z-значение для 97.5% вероятности"
   ]
  },
  {
   "cell_type": "code",
   "execution_count": 12,
   "id": "4b41d677",
   "metadata": {},
   "outputs": [
    {
     "data": {
      "text/plain": [
       "1.959963984540054"
      ]
     },
     "execution_count": 12,
     "metadata": {},
     "output_type": "execute_result"
    }
   ],
   "source": [
    "stats.norm.ppf(0.975)"
   ]
  },
  {
   "cell_type": "markdown",
   "id": "2ca95865",
   "metadata": {},
   "source": [
    "### Количество просмотров и кликов\n",
    "\n",
    "1. Разделение на группы сделано рандомным с вероятностью 50%\n",
    "2. Сравнить наблюдаемую долю с ожидаемой 0.5 исходя из биноминального-нормального распределения"
   ]
  },
  {
   "cell_type": "code",
   "execution_count": 42,
   "id": "5afbf089",
   "metadata": {},
   "outputs": [
    {
     "data": {
      "text/html": [
       "<div>\n",
       "<style scoped>\n",
       "    .dataframe tbody tr th:only-of-type {\n",
       "        vertical-align: middle;\n",
       "    }\n",
       "\n",
       "    .dataframe tbody tr th {\n",
       "        vertical-align: top;\n",
       "    }\n",
       "\n",
       "    .dataframe thead th {\n",
       "        text-align: right;\n",
       "    }\n",
       "</style>\n",
       "<table border=\"1\" class=\"dataframe\">\n",
       "  <thead>\n",
       "    <tr style=\"text-align: right;\">\n",
       "      <th></th>\n",
       "      <th>A</th>\n",
       "      <th>B</th>\n",
       "      <th>total</th>\n",
       "      <th>p</th>\n",
       "      <th>se</th>\n",
       "      <th>error</th>\n",
       "      <th>CI_lower</th>\n",
       "      <th>CI_upper</th>\n",
       "      <th>Observed_A</th>\n",
       "      <th>pass</th>\n",
       "    </tr>\n",
       "  </thead>\n",
       "  <tbody>\n",
       "    <tr>\n",
       "      <th>Pageviews</th>\n",
       "      <td>345543</td>\n",
       "      <td>344660</td>\n",
       "      <td>690203</td>\n",
       "      <td>0.5</td>\n",
       "      <td>0.0006</td>\n",
       "      <td>0.0012</td>\n",
       "      <td>0.4988</td>\n",
       "      <td>0.5012</td>\n",
       "      <td>0.5006</td>\n",
       "      <td>True</td>\n",
       "    </tr>\n",
       "    <tr>\n",
       "      <th>Clicks</th>\n",
       "      <td>28378</td>\n",
       "      <td>28325</td>\n",
       "      <td>56703</td>\n",
       "      <td>0.5</td>\n",
       "      <td>0.0021</td>\n",
       "      <td>0.0041</td>\n",
       "      <td>0.4959</td>\n",
       "      <td>0.5041</td>\n",
       "      <td>0.5005</td>\n",
       "      <td>True</td>\n",
       "    </tr>\n",
       "  </tbody>\n",
       "</table>\n",
       "</div>"
      ],
      "text/plain": [
       "                A       B   total    p      se   error  CI_lower  CI_upper  \\\n",
       "Pageviews  345543  344660  690203  0.5  0.0006  0.0012    0.4988    0.5012   \n",
       "Clicks      28378   28325   56703  0.5  0.0021  0.0041    0.4959    0.5041   \n",
       "\n",
       "           Observed_A  pass  \n",
       "Pageviews      0.5006  True  \n",
       "Clicks         0.5005  True  "
      ]
     },
     "execution_count": 42,
     "metadata": {},
     "output_type": "execute_result"
    }
   ],
   "source": [
    "p = 0.5\n",
    "alpha = 0.05\n",
    "\n",
    "df_ivariant = pd.DataFrame({\"A\": df_A.iloc[:, 1:3].sum(),\n",
    "                            \"B\": df_B.iloc[:, 1:3].sum()}\n",
    "                           )\n",
    "df_ivariant[\"total\"] = df_ivariant[\"A\"] + df_ivariant[\"B\"]\n",
    "df_ivariant[\"p\"] = p\n",
    "df_ivariant[\"se\"] = np.sqrt(p * (1 - p) / df_ivariant[\"total\"])\n",
    "df_ivariant[\"error\"] = stats.norm.ppf(1-alpha/2) * df_ivariant[\"se\"]\n",
    "df_ivariant[\"CI_lower\"] = df_ivariant[\"p\"] - df_ivariant[\"error\"]\n",
    "df_ivariant[\"CI_upper\"] = df_ivariant[\"p\"] + df_ivariant[\"error\"]\n",
    "df_ivariant[\"Observed_A\"] = df_ivariant[\"A\"] / df_ivariant[\"total\"]\n",
    "df_ivariant[\"pass\"] = ((df_ivariant[\"CI_lower\"] <= df_ivariant[\"Observed_A\"]) \n",
    "                       & (df_ivariant[\"Observed_A\"] <= df_ivariant[\"CI_upper\"]))\n",
    "df_ivariant.round(4)"
   ]
  },
  {
   "cell_type": "code",
   "execution_count": 189,
   "id": "8affdfbd",
   "metadata": {},
   "outputs": [
    {
     "data": {
      "image/png": "[encoded data removed]",
      "text/plain": [
       "<Figure size 600x100 with 1 Axes>"
      ]
     },
     "metadata": {},
     "output_type": "display_data"
    },
    {
     "data": {
      "image/png": "[encoded data removed]",
      "text/plain": [
       "<Figure size 600x100 with 1 Axes>"
      ]
     },
     "metadata": {},
     "output_type": "display_data"
    }
   ],
   "source": [
    "for metric in [\"Pageviews\", \"Clicks\"]:\n",
    "    val = df_ivariant.loc[metric]\n",
    "    plot_ci_interval(observed=val[\"Observed_A\"], \n",
    "                     error=val[\"error\"], \n",
    "                     h_0=0.5, \n",
    "                     name=metric)"
   ]
  },
  {
   "cell_type": "markdown",
   "id": "dbe3ad56",
   "metadata": {},
   "source": [
    "### CTP\n",
    "\n",
    "+ Проверить разность CTP в группах, предполагая что она равна 0"
   ]
  },
  {
   "cell_type": "code",
   "execution_count": 14,
   "id": "c4ab87b2",
   "metadata": {},
   "outputs": [],
   "source": [
    "def get_p_pool(x_A, x_B, n_A, n_B):\n",
    "    return (x_A + x_B) / (n_A + n_B)\n",
    "\n",
    "def get_se_pool(p_pool, n_A, n_B):\n",
    "    return np.sqrt(p_pool * (1 - p_pool) * (1 / n_A + 1 / n_B))"
   ]
  },
  {
   "cell_type": "code",
   "execution_count": 43,
   "id": "1815b11d",
   "metadata": {},
   "outputs": [
    {
     "data": {
      "text/html": [
       "<div>\n",
       "<style scoped>\n",
       "    .dataframe tbody tr th:only-of-type {\n",
       "        vertical-align: middle;\n",
       "    }\n",
       "\n",
       "    .dataframe tbody tr th {\n",
       "        vertical-align: top;\n",
       "    }\n",
       "\n",
       "    .dataframe thead th {\n",
       "        text-align: right;\n",
       "    }\n",
       "</style>\n",
       "<table border=\"1\" class=\"dataframe\">\n",
       "  <thead>\n",
       "    <tr style=\"text-align: right;\">\n",
       "      <th></th>\n",
       "      <th>A</th>\n",
       "      <th>B</th>\n",
       "      <th>p_pool</th>\n",
       "      <th>se_pool</th>\n",
       "      <th>error</th>\n",
       "      <th>CI_lower</th>\n",
       "      <th>CI_upper</th>\n",
       "      <th>Observed</th>\n",
       "      <th>pass</th>\n",
       "    </tr>\n",
       "  </thead>\n",
       "  <tbody>\n",
       "    <tr>\n",
       "      <th>CTP</th>\n",
       "      <td>0.0821</td>\n",
       "      <td>0.0822</td>\n",
       "      <td>0.0822</td>\n",
       "      <td>0.0007</td>\n",
       "      <td>0.0013</td>\n",
       "      <td>-0.0013</td>\n",
       "      <td>0.0013</td>\n",
       "      <td>0.0001</td>\n",
       "      <td>True</td>\n",
       "    </tr>\n",
       "  </tbody>\n",
       "</table>\n",
       "</div>"
      ],
      "text/plain": [
       "          A       B  p_pool  se_pool   error  CI_lower  CI_upper  Observed  \\\n",
       "CTP  0.0821  0.0822  0.0822   0.0007  0.0013   -0.0013    0.0013    0.0001   \n",
       "\n",
       "     pass  \n",
       "CTP  True  "
      ]
     },
     "execution_count": 43,
     "metadata": {},
     "output_type": "execute_result"
    }
   ],
   "source": [
    "n_A, n_B = df_ivariant.loc['Pageviews', ['A', 'B']]\n",
    "x_A, x_B = df_ivariant.loc['Clicks', ['A', 'B']]\n",
    "\n",
    "ctp = pd.DataFrame(data={\"A\": x_A / n_A,\n",
    "                         \"B\": x_B / n_B,\n",
    "                         },\n",
    "                   index=[\"CTP\"])\n",
    "\n",
    "ctp['p_pool'] = (x_A + x_B) / (n_A + n_B)\n",
    "ctp['se_pool'] = get_se_pool(ctp['p_pool'], n_A, n_B)\n",
    "ctp['error'] = ctp['se_pool'] * stats.norm.ppf(1-alpha/2)\n",
    "ctp[\"CI_lower\"] = -ctp['error']\n",
    "ctp[\"CI_upper\"] = ctp['error']\n",
    "ctp[\"Observed\"] = ctp['B'] - ctp['A']\n",
    "ctp[\"pass\"] = ((ctp[\"CI_lower\"] <= ctp[\"Observed\"])\n",
    "               & (ctp[\"Observed\"] <= ctp[\"CI_upper\"]))\n",
    "ctp.round(4)"
   ]
  },
  {
   "cell_type": "code",
   "execution_count": 191,
   "id": "cc3445ce",
   "metadata": {},
   "outputs": [
    {
     "data": {
      "image/png": "[encoded data removed]",
      "text/plain": [
       "<Figure size 600x100 with 1 Axes>"
      ]
     },
     "metadata": {},
     "output_type": "display_data"
    }
   ],
   "source": [
    "val = ctp.loc['CTP']\n",
    "plot_ci_interval(observed=val[\"Observed\"], \n",
    "                 error=val[\"error\"], \n",
    "                 h_0=0, \n",
    "                 name='CTP')"
   ]
  },
  {
   "cell_type": "markdown",
   "id": "5cbb4e00",
   "metadata": {},
   "source": [
    "## Проверка на практическую и статистическую значимость\n",
    "\n",
    "Метрика является статистически значимой, если доверительный интервал не включает 0 (то есть вы можете быть уверены, что изменение было), и практически значимым, если доверительный интервал не включает границу практической значимости (то есть вы можете уверен, что есть изменение, которое имеет значение для бизнеса.)"
   ]
  },
  {
   "cell_type": "code",
   "execution_count": 81,
   "id": "6511d46f",
   "metadata": {},
   "outputs": [
    {
     "data": {
      "text/html": [
       "<div>\n",
       "<style scoped>\n",
       "    .dataframe tbody tr th:only-of-type {\n",
       "        vertical-align: middle;\n",
       "    }\n",
       "\n",
       "    .dataframe tbody tr th {\n",
       "        vertical-align: top;\n",
       "    }\n",
       "\n",
       "    .dataframe thead th {\n",
       "        text-align: right;\n",
       "    }\n",
       "</style>\n",
       "<table border=\"1\" class=\"dataframe\">\n",
       "  <thead>\n",
       "    <tr style=\"text-align: right;\">\n",
       "      <th></th>\n",
       "      <th>A</th>\n",
       "      <th>B</th>\n",
       "    </tr>\n",
       "  </thead>\n",
       "  <tbody>\n",
       "    <tr>\n",
       "      <th>Clicks</th>\n",
       "      <td>17293.0</td>\n",
       "      <td>17260.0</td>\n",
       "    </tr>\n",
       "    <tr>\n",
       "      <th>Enrollments</th>\n",
       "      <td>3785.0</td>\n",
       "      <td>3423.0</td>\n",
       "    </tr>\n",
       "    <tr>\n",
       "      <th>Payments</th>\n",
       "      <td>2033.0</td>\n",
       "      <td>1945.0</td>\n",
       "    </tr>\n",
       "  </tbody>\n",
       "</table>\n",
       "</div>"
      ],
      "text/plain": [
       "                   A        B\n",
       "Clicks       17293.0  17260.0\n",
       "Enrollments   3785.0   3423.0\n",
       "Payments      2033.0   1945.0"
      ]
     },
     "execution_count": 81,
     "metadata": {},
     "output_type": "execute_result"
    }
   ],
   "source": [
    "effect_A = df_A.dropna()\n",
    "effect_B  = df_B.dropna()\n",
    "\n",
    "totals = pd.DataFrame({\"A\": effect_A .iloc[:, 2:].sum(), \n",
    "                       \"B\": effect_B.iloc[:, 2:].sum()})\n",
    "totals"
   ]
  },
  {
   "cell_type": "code",
   "execution_count": 82,
   "id": "268c5957",
   "metadata": {},
   "outputs": [
    {
     "data": {
      "text/html": [
       "<div>\n",
       "<style scoped>\n",
       "    .dataframe tbody tr th:only-of-type {\n",
       "        vertical-align: middle;\n",
       "    }\n",
       "\n",
       "    .dataframe tbody tr th {\n",
       "        vertical-align: top;\n",
       "    }\n",
       "\n",
       "    .dataframe thead th {\n",
       "        text-align: right;\n",
       "    }\n",
       "</style>\n",
       "<table border=\"1\" class=\"dataframe\">\n",
       "  <thead>\n",
       "    <tr style=\"text-align: right;\">\n",
       "      <th></th>\n",
       "      <th>x_A</th>\n",
       "      <th>x_B</th>\n",
       "      <th>n_A</th>\n",
       "      <th>n_B</th>\n",
       "      <th>A</th>\n",
       "      <th>B</th>\n",
       "      <th>p_pool</th>\n",
       "      <th>se_pool</th>\n",
       "      <th>error</th>\n",
       "      <th>Observed</th>\n",
       "      <th>MDE</th>\n",
       "      <th>CI_lower</th>\n",
       "      <th>CI_upper</th>\n",
       "      <th>Stat Significance</th>\n",
       "      <th>Practice Significance</th>\n",
       "    </tr>\n",
       "  </thead>\n",
       "  <tbody>\n",
       "    <tr>\n",
       "      <th>Валовая конверсия</th>\n",
       "      <td>3785.0</td>\n",
       "      <td>3423.0</td>\n",
       "      <td>17293.0</td>\n",
       "      <td>17260.0</td>\n",
       "      <td>0.2189</td>\n",
       "      <td>0.1983</td>\n",
       "      <td>0.2086</td>\n",
       "      <td>0.0044</td>\n",
       "      <td>0.0086</td>\n",
       "      <td>-0.0206</td>\n",
       "      <td>0.0100</td>\n",
       "      <td>-0.0291</td>\n",
       "      <td>-0.0120</td>\n",
       "      <td>True</td>\n",
       "      <td>True</td>\n",
       "    </tr>\n",
       "    <tr>\n",
       "      <th>Чистая конверсия</th>\n",
       "      <td>2033.0</td>\n",
       "      <td>1945.0</td>\n",
       "      <td>17293.0</td>\n",
       "      <td>17260.0</td>\n",
       "      <td>0.1176</td>\n",
       "      <td>0.1127</td>\n",
       "      <td>0.1151</td>\n",
       "      <td>0.0034</td>\n",
       "      <td>0.0067</td>\n",
       "      <td>-0.0049</td>\n",
       "      <td>0.0075</td>\n",
       "      <td>-0.0116</td>\n",
       "      <td>0.0019</td>\n",
       "      <td>False</td>\n",
       "      <td>False</td>\n",
       "    </tr>\n",
       "  </tbody>\n",
       "</table>\n",
       "</div>"
      ],
      "text/plain": [
       "                      x_A     x_B      n_A      n_B       A       B  p_pool  \\\n",
       "Валовая конверсия  3785.0  3423.0  17293.0  17260.0  0.2189  0.1983  0.2086   \n",
       "Чистая конверсия   2033.0  1945.0  17293.0  17260.0  0.1176  0.1127  0.1151   \n",
       "\n",
       "                   se_pool   error  Observed     MDE  CI_lower  CI_upper  \\\n",
       "Валовая конверсия   0.0044  0.0086   -0.0206  0.0100   -0.0291   -0.0120   \n",
       "Чистая конверсия    0.0034  0.0067   -0.0049  0.0075   -0.0116    0.0019   \n",
       "\n",
       "                   Stat Significance  Practice Significance  \n",
       "Валовая конверсия               True                   True  \n",
       "Чистая конверсия               False                  False  "
      ]
     },
     "execution_count": 82,
     "metadata": {},
     "output_type": "execute_result"
    }
   ],
   "source": [
    "clicks_A, clicks_B = totals.loc[\"Clicks\"]\n",
    "enrollments_A, enrollments_B = totals.loc[\"Enrollments\"]\n",
    "payments_A, payments_B = totals.loc[\"Payments\"]\n",
    "\n",
    "effect = pd.DataFrame({\"x_A\": [enrollments_A, payments_A], \n",
    "                       \"x_B\": [enrollments_B, payments_B],\n",
    "                       \"n_A\": [clicks_A, clicks_A], \n",
    "                       \"n_B\": [clicks_B, clicks_B]\n",
    "                       }, \n",
    "                      index=[\"Валовая конверсия\", \"Чистая конверсия\"])\n",
    "effect[\"A\"] = effect[\"x_A\"] / effect[\"n_A\"]\n",
    "effect[\"B\"] = effect[\"x_B\"] / effect[\"n_B\"]\n",
    "effect[\"p_pool\"] = (effect[\"x_A\"] + effect[\"x_B\"]) / (effect[\"n_A\"] + effect[\"n_B\"])\n",
    "effect[\"se_pool\"] = get_se_pool(effect[\"p_pool\"], effect[\"n_A\"], effect[\"n_B\"])\n",
    "effect[\"error\"] = effect[\"se_pool\"] * stats.norm.ppf(1-alpha/2)\n",
    "effect[\"Observed\"] = effect['B'] - effect['A']\n",
    "effect[\"MDE\"] = [0.01, 0.0075]\n",
    "effect[\"CI_lower\"] = effect[\"Observed\"] - effect['error']\n",
    "effect[\"CI_upper\"] = effect[\"Observed\"] + effect['error']\n",
    "effect[\"Stat Significance\"] = ((effect[\"CI_lower\"] > 0) | (effect[\"CI_upper\"] < 0))\n",
    "effect[\"Practice Significance\"] = (effect[[\"CI_lower\", \"CI_upper\"]].abs().min(1) > effect[\"MDE\"])\n",
    "effect.round(4)"
   ]
  },
  {
   "cell_type": "code",
   "execution_count": 190,
   "id": "ffbec471",
   "metadata": {},
   "outputs": [
    {
     "data": {
      "image/png": "[encoded data removed]",
      "text/plain": [
       "<Figure size 600x100 with 1 Axes>"
      ]
     },
     "metadata": {},
     "output_type": "display_data"
    },
    {
     "data": {
      "image/png": "[encoded data removed]",
      "text/plain": [
       "<Figure size 600x100 with 1 Axes>"
      ]
     },
     "metadata": {},
     "output_type": "display_data"
    }
   ],
   "source": [
    "for metric in [\"Валовая конверсия\", \"Чистая конверсия\"]:\n",
    "    val = effect.loc[metric]\n",
    "    plot_ci_interval(observed=val[\"Observed\"], \n",
    "                     error=val[\"error\"], \n",
    "                     h_0=0, \n",
    "                     mde=val[\"MDE\"], \n",
    "                     name=metric)"
   ]
  },
  {
   "cell_type": "markdown",
   "id": "648382c9",
   "metadata": {},
   "source": [
    "## Тест на направление эффекта\n",
    "\n",
    "+ предполагая что конверсия рандомно колеблется в меньшую и большую сторону с верочтностью 50%, определим статисчическую значимость наблюдаемых знаков.\n",
    "+ [калькулятор](https://www.graphpad.com/quickcalcs/binomial1.cfm)\n",
    "+ `stats.binom.pmf(x, n, p)` - точечная биномиальная вероятность\n",
    "+ `stats.binom.cdf(x, n, p)` - кумулятивная биномиальная вероятность"
   ]
  },
  {
   "cell_type": "code",
   "execution_count": 118,
   "id": "38426eba",
   "metadata": {},
   "outputs": [
    {
     "name": "stdout",
     "output_type": "stream",
     "text": [
      "Всего испытаний: 23\n",
      "Валовая конверсия (A<B): 4\n",
      "Чистая конверсия (A<B): 10\n"
     ]
    }
   ],
   "source": [
    "n = len(effect_A)\n",
    "\n",
    "gross_conversion_A = effect_A[\"Enrollments\"] /  effect_A[\"Clicks\"]\n",
    "gross_conversion_B = effect_B[\"Enrollments\"] /  effect_B[\"Clicks\"]\n",
    "\n",
    "net_conversion_A = effect_A[\"Payments\"] /  effect_A[\"Clicks\"]\n",
    "net_conversion_B = effect_B[\"Payments\"] /  effect_B[\"Clicks\"]\n",
    "\n",
    "gross_sign = (gross_conversion_A < gross_conversion_B).sum()\n",
    "net_sign = (net_conversion_A < net_conversion_B).sum()\n",
    "print(f'Всего испытаний: {n}')\n",
    "print(f'Валовая конверсия (A<B): {gross_sign}')\n",
    "print(f'Чистая конверсия (A<B): {net_sign}')"
   ]
  },
  {
   "cell_type": "code",
   "execution_count": 119,
   "id": "620641a8",
   "metadata": {},
   "outputs": [
    {
     "data": {
      "text/plain": [
       "0.002599477767944336"
      ]
     },
     "execution_count": 119,
     "metadata": {},
     "output_type": "execute_result"
    }
   ],
   "source": [
    "stats.binom.cdf(k=gross_sign, n=n, p=0.5) * 2"
   ]
  },
  {
   "cell_type": "code",
   "execution_count": 120,
   "id": "8bbc03c5",
   "metadata": {},
   "outputs": [
    {
     "data": {
      "text/plain": [
       "0.6776394844055176"
      ]
     },
     "execution_count": 120,
     "metadata": {},
     "output_type": "execute_result"
    }
   ],
   "source": [
    "stats.binom.cdf(k=net_sign, n=n, p=0.5) * 2"
   ]
  },
  {
   "cell_type": "markdown",
   "id": "1eb2c94d",
   "metadata": {},
   "source": [
    "Вывод: Валовая конверсия статистически значима, Чистая конверсия статистически не значима"
   ]
  },
  {
   "cell_type": "markdown",
   "id": "e643ff8a",
   "metadata": {},
   "source": [
    "# Рекомендации\n",
    "\n",
    "Изменения не запускать в продакш, так как результаты эксперимента показали статистическую и практическую НЕ значимость изменения *Чистой конверсии*, а изменение *Валовой конверсии* оказалось статистически и практически значимым в негативную сторону (в принципе ожидаемо, так как измение отсеивало часть студентов)"
   ]
  }
 ],
 "metadata": {
  "kernelspec": {
   "display_name": "Python 3 (ipykernel)",
   "language": "python",
   "name": "python3"
  },
  "language_info": {
   "codemirror_mode": {
    "name": "ipython",
    "version": 3
   },
   "file_extension": ".py",
   "mimetype": "text/x-python",
   "name": "python",
   "nbconvert_exporter": "python",
   "pygments_lexer": "ipython3",
   "version": "3.8.13"
  },
  "toc": {
   "base_numbering": 1,
   "nav_menu": {},
   "number_sections": true,
   "sideBar": true,
   "skip_h1_title": false,
   "title_cell": "Table of Contents",
   "title_sidebar": "Contents",
   "toc_cell": false,
   "toc_position": {},
   "toc_section_display": true,
   "toc_window_display": false
  }
 },
 "nbformat": 4,
 "nbformat_minor": 5
}
