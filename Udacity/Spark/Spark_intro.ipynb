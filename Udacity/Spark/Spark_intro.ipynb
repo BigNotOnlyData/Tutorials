{
 "cells": [
  {
   "cell_type": "markdown",
   "id": "31b8a4ad",
   "metadata": {},
   "source": [
    "# Введение в Spark\n",
    "\n",
    "**Spark** - фреймоврк для обработки Big Data.\n",
    "+ https://spark.apache.org/\n",
    "+ https://www.bigdataschool.ru/wiki/spark\n",
    "\n",
    "\n",
    "\n",
    "## Hardware\n",
    "\n",
    "+ **Процессор (CPU)** - \"мозг компьютера\". Каждый процесс в комьютере обрабатывается CPU.\n",
    "+ **Оперативная память, ОЗУ (Memory, RAM)** — это временное хранилище данных перед отправкой их в CPU при запуске программ. Очищается при выключение комьютера.\n",
    "+ **Долговременная память (Storage, SSD или Magnetic Disk)** - хранит данные в течение длительного периода. При запуске программ ОЗУ загружает данные из этого хранилища.\n",
    "+ **Сеть (Network - LAN или Internet)** - это шлюз для всего, что вам нужно, но не хранится на вашем компьютере.\n",
    "\n",
    "![Hardware](img/hardware.png)\n",
    "\n",
    "📌Операции в оперативной памяти выполняются относительно быстро по сравнению с чтением и записью с диска или перемещением данных по сети. Однако ОЗУ стоит дорого, и данные, хранящиеся в ОЗУ, стираются при выключении компьютера.\n",
    "\n",
    "📌Передача данных по сети, т.е. между компьютерами, является самым большим узким местом при работе с большими данными. Одним из преимуществ *Spark* является то, что он перетасовывает данные между компьютерами только тогда, когда это необходимо.\n",
    "\n",
    "## Distributed Calculation\n",
    "![](img/distributed_parallel.png)\n",
    "📌На высоком уровне *распределенные вычисления* подразумевают несколько процессоров, каждый со своей собственной памятью. *Параллельные вычисления* используют несколько процессоров, совместно использующих одну и ту же память.\n",
    "\n",
    "## Экосистема Hadoop\n",
    "**Hadoop** - экосистема инструментов (более старая чем *Spark*) для хранения и анализа больших данных. Основное различие между *Spark* и *Hadoop* заключается в том, как они используют память. *Hadoop* записывает промежуточные результаты на диск, тогда как *Spark* пытается по возможности сохранять данные в памяти. Это делает *Spark* быстрее во многих случаях использования.\n",
    "+ **Hadoop MapReduce** - система для параллельной обработки и анализа больших наборов данных.\n",
    "+ **Hadoop YARN** - менеджер ресурсов, который планирует задания в кластере. Менеджер отслеживает, какие компьютерные ресурсы доступны, а затем назначает эти ресурсы для конкретных задач.\n",
    "+ **Hadoop Distributed File System (HDFS)** - система хранения больших данных, которая разбивает данные на фрагменты и хранит фрагменты в кластере компьютеров.\n",
    "\n",
    "Пример схемы MapReduce:\n",
    "![MapReduce](img/mapreduce.png)\n",
    "\n",
    "   \n",
    "## Как работает Spark\n",
    "+ **driver**: исполняет программу\n",
    "  - исполняет код программы\n",
    "  - планирует и запускает *executor*\n",
    "+ **executor**: выполняет вычисления\n",
    "  - исполняет код, переданный *driver*\n",
    "  - отчитывается перед *driver* о состоянии процесса вычисления\n",
    "+ **cluster manager**: управляет физическими машинами и выделяет ресурсы *Spark* приложениям\n",
    "   - *Standalone*\n",
    "   - *YARN*\n",
    "   - *Mesos*\n",
    "   - *Kubernetes* \n",
    "   \n",
    "![](img\\cluster.png)   \n",
    "   \n",
    "## Spark modes\n",
    "📌 Возможность управления размещением процессов (*driver*, *executors*)\n",
    "\n",
    "+ **Local mode** - запуск *Spark* на собственном компьютере, как на одной машине (потоки).\n",
    "+ **Deploy modes**: запуск *Spark* на нескольких машинах. \n",
    "  - **Cluster mode** - Все в кластере\n",
    "  - **Client mode** - *driver* работает вне кластера, *executor*-ы в кластере   \n",
    "   \n",
    "   \n",
    "## Структуры данных в Spark   \n",
    "+ **RDD (resilient distributed dataset)** (отказоустойчивый распределенный датасет) - \n",
    "основной вычислительный примитив *Spark*. Это распределенная коллекция данных, размещенных на узлах кластера.  \n",
    "+ **DataFrame** - соответствует таблице в реляционной базе данных с улучшенной оптимизаций для распределенных вычислений\n",
    "+ **DataSet** - типизированный *DataFrame*\n",
    "\n",
    "## Методы Spark\n",
    "+ **transformation** - изменение объекта\n",
    "+ **action** - вычисление результата \n",
    "\n",
    "📌 **lazy evaluation** - *трансформации* выполняются только во время *действия*\n",
    "\n",
    "## Spark кластеры\n",
    "\n",
    "📌*Spark* не имеет собсвенной распределенной системы хранения.\n",
    "\n",
    "Вместо этого использует:\n",
    "+ *HDFS* (Hadoop Distributed File System)\n",
    "+ Облачное распределенное хранилище (например *AWS S3*)\n",
    "\n",
    "\n",
    "Благодаря гибкости расположения и снижению стоимости обслуживания облачные решения пользуются большей популярностью."
   ]
  },
  {
   "cell_type": "markdown",
   "id": "411a907a",
   "metadata": {},
   "source": [
    "# Обработка данных с помощью Spark"
   ]
  },
  {
   "cell_type": "markdown",
   "id": "d2194a97",
   "metadata": {},
   "source": [
    "+ [PySpark Tutorial](https://sparkbyexamples.com/pyspark-tutorial/) - здесь можно найти много полезного\n",
    "+ [medium: Introduction to PySpark](https://medium.com/the-researchers-guide/introduction-to-pyspark-a61f7217398e)\n",
    "+ [Руководство по PySpark для начинающих](https://pythonru.com/biblioteki/pyspark-dlja-nachinajushhih?ysclid=lditcls4ah385567956)\n",
    "+ [First Steps With PySpark and Big Data Processing](https://realpython.com/pyspark-intro/#pyspark-shell)\n",
    "\n",
    "YouTube:\n",
    "+ [Анализируем данные с помощью фреймворка Spark](https://youtu.be/McXK_ObP00c)\n",
    "+ [МИТАП \"Apache Spark за 2 часа - для нетерпеливых\"_20 апреля 2022г](https://youtu.be/xuMe6OFyQ2s)"
   ]
  },
  {
   "cell_type": "markdown",
   "id": "8d8242cd",
   "metadata": {},
   "source": [
    "## Установка"
   ]
  },
  {
   "cell_type": "markdown",
   "id": "a4312c41",
   "metadata": {},
   "source": [
    "Pyspark:\n",
    "+ По умолчанию в Jupyter не запускается - нужна установка Spark. \n",
    "+ По умолчанию запускается в Google Colab"
   ]
  },
  {
   "cell_type": "markdown",
   "id": "1bca2023",
   "metadata": {},
   "source": [
    "Уcтановка spark на Windows:\n",
    "+ https://naomi-fridman.medium.com/install-pyspark-to-run-on-jupyter-notebook-on-windows-4ec2009de21f"
   ]
  },
  {
   "cell_type": "markdown",
   "id": "a9495bb8",
   "metadata": {},
   "source": [
    "В моем случае (hadoop 3)\n",
    "+ https://github.com/dotnet/spark/discussions/986\n",
    "\n",
    "📌 `hadoop.dll` загружать вместе с `winutils.exe`"
   ]
  },
  {
   "cell_type": "code",
   "execution_count": 1,
   "id": "fdd1673d",
   "metadata": {},
   "outputs": [],
   "source": [
    "# !pip install pyspark\n",
    "# !pip install findspark"
   ]
  },
  {
   "cell_type": "code",
   "execution_count": 2,
   "id": "37edfe9f",
   "metadata": {},
   "outputs": [
    {
     "data": {
      "text/plain": [
       "'C:\\\\Programs\\\\Spark\\\\spark-3.3.1-bin-hadoop3'"
      ]
     },
     "execution_count": 2,
     "metadata": {},
     "output_type": "execute_result"
    }
   ],
   "source": [
    "import datetime\n",
    "\n",
    "from pyspark.sql import SparkSession\n",
    "import pyspark.sql.functions as F\n",
    "from pyspark.sql import Window\n",
    "from pyspark.sql.types import IntegerType\n",
    "\n",
    "import findspark\n",
    "findspark.init()\n",
    "findspark.find()"
   ]
  },
  {
   "cell_type": "markdown",
   "id": "faa702ef",
   "metadata": {},
   "source": [
    "## SparkSession - точка входа"
   ]
  },
  {
   "cell_type": "code",
   "execution_count": 2,
   "id": "fd72d98b",
   "metadata": {},
   "outputs": [],
   "source": [
    "# Первое создание сессии по времени может занять несколько минут\n",
    "spark = SparkSession.builder\\\n",
    "        .master(\"local[*]\")\\\n",
    "        .appName('PySpark_Tutorial')\\\n",
    "        .getOrCreate()"
   ]
  },
  {
   "cell_type": "code",
   "execution_count": 3,
   "id": "7a96a128",
   "metadata": {},
   "outputs": [
    {
     "data": {
      "text/html": [
       "\n",
       "            <div>\n",
       "                <p><b>SparkSession - in-memory</b></p>\n",
       "                \n",
       "        <div>\n",
       "            <p><b>SparkContext</b></p>\n",
       "\n",
       "            <p><a href=\"http://Rodion-pc:4040\">Spark UI</a></p>\n",
       "\n",
       "            <dl>\n",
       "              <dt>Version</dt>\n",
       "                <dd><code>v3.3.1</code></dd>\n",
       "              <dt>Master</dt>\n",
       "                <dd><code>local[*]</code></dd>\n",
       "              <dt>AppName</dt>\n",
       "                <dd><code>PySpark_Tutorial</code></dd>\n",
       "            </dl>\n",
       "        </div>\n",
       "        \n",
       "            </div>\n",
       "        "
      ],
      "text/plain": [
       "<pyspark.sql.session.SparkSession at 0x16bc4070a60>"
      ]
     },
     "execution_count": 3,
     "metadata": {},
     "output_type": "execute_result"
    }
   ],
   "source": [
    "spark"
   ]
  },
  {
   "cell_type": "code",
   "execution_count": 4,
   "id": "683b18d0",
   "metadata": {},
   "outputs": [],
   "source": [
    "# spark.sparkContext.getConf().getAll()"
   ]
  },
  {
   "cell_type": "code",
   "execution_count": 5,
   "id": "78c54b86",
   "metadata": {},
   "outputs": [],
   "source": [
    "# закрыть сессию\n",
    "# spark.stop()"
   ]
  },
  {
   "cell_type": "markdown",
   "id": "3f2f8e13",
   "metadata": {},
   "source": [
    "## Map"
   ]
  },
  {
   "cell_type": "code",
   "execution_count": 4,
   "id": "bd368fc4",
   "metadata": {},
   "outputs": [
    {
     "data": {
      "text/plain": [
       "ParallelCollectionRDD[0] at readRDDFromFile at PythonRDD.scala:274"
      ]
     },
     "execution_count": 4,
     "metadata": {},
     "output_type": "execute_result"
    }
   ],
   "source": [
    "sc = spark.sparkContext\n",
    "log_of_songs = [\n",
    "        \"Despacito\",\n",
    "        \"Nice for what\",\n",
    "        \"No tears left to cry\",\n",
    "        \"Despacito\",\n",
    "        \"Havana\",\n",
    "        \"In my feelings\",\n",
    "        \"Nice for what\",\n",
    "        \"despacito\",\n",
    "        \"All the stars\"\n",
    "]\n",
    "\n",
    "# Создает RDD из коллекции Python\n",
    "rdd_songs = sc.parallelize(log_of_songs)\n",
    "rdd_songs"
   ]
  },
  {
   "cell_type": "code",
   "execution_count": 7,
   "id": "86f078c6",
   "metadata": {},
   "outputs": [
    {
     "data": {
      "text/plain": [
       "PythonRDD[5] at RDD at PythonRDD.scala:53"
      ]
     },
     "execution_count": 7,
     "metadata": {},
     "output_type": "execute_result"
    }
   ],
   "source": [
    "rdd_songs.map(lambda song: song.lower())"
   ]
  },
  {
   "cell_type": "markdown",
   "id": "04cfb772",
   "metadata": {},
   "source": [
    ">Чтобы заставить *Spark* фактически запустить этап `map`, вам нужно использовать «действие». Например метод `collect()`.\n",
    "Метод `collect()` берет результаты со всех кластеров и «собирает» их в единый список на главном узле."
   ]
  },
  {
   "cell_type": "code",
   "execution_count": 8,
   "id": "d28e48c6",
   "metadata": {
    "scrolled": true
   },
   "outputs": [
    {
     "data": {
      "text/plain": [
       "['despacito',\n",
       " 'nice for what',\n",
       " 'no tears left to cry',\n",
       " 'despacito',\n",
       " 'havana',\n",
       " 'in my feelings',\n",
       " 'nice for what',\n",
       " 'despacito',\n",
       " 'all the stars']"
      ]
     },
     "execution_count": 8,
     "metadata": {},
     "output_type": "execute_result"
    }
   ],
   "source": [
    "rdd_songs.map(lambda song: song.lower()).collect()"
   ]
  },
  {
   "cell_type": "markdown",
   "id": "a9c146fb",
   "metadata": {},
   "source": [
    "## Создание таблиц"
   ]
  },
  {
   "cell_type": "code",
   "execution_count": 9,
   "id": "b9bd37d2",
   "metadata": {},
   "outputs": [
    {
     "name": "stdout",
     "output_type": "stream",
     "text": [
      "+---+----+-------+\n",
      "| id|code|   name|\n",
      "+---+----+-------+\n",
      "|  0|  ru| Russia|\n",
      "|  1|  it|  Italy|\n",
      "|  2|  fi|Finland|\n",
      "+---+----+-------+\n",
      "\n"
     ]
    }
   ],
   "source": [
    "df_country = spark.createDataFrame(data=[(0, 'ru', 'Russia'),\n",
    "                                         (1, 'it', 'Italy'),\n",
    "                                         (2, 'fi', 'Finland')],\n",
    "                                   schema=['id', 'code', 'name'])\n",
    "df_country.show()"
   ]
  },
  {
   "cell_type": "code",
   "execution_count": 10,
   "id": "99fde584",
   "metadata": {},
   "outputs": [
    {
     "name": "stdout",
     "output_type": "stream",
     "text": [
      "+---+---------+------+----------+\n",
      "| id|cntr_code|  city|population|\n",
      "+---+---------+------+----------+\n",
      "|100|       ru|Moscow|  15000000|\n",
      "|101|       it|  Rome|   4000000|\n",
      "+---+---------+------+----------+\n",
      "\n"
     ]
    }
   ],
   "source": [
    "df_capital = spark.createDataFrame(data=[(100, 'ru', 'Moscow', 15_000_000),\n",
    "                                         (101, 'it', 'Rome', 4_000_000)],\n",
    "                                   schema=['id', 'cntr_code', 'city', 'population'])\n",
    "df_capital.show()"
   ]
  },
  {
   "cell_type": "markdown",
   "id": "9bea6800",
   "metadata": {},
   "source": [
    "<div style=\"font-size: 16px; font-weight: bold;\">toPandas()</div> - преобразует в pandas DataFrame"
   ]
  },
  {
   "cell_type": "code",
   "execution_count": 11,
   "id": "101d892a",
   "metadata": {},
   "outputs": [
    {
     "data": {
      "text/html": [
       "<div>\n",
       "<style scoped>\n",
       "    .dataframe tbody tr th:only-of-type {\n",
       "        vertical-align: middle;\n",
       "    }\n",
       "\n",
       "    .dataframe tbody tr th {\n",
       "        vertical-align: top;\n",
       "    }\n",
       "\n",
       "    .dataframe thead th {\n",
       "        text-align: right;\n",
       "    }\n",
       "</style>\n",
       "<table border=\"1\" class=\"dataframe\">\n",
       "  <thead>\n",
       "    <tr style=\"text-align: right;\">\n",
       "      <th></th>\n",
       "      <th>id</th>\n",
       "      <th>cntr_code</th>\n",
       "      <th>city</th>\n",
       "      <th>population</th>\n",
       "    </tr>\n",
       "  </thead>\n",
       "  <tbody>\n",
       "    <tr>\n",
       "      <th>0</th>\n",
       "      <td>100</td>\n",
       "      <td>ru</td>\n",
       "      <td>Moscow</td>\n",
       "      <td>15000000</td>\n",
       "    </tr>\n",
       "    <tr>\n",
       "      <th>1</th>\n",
       "      <td>101</td>\n",
       "      <td>it</td>\n",
       "      <td>Rome</td>\n",
       "      <td>4000000</td>\n",
       "    </tr>\n",
       "  </tbody>\n",
       "</table>\n",
       "</div>"
      ],
      "text/plain": [
       "    id cntr_code    city  population\n",
       "0  100        ru  Moscow    15000000\n",
       "1  101        it    Rome     4000000"
      ]
     },
     "execution_count": 11,
     "metadata": {},
     "output_type": "execute_result"
    }
   ],
   "source": [
    "df_capital.toPandas()"
   ]
  },
  {
   "cell_type": "markdown",
   "id": "0da2705d",
   "metadata": {},
   "source": [
    "## Read and Write Data"
   ]
  },
  {
   "cell_type": "markdown",
   "id": "3d019631",
   "metadata": {},
   "source": [
    "![](img\\read_data.png)"
   ]
  },
  {
   "cell_type": "markdown",
   "id": "97364fe9",
   "metadata": {},
   "source": [
    "Красивый вывод\n",
    "+ https://stackoverflow.com/questions/43427138/pyspark-show-dataframe-as-table-with-horizontal-scroll-in-ipython-notebook"
   ]
  },
  {
   "cell_type": "code",
   "execution_count": 27,
   "id": "aeae51d8",
   "metadata": {},
   "outputs": [
    {
     "data": {
      "text/html": [
       "<style>pre { white-space: pre !important; }</style>"
      ],
      "text/plain": [
       "<IPython.core.display.HTML object>"
      ]
     },
     "metadata": {},
     "output_type": "display_data"
    }
   ],
   "source": [
    "from IPython.core.display import HTML\n",
    "display(HTML(\"<style>pre { white-space: pre !important; }</style>\"))"
   ]
  },
  {
   "cell_type": "markdown",
   "id": "08ed702f",
   "metadata": {},
   "source": [
    "### Read"
   ]
  },
  {
   "cell_type": "code",
   "execution_count": 13,
   "id": "35eac57e",
   "metadata": {},
   "outputs": [
    {
     "data": {
      "text/plain": [
       "DataFrame[artist: string, auth: string, firstName: string, gender: string, itemInSession: bigint, lastName: string, length: double, level: string, location: string, method: string, page: string, registration: bigint, sessionId: bigint, song: string, status: bigint, ts: bigint, userAgent: string, userId: string]"
      ]
     },
     "execution_count": 13,
     "metadata": {},
     "output_type": "execute_result"
    }
   ],
   "source": [
    "path = \"data/sparkify_log_small.json\"\n",
    "df = spark.read.json(path)\n",
    "df"
   ]
  },
  {
   "cell_type": "code",
   "execution_count": 14,
   "id": "6c83535a",
   "metadata": {
    "scrolled": true
   },
   "outputs": [
    {
     "name": "stdout",
     "output_type": "stream",
     "text": [
      "root\n",
      " |-- artist: string (nullable = true)\n",
      " |-- auth: string (nullable = true)\n",
      " |-- firstName: string (nullable = true)\n",
      " |-- gender: string (nullable = true)\n",
      " |-- itemInSession: long (nullable = true)\n",
      " |-- lastName: string (nullable = true)\n",
      " |-- length: double (nullable = true)\n",
      " |-- level: string (nullable = true)\n",
      " |-- location: string (nullable = true)\n",
      " |-- method: string (nullable = true)\n",
      " |-- page: string (nullable = true)\n",
      " |-- registration: long (nullable = true)\n",
      " |-- sessionId: long (nullable = true)\n",
      " |-- song: string (nullable = true)\n",
      " |-- status: long (nullable = true)\n",
      " |-- ts: long (nullable = true)\n",
      " |-- userAgent: string (nullable = true)\n",
      " |-- userId: string (nullable = true)\n",
      "\n"
     ]
    }
   ],
   "source": [
    "# Data Types\n",
    "df.printSchema()"
   ]
  },
  {
   "cell_type": "code",
   "execution_count": 15,
   "id": "dd87594e",
   "metadata": {},
   "outputs": [
    {
     "data": {
      "text/plain": [
       "['artist',\n",
       " 'auth',\n",
       " 'firstName',\n",
       " 'gender',\n",
       " 'itemInSession',\n",
       " 'lastName',\n",
       " 'length',\n",
       " 'level',\n",
       " 'location',\n",
       " 'method',\n",
       " 'page',\n",
       " 'registration',\n",
       " 'sessionId',\n",
       " 'song',\n",
       " 'status',\n",
       " 'ts',\n",
       " 'userAgent',\n",
       " 'userId']"
      ]
     },
     "execution_count": 15,
     "metadata": {},
     "output_type": "execute_result"
    }
   ],
   "source": [
    "df.columns"
   ]
  },
  {
   "cell_type": "markdown",
   "id": "3d2bc9de",
   "metadata": {},
   "source": [
    "<div style=\"font-size: 16px; font-weight: bold;\">show()</div> - Выводит данные DataFrame"
   ]
  },
  {
   "cell_type": "code",
   "execution_count": 16,
   "id": "72d7cd41",
   "metadata": {},
   "outputs": [
    {
     "name": "stdout",
     "output_type": "stream",
     "text": [
      "+-------------+---------+---------+------+-------------+--------+---------+-----+--------------------+------+--------+-------------+---------+--------------------+------+-------------+--------------------+------+\n",
      "|       artist|     auth|firstName|gender|itemInSession|lastName|   length|level|            location|method|    page| registration|sessionId|                song|status|           ts|           userAgent|userId|\n",
      "+-------------+---------+---------+------+-------------+--------+---------+-----+--------------------+------+--------+-------------+---------+--------------------+------+-------------+--------------------+------+\n",
      "|Showaddywaddy|Logged In|  Kenneth|     M|          112|Matthews|232.93342| paid|Charlotte-Concord...|   PUT|NextSong|1509380319284|     5132|Christmas Tears W...|   200|1513720872284|\"Mozilla/5.0 (Win...|  1046|\n",
      "+-------------+---------+---------+------+-------------+--------+---------+-----+--------------------+------+--------+-------------+---------+--------------------+------+-------------+--------------------+------+\n",
      "only showing top 1 row\n",
      "\n"
     ]
    }
   ],
   "source": [
    "df.show(1)"
   ]
  },
  {
   "cell_type": "code",
   "execution_count": 17,
   "id": "641bcb31",
   "metadata": {},
   "outputs": [
    {
     "name": "stdout",
     "output_type": "stream",
     "text": [
      "-RECORD 0-----------------------------------------------------------------------------------------------------------------\n",
      " artist        | Showaddywaddy                                                                                            \n",
      " auth          | Logged In                                                                                                \n",
      " firstName     | Kenneth                                                                                                  \n",
      " gender        | M                                                                                                        \n",
      " itemInSession | 112                                                                                                      \n",
      " lastName      | Matthews                                                                                                 \n",
      " length        | 232.93342                                                                                                \n",
      " level         | paid                                                                                                     \n",
      " location      | Charlotte-Concord-Gastonia, NC-SC                                                                        \n",
      " method        | PUT                                                                                                      \n",
      " page          | NextSong                                                                                                 \n",
      " registration  | 1509380319284                                                                                            \n",
      " sessionId     | 5132                                                                                                     \n",
      " song          | Christmas Tears Will Fall                                                                                \n",
      " status        | 200                                                                                                      \n",
      " ts            | 1513720872284                                                                                            \n",
      " userAgent     | \"Mozilla/5.0 (Windows NT 6.1) AppleWebKit/537.36 (KHTML, like Gecko) Chrome/36.0.1985.125 Safari/537.36\" \n",
      " userId        | 1046                                                                                                     \n",
      "only showing top 1 row\n",
      "\n"
     ]
    }
   ],
   "source": [
    "df.show(1, truncate=False, vertical=True)"
   ]
  },
  {
   "cell_type": "markdown",
   "id": "07697bc5",
   "metadata": {},
   "source": [
    "<div style=\"font-size: 16px; font-weight: bold;\">take(n) == head(n)</div> - Выводят список строк"
   ]
  },
  {
   "cell_type": "code",
   "execution_count": 18,
   "id": "f216e8ef",
   "metadata": {},
   "outputs": [
    {
     "data": {
      "text/plain": [
       "[Row(artist='Showaddywaddy', auth='Logged In', firstName='Kenneth', gender='M', itemInSession=112, lastName='Matthews', length=232.93342, level='paid', location='Charlotte-Concord-Gastonia, NC-SC', method='PUT', page='NextSong', registration=1509380319284, sessionId=5132, song='Christmas Tears Will Fall', status=200, ts=1513720872284, userAgent='\"Mozilla/5.0 (Windows NT 6.1) AppleWebKit/537.36 (KHTML, like Gecko) Chrome/36.0.1985.125 Safari/537.36\"', userId='1046'),\n",
       " Row(artist='Lily Allen', auth='Logged In', firstName='Elizabeth', gender='F', itemInSession=7, lastName='Chase', length=195.23873, level='free', location='Shreveport-Bossier City, LA', method='PUT', page='NextSong', registration=1512718541284, sessionId=5027, song='Cheryl Tweedy', status=200, ts=1513720878284, userAgent='\"Mozilla/5.0 (Windows NT 6.1) AppleWebKit/537.36 (KHTML, like Gecko) Chrome/36.0.1985.143 Safari/537.36\"', userId='1000'),\n",
       " Row(artist='Cobra Starship Featuring Leighton Meester', auth='Logged In', firstName='Vera', gender='F', itemInSession=6, lastName='Blackwell', length=196.20526, level='paid', location='Racine, WI', method='PUT', page='NextSong', registration=1499855749284, sessionId=5516, song='Good Girls Go Bad (Feat.Leighton Meester) (Album Version)', status=200, ts=1513720881284, userAgent='\"Mozilla/5.0 (Macintosh; Intel Mac OS X 10_9_4) AppleWebKit/537.78.2 (KHTML, like Gecko) Version/7.0.6 Safari/537.78.2\"', userId='2219')]"
      ]
     },
     "execution_count": 18,
     "metadata": {},
     "output_type": "execute_result"
    }
   ],
   "source": [
    "df.take(3)"
   ]
  },
  {
   "cell_type": "code",
   "execution_count": 19,
   "id": "a2c8afa3",
   "metadata": {},
   "outputs": [
    {
     "data": {
      "text/plain": [
       "[Row(artist='Showaddywaddy', auth='Logged In', firstName='Kenneth', gender='M', itemInSession=112, lastName='Matthews', length=232.93342, level='paid', location='Charlotte-Concord-Gastonia, NC-SC', method='PUT', page='NextSong', registration=1509380319284, sessionId=5132, song='Christmas Tears Will Fall', status=200, ts=1513720872284, userAgent='\"Mozilla/5.0 (Windows NT 6.1) AppleWebKit/537.36 (KHTML, like Gecko) Chrome/36.0.1985.125 Safari/537.36\"', userId='1046'),\n",
       " Row(artist='Lily Allen', auth='Logged In', firstName='Elizabeth', gender='F', itemInSession=7, lastName='Chase', length=195.23873, level='free', location='Shreveport-Bossier City, LA', method='PUT', page='NextSong', registration=1512718541284, sessionId=5027, song='Cheryl Tweedy', status=200, ts=1513720878284, userAgent='\"Mozilla/5.0 (Windows NT 6.1) AppleWebKit/537.36 (KHTML, like Gecko) Chrome/36.0.1985.143 Safari/537.36\"', userId='1000'),\n",
       " Row(artist='Cobra Starship Featuring Leighton Meester', auth='Logged In', firstName='Vera', gender='F', itemInSession=6, lastName='Blackwell', length=196.20526, level='paid', location='Racine, WI', method='PUT', page='NextSong', registration=1499855749284, sessionId=5516, song='Good Girls Go Bad (Feat.Leighton Meester) (Album Version)', status=200, ts=1513720881284, userAgent='\"Mozilla/5.0 (Macintosh; Intel Mac OS X 10_9_4) AppleWebKit/537.78.2 (KHTML, like Gecko) Version/7.0.6 Safari/537.78.2\"', userId='2219')]"
      ]
     },
     "execution_count": 19,
     "metadata": {},
     "output_type": "execute_result"
    }
   ],
   "source": [
    "df.head(3)"
   ]
  },
  {
   "cell_type": "markdown",
   "id": "7e092d67",
   "metadata": {},
   "source": [
    "<div style=\"font-size: 16px; font-weight: bold;\">limit(n)</div> - Трансформирует DataFrame до n строк"
   ]
  },
  {
   "cell_type": "code",
   "execution_count": 20,
   "id": "f1a32388",
   "metadata": {
    "scrolled": true
   },
   "outputs": [
    {
     "name": "stdout",
     "output_type": "stream",
     "text": [
      "+--------------------+---------+---------+------+-------------+---------+---------+-----+--------------------+------+--------+-------------+---------+--------------------+------+-------------+--------------------+------+\n",
      "|              artist|     auth|firstName|gender|itemInSession| lastName|   length|level|            location|method|    page| registration|sessionId|                song|status|           ts|           userAgent|userId|\n",
      "+--------------------+---------+---------+------+-------------+---------+---------+-----+--------------------+------+--------+-------------+---------+--------------------+------+-------------+--------------------+------+\n",
      "|       Showaddywaddy|Logged In|  Kenneth|     M|          112| Matthews|232.93342| paid|Charlotte-Concord...|   PUT|NextSong|1509380319284|     5132|Christmas Tears W...|   200|1513720872284|\"Mozilla/5.0 (Win...|  1046|\n",
      "|          Lily Allen|Logged In|Elizabeth|     F|            7|    Chase|195.23873| free|Shreveport-Bossie...|   PUT|NextSong|1512718541284|     5027|       Cheryl Tweedy|   200|1513720878284|\"Mozilla/5.0 (Win...|  1000|\n",
      "|Cobra Starship Fe...|Logged In|     Vera|     F|            6|Blackwell|196.20526| paid|          Racine, WI|   PUT|NextSong|1499855749284|     5516|Good Girls Go Bad...|   200|1513720881284|\"Mozilla/5.0 (Mac...|  2219|\n",
      "+--------------------+---------+---------+------+-------------+---------+---------+-----+--------------------+------+--------+-------------+---------+--------------------+------+-------------+--------------------+------+\n",
      "\n"
     ]
    }
   ],
   "source": [
    "df.limit(3).show()"
   ]
  },
  {
   "cell_type": "markdown",
   "id": "4ccfd008",
   "metadata": {},
   "source": [
    "### Write\n",
    "📌 Spark сохраняет частями (несколькими файлами)"
   ]
  },
  {
   "cell_type": "code",
   "execution_count": 21,
   "id": "ad0356b0",
   "metadata": {},
   "outputs": [],
   "source": [
    "out_path = \"data/sparkify_log_small\"\n",
    "\n",
    "df.write.save(out_path, format=\"csv\", header=True, mode='overwrite')\n",
    "\n",
    "# сохранить в один файл (Если файлы большие, то может не сработать)\n",
    "# df.coalesce(1).write.mode('overwrite').options(header='True', delimiter=',').csv(out_path)"
   ]
  },
  {
   "cell_type": "code",
   "execution_count": 22,
   "id": "a8df69e3",
   "metadata": {},
   "outputs": [
    {
     "name": "stdout",
     "output_type": "stream",
     "text": [
      "root\n",
      " |-- artist: string (nullable = true)\n",
      " |-- auth: string (nullable = true)\n",
      " |-- firstName: string (nullable = true)\n",
      " |-- gender: string (nullable = true)\n",
      " |-- itemInSession: integer (nullable = true)\n",
      " |-- lastName: string (nullable = true)\n",
      " |-- length: double (nullable = true)\n",
      " |-- level: string (nullable = true)\n",
      " |-- location: string (nullable = true)\n",
      " |-- method: string (nullable = true)\n",
      " |-- page: string (nullable = true)\n",
      " |-- registration: long (nullable = true)\n",
      " |-- sessionId: integer (nullable = true)\n",
      " |-- song: string (nullable = true)\n",
      " |-- status: integer (nullable = true)\n",
      " |-- ts: long (nullable = true)\n",
      " |-- userAgent: string (nullable = true)\n",
      " |-- userId: integer (nullable = true)\n",
      "\n"
     ]
    }
   ],
   "source": [
    "# inferSchema - корректное отображение типов данных\n",
    "df2 = spark.read.csv(out_path, header=True, inferSchema = True)\n",
    "df2.printSchema()"
   ]
  },
  {
   "cell_type": "markdown",
   "id": "65aa3f41",
   "metadata": {},
   "source": [
    "## Основные функции\n",
    "\n",
    "Строки: \n",
    "+ `select()`: возвращает новый DataFrame с выбранными столбцами\n",
    "  - `select(\"*\")`: возвращает все колонки\n",
    "+ `filter()`: фильтрует строки, используя заданное условие\n",
    "  - Понимает диалект SQL\n",
    "  - Как pandas\n",
    "  - через `pyspark.sql.functions`\n",
    "+ `where()`: это псевдоним для `filter()`\n",
    "+ `sort()`: возвращает новый DataFrame, отсортированный по указанным столбцам. По умолчанию второй параметр'ascending' имеет значение True.\n",
    "+ `dropDuplicates()`: возвращает новый DataFrame с уникальными строками на основе всех или только подмножества столбцов\n",
    "+ `distinct()`: оставляет уникальные значения\n",
    "\n",
    "Колонки:\n",
    "+ `withColumn()`: возвращает новый DataFrame, добавляя столбец или заменяя существующий столбец с таким же именем. Первый параметр — это имя нового столбца, второй — выражение того, как его вычислить.\n",
    "+ `drop(column)`: удаляет столбец\n",
    "+ `withColumnRenamed(old_name, new_name)`: переименовать столбцы"
   ]
  },
  {
   "cell_type": "code",
   "execution_count": 23,
   "id": "eb946132",
   "metadata": {},
   "outputs": [
    {
     "name": "stdout",
     "output_type": "stream",
     "text": [
      "+----------------+\n",
      "|            page|\n",
      "+----------------+\n",
      "|           About|\n",
      "|       Downgrade|\n",
      "|           Error|\n",
      "|            Help|\n",
      "|            Home|\n",
      "|           Login|\n",
      "|          Logout|\n",
      "|        NextSong|\n",
      "|   Save Settings|\n",
      "|        Settings|\n",
      "|Submit Downgrade|\n",
      "|  Submit Upgrade|\n",
      "|         Upgrade|\n",
      "+----------------+\n",
      "\n"
     ]
    }
   ],
   "source": [
    "df.select(\"page\").dropDuplicates().sort(\"page\").show()"
   ]
  },
  {
   "cell_type": "code",
   "execution_count": 24,
   "id": "1d3c4103",
   "metadata": {},
   "outputs": [
    {
     "data": {
      "text/plain": [
       "[Row(userId='1046', firstname='Kenneth', page='NextSong', song='Christmas Tears Will Fall'),\n",
       " Row(userId='1046', firstname='Kenneth', page='NextSong', song='Be Wary Of A Woman'),\n",
       " Row(userId='1046', firstname='Kenneth', page='NextSong', song='Public Enemy No.1'),\n",
       " Row(userId='1046', firstname='Kenneth', page='NextSong', song='Reign Of The Tyrants'),\n",
       " Row(userId='1046', firstname='Kenneth', page='NextSong', song='Father And Son'),\n",
       " Row(userId='1046', firstname='Kenneth', page='NextSong', song='No. 5'),\n",
       " Row(userId='1046', firstname='Kenneth', page='NextSong', song='Seventeen'),\n",
       " Row(userId='1046', firstname='Kenneth', page='Home', song=None),\n",
       " Row(userId='1046', firstname='Kenneth', page='NextSong', song='War on war'),\n",
       " Row(userId='1046', firstname='Kenneth', page='NextSong', song='Killermont Street'),\n",
       " Row(userId='1046', firstname='Kenneth', page='NextSong', song='Black & Blue'),\n",
       " Row(userId='1046', firstname='Kenneth', page='Logout', song=None),\n",
       " Row(userId='1046', firstname='Kenneth', page='Home', song=None),\n",
       " Row(userId='1046', firstname='Kenneth', page='NextSong', song='Heads Will Roll'),\n",
       " Row(userId='1046', firstname='Kenneth', page='NextSong', song='Bleed It Out [Live At Milton Keynes]'),\n",
       " Row(userId='1046', firstname='Kenneth', page='NextSong', song='Clocks'),\n",
       " Row(userId='1046', firstname='Kenneth', page='NextSong', song='Love Rain'),\n",
       " Row(userId='1046', firstname='Kenneth', page='NextSong', song=\"Ry Ry's Song (Album Version)\"),\n",
       " Row(userId='1046', firstname='Kenneth', page='NextSong', song='The Invisible Man'),\n",
       " Row(userId='1046', firstname='Kenneth', page='NextSong', song='Catch You Baby (Steve Pitron & Max Sanna Radio Edit)'),\n",
       " Row(userId='1046', firstname='Kenneth', page='NextSong', song='Ask The Mountains'),\n",
       " Row(userId='1046', firstname='Kenneth', page='NextSong', song='Given Up (Album Version)'),\n",
       " Row(userId='1046', firstname='Kenneth', page='NextSong', song='El Cuatrero'),\n",
       " Row(userId='1046', firstname='Kenneth', page='NextSong', song='Hero/Heroine'),\n",
       " Row(userId='1046', firstname='Kenneth', page='NextSong', song='Spring'),\n",
       " Row(userId='1046', firstname='Kenneth', page='NextSong', song='Rising Moon'),\n",
       " Row(userId='1046', firstname='Kenneth', page='NextSong', song='Tough Little Boys'),\n",
       " Row(userId='1046', firstname='Kenneth', page='NextSong', song=\"Qu'Est-Ce Que T'Es Belle\"),\n",
       " Row(userId='1046', firstname='Kenneth', page='NextSong', song='Secrets'),\n",
       " Row(userId='1046', firstname='Kenneth', page='NextSong', song='Under The Gun')]"
      ]
     },
     "execution_count": 24,
     "metadata": {},
     "output_type": "execute_result"
    }
   ],
   "source": [
    "df.select([\"userId\", \"firstname\", \"page\", \"song\"]).where(df.userId == \"1046\").collect()"
   ]
  },
  {
   "cell_type": "code",
   "execution_count": 25,
   "id": "632d94cf",
   "metadata": {},
   "outputs": [
    {
     "data": {
      "text/plain": [
       "[Row(firstName='Willie'),\n",
       " Row(firstName='Wyatt'),\n",
       " Row(firstName='Weston'),\n",
       " Row(firstName='William')]"
      ]
     },
     "execution_count": 25,
     "metadata": {},
     "output_type": "execute_result"
    }
   ],
   "source": [
    "df.select('firstName').filter(F.col('firstName').startswith('W')).dropDuplicates().collect()"
   ]
  },
  {
   "cell_type": "code",
   "execution_count": 26,
   "id": "27cead63",
   "metadata": {},
   "outputs": [
    {
     "data": {
      "text/plain": [
       "[Row(firstName='Willie'),\n",
       " Row(firstName='Wyatt'),\n",
       " Row(firstName='Weston'),\n",
       " Row(firstName='William')]"
      ]
     },
     "execution_count": 26,
     "metadata": {},
     "output_type": "execute_result"
    }
   ],
   "source": [
    "df.select('firstName').filter('firstName like \"W%\"').dropDuplicates().collect()"
   ]
  },
  {
   "cell_type": "markdown",
   "id": "595f7378",
   "metadata": {},
   "source": [
    "## Агрегирующие функции\n",
    "+ `describe()`: выводит статистики\n",
    "+ `groupBy()`: группирует DataFrame, используя указанные столбцы\n",
    "+ `agg()`: выполняет указанную агрегацию\n",
    "+ `count()` - возвращает общее число строк в датасете.\n",
    "\n",
    "Из модуля `pyspark.sql.functions`\n",
    "+ `countDistinct()`\n",
    "+ `avg()` = `mean()`\n",
    "+ `max()`\n",
    "+ `min()`"
   ]
  },
  {
   "cell_type": "code",
   "execution_count": 27,
   "id": "df789351",
   "metadata": {},
   "outputs": [
    {
     "data": {
      "text/plain": [
       "10000"
      ]
     },
     "execution_count": 27,
     "metadata": {},
     "output_type": "execute_result"
    }
   ],
   "source": [
    "df.count()"
   ]
  },
  {
   "cell_type": "code",
   "execution_count": 28,
   "id": "4ad0e3ca",
   "metadata": {},
   "outputs": [
    {
     "name": "stdout",
     "output_type": "stream",
     "text": [
      "+-------+------------------+\n",
      "|summary|         sessionId|\n",
      "+-------+------------------+\n",
      "|  count|             10000|\n",
      "|   mean|         4436.7511|\n",
      "| stddev|2043.1281541827561|\n",
      "|    min|                 9|\n",
      "|    max|              7144|\n",
      "+-------+------------------+\n",
      "\n"
     ]
    }
   ],
   "source": [
    "df.describe(\"sessionId\").show()"
   ]
  },
  {
   "cell_type": "code",
   "execution_count": 29,
   "id": "0af68f3d",
   "metadata": {},
   "outputs": [
    {
     "name": "stdout",
     "output_type": "stream",
     "text": [
      "+-----------------+-------------+\n",
      "|      avg(length)|      max(ts)|\n",
      "+-----------------+-------------+\n",
      "|249.6486587492506|1513848349284|\n",
      "+-----------------+-------------+\n",
      "\n"
     ]
    }
   ],
   "source": [
    "df.agg({'length': 'mean', 'ts': 'max'}).show()"
   ]
  },
  {
   "cell_type": "code",
   "execution_count": 30,
   "id": "6c0138fa",
   "metadata": {},
   "outputs": [
    {
     "name": "stdout",
     "output_type": "stream",
     "text": [
      "+-----------------+-------------+\n",
      "|      avg(length)|      max(ts)|\n",
      "+-----------------+-------------+\n",
      "|249.6486587492506|1513848349284|\n",
      "+-----------------+-------------+\n",
      "\n"
     ]
    }
   ],
   "source": [
    "df.select(F.mean('length'), F.max('ts')).show()"
   ]
  },
  {
   "cell_type": "code",
   "execution_count": 31,
   "id": "349879de",
   "metadata": {},
   "outputs": [
    {
     "name": "stdout",
     "output_type": "stream",
     "text": [
      "+------+------------------+------------------+--------------------+------------------+-----------------+--------------------+\n",
      "|gender|avg(itemInSession)|       avg(length)|   avg(registration)|    avg(sessionId)|      avg(status)|             avg(ts)|\n",
      "+------+------------------+------------------+--------------------+------------------+-----------------+--------------------+\n",
      "|     F|16.904188481675394|249.82205541807014|1.504609475280858...|4286.4780104712045|201.4740837696335|1.513786896915937...|\n",
      "|  null| 7.669642857142857|              null|                null| 4215.958333333333|          240.125|1.513785530792928...|\n",
      "|     M|22.173682409308693|249.53725770169163|1.504751515423117E12|  4547.67334017796|201.6890828199863|1.513785432853986...|\n",
      "+------+------------------+------------------+--------------------+------------------+-----------------+--------------------+\n",
      "\n"
     ]
    }
   ],
   "source": [
    "df.groupby('gender').avg().show()"
   ]
  },
  {
   "cell_type": "code",
   "execution_count": 32,
   "id": "7f25573a",
   "metadata": {},
   "outputs": [
    {
     "name": "stdout",
     "output_type": "stream",
     "text": [
      "+------+-------------+-----+\n",
      "|gender|countDistinct|count|\n",
      "+------+-------------+-----+\n",
      "|     F|            1| 3820|\n",
      "|     M|            1| 5844|\n",
      "|  null|            0|    0|\n",
      "+------+-------------+-----+\n",
      "\n"
     ]
    }
   ],
   "source": [
    "df.groupby('gender').agg(F.countDistinct('gender').alias('countDistinct'), \n",
    "                         F.count('gender').alias('count')\n",
    "                        ).show()"
   ]
  },
  {
   "cell_type": "markdown",
   "id": "9cfa198f",
   "metadata": {},
   "source": [
    "## Пользовательские функции - udf()"
   ]
  },
  {
   "cell_type": "code",
   "execution_count": 33,
   "id": "c65e9289",
   "metadata": {},
   "outputs": [],
   "source": [
    "get_hour = F.udf(lambda x: datetime.datetime.fromtimestamp(x / 1000.0).hour)"
   ]
  },
  {
   "cell_type": "code",
   "execution_count": 34,
   "id": "9248018f",
   "metadata": {},
   "outputs": [],
   "source": [
    "df = df.withColumn(\"hour\", get_hour(df.ts))"
   ]
  },
  {
   "cell_type": "code",
   "execution_count": 35,
   "id": "81d35a51",
   "metadata": {},
   "outputs": [
    {
     "name": "stdout",
     "output_type": "stream",
     "text": [
      "+----+-----+\n",
      "|hour|count|\n",
      "+----+-----+\n",
      "|   0|  248|\n",
      "|   1|  369|\n",
      "|   2|  375|\n",
      "|   3|  456|\n",
      "|   4|  454|\n",
      "|   5|  382|\n",
      "|   6|  302|\n",
      "|   7|  352|\n",
      "|   8|  276|\n",
      "|   9|  348|\n",
      "|  10|  358|\n",
      "|  11|  375|\n",
      "|  12|  249|\n",
      "|  13|  216|\n",
      "|  14|  228|\n",
      "|  15|  251|\n",
      "|  16|  339|\n",
      "|  17|  462|\n",
      "|  18|  479|\n",
      "|  19|  484|\n",
      "+----+-----+\n",
      "only showing top 20 rows\n",
      "\n"
     ]
    }
   ],
   "source": [
    "songs_in_hour = (df.filter(df.page == \"NextSong\")\n",
    "                   .groupby(df.hour).count()\n",
    "                   .orderBy(df.hour.cast(\"int\"))\n",
    "                )\n",
    "songs_in_hour.show()"
   ]
  },
  {
   "cell_type": "markdown",
   "id": "07aa6d44",
   "metadata": {},
   "source": [
    "## Оконные функции"
   ]
  },
  {
   "cell_type": "code",
   "execution_count": 36,
   "id": "6e01d0ed",
   "metadata": {},
   "outputs": [],
   "source": [
    "flag_downgrade_event = F.udf(lambda x: 1 if x == \"Submit Downgrade\" else 0, IntegerType())\n",
    "\n",
    "df_downgrade = df.withColumn(\"downgraded\", flag_downgrade_event(\"page\"))\n",
    "\n",
    "windowval = Window.partitionBy(\"userId\").orderBy(F.desc(\"ts\")).rangeBetween(Window.unboundedPreceding, 0)\n",
    "df_window = df_downgrade.withColumn(\"phase\", F.sum(\"downgraded\").over(windowval))"
   ]
  },
  {
   "cell_type": "code",
   "execution_count": 37,
   "id": "121f85c9",
   "metadata": {},
   "outputs": [
    {
     "data": {
      "text/plain": [
       "[Row(userId='1138', firstname='Kelly', ts=1513729066284, page='Home', level='paid', phase=1),\n",
       " Row(userId='1138', firstname='Kelly', ts=1513729066284, page='NextSong', level='paid', phase=1),\n",
       " Row(userId='1138', firstname='Kelly', ts=1513729313284, page='NextSong', level='paid', phase=1),\n",
       " Row(userId='1138', firstname='Kelly', ts=1513729552284, page='NextSong', level='paid', phase=1),\n",
       " Row(userId='1138', firstname='Kelly', ts=1513729783284, page='NextSong', level='paid', phase=1),\n",
       " Row(userId='1138', firstname='Kelly', ts=1513730001284, page='NextSong', level='paid', phase=1),\n",
       " Row(userId='1138', firstname='Kelly', ts=1513730263284, page='NextSong', level='paid', phase=1),\n",
       " Row(userId='1138', firstname='Kelly', ts=1513730518284, page='NextSong', level='paid', phase=1),\n",
       " Row(userId='1138', firstname='Kelly', ts=1513730768284, page='NextSong', level='paid', phase=1),\n",
       " Row(userId='1138', firstname='Kelly', ts=1513731182284, page='NextSong', level='paid', phase=1),\n",
       " Row(userId='1138', firstname='Kelly', ts=1513731435284, page='NextSong', level='paid', phase=1),\n",
       " Row(userId='1138', firstname='Kelly', ts=1513731695284, page='NextSong', level='paid', phase=1),\n",
       " Row(userId='1138', firstname='Kelly', ts=1513731857284, page='NextSong', level='paid', phase=1),\n",
       " Row(userId='1138', firstname='Kelly', ts=1513732160284, page='NextSong', level='paid', phase=1),\n",
       " Row(userId='1138', firstname='Kelly', ts=1513732302284, page='NextSong', level='paid', phase=1),\n",
       " Row(userId='1138', firstname='Kelly', ts=1513732540284, page='NextSong', level='paid', phase=1),\n",
       " Row(userId='1138', firstname='Kelly', ts=1513732770284, page='NextSong', level='paid', phase=1),\n",
       " Row(userId='1138', firstname='Kelly', ts=1513732994284, page='NextSong', level='paid', phase=1),\n",
       " Row(userId='1138', firstname='Kelly', ts=1513733223284, page='NextSong', level='paid', phase=1),\n",
       " Row(userId='1138', firstname='Kelly', ts=1513733456284, page='NextSong', level='paid', phase=1),\n",
       " Row(userId='1138', firstname='Kelly', ts=1513733738284, page='NextSong', level='paid', phase=1),\n",
       " Row(userId='1138', firstname='Kelly', ts=1513733941284, page='NextSong', level='paid', phase=1),\n",
       " Row(userId='1138', firstname='Kelly', ts=1513734289284, page='NextSong', level='paid', phase=1),\n",
       " Row(userId='1138', firstname='Kelly', ts=1513734598284, page='NextSong', level='paid', phase=1),\n",
       " Row(userId='1138', firstname='Kelly', ts=1513734863284, page='NextSong', level='paid', phase=1),\n",
       " Row(userId='1138', firstname='Kelly', ts=1513735174284, page='NextSong', level='paid', phase=1),\n",
       " Row(userId='1138', firstname='Kelly', ts=1513735385284, page='NextSong', level='paid', phase=1),\n",
       " Row(userId='1138', firstname='Kelly', ts=1513736040284, page='NextSong', level='paid', phase=1),\n",
       " Row(userId='1138', firstname='Kelly', ts=1513736237284, page='NextSong', level='paid', phase=1),\n",
       " Row(userId='1138', firstname='Kelly', ts=1513736446284, page='NextSong', level='paid', phase=1),\n",
       " Row(userId='1138', firstname='Kelly', ts=1513736709284, page='NextSong', level='paid', phase=1),\n",
       " Row(userId='1138', firstname='Kelly', ts=1513736915284, page='NextSong', level='paid', phase=1),\n",
       " Row(userId='1138', firstname='Kelly', ts=1513737160284, page='NextSong', level='paid', phase=1),\n",
       " Row(userId='1138', firstname='Kelly', ts=1513737460284, page='NextSong', level='paid', phase=1),\n",
       " Row(userId='1138', firstname='Kelly', ts=1513737728284, page='NextSong', level='paid', phase=1),\n",
       " Row(userId='1138', firstname='Kelly', ts=1513737936284, page='NextSong', level='paid', phase=1),\n",
       " Row(userId='1138', firstname='Kelly', ts=1513738144284, page='NextSong', level='paid', phase=1),\n",
       " Row(userId='1138', firstname='Kelly', ts=1513738197284, page='Help', level='paid', phase=1),\n",
       " Row(userId='1138', firstname='Kelly', ts=1513738432284, page='NextSong', level='paid', phase=1),\n",
       " Row(userId='1138', firstname='Kelly', ts=1513763195284, page='NextSong', level='paid', phase=1),\n",
       " Row(userId='1138', firstname='Kelly', ts=1513763453284, page='NextSong', level='paid', phase=1),\n",
       " Row(userId='1138', firstname='Kelly', ts=1513763622284, page='NextSong', level='paid', phase=1),\n",
       " Row(userId='1138', firstname='Kelly', ts=1513763890284, page='NextSong', level='paid', phase=1),\n",
       " Row(userId='1138', firstname='Kelly', ts=1513764238284, page='NextSong', level='paid', phase=1),\n",
       " Row(userId='1138', firstname='Kelly', ts=1513764462284, page='NextSong', level='paid', phase=1),\n",
       " Row(userId='1138', firstname='Kelly', ts=1513764782284, page='NextSong', level='paid', phase=1),\n",
       " Row(userId='1138', firstname='Kelly', ts=1513765075284, page='NextSong', level='paid', phase=1),\n",
       " Row(userId='1138', firstname='Kelly', ts=1513765075284, page='Home', level='paid', phase=1),\n",
       " Row(userId='1138', firstname='Kelly', ts=1513765448284, page='NextSong', level='paid', phase=1),\n",
       " Row(userId='1138', firstname='Kelly', ts=1513765655284, page='NextSong', level='paid', phase=1),\n",
       " Row(userId='1138', firstname='Kelly', ts=1513765818284, page='NextSong', level='paid', phase=1),\n",
       " Row(userId='1138', firstname='Kelly', ts=1513766091284, page='NextSong', level='paid', phase=1),\n",
       " Row(userId='1138', firstname='Kelly', ts=1513766189284, page='NextSong', level='paid', phase=1),\n",
       " Row(userId='1138', firstname='Kelly', ts=1513766385284, page='NextSong', level='paid', phase=1),\n",
       " Row(userId='1138', firstname='Kelly', ts=1513766599284, page='NextSong', level='paid', phase=1),\n",
       " Row(userId='1138', firstname='Kelly', ts=1513766838284, page='NextSong', level='paid', phase=1),\n",
       " Row(userId='1138', firstname='Kelly', ts=1513767203284, page='NextSong', level='paid', phase=1),\n",
       " Row(userId='1138', firstname='Kelly', ts=1513767413284, page='NextSong', level='paid', phase=1),\n",
       " Row(userId='1138', firstname='Kelly', ts=1513767643284, page='NextSong', level='paid', phase=1),\n",
       " Row(userId='1138', firstname='Kelly', ts=1513768012284, page='NextSong', level='paid', phase=1),\n",
       " Row(userId='1138', firstname='Kelly', ts=1513768242284, page='NextSong', level='paid', phase=1),\n",
       " Row(userId='1138', firstname='Kelly', ts=1513768452284, page='NextSong', level='paid', phase=1),\n",
       " Row(userId='1138', firstname='Kelly', ts=1513768453284, page='Downgrade', level='paid', phase=1),\n",
       " Row(userId='1138', firstname='Kelly', ts=1513768454284, page='Submit Downgrade', level='paid', phase=1),\n",
       " Row(userId='1138', firstname='Kelly', ts=1513768456284, page='Home', level='free', phase=0),\n",
       " Row(userId='1138', firstname='Kelly', ts=1513814880284, page='NextSong', level='free', phase=0),\n",
       " Row(userId='1138', firstname='Kelly', ts=1513821430284, page='Home', level='free', phase=0),\n",
       " Row(userId='1138', firstname='Kelly', ts=1513833144284, page='NextSong', level='free', phase=0)]"
      ]
     },
     "execution_count": 37,
     "metadata": {},
     "output_type": "execute_result"
    }
   ],
   "source": [
    "(df_window.select([\"userId\", \"firstname\", \"ts\", \"page\", \"level\", \"phase\"])\n",
    "          .where(df.userId == \"1138\")\n",
    "          .sort(\"ts\")\n",
    "          .collect()\n",
    ")"
   ]
  },
  {
   "cell_type": "markdown",
   "id": "68f7e63c",
   "metadata": {},
   "source": [
    "## Объединение таблиц"
   ]
  },
  {
   "cell_type": "markdown",
   "id": "a58fdd1e",
   "metadata": {},
   "source": [
    "### join()"
   ]
  },
  {
   "cell_type": "code",
   "execution_count": 38,
   "id": "3fa5689f",
   "metadata": {},
   "outputs": [
    {
     "name": "stdout",
     "output_type": "stream",
     "text": [
      "+---+----+------+---+---------+------+----------+\n",
      "| id|code|  name| id|cntr_code|  city|population|\n",
      "+---+----+------+---+---------+------+----------+\n",
      "|  1|  it| Italy|101|       it|  Rome|   4000000|\n",
      "|  0|  ru|Russia|100|       ru|Moscow|  15000000|\n",
      "+---+----+------+---+---------+------+----------+\n",
      "\n"
     ]
    }
   ],
   "source": [
    "df_join = df_country.join(df_capital, \n",
    "                          on=(df_country['code'] == df_capital['cntr_code']), \n",
    "                          how='inner')\n",
    "df_join.show()"
   ]
  },
  {
   "cell_type": "markdown",
   "id": "b1b01635",
   "metadata": {},
   "source": [
    "### union()"
   ]
  },
  {
   "cell_type": "code",
   "execution_count": 39,
   "id": "fdf1771f",
   "metadata": {},
   "outputs": [
    {
     "name": "stdout",
     "output_type": "stream",
     "text": [
      "+---+----+-------+\n",
      "| id|code|   name|\n",
      "+---+----+-------+\n",
      "|  0|  ru| Russia|\n",
      "|  1|  it|  Italy|\n",
      "|  2|  fi|Finland|\n",
      "|  0|  ru| Russia|\n",
      "|  1|  it|  Italy|\n",
      "|  2|  fi|Finland|\n",
      "+---+----+-------+\n",
      "\n"
     ]
    }
   ],
   "source": [
    "df_union = df_country.union(df_country)\n",
    "df_union.show()"
   ]
  },
  {
   "cell_type": "markdown",
   "id": "8c520e81",
   "metadata": {},
   "source": [
    "## Пропущенные значения"
   ]
  },
  {
   "cell_type": "markdown",
   "id": "b3f9ea5d",
   "metadata": {},
   "source": [
    "### Удаление строк"
   ]
  },
  {
   "cell_type": "code",
   "execution_count": 40,
   "id": "e4675332",
   "metadata": {},
   "outputs": [
    {
     "data": {
      "text/plain": [
       "10000"
      ]
     },
     "execution_count": 40,
     "metadata": {},
     "output_type": "execute_result"
    }
   ],
   "source": [
    "df.count()"
   ]
  },
  {
   "cell_type": "code",
   "execution_count": 41,
   "id": "1d859965",
   "metadata": {},
   "outputs": [
    {
     "data": {
      "text/plain": [
       "8347"
      ]
     },
     "execution_count": 41,
     "metadata": {},
     "output_type": "execute_result"
    }
   ],
   "source": [
    "df.dropna(how='any').count()"
   ]
  },
  {
   "cell_type": "markdown",
   "id": "f52876cf",
   "metadata": {},
   "source": [
    "### Заполнение пропусков"
   ]
  },
  {
   "cell_type": "code",
   "execution_count": 42,
   "id": "e4efb6a9",
   "metadata": {},
   "outputs": [
    {
     "name": "stdout",
     "output_type": "stream",
     "text": [
      "+-------+----------+---------+-------+-------------+--------+------+-----+--------+------+-----+------------+---------+-------+------+-------------+---------+------+----+\n",
      "| artist|      auth|firstName| gender|itemInSession|lastName|length|level|location|method| page|registration|sessionId|   song|status|           ts|userAgent|userId|hour|\n",
      "+-------+----------+---------+-------+-------------+--------+------+-----+--------+------+-----+------------+---------+-------+------+-------------+---------+------+----+\n",
      "|Missing|Logged Out|  Missing|Missing|            0| Missing|  null| free| Missing|   PUT|Login|        null|     5598|Missing|   307|1513721196284|  Missing|      |   1|\n",
      "|Missing|Logged Out|  Missing|Missing|           26| Missing|  null| paid| Missing|   GET| Home|        null|      428|Missing|   200|1513721274284|  Missing|      |   1|\n",
      "|Missing|Logged Out|  Missing|Missing|            5| Missing|  null| free| Missing|   GET| Home|        null|     2941|Missing|   200|1513722009284|  Missing|      |   1|\n",
      "+-------+----------+---------+-------+-------------+--------+------+-----+--------+------+-----+------------+---------+-------+------+-------------+---------+------+----+\n",
      "only showing top 3 rows\n",
      "\n"
     ]
    }
   ],
   "source": [
    "df.fillna('Missing').where('gender = \"Missing\"').show(3)"
   ]
  },
  {
   "cell_type": "markdown",
   "id": "ae2f93b0",
   "metadata": {},
   "source": [
    "## Квиз"
   ]
  },
  {
   "cell_type": "markdown",
   "id": "dad6b3c5",
   "metadata": {},
   "source": [
    "Which page did user id \"\" (empty string) NOT visit?"
   ]
  },
  {
   "cell_type": "code",
   "execution_count": 43,
   "id": "e2b70023",
   "metadata": {},
   "outputs": [
    {
     "name": "stdout",
     "output_type": "stream",
     "text": [
      "+-----+\n",
      "| Page|\n",
      "+-----+\n",
      "| Home|\n",
      "|About|\n",
      "|Login|\n",
      "| Help|\n",
      "+-----+\n",
      "\n"
     ]
    }
   ],
   "source": [
    "df.select('Page').filter('userId = \"\"').distinct().show()"
   ]
  },
  {
   "cell_type": "code",
   "execution_count": 44,
   "id": "8e1d693f",
   "metadata": {},
   "outputs": [
    {
     "name": "stdout",
     "output_type": "stream",
     "text": [
      "+------+----------+---------+------+-------------+--------+------+-----+--------+------+-----+------------+---------+----+------+-------------+---------+------+----+\n",
      "|artist|      auth|firstName|gender|itemInSession|lastName|length|level|location|method| page|registration|sessionId|song|status|           ts|userAgent|userId|hour|\n",
      "+------+----------+---------+------+-------------+--------+------+-----+--------+------+-----+------------+---------+----+------+-------------+---------+------+----+\n",
      "|  null|Logged Out|     null|  null|            0|    null|  null| free|    null|   PUT|Login|        null|     5598|null|   307|1513721196284|     null|      |   1|\n",
      "|  null|Logged Out|     null|  null|           26|    null|  null| paid|    null|   GET| Home|        null|      428|null|   200|1513721274284|     null|      |   1|\n",
      "|  null|Logged Out|     null|  null|            5|    null|  null| free|    null|   GET| Home|        null|     2941|null|   200|1513722009284|     null|      |   1|\n",
      "|  null|Logged Out|     null|  null|            5|    null|  null| paid|    null|   GET| Home|        null|     5243|null|   200|1513723183284|     null|      |   1|\n",
      "|  null|Logged Out|     null|  null|            6|    null|  null| paid|    null|   PUT|Login|        null|     5243|null|   307|1513723184284|     null|      |   1|\n",
      "|  null|Logged Out|     null|  null|            0|    null|  null| free|    null|   PUT|Login|        null|     1477|null|   307|1513723587284|     null|      |   1|\n",
      "|  null|Logged Out|     null|  null|           14|    null|  null| paid|    null|   GET| Home|        null|     5243|null|   200|1513724475284|     null|      |   2|\n",
      "|  null|Logged Out|     null|  null|            7|    null|  null| paid|    null|   GET| Home|        null|     4108|null|   200|1513724530284|     null|      |   2|\n",
      "|  null|Logged Out|     null|  null|            0|    null|  null| paid|    null|   PUT|Login|        null|     5764|null|   307|1513728229284|     null|      |   3|\n",
      "|  null|Logged Out|     null|  null|            0|    null|  null| paid|    null|   GET| Home|        null|     5566|null|   200|1513729051284|     null|      |   3|\n",
      "|  null|Logged Out|     null|  null|            1|    null|  null| paid|    null|   PUT|Login|        null|     5566|null|   307|1513729052284|     null|      |   3|\n",
      "|  null|Logged Out|     null|  null|            0|    null|  null| paid|    null|   GET| Home|        null|     3697|null|   200|1513729376284|     null|      |   3|\n",
      "|  null|Logged Out|     null|  null|            1|    null|  null| paid|    null|   GET| Help|        null|     3697|null|   200|1513729445284|     null|      |   3|\n",
      "|  null|Logged Out|     null|  null|           60|    null|  null| paid|    null|   GET| Home|        null|     5175|null|   200|1513729762284|     null|      |   3|\n",
      "|  null|Logged Out|     null|  null|           61|    null|  null| paid|    null|   PUT|Login|        null|     5175|null|   307|1513729763284|     null|      |   3|\n",
      "|  null|Logged Out|     null|  null|            0|    null|  null| free|    null|   GET| Home|        null|      511|null|   200|1513730128284|     null|      |   3|\n",
      "|  null|Logged Out|     null|  null|            1|    null|  null| free|    null|   PUT|Login|        null|      511|null|   307|1513730129284|     null|      |   3|\n",
      "|  null|Logged Out|     null|  null|            0|    null|  null| free|    null|   GET| Home|        null|     2992|null|   200|1513730621284|     null|      |   3|\n",
      "|  null|Logged Out|     null|  null|            1|    null|  null| free|    null|   PUT|Login|        null|     2992|null|   307|1513730622284|     null|      |   3|\n",
      "|  null|Logged Out|     null|  null|            8|    null|  null| paid|    null|   GET| Home|        null|     4239|null|   200|1513730953284|     null|      |   3|\n",
      "+------+----------+---------+------+-------------+--------+------+-----+--------+------+-----+------------+---------+----+------+-------------+---------+------+----+\n",
      "only showing top 20 rows\n",
      "\n"
     ]
    }
   ],
   "source": [
    "df.filter('userId = \"\"').show()"
   ]
  },
  {
   "cell_type": "code",
   "execution_count": 45,
   "id": "2a56f0cd",
   "metadata": {},
   "outputs": [
    {
     "name": "stdout",
     "output_type": "stream",
     "text": [
      "+----------+-----------+\n",
      "|      auth|count empty|\n",
      "+----------+-----------+\n",
      "|Logged Out|        334|\n",
      "|     Guest|          2|\n",
      "| Logged In|          0|\n",
      "+----------+-----------+\n",
      "\n"
     ]
    }
   ],
   "source": [
    "df.groupby('auth').agg(F.count(F.when(F.col('userId') == \"\", 1)).alias('count empty')).show()"
   ]
  },
  {
   "cell_type": "code",
   "execution_count": 46,
   "id": "ed117d1a",
   "metadata": {},
   "outputs": [
    {
     "name": "stdout",
     "output_type": "stream",
     "text": [
      "+----------+-----------+\n",
      "|      auth|count empty|\n",
      "+----------+-----------+\n",
      "|Logged Out|        334|\n",
      "|     Guest|          2|\n",
      "| Logged In|          0|\n",
      "+----------+-----------+\n",
      "\n"
     ]
    }
   ],
   "source": [
    "df.groupby('auth').agg(F.sum(F.when(F.col('userId') == \"\", 1).otherwise(0)).alias('count empty')).show()"
   ]
  },
  {
   "cell_type": "markdown",
   "id": "18c70541",
   "metadata": {},
   "source": [
    "How many female users do we have in the data set?"
   ]
  },
  {
   "cell_type": "code",
   "execution_count": 47,
   "id": "25df01fd",
   "metadata": {},
   "outputs": [
    {
     "data": {
      "text/plain": [
       "462"
      ]
     },
     "execution_count": 47,
     "metadata": {},
     "output_type": "execute_result"
    }
   ],
   "source": [
    "df.select(['gender', 'userId']).filter(F.col('gender') == 'F').distinct().count()"
   ]
  },
  {
   "cell_type": "markdown",
   "id": "bd446f2f",
   "metadata": {},
   "source": [
    "How many songs were played from the most played artist?"
   ]
  },
  {
   "cell_type": "code",
   "execution_count": 48,
   "id": "5c163915",
   "metadata": {},
   "outputs": [
    {
     "name": "stdout",
     "output_type": "stream",
     "text": [
      "+--------------------+-----+\n",
      "|              artist|count|\n",
      "+--------------------+-----+\n",
      "|                null| 1653|\n",
      "|            Coldplay|   83|\n",
      "|       Kings Of Leon|   69|\n",
      "|Florence + The Ma...|   52|\n",
      "|            BjÃÂ¶rk|   46|\n",
      "|       Dwight Yoakam|   45|\n",
      "|       Justin Bieber|   43|\n",
      "|      The Black Keys|   40|\n",
      "|         OneRepublic|   37|\n",
      "|        Jack Johnson|   36|\n",
      "|                Muse|   36|\n",
      "|           Radiohead|   31|\n",
      "|        Taylor Swift|   29|\n",
      "|Barry Tuckwell/Ac...|   28|\n",
      "|          Lily Allen|   28|\n",
      "|               Train|   28|\n",
      "|           Metallica|   27|\n",
      "|           Daft Punk|   27|\n",
      "|          Nickelback|   27|\n",
      "|          Kanye West|   26|\n",
      "+--------------------+-----+\n",
      "only showing top 20 rows\n",
      "\n"
     ]
    }
   ],
   "source": [
    "df.groupBy('artist').count().sort('count', ascending=False).show()"
   ]
  },
  {
   "cell_type": "code",
   "execution_count": 49,
   "id": "8f3069d9",
   "metadata": {},
   "outputs": [
    {
     "data": {
      "text/plain": [
       "83"
      ]
     },
     "execution_count": 49,
     "metadata": {},
     "output_type": "execute_result"
    }
   ],
   "source": [
    "df.filter(df.artist == 'Coldplay').select('song').count()"
   ]
  },
  {
   "cell_type": "markdown",
   "id": "3335a5d0",
   "metadata": {},
   "source": [
    "How many songs do users listen to on average between visiting our home page? Please round your answer to the closest integer."
   ]
  },
  {
   "cell_type": "code",
   "execution_count": 50,
   "id": "d2ecdb8d",
   "metadata": {},
   "outputs": [
    {
     "name": "stdout",
     "output_type": "stream",
     "text": [
      "+------------------+\n",
      "|avg(count(period))|\n",
      "+------------------+\n",
      "| 6.898347107438017|\n",
      "+------------------+\n",
      "\n"
     ]
    }
   ],
   "source": [
    "function = F.udf(lambda ishome : int(ishome == 'Home'), IntegerType())\n",
    "\n",
    "user_window = Window \\\n",
    "    .partitionBy('userID') \\\n",
    "    .orderBy(F.desc('ts')) \\\n",
    "#     .rangeBetween(Window.unboundedPreceding, 0)\n",
    "\n",
    "cusum = df.filter((df.page == 'NextSong') | (df.page == 'Home')) \\\n",
    "    .select('userID', 'page', 'ts') \\\n",
    "    .withColumn('homevisit', function(F.col('page'))) \\\n",
    "    .withColumn('period', F.sum('homevisit').over(user_window))\n",
    "\n",
    "cusum.filter((cusum.page == 'NextSong')) \\\n",
    "    .groupBy('userID', 'period') \\\n",
    "    .agg({'period':'count'}) \\\n",
    "    .agg({'count(period)':'avg'}).show()"
   ]
  },
  {
   "cell_type": "code",
   "execution_count": 51,
   "id": "bb7338ed",
   "metadata": {},
   "outputs": [
    {
     "name": "stdout",
     "output_type": "stream",
     "text": [
      "+------+--------+-------------+---------+------+\n",
      "|userID|    page|           ts|homevisit|period|\n",
      "+------+--------+-------------+---------+------+\n",
      "|  1138|NextSong|1513833144284|        0|     0|\n",
      "|  1138|    Home|1513821430284|        1|     1|\n",
      "|  1138|NextSong|1513814880284|        0|     1|\n",
      "|  1138|    Home|1513768456284|        1|     2|\n",
      "|  1138|NextSong|1513768452284|        0|     2|\n",
      "|  1138|NextSong|1513768242284|        0|     2|\n",
      "|  1138|NextSong|1513768012284|        0|     2|\n",
      "|  1138|NextSong|1513767643284|        0|     2|\n",
      "|  1138|NextSong|1513767413284|        0|     2|\n",
      "|  1138|NextSong|1513767203284|        0|     2|\n",
      "|  1138|NextSong|1513766838284|        0|     2|\n",
      "|  1138|NextSong|1513766599284|        0|     2|\n",
      "|  1138|NextSong|1513766385284|        0|     2|\n",
      "|  1138|NextSong|1513766189284|        0|     2|\n",
      "|  1138|NextSong|1513766091284|        0|     2|\n",
      "|  1138|NextSong|1513765818284|        0|     2|\n",
      "|  1138|NextSong|1513765655284|        0|     2|\n",
      "|  1138|NextSong|1513765448284|        0|     2|\n",
      "|  1138|NextSong|1513765075284|        0|     3|\n",
      "|  1138|    Home|1513765075284|        1|     3|\n",
      "|  1138|NextSong|1513764782284|        0|     3|\n",
      "|  1138|NextSong|1513764462284|        0|     3|\n",
      "|  1138|NextSong|1513764238284|        0|     3|\n",
      "|  1138|NextSong|1513763890284|        0|     3|\n",
      "|  1138|NextSong|1513763622284|        0|     3|\n",
      "|  1138|NextSong|1513763453284|        0|     3|\n",
      "|  1138|NextSong|1513763195284|        0|     3|\n",
      "|  1138|NextSong|1513738432284|        0|     3|\n",
      "|  1138|NextSong|1513738144284|        0|     3|\n",
      "|  1138|NextSong|1513737936284|        0|     3|\n",
      "|  1138|NextSong|1513737728284|        0|     3|\n",
      "|  1138|NextSong|1513737460284|        0|     3|\n",
      "|  1138|NextSong|1513737160284|        0|     3|\n",
      "|  1138|NextSong|1513736915284|        0|     3|\n",
      "|  1138|NextSong|1513736709284|        0|     3|\n",
      "|  1138|NextSong|1513736446284|        0|     3|\n",
      "|  1138|NextSong|1513736237284|        0|     3|\n",
      "|  1138|NextSong|1513736040284|        0|     3|\n",
      "|  1138|NextSong|1513735385284|        0|     3|\n",
      "|  1138|NextSong|1513735174284|        0|     3|\n",
      "|  1138|NextSong|1513734863284|        0|     3|\n",
      "|  1138|NextSong|1513734598284|        0|     3|\n",
      "|  1138|NextSong|1513734289284|        0|     3|\n",
      "|  1138|NextSong|1513733941284|        0|     3|\n",
      "|  1138|NextSong|1513733738284|        0|     3|\n",
      "|  1138|NextSong|1513733456284|        0|     3|\n",
      "|  1138|NextSong|1513733223284|        0|     3|\n",
      "|  1138|NextSong|1513732994284|        0|     3|\n",
      "|  1138|NextSong|1513732770284|        0|     3|\n",
      "|  1138|NextSong|1513732540284|        0|     3|\n",
      "|  1138|NextSong|1513732302284|        0|     3|\n",
      "|  1138|NextSong|1513732160284|        0|     3|\n",
      "|  1138|NextSong|1513731857284|        0|     3|\n",
      "|  1138|NextSong|1513731695284|        0|     3|\n",
      "|  1138|NextSong|1513731435284|        0|     3|\n",
      "|  1138|NextSong|1513731182284|        0|     3|\n",
      "|  1138|NextSong|1513730768284|        0|     3|\n",
      "|  1138|NextSong|1513730518284|        0|     3|\n",
      "|  1138|NextSong|1513730263284|        0|     3|\n",
      "|  1138|NextSong|1513730001284|        0|     3|\n",
      "|  1138|NextSong|1513729783284|        0|     3|\n",
      "|  1138|NextSong|1513729552284|        0|     3|\n",
      "|  1138|NextSong|1513729313284|        0|     3|\n",
      "|  1138|    Home|1513729066284|        1|     4|\n",
      "|  1138|NextSong|1513729066284|        0|     4|\n",
      "+------+--------+-------------+---------+------+\n",
      "\n"
     ]
    }
   ],
   "source": [
    "cusum.where(df.userId == \"1138\").show(100)"
   ]
  },
  {
   "cell_type": "markdown",
   "id": "c8de406c",
   "metadata": {},
   "source": [
    "## SQL"
   ]
  },
  {
   "cell_type": "code",
   "execution_count": 52,
   "id": "ef4ae1d2",
   "metadata": {},
   "outputs": [],
   "source": [
    "df.createOrReplaceTempView(\"user_log_table\")"
   ]
  },
  {
   "cell_type": "code",
   "execution_count": 53,
   "id": "d2ca237c",
   "metadata": {},
   "outputs": [
    {
     "name": "stdout",
     "output_type": "stream",
     "text": [
      "+-------------+---------+---------+------+-------------+--------+---------+-----+--------------------+------+--------+-------------+---------+--------------------+------+-------------+--------------------+------+----+\n",
      "|       artist|     auth|firstName|gender|itemInSession|lastName|   length|level|            location|method|    page| registration|sessionId|                song|status|           ts|           userAgent|userId|hour|\n",
      "+-------------+---------+---------+------+-------------+--------+---------+-----+--------------------+------+--------+-------------+---------+--------------------+------+-------------+--------------------+------+----+\n",
      "|Showaddywaddy|Logged In|  Kenneth|     M|          112|Matthews|232.93342| paid|Charlotte-Concord...|   PUT|NextSong|1509380319284|     5132|Christmas Tears W...|   200|1513720872284|\"Mozilla/5.0 (Win...|  1046|   1|\n",
      "|   Lily Allen|Logged In|Elizabeth|     F|            7|   Chase|195.23873| free|Shreveport-Bossie...|   PUT|NextSong|1512718541284|     5027|       Cheryl Tweedy|   200|1513720878284|\"Mozilla/5.0 (Win...|  1000|   1|\n",
      "+-------------+---------+---------+------+-------------+--------+---------+-----+--------------------+------+--------+-------------+---------+--------------------+------+-------------+--------------------+------+----+\n",
      "\n"
     ]
    }
   ],
   "source": [
    "spark.sql(\"SELECT * FROM user_log_table LIMIT 2\").show()"
   ]
  },
  {
   "cell_type": "code",
   "execution_count": 54,
   "id": "8813efa3",
   "metadata": {},
   "outputs": [
    {
     "name": "stdout",
     "output_type": "stream",
     "text": [
      "+--------+\n",
      "|count(1)|\n",
      "+--------+\n",
      "|   10000|\n",
      "+--------+\n",
      "\n"
     ]
    }
   ],
   "source": [
    "spark.sql('''\n",
    "          SELECT COUNT(*) \n",
    "          FROM user_log_table \n",
    "          '''\n",
    "          ).show()"
   ]
  },
  {
   "cell_type": "markdown",
   "id": "ae163bb5",
   "metadata": {},
   "source": [
    "### Пользовательсие функции для SQL"
   ]
  },
  {
   "cell_type": "code",
   "execution_count": 55,
   "id": "ee960dc7",
   "metadata": {},
   "outputs": [
    {
     "data": {
      "text/plain": [
       "<function __main__.<lambda>(x)>"
      ]
     },
     "execution_count": 55,
     "metadata": {},
     "output_type": "execute_result"
    }
   ],
   "source": [
    "spark.udf.register(\"get_hour\", lambda x: int(datetime.datetime.fromtimestamp(x / 1000.0).hour))"
   ]
  },
  {
   "cell_type": "code",
   "execution_count": 56,
   "id": "9df0bc16",
   "metadata": {},
   "outputs": [
    {
     "data": {
      "text/plain": [
       "[Row(artist='Showaddywaddy', auth='Logged In', firstName='Kenneth', gender='M', itemInSession=112, lastName='Matthews', length=232.93342, level='paid', location='Charlotte-Concord-Gastonia, NC-SC', method='PUT', page='NextSong', registration=1509380319284, sessionId=5132, song='Christmas Tears Will Fall', status=200, ts=1513720872284, userAgent='\"Mozilla/5.0 (Windows NT 6.1) AppleWebKit/537.36 (KHTML, like Gecko) Chrome/36.0.1985.125 Safari/537.36\"', userId='1046', hour='1', hour='1')]"
      ]
     },
     "execution_count": 56,
     "metadata": {},
     "output_type": "execute_result"
    }
   ],
   "source": [
    "spark.sql('''\n",
    "          SELECT *, get_hour(ts) AS hour\n",
    "          FROM user_log_table \n",
    "          LIMIT 1\n",
    "          '''\n",
    "          ).collect()"
   ]
  },
  {
   "cell_type": "code",
   "execution_count": 57,
   "id": "39d8ac5b",
   "metadata": {},
   "outputs": [],
   "source": [
    "songs_in_hour = spark.sql('''\n",
    "          SELECT get_hour(ts) AS hour, COUNT(*) as plays_per_hour\n",
    "          FROM user_log_table\n",
    "          WHERE page = \"NextSong\"\n",
    "          GROUP BY get_hour(ts)\n",
    "          ORDER BY cast(hour as int) ASC\n",
    "          '''\n",
    "          )"
   ]
  },
  {
   "cell_type": "code",
   "execution_count": 58,
   "id": "d4f2795f",
   "metadata": {},
   "outputs": [
    {
     "name": "stdout",
     "output_type": "stream",
     "text": [
      "+----+--------------+\n",
      "|hour|plays_per_hour|\n",
      "+----+--------------+\n",
      "|   0|           248|\n",
      "|   1|           369|\n",
      "|   2|           375|\n",
      "|   3|           456|\n",
      "|   4|           454|\n",
      "|   5|           382|\n",
      "|   6|           302|\n",
      "|   7|           352|\n",
      "|   8|           276|\n",
      "|   9|           348|\n",
      "|  10|           358|\n",
      "|  11|           375|\n",
      "|  12|           249|\n",
      "|  13|           216|\n",
      "|  14|           228|\n",
      "|  15|           251|\n",
      "|  16|           339|\n",
      "|  17|           462|\n",
      "|  18|           479|\n",
      "|  19|           484|\n",
      "+----+--------------+\n",
      "only showing top 20 rows\n",
      "\n"
     ]
    }
   ],
   "source": [
    "songs_in_hour.show()"
   ]
  },
  {
   "cell_type": "markdown",
   "id": "9fcdce27",
   "metadata": {},
   "source": [
    "## Pandas API on Spark\n",
    "+ https://docs.databricks.com/pandas/pandas-on-spark.html\n",
    "+ https://spark.apache.org/docs/latest/api/python/reference/pyspark.pandas/index.html\n",
    "+ https://sparkbyexamples.com/pyspark/pandas-api-on-apache-spark-pyspark/"
   ]
  },
  {
   "cell_type": "code",
   "execution_count": 64,
   "id": "5917085a",
   "metadata": {},
   "outputs": [],
   "source": [
    "# !pip install pyarrow"
   ]
  },
  {
   "cell_type": "code",
   "execution_count": 68,
   "id": "b1c2346c",
   "metadata": {},
   "outputs": [],
   "source": [
    "spark.conf.set('spark.sql.execution.arrow.enabled', 'true')"
   ]
  },
  {
   "cell_type": "code",
   "execution_count": 69,
   "id": "0f5c5607",
   "metadata": {},
   "outputs": [],
   "source": [
    "import pyspark.pandas as ps"
   ]
  },
  {
   "cell_type": "code",
   "execution_count": 74,
   "id": "6bebd07b",
   "metadata": {},
   "outputs": [
    {
     "data": {
      "text/html": [
       "<div>\n",
       "<style scoped>\n",
       "    .dataframe tbody tr th:only-of-type {\n",
       "        vertical-align: middle;\n",
       "    }\n",
       "\n",
       "    .dataframe tbody tr th {\n",
       "        vertical-align: top;\n",
       "    }\n",
       "\n",
       "    .dataframe thead th {\n",
       "        text-align: right;\n",
       "    }\n",
       "</style>\n",
       "<table border=\"1\" class=\"dataframe\">\n",
       "  <thead>\n",
       "    <tr style=\"text-align: right;\">\n",
       "      <th></th>\n",
       "      <th>artist</th>\n",
       "      <th>auth</th>\n",
       "      <th>firstName</th>\n",
       "      <th>gender</th>\n",
       "      <th>itemInSession</th>\n",
       "      <th>lastName</th>\n",
       "      <th>length</th>\n",
       "      <th>level</th>\n",
       "      <th>location</th>\n",
       "      <th>method</th>\n",
       "      <th>page</th>\n",
       "      <th>registration</th>\n",
       "      <th>sessionId</th>\n",
       "      <th>song</th>\n",
       "      <th>status</th>\n",
       "      <th>ts</th>\n",
       "      <th>userAgent</th>\n",
       "      <th>userId</th>\n",
       "      <th>hour</th>\n",
       "    </tr>\n",
       "  </thead>\n",
       "  <tbody>\n",
       "    <tr>\n",
       "      <th>0</th>\n",
       "      <td>Showaddywaddy</td>\n",
       "      <td>Logged In</td>\n",
       "      <td>Kenneth</td>\n",
       "      <td>M</td>\n",
       "      <td>112</td>\n",
       "      <td>Matthews</td>\n",
       "      <td>232.93342</td>\n",
       "      <td>paid</td>\n",
       "      <td>Charlotte-Concord-Gastonia, NC-SC</td>\n",
       "      <td>PUT</td>\n",
       "      <td>NextSong</td>\n",
       "      <td>1509380319284</td>\n",
       "      <td>5132</td>\n",
       "      <td>Christmas Tears Will Fall</td>\n",
       "      <td>200</td>\n",
       "      <td>1513720872284</td>\n",
       "      <td>\"Mozilla/5.0 (Windows NT 6.1) AppleWebKit/537....</td>\n",
       "      <td>1046</td>\n",
       "      <td>1</td>\n",
       "    </tr>\n",
       "    <tr>\n",
       "      <th>1</th>\n",
       "      <td>Lily Allen</td>\n",
       "      <td>Logged In</td>\n",
       "      <td>Elizabeth</td>\n",
       "      <td>F</td>\n",
       "      <td>7</td>\n",
       "      <td>Chase</td>\n",
       "      <td>195.23873</td>\n",
       "      <td>free</td>\n",
       "      <td>Shreveport-Bossier City, LA</td>\n",
       "      <td>PUT</td>\n",
       "      <td>NextSong</td>\n",
       "      <td>1512718541284</td>\n",
       "      <td>5027</td>\n",
       "      <td>Cheryl Tweedy</td>\n",
       "      <td>200</td>\n",
       "      <td>1513720878284</td>\n",
       "      <td>\"Mozilla/5.0 (Windows NT 6.1) AppleWebKit/537....</td>\n",
       "      <td>1000</td>\n",
       "      <td>1</td>\n",
       "    </tr>\n",
       "    <tr>\n",
       "      <th>2</th>\n",
       "      <td>Cobra Starship Featuring Leighton Meester</td>\n",
       "      <td>Logged In</td>\n",
       "      <td>Vera</td>\n",
       "      <td>F</td>\n",
       "      <td>6</td>\n",
       "      <td>Blackwell</td>\n",
       "      <td>196.20526</td>\n",
       "      <td>paid</td>\n",
       "      <td>Racine, WI</td>\n",
       "      <td>PUT</td>\n",
       "      <td>NextSong</td>\n",
       "      <td>1499855749284</td>\n",
       "      <td>5516</td>\n",
       "      <td>Good Girls Go Bad (Feat.Leighton Meester) (Alb...</td>\n",
       "      <td>200</td>\n",
       "      <td>1513720881284</td>\n",
       "      <td>\"Mozilla/5.0 (Macintosh; Intel Mac OS X 10_9_4...</td>\n",
       "      <td>2219</td>\n",
       "      <td>1</td>\n",
       "    </tr>\n",
       "    <tr>\n",
       "      <th>3</th>\n",
       "      <td>Alex Smoke</td>\n",
       "      <td>Logged In</td>\n",
       "      <td>Sophee</td>\n",
       "      <td>F</td>\n",
       "      <td>8</td>\n",
       "      <td>Barker</td>\n",
       "      <td>405.99465</td>\n",
       "      <td>paid</td>\n",
       "      <td>San Luis Obispo-Paso Robles-Arroyo Grande, CA</td>\n",
       "      <td>PUT</td>\n",
       "      <td>NextSong</td>\n",
       "      <td>1513009647284</td>\n",
       "      <td>2372</td>\n",
       "      <td>Don't See The Point</td>\n",
       "      <td>200</td>\n",
       "      <td>1513720905284</td>\n",
       "      <td>\"Mozilla/5.0 (Windows NT 6.1; WOW64) AppleWebK...</td>\n",
       "      <td>2373</td>\n",
       "      <td>1</td>\n",
       "    </tr>\n",
       "    <tr>\n",
       "      <th>4</th>\n",
       "      <td>None</td>\n",
       "      <td>Logged In</td>\n",
       "      <td>Jordyn</td>\n",
       "      <td>F</td>\n",
       "      <td>0</td>\n",
       "      <td>Jones</td>\n",
       "      <td>NaN</td>\n",
       "      <td>free</td>\n",
       "      <td>Syracuse, NY</td>\n",
       "      <td>GET</td>\n",
       "      <td>Home</td>\n",
       "      <td>1513648531284</td>\n",
       "      <td>1746</td>\n",
       "      <td>None</td>\n",
       "      <td>200</td>\n",
       "      <td>1513720913284</td>\n",
       "      <td>\"Mozilla/5.0 (Macintosh; Intel Mac OS X 10_9_4...</td>\n",
       "      <td>1747</td>\n",
       "      <td>1</td>\n",
       "    </tr>\n",
       "  </tbody>\n",
       "</table>\n",
       "</div>"
      ],
      "text/plain": [
       "                                      artist       auth  firstName gender  itemInSession   lastName     length level                                       location method      page   registration  sessionId                                                       song  status             ts                                                                                                                  userAgent userId hour\n",
       "0                              Showaddywaddy  Logged In    Kenneth      M            112   Matthews  232.93342  paid              Charlotte-Concord-Gastonia, NC-SC    PUT  NextSong  1509380319284       5132                                  Christmas Tears Will Fall     200  1513720872284                   \"Mozilla/5.0 (Windows NT 6.1) AppleWebKit/537.36 (KHTML, like Gecko) Chrome/36.0.1985.125 Safari/537.36\"   1046    1\n",
       "1                                 Lily Allen  Logged In  Elizabeth      F              7      Chase  195.23873  free                    Shreveport-Bossier City, LA    PUT  NextSong  1512718541284       5027                                              Cheryl Tweedy     200  1513720878284                   \"Mozilla/5.0 (Windows NT 6.1) AppleWebKit/537.36 (KHTML, like Gecko) Chrome/36.0.1985.143 Safari/537.36\"   1000    1\n",
       "2  Cobra Starship Featuring Leighton Meester  Logged In       Vera      F              6  Blackwell  196.20526  paid                                     Racine, WI    PUT  NextSong  1499855749284       5516  Good Girls Go Bad (Feat.Leighton Meester) (Album Version)     200  1513720881284    \"Mozilla/5.0 (Macintosh; Intel Mac OS X 10_9_4) AppleWebKit/537.78.2 (KHTML, like Gecko) Version/7.0.6 Safari/537.78.2\"   2219    1\n",
       "3                                 Alex Smoke  Logged In     Sophee      F              8     Barker  405.99465  paid  San Luis Obispo-Paso Robles-Arroyo Grande, CA    PUT  NextSong  1513009647284       2372                                        Don't See The Point     200  1513720905284            \"Mozilla/5.0 (Windows NT 6.1; WOW64) AppleWebKit/537.36 (KHTML, like Gecko) Chrome/36.0.1985.143 Safari/537.36\"   2373    1\n",
       "4                                       None  Logged In     Jordyn      F              0      Jones        NaN  free                                   Syracuse, NY    GET      Home  1513648531284       1746                                                       None     200  1513720913284  \"Mozilla/5.0 (Macintosh; Intel Mac OS X 10_9_4) AppleWebKit/537.36 (KHTML, like Gecko) Chrome/37.0.2062.94 Safari/537.36\"   1747    1"
      ]
     },
     "execution_count": 74,
     "metadata": {},
     "output_type": "execute_result"
    }
   ],
   "source": [
    "pdf = df.pandas_api()\n",
    "pdf.head()"
   ]
  },
  {
   "cell_type": "code",
   "execution_count": 81,
   "id": "ee18bd2b",
   "metadata": {},
   "outputs": [
    {
     "data": {
      "text/plain": [
       "NextSong            8347\n",
       "Home                1126\n",
       "Login                126\n",
       "Logout               100\n",
       "Downgrade             75\n",
       "Settings              59\n",
       "Help                  58\n",
       "About                 43\n",
       "Upgrade               32\n",
       "Error                 12\n",
       "Save Settings         11\n",
       "Submit Upgrade        10\n",
       "Submit Downgrade       1\n",
       "Name: page, dtype: int64"
      ]
     },
     "execution_count": 81,
     "metadata": {},
     "output_type": "execute_result"
    }
   ],
   "source": [
    "pdf['page'].value_counts()"
   ]
  },
  {
   "cell_type": "markdown",
   "id": "9ccc9889",
   "metadata": {},
   "source": [
    "# Отладка и оптимизация"
   ]
  },
  {
   "cell_type": "markdown",
   "id": "cef34ce3",
   "metadata": {},
   "source": [
    "## Accumulators\n",
    "📌 Переменные которые накапливаются"
   ]
  },
  {
   "cell_type": "code",
   "execution_count": 56,
   "id": "9a8fb222",
   "metadata": {},
   "outputs": [
    {
     "data": {
      "text/plain": [
       "0"
      ]
     },
     "execution_count": 56,
     "metadata": {},
     "output_type": "execute_result"
    }
   ],
   "source": [
    "incorrect_record = sc.accumulator(0)\n",
    "incorrect_record.value"
   ]
  },
  {
   "cell_type": "code",
   "execution_count": 57,
   "id": "25dca0be",
   "metadata": {},
   "outputs": [],
   "source": [
    "def add_incorrect_record():\n",
    "    global incorrect_record\n",
    "    incorrect_record += 1"
   ]
  },
  {
   "cell_type": "code",
   "execution_count": 58,
   "id": "d0072890",
   "metadata": {},
   "outputs": [
    {
     "data": {
      "text/plain": [
       "[Row(artist=None, auth='Logged Out', firstName=None, gender=None, itemInSession=0, lastName=None, length=None, level='free', location=None, method='PUT', page='Login', registration=None, sessionId=5598, song=None, status=307, ts=1513721196284, userAgent=None, userId='', correct_id=None),\n",
       " Row(artist=None, auth='Logged Out', firstName=None, gender=None, itemInSession=26, lastName=None, length=None, level='paid', location=None, method='GET', page='Home', registration=None, sessionId=428, song=None, status=200, ts=1513721274284, userAgent=None, userId='', correct_id=None),\n",
       " Row(artist=None, auth='Logged Out', firstName=None, gender=None, itemInSession=5, lastName=None, length=None, level='free', location=None, method='GET', page='Home', registration=None, sessionId=2941, song=None, status=200, ts=1513722009284, userAgent=None, userId='', correct_id=None),\n",
       " Row(artist=None, auth='Logged Out', firstName=None, gender=None, itemInSession=5, lastName=None, length=None, level='paid', location=None, method='GET', page='Home', registration=None, sessionId=5243, song=None, status=200, ts=1513723183284, userAgent=None, userId='', correct_id=None),\n",
       " Row(artist=None, auth='Logged Out', firstName=None, gender=None, itemInSession=6, lastName=None, length=None, level='paid', location=None, method='PUT', page='Login', registration=None, sessionId=5243, song=None, status=307, ts=1513723184284, userAgent=None, userId='', correct_id=None),\n",
       " Row(artist=None, auth='Logged Out', firstName=None, gender=None, itemInSession=0, lastName=None, length=None, level='free', location=None, method='PUT', page='Login', registration=None, sessionId=1477, song=None, status=307, ts=1513723587284, userAgent=None, userId='', correct_id=None),\n",
       " Row(artist=None, auth='Logged Out', firstName=None, gender=None, itemInSession=14, lastName=None, length=None, level='paid', location=None, method='GET', page='Home', registration=None, sessionId=5243, song=None, status=200, ts=1513724475284, userAgent=None, userId='', correct_id=None),\n",
       " Row(artist=None, auth='Logged Out', firstName=None, gender=None, itemInSession=7, lastName=None, length=None, level='paid', location=None, method='GET', page='Home', registration=None, sessionId=4108, song=None, status=200, ts=1513724530284, userAgent=None, userId='', correct_id=None),\n",
       " Row(artist=None, auth='Logged Out', firstName=None, gender=None, itemInSession=0, lastName=None, length=None, level='paid', location=None, method='PUT', page='Login', registration=None, sessionId=5764, song=None, status=307, ts=1513728229284, userAgent=None, userId='', correct_id=None),\n",
       " Row(artist=None, auth='Logged Out', firstName=None, gender=None, itemInSession=0, lastName=None, length=None, level='paid', location=None, method='GET', page='Home', registration=None, sessionId=5566, song=None, status=200, ts=1513729051284, userAgent=None, userId='', correct_id=None),\n",
       " Row(artist=None, auth='Logged Out', firstName=None, gender=None, itemInSession=1, lastName=None, length=None, level='paid', location=None, method='PUT', page='Login', registration=None, sessionId=5566, song=None, status=307, ts=1513729052284, userAgent=None, userId='', correct_id=None),\n",
       " Row(artist=None, auth='Logged Out', firstName=None, gender=None, itemInSession=0, lastName=None, length=None, level='paid', location=None, method='GET', page='Home', registration=None, sessionId=3697, song=None, status=200, ts=1513729376284, userAgent=None, userId='', correct_id=None),\n",
       " Row(artist=None, auth='Logged Out', firstName=None, gender=None, itemInSession=1, lastName=None, length=None, level='paid', location=None, method='GET', page='Help', registration=None, sessionId=3697, song=None, status=200, ts=1513729445284, userAgent=None, userId='', correct_id=None),\n",
       " Row(artist=None, auth='Logged Out', firstName=None, gender=None, itemInSession=60, lastName=None, length=None, level='paid', location=None, method='GET', page='Home', registration=None, sessionId=5175, song=None, status=200, ts=1513729762284, userAgent=None, userId='', correct_id=None),\n",
       " Row(artist=None, auth='Logged Out', firstName=None, gender=None, itemInSession=61, lastName=None, length=None, level='paid', location=None, method='PUT', page='Login', registration=None, sessionId=5175, song=None, status=307, ts=1513729763284, userAgent=None, userId='', correct_id=None),\n",
       " Row(artist=None, auth='Logged Out', firstName=None, gender=None, itemInSession=0, lastName=None, length=None, level='free', location=None, method='GET', page='Home', registration=None, sessionId=511, song=None, status=200, ts=1513730128284, userAgent=None, userId='', correct_id=None),\n",
       " Row(artist=None, auth='Logged Out', firstName=None, gender=None, itemInSession=1, lastName=None, length=None, level='free', location=None, method='PUT', page='Login', registration=None, sessionId=511, song=None, status=307, ts=1513730129284, userAgent=None, userId='', correct_id=None),\n",
       " Row(artist=None, auth='Logged Out', firstName=None, gender=None, itemInSession=0, lastName=None, length=None, level='free', location=None, method='GET', page='Home', registration=None, sessionId=2992, song=None, status=200, ts=1513730621284, userAgent=None, userId='', correct_id=None),\n",
       " Row(artist=None, auth='Logged Out', firstName=None, gender=None, itemInSession=1, lastName=None, length=None, level='free', location=None, method='PUT', page='Login', registration=None, sessionId=2992, song=None, status=307, ts=1513730622284, userAgent=None, userId='', correct_id=None),\n",
       " Row(artist=None, auth='Logged Out', firstName=None, gender=None, itemInSession=8, lastName=None, length=None, level='paid', location=None, method='GET', page='Home', registration=None, sessionId=4239, song=None, status=200, ts=1513730953284, userAgent=None, userId='', correct_id=None),\n",
       " Row(artist=None, auth='Logged Out', firstName=None, gender=None, itemInSession=9, lastName=None, length=None, level='paid', location=None, method='PUT', page='Login', registration=None, sessionId=4239, song=None, status=307, ts=1513730954284, userAgent=None, userId='', correct_id=None),\n",
       " Row(artist=None, auth='Logged Out', firstName=None, gender=None, itemInSession=2, lastName=None, length=None, level='free', location=None, method='GET', page='Home', registration=None, sessionId=4441, song=None, status=200, ts=1513731045284, userAgent=None, userId='', correct_id=None),\n",
       " Row(artist=None, auth='Logged Out', firstName=None, gender=None, itemInSession=3, lastName=None, length=None, level='free', location=None, method='GET', page='About', registration=None, sessionId=4441, song=None, status=200, ts=1513731065284, userAgent=None, userId='', correct_id=None),\n",
       " Row(artist=None, auth='Logged Out', firstName=None, gender=None, itemInSession=0, lastName=None, length=None, level='free', location=None, method='PUT', page='Login', registration=None, sessionId=925, song=None, status=307, ts=1513731101284, userAgent=None, userId='', correct_id=None),\n",
       " Row(artist=None, auth='Logged Out', firstName=None, gender=None, itemInSession=2, lastName=None, length=None, level='free', location=None, method='GET', page='Home', registration=None, sessionId=5817, song=None, status=200, ts=1513731277284, userAgent=None, userId='', correct_id=None),\n",
       " Row(artist=None, auth='Logged Out', firstName=None, gender=None, itemInSession=3, lastName=None, length=None, level='free', location=None, method='PUT', page='Login', registration=None, sessionId=5817, song=None, status=307, ts=1513731278284, userAgent=None, userId='', correct_id=None),\n",
       " Row(artist=None, auth='Logged Out', firstName=None, gender=None, itemInSession=0, lastName=None, length=None, level='paid', location=None, method='GET', page='Home', registration=None, sessionId=4934, song=None, status=200, ts=1513731834284, userAgent=None, userId='', correct_id=None),\n",
       " Row(artist=None, auth='Logged Out', firstName=None, gender=None, itemInSession=1, lastName=None, length=None, level='paid', location=None, method='PUT', page='Login', registration=None, sessionId=4934, song=None, status=307, ts=1513731835284, userAgent=None, userId='', correct_id=None),\n",
       " Row(artist=None, auth='Logged Out', firstName=None, gender=None, itemInSession=0, lastName=None, length=None, level='free', location=None, method='GET', page='Home', registration=None, sessionId=184, song=None, status=200, ts=1513733637284, userAgent=None, userId='', correct_id=None),\n",
       " Row(artist=None, auth='Logged Out', firstName=None, gender=None, itemInSession=0, lastName=None, length=None, level='free', location=None, method='PUT', page='Login', registration=None, sessionId=2203, song=None, status=307, ts=1513734694284, userAgent=None, userId='', correct_id=None),\n",
       " Row(artist=None, auth='Logged Out', firstName=None, gender=None, itemInSession=0, lastName=None, length=None, level='free', location=None, method='GET', page='Home', registration=None, sessionId=1839, song=None, status=200, ts=1513734883284, userAgent=None, userId='', correct_id=None),\n",
       " Row(artist=None, auth='Logged Out', firstName=None, gender=None, itemInSession=15, lastName=None, length=None, level='paid', location=None, method='GET', page='Home', registration=None, sessionId=2773, song=None, status=200, ts=1513735959284, userAgent=None, userId='', correct_id=None),\n",
       " Row(artist=None, auth='Logged Out', firstName=None, gender=None, itemInSession=16, lastName=None, length=None, level='paid', location=None, method='GET', page='About', registration=None, sessionId=2773, song=None, status=200, ts=1513735976284, userAgent=None, userId='', correct_id=None),\n",
       " Row(artist=None, auth='Logged Out', firstName=None, gender=None, itemInSession=17, lastName=None, length=None, level='paid', location=None, method='GET', page='Home', registration=None, sessionId=2773, song=None, status=200, ts=1513736082284, userAgent=None, userId='', correct_id=None),\n",
       " Row(artist=None, auth='Logged Out', firstName=None, gender=None, itemInSession=29, lastName=None, length=None, level='paid', location=None, method='GET', page='Home', registration=None, sessionId=4992, song=None, status=200, ts=1513736560284, userAgent=None, userId='', correct_id=None),\n",
       " Row(artist=None, auth='Logged Out', firstName=None, gender=None, itemInSession=0, lastName=None, length=None, level='free', location=None, method='GET', page='Home', registration=None, sessionId=185, song=None, status=200, ts=1513737804284, userAgent=None, userId='', correct_id=None),\n",
       " Row(artist=None, auth='Logged Out', firstName=None, gender=None, itemInSession=1, lastName=None, length=None, level='free', location=None, method='GET', page='About', registration=None, sessionId=185, song=None, status=200, ts=1513737827284, userAgent=None, userId='', correct_id=None),\n",
       " Row(artist=None, auth='Logged Out', firstName=None, gender=None, itemInSession=42, lastName=None, length=None, level='paid', location=None, method='GET', page='Home', registration=None, sessionId=3146, song=None, status=200, ts=1513738847284, userAgent=None, userId='', correct_id=None),\n",
       " Row(artist=None, auth='Logged Out', firstName=None, gender=None, itemInSession=43, lastName=None, length=None, level='paid', location=None, method='GET', page='About', registration=None, sessionId=3146, song=None, status=200, ts=1513738848284, userAgent=None, userId='', correct_id=None),\n",
       " Row(artist=None, auth='Logged Out', firstName=None, gender=None, itemInSession=8, lastName=None, length=None, level='paid', location=None, method='GET', page='Home', registration=None, sessionId=1064, song=None, status=200, ts=1513741997284, userAgent=None, userId='', correct_id=None),\n",
       " Row(artist=None, auth='Logged Out', firstName=None, gender=None, itemInSession=5, lastName=None, length=None, level='free', location=None, method='GET', page='Home', registration=None, sessionId=2993, song=None, status=200, ts=1513742384284, userAgent=None, userId='', correct_id=None),\n",
       " Row(artist=None, auth='Logged Out', firstName=None, gender=None, itemInSession=6, lastName=None, length=None, level='free', location=None, method='GET', page='Help', registration=None, sessionId=2993, song=None, status=200, ts=1513742425284, userAgent=None, userId='', correct_id=None),\n",
       " Row(artist=None, auth='Logged Out', firstName=None, gender=None, itemInSession=7, lastName=None, length=None, level='free', location=None, method='GET', page='Home', registration=None, sessionId=2993, song=None, status=200, ts=1513742458284, userAgent=None, userId='', correct_id=None),\n",
       " Row(artist=None, auth='Logged Out', firstName=None, gender=None, itemInSession=8, lastName=None, length=None, level='free', location=None, method='PUT', page='Login', registration=None, sessionId=2993, song=None, status=307, ts=1513742459284, userAgent=None, userId='', correct_id=None),\n",
       " Row(artist=None, auth='Logged Out', firstName=None, gender=None, itemInSession=57, lastName=None, length=None, level='paid', location=None, method='GET', page='Home', registration=None, sessionId=5478, song=None, status=200, ts=1513742804284, userAgent=None, userId='', correct_id=None),\n",
       " Row(artist=None, auth='Logged Out', firstName=None, gender=None, itemInSession=4, lastName=None, length=None, level='free', location=None, method='GET', page='Home', registration=None, sessionId=5826, song=None, status=200, ts=1513743807284, userAgent=None, userId='', correct_id=None),\n",
       " Row(artist=None, auth='Logged Out', firstName=None, gender=None, itemInSession=5, lastName=None, length=None, level='free', location=None, method='PUT', page='Login', registration=None, sessionId=5826, song=None, status=307, ts=1513743808284, userAgent=None, userId='', correct_id=None),\n",
       " Row(artist=None, auth='Logged Out', firstName=None, gender=None, itemInSession=20, lastName=None, length=None, level='paid', location=None, method='GET', page='Home', registration=None, sessionId=1985, song=None, status=200, ts=1513745516284, userAgent=None, userId='', correct_id=None),\n",
       " Row(artist=None, auth='Logged Out', firstName=None, gender=None, itemInSession=21, lastName=None, length=None, level='paid', location=None, method='PUT', page='Login', registration=None, sessionId=1985, song=None, status=307, ts=1513745517284, userAgent=None, userId='', correct_id=None),\n",
       " Row(artist=None, auth='Logged Out', firstName=None, gender=None, itemInSession=0, lastName=None, length=None, level='paid', location=None, method='GET', page='Home', registration=None, sessionId=3951, song=None, status=200, ts=1513745727284, userAgent=None, userId='', correct_id=None),\n",
       " Row(artist=None, auth='Logged Out', firstName=None, gender=None, itemInSession=2, lastName=None, length=None, level='free', location=None, method='GET', page='Home', registration=None, sessionId=5552, song=None, status=200, ts=1513746313284, userAgent=None, userId='', correct_id=None),\n",
       " Row(artist=None, auth='Logged Out', firstName=None, gender=None, itemInSession=3, lastName=None, length=None, level='free', location=None, method='PUT', page='Login', registration=None, sessionId=5552, song=None, status=307, ts=1513746314284, userAgent=None, userId='', correct_id=None),\n",
       " Row(artist=None, auth='Logged Out', firstName=None, gender=None, itemInSession=0, lastName=None, length=None, level='free', location=None, method='GET', page='Home', registration=None, sessionId=5053, song=None, status=200, ts=1513746331284, userAgent=None, userId='', correct_id=None),\n",
       " Row(artist=None, auth='Logged Out', firstName=None, gender=None, itemInSession=1, lastName=None, length=None, level='free', location=None, method='GET', page='About', registration=None, sessionId=5053, song=None, status=200, ts=1513746352284, userAgent=None, userId='', correct_id=None),\n",
       " Row(artist=None, auth='Logged Out', firstName=None, gender=None, itemInSession=2, lastName=None, length=None, level='free', location=None, method='GET', page='Home', registration=None, sessionId=5053, song=None, status=200, ts=1513746353284, userAgent=None, userId='', correct_id=None),\n",
       " Row(artist=None, auth='Logged Out', firstName=None, gender=None, itemInSession=3, lastName=None, length=None, level='free', location=None, method='PUT', page='Login', registration=None, sessionId=5053, song=None, status=307, ts=1513746354284, userAgent=None, userId='', correct_id=None),\n",
       " Row(artist=None, auth='Logged Out', firstName=None, gender=None, itemInSession=1, lastName=None, length=None, level='paid', location=None, method='GET', page='Home', registration=None, sessionId=3951, song=None, status=200, ts=1513746544284, userAgent=None, userId='', correct_id=None),\n",
       " Row(artist=None, auth='Logged Out', firstName=None, gender=None, itemInSession=2, lastName=None, length=None, level='paid', location=None, method='GET', page='Home', registration=None, sessionId=3951, song=None, status=200, ts=1513746594284, userAgent=None, userId='', correct_id=None),\n",
       " Row(artist=None, auth='Logged Out', firstName=None, gender=None, itemInSession=0, lastName=None, length=None, level='paid', location=None, method='GET', page='Home', registration=None, sessionId=4904, song=None, status=200, ts=1513746674284, userAgent=None, userId='', correct_id=None),\n",
       " Row(artist=None, auth='Logged Out', firstName=None, gender=None, itemInSession=3, lastName=None, length=None, level='paid', location=None, method='GET', page='About', registration=None, sessionId=3951, song=None, status=200, ts=1513746827284, userAgent=None, userId='', correct_id=None),\n",
       " Row(artist=None, auth='Logged Out', firstName=None, gender=None, itemInSession=4, lastName=None, length=None, level='paid', location=None, method='PUT', page='Login', registration=None, sessionId=3951, song=None, status=307, ts=1513746828284, userAgent=None, userId='', correct_id=None),\n",
       " Row(artist=None, auth='Logged Out', firstName=None, gender=None, itemInSession=8, lastName=None, length=None, level='free', location=None, method='GET', page='Home', registration=None, sessionId=5552, song=None, status=200, ts=1513747001284, userAgent=None, userId='', correct_id=None),\n",
       " Row(artist=None, auth='Logged Out', firstName=None, gender=None, itemInSession=9, lastName=None, length=None, level='free', location=None, method='GET', page='About', registration=None, sessionId=5552, song=None, status=200, ts=1513747258284, userAgent=None, userId='', correct_id=None),\n",
       " Row(artist=None, auth='Logged Out', firstName=None, gender=None, itemInSession=10, lastName=None, length=None, level='free', location=None, method='GET', page='Home', registration=None, sessionId=5552, song=None, status=200, ts=1513747529284, userAgent=None, userId='', correct_id=None),\n",
       " Row(artist=None, auth='Logged Out', firstName=None, gender=None, itemInSession=11, lastName=None, length=None, level='paid', location=None, method='GET', page='Home', registration=None, sessionId=3951, song=None, status=200, ts=1513748217284, userAgent=None, userId='', correct_id=None),\n",
       " Row(artist=None, auth='Logged Out', firstName=None, gender=None, itemInSession=12, lastName=None, length=None, level='paid', location=None, method='PUT', page='Login', registration=None, sessionId=3951, song=None, status=307, ts=1513748218284, userAgent=None, userId='', correct_id=None),\n",
       " Row(artist=None, auth='Logged Out', firstName=None, gender=None, itemInSession=0, lastName=None, length=None, level='paid', location=None, method='PUT', page='Login', registration=None, sessionId=5777, song=None, status=307, ts=1513750117284, userAgent=None, userId='', correct_id=None),\n",
       " Row(artist=None, auth='Logged Out', firstName=None, gender=None, itemInSession=44, lastName=None, length=None, level='paid', location=None, method='GET', page='Home', registration=None, sessionId=1985, song=None, status=200, ts=1513750618284, userAgent=None, userId='', correct_id=None),\n",
       " Row(artist=None, auth='Logged Out', firstName=None, gender=None, itemInSession=0, lastName=None, length=None, level='free', location=None, method='GET', page='Home', registration=None, sessionId=2075, song=None, status=200, ts=1513750875284, userAgent=None, userId='', correct_id=None),\n",
       " Row(artist=None, auth='Logged Out', firstName=None, gender=None, itemInSession=1, lastName=None, length=None, level='free', location=None, method='PUT', page='Login', registration=None, sessionId=2075, song=None, status=307, ts=1513750876284, userAgent=None, userId='', correct_id=None),\n",
       " Row(artist=None, auth='Logged Out', firstName=None, gender=None, itemInSession=0, lastName=None, length=None, level='free', location=None, method='GET', page='Home', registration=None, sessionId=4756, song=None, status=200, ts=1513751234284, userAgent=None, userId='', correct_id=None),\n",
       " Row(artist=None, auth='Logged Out', firstName=None, gender=None, itemInSession=1, lastName=None, length=None, level='free', location=None, method='PUT', page='Login', registration=None, sessionId=4756, song=None, status=307, ts=1513751235284, userAgent=None, userId='', correct_id=None),\n",
       " Row(artist=None, auth='Logged Out', firstName=None, gender=None, itemInSession=42, lastName=None, length=None, level='paid', location=None, method='GET', page='Home', registration=None, sessionId=5915, song=None, status=200, ts=1513751311284, userAgent=None, userId='', correct_id=None),\n",
       " Row(artist=None, auth='Logged Out', firstName=None, gender=None, itemInSession=19, lastName=None, length=None, level='paid', location=None, method='GET', page='Home', registration=None, sessionId=4964, song=None, status=200, ts=1513751450284, userAgent=None, userId='', correct_id=None),\n",
       " Row(artist=None, auth='Logged Out', firstName=None, gender=None, itemInSession=20, lastName=None, length=None, level='paid', location=None, method='GET', page='Help', registration=None, sessionId=4964, song=None, status=200, ts=1513751482284, userAgent=None, userId='', correct_id=None),\n",
       " Row(artist=None, auth='Logged Out', firstName=None, gender=None, itemInSession=0, lastName=None, length=None, level='free', location=None, method='PUT', page='Login', registration=None, sessionId=265, song=None, status=307, ts=1513755459284, userAgent=None, userId='', correct_id=None),\n",
       " Row(artist=None, auth='Logged Out', firstName=None, gender=None, itemInSession=7, lastName=None, length=None, level='free', location=None, method='GET', page='Home', registration=None, sessionId=5219, song=None, status=200, ts=1513757589284, userAgent=None, userId='', correct_id=None),\n",
       " Row(artist=None, auth='Logged Out', firstName=None, gender=None, itemInSession=8, lastName=None, length=None, level='free', location=None, method='PUT', page='Login', registration=None, sessionId=5219, song=None, status=307, ts=1513757590284, userAgent=None, userId='', correct_id=None),\n",
       " Row(artist=None, auth='Logged Out', firstName=None, gender=None, itemInSession=0, lastName=None, length=None, level='paid', location=None, method='PUT', page='Login', registration=None, sessionId=5809, song=None, status=307, ts=1513757740284, userAgent=None, userId='', correct_id=None),\n",
       " Row(artist=None, auth='Logged Out', firstName=None, gender=None, itemInSession=3, lastName=None, length=None, level='free', location=None, method='GET', page='Home', registration=None, sessionId=806, song=None, status=200, ts=1513757790284, userAgent=None, userId='', correct_id=None),\n",
       " Row(artist=None, auth='Logged Out', firstName=None, gender=None, itemInSession=2, lastName=None, length=None, level='free', location=None, method='GET', page='Home', registration=None, sessionId=5848, song=None, status=200, ts=1513758729284, userAgent=None, userId='', correct_id=None),\n",
       " Row(artist=None, auth='Logged Out', firstName=None, gender=None, itemInSession=0, lastName=None, length=None, level='free', location=None, method='GET', page='Home', registration=None, sessionId=1967, song=None, status=200, ts=1513760099284, userAgent=None, userId='', correct_id=None),\n",
       " Row(artist=None, auth='Logged Out', firstName=None, gender=None, itemInSession=1, lastName=None, length=None, level='free', location=None, method='PUT', page='Login', registration=None, sessionId=1967, song=None, status=307, ts=1513760100284, userAgent=None, userId='', correct_id=None),\n",
       " Row(artist=None, auth='Logged Out', firstName=None, gender=None, itemInSession=2, lastName=None, length=None, level='free', location=None, method='GET', page='Home', registration=None, sessionId=4333, song=None, status=200, ts=1513760813284, userAgent=None, userId='', correct_id=None),\n",
       " Row(artist=None, auth='Logged Out', firstName=None, gender=None, itemInSession=3, lastName=None, length=None, level='free', location=None, method='PUT', page='Login', registration=None, sessionId=4333, song=None, status=307, ts=1513760814284, userAgent=None, userId='', correct_id=None),\n",
       " Row(artist=None, auth='Logged Out', firstName=None, gender=None, itemInSession=2, lastName=None, length=None, level='paid', location=None, method='GET', page='Home', registration=None, sessionId=5833, song=None, status=200, ts=1513762196284, userAgent=None, userId='', correct_id=None),\n",
       " Row(artist=None, auth='Logged Out', firstName=None, gender=None, itemInSession=3, lastName=None, length=None, level='paid', location=None, method='PUT', page='Login', registration=None, sessionId=5833, song=None, status=307, ts=1513762197284, userAgent=None, userId='', correct_id=None),\n",
       " Row(artist=None, auth='Logged Out', firstName=None, gender=None, itemInSession=0, lastName=None, length=None, level='free', location=None, method='PUT', page='Login', registration=None, sessionId=4845, song=None, status=307, ts=1513762637284, userAgent=None, userId='', correct_id=None),\n",
       " Row(artist=None, auth='Logged Out', firstName=None, gender=None, itemInSession=64, lastName=None, length=None, level='paid', location=None, method='GET', page='Home', registration=None, sessionId=1078, song=None, status=200, ts=1513763025284, userAgent=None, userId='', correct_id=None),\n",
       " Row(artist=None, auth='Logged Out', firstName=None, gender=None, itemInSession=65, lastName=None, length=None, level='paid', location=None, method='PUT', page='Login', registration=None, sessionId=1078, song=None, status=307, ts=1513763026284, userAgent=None, userId='', correct_id=None),\n",
       " Row(artist=None, auth='Logged Out', firstName=None, gender=None, itemInSession=0, lastName=None, length=None, level='paid', location=None, method='GET', page='Home', registration=None, sessionId=4937, song=None, status=200, ts=1513763662284, userAgent=None, userId='', correct_id=None),\n",
       " Row(artist=None, auth='Logged Out', firstName=None, gender=None, itemInSession=1, lastName=None, length=None, level='paid', location=None, method='GET', page='About', registration=None, sessionId=4937, song=None, status=200, ts=1513763734284, userAgent=None, userId='', correct_id=None),\n",
       " Row(artist=None, auth='Logged Out', firstName=None, gender=None, itemInSession=2, lastName=None, length=None, level='paid', location=None, method='GET', page='Home', registration=None, sessionId=4937, song=None, status=200, ts=1513763741284, userAgent=None, userId='', correct_id=None),\n",
       " Row(artist=None, auth='Logged Out', firstName=None, gender=None, itemInSession=3, lastName=None, length=None, level='free', location=None, method='GET', page='Home', registration=None, sessionId=1392, song=None, status=200, ts=1513764034284, userAgent=None, userId='', correct_id=None),\n",
       " Row(artist=None, auth='Logged Out', firstName=None, gender=None, itemInSession=0, lastName=None, length=None, level='paid', location=None, method='GET', page='Home', registration=None, sessionId=2112, song=None, status=200, ts=1513764513284, userAgent=None, userId='', correct_id=None),\n",
       " Row(artist=None, auth='Logged Out', firstName=None, gender=None, itemInSession=1, lastName=None, length=None, level='paid', location=None, method='PUT', page='Login', registration=None, sessionId=2112, song=None, status=307, ts=1513764514284, userAgent=None, userId='', correct_id=None),\n",
       " Row(artist=None, auth='Logged Out', firstName=None, gender=None, itemInSession=0, lastName=None, length=None, level='free', location=None, method='GET', page='Home', registration=None, sessionId=5866, song=None, status=200, ts=1513764939284, userAgent=None, userId='', correct_id=None),\n",
       " Row(artist=None, auth='Logged Out', firstName=None, gender=None, itemInSession=1, lastName=None, length=None, level='free', location=None, method='PUT', page='Login', registration=None, sessionId=5866, song=None, status=307, ts=1513764940284, userAgent=None, userId='', correct_id=None),\n",
       " Row(artist=None, auth='Logged Out', firstName=None, gender=None, itemInSession=0, lastName=None, length=None, level='free', location=None, method='GET', page='Home', registration=None, sessionId=6021, song=None, status=200, ts=1513766304284, userAgent=None, userId='', correct_id=None),\n",
       " Row(artist=None, auth='Logged Out', firstName=None, gender=None, itemInSession=1, lastName=None, length=None, level='free', location=None, method='PUT', page='Login', registration=None, sessionId=6021, song=None, status=307, ts=1513766305284, userAgent=None, userId='', correct_id=None),\n",
       " Row(artist=None, auth='Logged Out', firstName=None, gender=None, itemInSession=4, lastName=None, length=None, level='free', location=None, method='GET', page='Home', registration=None, sessionId=2003, song=None, status=200, ts=1513767000284, userAgent=None, userId='', correct_id=None),\n",
       " Row(artist=None, auth='Logged Out', firstName=None, gender=None, itemInSession=5, lastName=None, length=None, level='free', location=None, method='PUT', page='Login', registration=None, sessionId=2003, song=None, status=307, ts=1513767001284, userAgent=None, userId='', correct_id=None),\n",
       " Row(artist=None, auth='Logged Out', firstName=None, gender=None, itemInSession=2, lastName=None, length=None, level='free', location=None, method='GET', page='Home', registration=None, sessionId=5993, song=None, status=200, ts=1513769591284, userAgent=None, userId='', correct_id=None),\n",
       " Row(artist=None, auth='Logged Out', firstName=None, gender=None, itemInSession=3, lastName=None, length=None, level='free', location=None, method='PUT', page='Login', registration=None, sessionId=5993, song=None, status=307, ts=1513769592284, userAgent=None, userId='', correct_id=None),\n",
       " Row(artist=None, auth='Logged Out', firstName=None, gender=None, itemInSession=0, lastName=None, length=None, level='free', location=None, method='GET', page='Home', registration=None, sessionId=4204, song=None, status=200, ts=1513770311284, userAgent=None, userId='', correct_id=None),\n",
       " Row(artist=None, auth='Logged Out', firstName=None, gender=None, itemInSession=1, lastName=None, length=None, level='free', location=None, method='GET', page='About', registration=None, sessionId=4204, song=None, status=200, ts=1513770351284, userAgent=None, userId='', correct_id=None),\n",
       " Row(artist=None, auth='Logged Out', firstName=None, gender=None, itemInSession=2, lastName=None, length=None, level='free', location=None, method='GET', page='Home', registration=None, sessionId=281, song=None, status=200, ts=1513770563284, userAgent=None, userId='', correct_id=None),\n",
       " Row(artist=None, auth='Logged Out', firstName=None, gender=None, itemInSession=3, lastName=None, length=None, level='free', location=None, method='PUT', page='Login', registration=None, sessionId=281, song=None, status=307, ts=1513770564284, userAgent=None, userId='', correct_id=None),\n",
       " Row(artist=None, auth='Logged Out', firstName=None, gender=None, itemInSession=10, lastName=None, length=None, level='paid', location=None, method='GET', page='Home', registration=None, sessionId=173, song=None, status=200, ts=1513771013284, userAgent=None, userId='', correct_id=None),\n",
       " Row(artist=None, auth='Logged Out', firstName=None, gender=None, itemInSession=0, lastName=None, length=None, level='free', location=None, method='PUT', page='Login', registration=None, sessionId=5278, song=None, status=307, ts=1513771051284, userAgent=None, userId='', correct_id=None),\n",
       " Row(artist=None, auth='Logged Out', firstName=None, gender=None, itemInSession=25, lastName=None, length=None, level='paid', location=None, method='GET', page='Home', registration=None, sessionId=4596, song=None, status=200, ts=1513771072284, userAgent=None, userId='', correct_id=None),\n",
       " Row(artist=None, auth='Logged Out', firstName=None, gender=None, itemInSession=0, lastName=None, length=None, level='paid', location=None, method='PUT', page='Login', registration=None, sessionId=485, song=None, status=307, ts=1513771398284, userAgent=None, userId='', correct_id=None),\n",
       " Row(artist=None, auth='Logged Out', firstName=None, gender=None, itemInSession=0, lastName=None, length=None, level='free', location=None, method='GET', page='Home', registration=None, sessionId=1925, song=None, status=200, ts=1513772841284, userAgent=None, userId='', correct_id=None),\n",
       " Row(artist=None, auth='Logged Out', firstName=None, gender=None, itemInSession=1, lastName=None, length=None, level='free', location=None, method='PUT', page='Login', registration=None, sessionId=1925, song=None, status=307, ts=1513772842284, userAgent=None, userId='', correct_id=None),\n",
       " Row(artist=None, auth='Logged Out', firstName=None, gender=None, itemInSession=3, lastName=None, length=None, level='free', location=None, method='GET', page='Home', registration=None, sessionId=1827, song=None, status=200, ts=1513774089284, userAgent=None, userId='', correct_id=None),\n",
       " Row(artist=None, auth='Logged Out', firstName=None, gender=None, itemInSession=4, lastName=None, length=None, level='free', location=None, method='PUT', page='Login', registration=None, sessionId=1827, song=None, status=307, ts=1513774090284, userAgent=None, userId='', correct_id=None),\n",
       " Row(artist=None, auth='Logged Out', firstName=None, gender=None, itemInSession=0, lastName=None, length=None, level='paid', location=None, method='PUT', page='Login', registration=None, sessionId=2731, song=None, status=307, ts=1513774380284, userAgent=None, userId='', correct_id=None),\n",
       " Row(artist=None, auth='Logged Out', firstName=None, gender=None, itemInSession=0, lastName=None, length=None, level='paid', location=None, method='PUT', page='Login', registration=None, sessionId=5724, song=None, status=307, ts=1513774700284, userAgent=None, userId='', correct_id=None),\n",
       " Row(artist=None, auth='Logged Out', firstName=None, gender=None, itemInSession=0, lastName=None, length=None, level='free', location=None, method='PUT', page='Login', registration=None, sessionId=5665, song=None, status=307, ts=1513774997284, userAgent=None, userId='', correct_id=None),\n",
       " Row(artist=None, auth='Logged Out', firstName=None, gender=None, itemInSession=0, lastName=None, length=None, level='paid', location=None, method='GET', page='Home', registration=None, sessionId=910, song=None, status=200, ts=1513775107284, userAgent=None, userId='', correct_id=None),\n",
       " Row(artist=None, auth='Logged Out', firstName=None, gender=None, itemInSession=5, lastName=None, length=None, level='paid', location=None, method='GET', page='Home', registration=None, sessionId=1384, song=None, status=200, ts=1513775108284, userAgent=None, userId='', correct_id=None),\n",
       " Row(artist=None, auth='Logged Out', firstName=None, gender=None, itemInSession=0, lastName=None, length=None, level='paid', location=None, method='GET', page='Home', registration=None, sessionId=5256, song=None, status=200, ts=1513775164284, userAgent=None, userId='', correct_id=None),\n",
       " Row(artist=None, auth='Logged Out', firstName=None, gender=None, itemInSession=0, lastName=None, length=None, level='free', location=None, method='GET', page='Home', registration=None, sessionId=2695, song=None, status=200, ts=1513775364284, userAgent=None, userId='', correct_id=None),\n",
       " Row(artist=None, auth='Logged Out', firstName=None, gender=None, itemInSession=1, lastName=None, length=None, level='free', location=None, method='PUT', page='Login', registration=None, sessionId=2695, song=None, status=307, ts=1513775365284, userAgent=None, userId='', correct_id=None),\n",
       " Row(artist=None, auth='Logged Out', firstName=None, gender=None, itemInSession=0, lastName=None, length=None, level='paid', location=None, method='GET', page='Home', registration=None, sessionId=5644, song=None, status=200, ts=1513775858284, userAgent=None, userId='', correct_id=None),\n",
       " Row(artist=None, auth='Logged Out', firstName=None, gender=None, itemInSession=0, lastName=None, length=None, level='free', location=None, method='GET', page='Home', registration=None, sessionId=3784, song=None, status=200, ts=1513775942284, userAgent=None, userId='', correct_id=None),\n",
       " Row(artist=None, auth='Logged Out', firstName=None, gender=None, itemInSession=28, lastName=None, length=None, level='paid', location=None, method='GET', page='Home', registration=None, sessionId=4496, song=None, status=200, ts=1513776079284, userAgent=None, userId='', correct_id=None),\n",
       " Row(artist=None, auth='Logged Out', firstName=None, gender=None, itemInSession=29, lastName=None, length=None, level='paid', location=None, method='GET', page='Help', registration=None, sessionId=4496, song=None, status=200, ts=1513776083284, userAgent=None, userId='', correct_id=None),\n",
       " Row(artist=None, auth='Logged Out', firstName=None, gender=None, itemInSession=0, lastName=None, length=None, level='paid', location=None, method='PUT', page='Login', registration=None, sessionId=4894, song=None, status=307, ts=1513776318284, userAgent=None, userId='', correct_id=None),\n",
       " Row(artist=None, auth='Logged Out', firstName=None, gender=None, itemInSession=0, lastName=None, length=None, level='free', location=None, method='GET', page='Home', registration=None, sessionId=116, song=None, status=200, ts=1513776651284, userAgent=None, userId='', correct_id=None),\n",
       " Row(artist=None, auth='Logged Out', firstName=None, gender=None, itemInSession=1, lastName=None, length=None, level='free', location=None, method='PUT', page='Login', registration=None, sessionId=116, song=None, status=307, ts=1513776652284, userAgent=None, userId='', correct_id=None),\n",
       " Row(artist=None, auth='Logged Out', firstName=None, gender=None, itemInSession=5, lastName=None, length=None, level='free', location=None, method='GET', page='Home', registration=None, sessionId=4868, song=None, status=200, ts=1513777279284, userAgent=None, userId='', correct_id=None),\n",
       " Row(artist=None, auth='Logged Out', firstName=None, gender=None, itemInSession=7, lastName=None, length=None, level='paid', location=None, method='GET', page='Home', registration=None, sessionId=5932, song=None, status=200, ts=1513777486284, userAgent=None, userId='', correct_id=None),\n",
       " Row(artist=None, auth='Logged Out', firstName=None, gender=None, itemInSession=3, lastName=None, length=None, level='free', location=None, method='GET', page='Home', registration=None, sessionId=5319, song=None, status=200, ts=1513777617284, userAgent=None, userId='', correct_id=None),\n",
       " Row(artist=None, auth='Logged Out', firstName=None, gender=None, itemInSession=4, lastName=None, length=None, level='free', location=None, method='PUT', page='Login', registration=None, sessionId=5319, song=None, status=307, ts=1513777618284, userAgent=None, userId='', correct_id=None),\n",
       " Row(artist=None, auth='Logged Out', firstName=None, gender=None, itemInSession=6, lastName=None, length=None, level='free', location=None, method='GET', page='About', registration=None, sessionId=4868, song=None, status=200, ts=1513777626284, userAgent=None, userId='', correct_id=None),\n",
       " Row(artist=None, auth='Logged Out', firstName=None, gender=None, itemInSession=0, lastName=None, length=None, level='free', location=None, method='PUT', page='Login', registration=None, sessionId=2552, song=None, status=307, ts=1513778035284, userAgent=None, userId='', correct_id=None),\n",
       " Row(artist=None, auth='Logged Out', firstName=None, gender=None, itemInSession=0, lastName=None, length=None, level='paid', location=None, method='GET', page='Home', registration=None, sessionId=845, song=None, status=200, ts=1513778146284, userAgent=None, userId='', correct_id=None),\n",
       " Row(artist=None, auth='Logged Out', firstName=None, gender=None, itemInSession=15, lastName=None, length=None, level='paid', location=None, method='GET', page='Home', registration=None, sessionId=5724, song=None, status=200, ts=1513778395284, userAgent=None, userId='', correct_id=None),\n",
       " Row(artist=None, auth='Logged Out', firstName=None, gender=None, itemInSession=0, lastName=None, length=None, level='free', location=None, method='GET', page='Home', registration=None, sessionId=5364, song=None, status=200, ts=1513778431284, userAgent=None, userId='', correct_id=None),\n",
       " Row(artist=None, auth='Logged Out', firstName=None, gender=None, itemInSession=3, lastName=None, length=None, level='free', location=None, method='GET', page='Home', registration=None, sessionId=6009, song=None, status=200, ts=1513779396284, userAgent=None, userId='', correct_id=None),\n",
       " Row(artist=None, auth='Logged Out', firstName=None, gender=None, itemInSession=4, lastName=None, length=None, level='free', location=None, method='PUT', page='Login', registration=None, sessionId=6009, song=None, status=307, ts=1513779397284, userAgent=None, userId='', correct_id=None),\n",
       " Row(artist=None, auth='Logged Out', firstName=None, gender=None, itemInSession=34, lastName=None, length=None, level='paid', location=None, method='GET', page='Home', registration=None, sessionId=2293, song=None, status=200, ts=1513779748284, userAgent=None, userId='', correct_id=None),\n",
       " Row(artist=None, auth='Logged Out', firstName=None, gender=None, itemInSession=35, lastName=None, length=None, level='paid', location=None, method='GET', page='Home', registration=None, sessionId=2293, song=None, status=200, ts=1513779863284, userAgent=None, userId='', correct_id=None),\n",
       " Row(artist=None, auth='Logged Out', firstName=None, gender=None, itemInSession=0, lastName=None, length=None, level='free', location=None, method='PUT', page='Login', registration=None, sessionId=3509, song=None, status=307, ts=1513779878284, userAgent=None, userId='', correct_id=None),\n",
       " Row(artist=None, auth='Logged Out', firstName=None, gender=None, itemInSession=0, lastName=None, length=None, level='paid', location=None, method='GET', page='Home', registration=None, sessionId=5345, song=None, status=200, ts=1513779933284, userAgent=None, userId='', correct_id=None),\n",
       " Row(artist=None, auth='Logged Out', firstName=None, gender=None, itemInSession=36, lastName=None, length=None, level='paid', location=None, method='GET', page='Home', registration=None, sessionId=2293, song=None, status=200, ts=1513780092284, userAgent=None, userId='', correct_id=None),\n",
       " Row(artist=None, auth='Logged Out', firstName=None, gender=None, itemInSession=37, lastName=None, length=None, level='paid', location=None, method='PUT', page='Login', registration=None, sessionId=2293, song=None, status=307, ts=1513780093284, userAgent=None, userId='', correct_id=None),\n",
       " Row(artist=None, auth='Logged Out', firstName=None, gender=None, itemInSession=0, lastName=None, length=None, level='paid', location=None, method='PUT', page='Login', registration=None, sessionId=3815, song=None, status=307, ts=1513780225284, userAgent=None, userId='', correct_id=None),\n",
       " Row(artist=None, auth='Logged Out', firstName=None, gender=None, itemInSession=2, lastName=None, length=None, level='free', location=None, method='GET', page='Home', registration=None, sessionId=5945, song=None, status=200, ts=1513780261284, userAgent=None, userId='', correct_id=None),\n",
       " Row(artist=None, auth='Logged Out', firstName=None, gender=None, itemInSession=3, lastName=None, length=None, level='free', location=None, method='PUT', page='Login', registration=None, sessionId=5945, song=None, status=307, ts=1513780262284, userAgent=None, userId='', correct_id=None),\n",
       " Row(artist=None, auth='Logged Out', firstName=None, gender=None, itemInSession=3, lastName=None, length=None, level='paid', location=None, method='GET', page='Home', registration=None, sessionId=3815, song=None, status=200, ts=1513780420284, userAgent=None, userId='', correct_id=None),\n",
       " Row(artist=None, auth='Logged Out', firstName=None, gender=None, itemInSession=41, lastName=None, length=None, level='paid', location=None, method='GET', page='Home', registration=None, sessionId=485, song=None, status=200, ts=1513780570284, userAgent=None, userId='', correct_id=None),\n",
       " Row(artist=None, auth='Logged Out', firstName=None, gender=None, itemInSession=0, lastName=None, length=None, level='free', location=None, method='GET', page='Home', registration=None, sessionId=2707, song=None, status=200, ts=1513780764284, userAgent=None, userId='', correct_id=None),\n",
       " Row(artist=None, auth='Logged Out', firstName=None, gender=None, itemInSession=1, lastName=None, length=None, level='free', location=None, method='PUT', page='Login', registration=None, sessionId=2707, song=None, status=307, ts=1513780765284, userAgent=None, userId='', correct_id=None),\n",
       " Row(artist=None, auth='Logged Out', firstName=None, gender=None, itemInSession=2, lastName=None, length=None, level='free', location=None, method='GET', page='Home', registration=None, sessionId=5060, song=None, status=200, ts=1513780922284, userAgent=None, userId='', correct_id=None),\n",
       " Row(artist=None, auth='Logged Out', firstName=None, gender=None, itemInSession=3, lastName=None, length=None, level='free', location=None, method='PUT', page='Login', registration=None, sessionId=5060, song=None, status=307, ts=1513780923284, userAgent=None, userId='', correct_id=None),\n",
       " Row(artist=None, auth='Logged Out', firstName=None, gender=None, itemInSession=5, lastName=None, length=None, level='free', location=None, method='GET', page='Home', registration=None, sessionId=4612, song=None, status=200, ts=1513781022284, userAgent=None, userId='', correct_id=None),\n",
       " Row(artist=None, auth='Logged Out', firstName=None, gender=None, itemInSession=6, lastName=None, length=None, level='free', location=None, method='PUT', page='Login', registration=None, sessionId=4612, song=None, status=307, ts=1513781023284, userAgent=None, userId='', correct_id=None),\n",
       " Row(artist=None, auth='Logged Out', firstName=None, gender=None, itemInSession=0, lastName=None, length=None, level='free', location=None, method='GET', page='Home', registration=None, sessionId=2021, song=None, status=200, ts=1513781039284, userAgent=None, userId='', correct_id=None),\n",
       " Row(artist=None, auth='Logged Out', firstName=None, gender=None, itemInSession=1, lastName=None, length=None, level='free', location=None, method='PUT', page='Login', registration=None, sessionId=2021, song=None, status=307, ts=1513781040284, userAgent=None, userId='', correct_id=None),\n",
       " Row(artist=None, auth='Logged Out', firstName=None, gender=None, itemInSession=2, lastName=None, length=None, level='free', location=None, method='GET', page='Home', registration=None, sessionId=6031, song=None, status=200, ts=1513781058284, userAgent=None, userId='', correct_id=None),\n",
       " Row(artist=None, auth='Logged Out', firstName=None, gender=None, itemInSession=3, lastName=None, length=None, level='free', location=None, method='PUT', page='Login', registration=None, sessionId=6031, song=None, status=307, ts=1513781059284, userAgent=None, userId='', correct_id=None),\n",
       " Row(artist=None, auth='Logged Out', firstName=None, gender=None, itemInSession=7, lastName=None, length=None, level='free', location=None, method='GET', page='Home', registration=None, sessionId=5060, song=None, status=200, ts=1513781126284, userAgent=None, userId='', correct_id=None),\n",
       " Row(artist=None, auth='Logged Out', firstName=None, gender=None, itemInSession=8, lastName=None, length=None, level='free', location=None, method='PUT', page='Login', registration=None, sessionId=5060, song=None, status=307, ts=1513781127284, userAgent=None, userId='', correct_id=None),\n",
       " Row(artist=None, auth='Logged Out', firstName=None, gender=None, itemInSession=0, lastName=None, length=None, level='paid', location=None, method='PUT', page='Login', registration=None, sessionId=1398, song=None, status=307, ts=1513781614284, userAgent=None, userId='', correct_id=None),\n",
       " Row(artist=None, auth='Logged Out', firstName=None, gender=None, itemInSession=0, lastName=None, length=None, level='paid', location=None, method='GET', page='Home', registration=None, sessionId=5136, song=None, status=200, ts=1513781616284, userAgent=None, userId='', correct_id=None),\n",
       " Row(artist=None, auth='Logged Out', firstName=None, gender=None, itemInSession=2, lastName=None, length=None, level='free', location=None, method='GET', page='Home', registration=None, sessionId=4791, song=None, status=200, ts=1513782378284, userAgent=None, userId='', correct_id=None),\n",
       " Row(artist=None, auth='Logged Out', firstName=None, gender=None, itemInSession=0, lastName=None, length=None, level='paid', location=None, method='PUT', page='Login', registration=None, sessionId=6050, song=None, status=307, ts=1513782398284, userAgent=None, userId='', correct_id=None),\n",
       " Row(artist=None, auth='Logged Out', firstName=None, gender=None, itemInSession=27, lastName=None, length=None, level='paid', location=None, method='GET', page='Home', registration=None, sessionId=2159, song=None, status=200, ts=1513783285284, userAgent=None, userId='', correct_id=None),\n",
       " Row(artist=None, auth='Logged Out', firstName=None, gender=None, itemInSession=28, lastName=None, length=None, level='paid', location=None, method='PUT', page='Login', registration=None, sessionId=2159, song=None, status=307, ts=1513783286284, userAgent=None, userId='', correct_id=None),\n",
       " Row(artist=None, auth='Logged Out', firstName=None, gender=None, itemInSession=0, lastName=None, length=None, level='free', location=None, method='GET', page='Home', registration=None, sessionId=6358, song=None, status=200, ts=1513784144284, userAgent=None, userId='', correct_id=None),\n",
       " Row(artist=None, auth='Logged Out', firstName=None, gender=None, itemInSession=1, lastName=None, length=None, level='free', location=None, method='PUT', page='Login', registration=None, sessionId=6358, song=None, status=307, ts=1513784145284, userAgent=None, userId='', correct_id=None),\n",
       " Row(artist=None, auth='Guest', firstName=None, gender=None, itemInSession=0, lastName=None, length=None, level='free', location=None, method='GET', page='Home', registration=None, sessionId=3011, song=None, status=200, ts=1513784350284, userAgent=None, userId='', correct_id=None),\n",
       " Row(artist=None, auth='Guest', firstName=None, gender=None, itemInSession=1, lastName=None, length=None, level='free', location=None, method='GET', page='About', registration=None, sessionId=3011, song=None, status=200, ts=1513784461284, userAgent=None, userId='', correct_id=None),\n",
       " Row(artist=None, auth='Logged Out', firstName=None, gender=None, itemInSession=10, lastName=None, length=None, level='paid', location=None, method='GET', page='Home', registration=None, sessionId=2080, song=None, status=200, ts=1513784558284, userAgent=None, userId='', correct_id=None),\n",
       " Row(artist=None, auth='Logged Out', firstName=None, gender=None, itemInSession=0, lastName=None, length=None, level='paid', location=None, method='GET', page='Home', registration=None, sessionId=4025, song=None, status=200, ts=1513784902284, userAgent=None, userId='', correct_id=None),\n",
       " Row(artist=None, auth='Logged Out', firstName=None, gender=None, itemInSession=0, lastName=None, length=None, level='free', location=None, method='GET', page='Home', registration=None, sessionId=5337, song=None, status=200, ts=1513785061284, userAgent=None, userId='', correct_id=None),\n",
       " Row(artist=None, auth='Logged Out', firstName=None, gender=None, itemInSession=1, lastName=None, length=None, level='free', location=None, method='PUT', page='Login', registration=None, sessionId=5337, song=None, status=307, ts=1513785062284, userAgent=None, userId='', correct_id=None),\n",
       " Row(artist=None, auth='Logged Out', firstName=None, gender=None, itemInSession=2, lastName=None, length=None, level='free', location=None, method='GET', page='Home', registration=None, sessionId=5255, song=None, status=200, ts=1513785591284, userAgent=None, userId='', correct_id=None),\n",
       " Row(artist=None, auth='Logged Out', firstName=None, gender=None, itemInSession=37, lastName=None, length=None, level='paid', location=None, method='GET', page='Home', registration=None, sessionId=643, song=None, status=200, ts=1513785743284, userAgent=None, userId='', correct_id=None),\n",
       " Row(artist=None, auth='Logged Out', firstName=None, gender=None, itemInSession=38, lastName=None, length=None, level='paid', location=None, method='PUT', page='Login', registration=None, sessionId=643, song=None, status=307, ts=1513785744284, userAgent=None, userId='', correct_id=None),\n",
       " Row(artist=None, auth='Logged Out', firstName=None, gender=None, itemInSession=0, lastName=None, length=None, level='free', location=None, method='PUT', page='Login', registration=None, sessionId=5754, song=None, status=307, ts=1513786012284, userAgent=None, userId='', correct_id=None),\n",
       " Row(artist=None, auth='Logged Out', firstName=None, gender=None, itemInSession=0, lastName=None, length=None, level='free', location=None, method='GET', page='Home', registration=None, sessionId=5416, song=None, status=200, ts=1513786150284, userAgent=None, userId='', correct_id=None),\n",
       " Row(artist=None, auth='Logged Out', firstName=None, gender=None, itemInSession=0, lastName=None, length=None, level='free', location=None, method='GET', page='Home', registration=None, sessionId=573, song=None, status=200, ts=1513786568284, userAgent=None, userId='', correct_id=None),\n",
       " Row(artist=None, auth='Logged Out', firstName=None, gender=None, itemInSession=1, lastName=None, length=None, level='free', location=None, method='PUT', page='Login', registration=None, sessionId=573, song=None, status=307, ts=1513786569284, userAgent=None, userId='', correct_id=None),\n",
       " Row(artist=None, auth='Logged Out', firstName=None, gender=None, itemInSession=16, lastName=None, length=None, level='paid', location=None, method='GET', page='Home', registration=None, sessionId=1410, song=None, status=200, ts=1513786713284, userAgent=None, userId='', correct_id=None),\n",
       " Row(artist=None, auth='Logged Out', firstName=None, gender=None, itemInSession=0, lastName=None, length=None, level='free', location=None, method='GET', page='Home', registration=None, sessionId=1714, song=None, status=200, ts=1513786854284, userAgent=None, userId='', correct_id=None),\n",
       " Row(artist=None, auth='Logged Out', firstName=None, gender=None, itemInSession=1, lastName=None, length=None, level='free', location=None, method='GET', page='Home', registration=None, sessionId=1714, song=None, status=200, ts=1513786862284, userAgent=None, userId='', correct_id=None),\n",
       " Row(artist=None, auth='Logged Out', firstName=None, gender=None, itemInSession=2, lastName=None, length=None, level='free', location=None, method='PUT', page='Login', registration=None, sessionId=1714, song=None, status=307, ts=1513786863284, userAgent=None, userId='', correct_id=None),\n",
       " Row(artist=None, auth='Logged Out', firstName=None, gender=None, itemInSession=0, lastName=None, length=None, level='paid', location=None, method='GET', page='Home', registration=None, sessionId=4676, song=None, status=200, ts=1513787306284, userAgent=None, userId='', correct_id=None),\n",
       " Row(artist=None, auth='Logged Out', firstName=None, gender=None, itemInSession=66, lastName=None, length=None, level='paid', location=None, method='GET', page='Home', registration=None, sessionId=2293, song=None, status=200, ts=1513787722284, userAgent=None, userId='', correct_id=None),\n",
       " Row(artist=None, auth='Logged Out', firstName=None, gender=None, itemInSession=8, lastName=None, length=None, level='free', location=None, method='GET', page='Home', registration=None, sessionId=573, song=None, status=200, ts=1513787991284, userAgent=None, userId='', correct_id=None),\n",
       " Row(artist=None, auth='Logged Out', firstName=None, gender=None, itemInSession=9, lastName=None, length=None, level='free', location=None, method='PUT', page='Login', registration=None, sessionId=573, song=None, status=307, ts=1513787992284, userAgent=None, userId='', correct_id=None),\n",
       " Row(artist=None, auth='Logged Out', firstName=None, gender=None, itemInSession=0, lastName=None, length=None, level='paid', location=None, method='PUT', page='Login', registration=None, sessionId=6048, song=None, status=307, ts=1513788897284, userAgent=None, userId='', correct_id=None),\n",
       " Row(artist=None, auth='Logged Out', firstName=None, gender=None, itemInSession=0, lastName=None, length=None, level='paid', location=None, method='GET', page='Home', registration=None, sessionId=5162, song=None, status=200, ts=1513789234284, userAgent=None, userId='', correct_id=None),\n",
       " Row(artist=None, auth='Logged Out', firstName=None, gender=None, itemInSession=1, lastName=None, length=None, level='paid', location=None, method='PUT', page='Login', registration=None, sessionId=5162, song=None, status=307, ts=1513789235284, userAgent=None, userId='', correct_id=None),\n",
       " Row(artist=None, auth='Logged Out', firstName=None, gender=None, itemInSession=34, lastName=None, length=None, level='paid', location=None, method='GET', page='Home', registration=None, sessionId=6095, song=None, status=200, ts=1513789276284, userAgent=None, userId='', correct_id=None),\n",
       " Row(artist=None, auth='Logged Out', firstName=None, gender=None, itemInSession=37, lastName=None, length=None, level='paid', location=None, method='GET', page='Home', registration=None, sessionId=6050, song=None, status=200, ts=1513789890284, userAgent=None, userId='', correct_id=None),\n",
       " Row(artist=None, auth='Logged Out', firstName=None, gender=None, itemInSession=38, lastName=None, length=None, level='paid', location=None, method='PUT', page='Login', registration=None, sessionId=6050, song=None, status=307, ts=1513789891284, userAgent=None, userId='', correct_id=None),\n",
       " Row(artist=None, auth='Logged Out', firstName=None, gender=None, itemInSession=3, lastName=None, length=None, level='free', location=None, method='GET', page='Home', registration=None, sessionId=6364, song=None, status=200, ts=1513790242284, userAgent=None, userId='', correct_id=None),\n",
       " Row(artist=None, auth='Logged Out', firstName=None, gender=None, itemInSession=15, lastName=None, length=None, level='paid', location=None, method='GET', page='Home', registration=None, sessionId=4610, song=None, status=200, ts=1513790254284, userAgent=None, userId='', correct_id=None),\n",
       " Row(artist=None, auth='Logged Out', firstName=None, gender=None, itemInSession=16, lastName=None, length=None, level='paid', location=None, method='GET', page='About', registration=None, sessionId=4610, song=None, status=200, ts=1513790286284, userAgent=None, userId='', correct_id=None),\n",
       " Row(artist=None, auth='Logged Out', firstName=None, gender=None, itemInSession=0, lastName=None, length=None, level='free', location=None, method='GET', page='Home', registration=None, sessionId=1997, song=None, status=200, ts=1513790743284, userAgent=None, userId='', correct_id=None),\n",
       " Row(artist=None, auth='Logged Out', firstName=None, gender=None, itemInSession=1, lastName=None, length=None, level='free', location=None, method='PUT', page='Login', registration=None, sessionId=1997, song=None, status=307, ts=1513790744284, userAgent=None, userId='', correct_id=None),\n",
       " Row(artist=None, auth='Logged Out', firstName=None, gender=None, itemInSession=5, lastName=None, length=None, level='paid', location=None, method='GET', page='Home', registration=None, sessionId=6018, song=None, status=200, ts=1513791898284, userAgent=None, userId='', correct_id=None),\n",
       " Row(artist=None, auth='Logged Out', firstName=None, gender=None, itemInSession=0, lastName=None, length=None, level='free', location=None, method='GET', page='Home', registration=None, sessionId=1540, song=None, status=200, ts=1513792338284, userAgent=None, userId='', correct_id=None),\n",
       " Row(artist=None, auth='Logged Out', firstName=None, gender=None, itemInSession=1, lastName=None, length=None, level='free', location=None, method='PUT', page='Login', registration=None, sessionId=1540, song=None, status=307, ts=1513792339284, userAgent=None, userId='', correct_id=None),\n",
       " Row(artist=None, auth='Logged Out', firstName=None, gender=None, itemInSession=0, lastName=None, length=None, level='free', location=None, method='PUT', page='Login', registration=None, sessionId=1421, song=None, status=307, ts=1513792602284, userAgent=None, userId='', correct_id=None),\n",
       " Row(artist=None, auth='Logged Out', firstName=None, gender=None, itemInSession=0, lastName=None, length=None, level='free', location=None, method='GET', page='Home', registration=None, sessionId=166, song=None, status=200, ts=1513792628284, userAgent=None, userId='', correct_id=None),\n",
       " Row(artist=None, auth='Logged Out', firstName=None, gender=None, itemInSession=0, lastName=None, length=None, level='free', location=None, method='PUT', page='Login', registration=None, sessionId=5927, song=None, status=307, ts=1513792696284, userAgent=None, userId='', correct_id=None),\n",
       " Row(artist=None, auth='Logged Out', firstName=None, gender=None, itemInSession=1, lastName=None, length=None, level='free', location=None, method='GET', page='Home', registration=None, sessionId=166, song=None, status=200, ts=1513792774284, userAgent=None, userId='', correct_id=None),\n",
       " Row(artist=None, auth='Logged Out', firstName=None, gender=None, itemInSession=2, lastName=None, length=None, level='free', location=None, method='GET', page='Help', registration=None, sessionId=166, song=None, status=200, ts=1513792803284, userAgent=None, userId='', correct_id=None),\n",
       " Row(artist=None, auth='Logged Out', firstName=None, gender=None, itemInSession=3, lastName=None, length=None, level='free', location=None, method='GET', page='Home', registration=None, sessionId=166, song=None, status=200, ts=1513792808284, userAgent=None, userId='', correct_id=None),\n",
       " Row(artist=None, auth='Logged Out', firstName=None, gender=None, itemInSession=0, lastName=None, length=None, level='free', location=None, method='GET', page='Home', registration=None, sessionId=2612, song=None, status=200, ts=1513794548284, userAgent=None, userId='', correct_id=None),\n",
       " Row(artist=None, auth='Logged Out', firstName=None, gender=None, itemInSession=5, lastName=None, length=None, level='paid', location=None, method='GET', page='Home', registration=None, sessionId=6702, song=None, status=200, ts=1513794895284, userAgent=None, userId='', correct_id=None),\n",
       " Row(artist=None, auth='Logged Out', firstName=None, gender=None, itemInSession=6, lastName=None, length=None, level='paid', location=None, method='PUT', page='Login', registration=None, sessionId=6702, song=None, status=307, ts=1513794896284, userAgent=None, userId='', correct_id=None),\n",
       " Row(artist=None, auth='Logged Out', firstName=None, gender=None, itemInSession=0, lastName=None, length=None, level='paid', location=None, method='GET', page='Home', registration=None, sessionId=5690, song=None, status=200, ts=1513795174284, userAgent=None, userId='', correct_id=None),\n",
       " Row(artist=None, auth='Logged Out', firstName=None, gender=None, itemInSession=1, lastName=None, length=None, level='paid', location=None, method='PUT', page='Login', registration=None, sessionId=5690, song=None, status=307, ts=1513795175284, userAgent=None, userId='', correct_id=None),\n",
       " Row(artist=None, auth='Logged Out', firstName=None, gender=None, itemInSession=4, lastName=None, length=None, level='free', location=None, method='GET', page='Home', registration=None, sessionId=6061, song=None, status=200, ts=1513797083284, userAgent=None, userId='', correct_id=None),\n",
       " Row(artist=None, auth='Logged Out', firstName=None, gender=None, itemInSession=5, lastName=None, length=None, level='free', location=None, method='PUT', page='Login', registration=None, sessionId=6061, song=None, status=307, ts=1513797084284, userAgent=None, userId='', correct_id=None),\n",
       " Row(artist=None, auth='Logged Out', firstName=None, gender=None, itemInSession=0, lastName=None, length=None, level='paid', location=None, method='PUT', page='Login', registration=None, sessionId=6691, song=None, status=307, ts=1513797218284, userAgent=None, userId='', correct_id=None),\n",
       " Row(artist=None, auth='Logged Out', firstName=None, gender=None, itemInSession=0, lastName=None, length=None, level='paid', location=None, method='PUT', page='Login', registration=None, sessionId=6652, song=None, status=307, ts=1513797792284, userAgent=None, userId='', correct_id=None),\n",
       " Row(artist=None, auth='Logged Out', firstName=None, gender=None, itemInSession=37, lastName=None, length=None, level='paid', location=None, method='GET', page='Home', registration=None, sessionId=1895, song=None, status=200, ts=1513798398284, userAgent=None, userId='', correct_id=None),\n",
       " Row(artist=None, auth='Logged Out', firstName=None, gender=None, itemInSession=0, lastName=None, length=None, level='paid', location=None, method='PUT', page='Login', registration=None, sessionId=6349, song=None, status=307, ts=1513798623284, userAgent=None, userId='', correct_id=None),\n",
       " Row(artist=None, auth='Logged Out', firstName=None, gender=None, itemInSession=43, lastName=None, length=None, level='paid', location=None, method='GET', page='Home', registration=None, sessionId=5731, song=None, status=200, ts=1513799226284, userAgent=None, userId='', correct_id=None),\n",
       " Row(artist=None, auth='Logged Out', firstName=None, gender=None, itemInSession=44, lastName=None, length=None, level='paid', location=None, method='PUT', page='Login', registration=None, sessionId=5731, song=None, status=307, ts=1513799227284, userAgent=None, userId='', correct_id=None),\n",
       " Row(artist=None, auth='Logged Out', firstName=None, gender=None, itemInSession=5, lastName=None, length=None, level='free', location=None, method='GET', page='Home', registration=None, sessionId=4408, song=None, status=200, ts=1513799950284, userAgent=None, userId='', correct_id=None),\n",
       " Row(artist=None, auth='Logged Out', firstName=None, gender=None, itemInSession=2, lastName=None, length=None, level='free', location=None, method='GET', page='Home', registration=None, sessionId=6771, song=None, status=200, ts=1513800849284, userAgent=None, userId='', correct_id=None),\n",
       " Row(artist=None, auth='Logged Out', firstName=None, gender=None, itemInSession=3, lastName=None, length=None, level='free', location=None, method='PUT', page='Login', registration=None, sessionId=6771, song=None, status=307, ts=1513800850284, userAgent=None, userId='', correct_id=None),\n",
       " Row(artist=None, auth='Logged Out', firstName=None, gender=None, itemInSession=0, lastName=None, length=None, level='free', location=None, method='GET', page='Home', registration=None, sessionId=4040, song=None, status=200, ts=1513802534284, userAgent=None, userId='', correct_id=None),\n",
       " Row(artist=None, auth='Logged Out', firstName=None, gender=None, itemInSession=0, lastName=None, length=None, level='free', location=None, method='GET', page='Home', registration=None, sessionId=1232, song=None, status=200, ts=1513805041284, userAgent=None, userId='', correct_id=None),\n",
       " Row(artist=None, auth='Logged Out', firstName=None, gender=None, itemInSession=2, lastName=None, length=None, level='free', location=None, method='GET', page='Home', registration=None, sessionId=1181, song=None, status=200, ts=1513805351284, userAgent=None, userId='', correct_id=None),\n",
       " Row(artist=None, auth='Logged Out', firstName=None, gender=None, itemInSession=3, lastName=None, length=None, level='free', location=None, method='GET', page='Home', registration=None, sessionId=5959, song=None, status=200, ts=1513806562284, userAgent=None, userId='', correct_id=None),\n",
       " Row(artist=None, auth='Logged Out', firstName=None, gender=None, itemInSession=4, lastName=None, length=None, level='free', location=None, method='PUT', page='Login', registration=None, sessionId=5959, song=None, status=307, ts=1513806563284, userAgent=None, userId='', correct_id=None),\n",
       " Row(artist=None, auth='Logged Out', firstName=None, gender=None, itemInSession=5, lastName=None, length=None, level='free', location=None, method='GET', page='Home', registration=None, sessionId=6565, song=None, status=200, ts=1513807374284, userAgent=None, userId='', correct_id=None),\n",
       " Row(artist=None, auth='Logged Out', firstName=None, gender=None, itemInSession=6, lastName=None, length=None, level='free', location=None, method='GET', page='Home', registration=None, sessionId=6565, song=None, status=200, ts=1513807378284, userAgent=None, userId='', correct_id=None),\n",
       " Row(artist=None, auth='Logged Out', firstName=None, gender=None, itemInSession=7, lastName=None, length=None, level='free', location=None, method='GET', page='Home', registration=None, sessionId=6565, song=None, status=200, ts=1513807415284, userAgent=None, userId='', correct_id=None),\n",
       " Row(artist=None, auth='Logged Out', firstName=None, gender=None, itemInSession=8, lastName=None, length=None, level='free', location=None, method='PUT', page='Login', registration=None, sessionId=6565, song=None, status=307, ts=1513807416284, userAgent=None, userId='', correct_id=None),\n",
       " Row(artist=None, auth='Logged Out', firstName=None, gender=None, itemInSession=12, lastName=None, length=None, level='paid', location=None, method='GET', page='Home', registration=None, sessionId=1357, song=None, status=200, ts=1513809385284, userAgent=None, userId='', correct_id=None),\n",
       " Row(artist=None, auth='Logged Out', firstName=None, gender=None, itemInSession=2, lastName=None, length=None, level='free', location=None, method='GET', page='Home', registration=None, sessionId=6892, song=None, status=200, ts=1513811017284, userAgent=None, userId='', correct_id=None),\n",
       " Row(artist=None, auth='Logged Out', firstName=None, gender=None, itemInSession=3, lastName=None, length=None, level='free', location=None, method='PUT', page='Login', registration=None, sessionId=6892, song=None, status=307, ts=1513811018284, userAgent=None, userId='', correct_id=None),\n",
       " Row(artist=None, auth='Logged Out', firstName=None, gender=None, itemInSession=52, lastName=None, length=None, level='paid', location=None, method='GET', page='Home', registration=None, sessionId=6652, song=None, status=200, ts=1513811493284, userAgent=None, userId='', correct_id=None),\n",
       " Row(artist=None, auth='Logged Out', firstName=None, gender=None, itemInSession=53, lastName=None, length=None, level='paid', location=None, method='PUT', page='Login', registration=None, sessionId=6652, song=None, status=307, ts=1513811494284, userAgent=None, userId='', correct_id=None),\n",
       " Row(artist=None, auth='Logged Out', firstName=None, gender=None, itemInSession=4, lastName=None, length=None, level='free', location=None, method='GET', page='Home', registration=None, sessionId=5493, song=None, status=200, ts=1513813017284, userAgent=None, userId='', correct_id=None),\n",
       " Row(artist=None, auth='Logged Out', firstName=None, gender=None, itemInSession=5, lastName=None, length=None, level='free', location=None, method='GET', page='Help', registration=None, sessionId=5493, song=None, status=200, ts=1513813135284, userAgent=None, userId='', correct_id=None),\n",
       " Row(artist=None, auth='Logged Out', firstName=None, gender=None, itemInSession=6, lastName=None, length=None, level='free', location=None, method='PUT', page='Login', registration=None, sessionId=5493, song=None, status=307, ts=1513813136284, userAgent=None, userId='', correct_id=None),\n",
       " Row(artist=None, auth='Logged Out', firstName=None, gender=None, itemInSession=2, lastName=None, length=None, level='free', location=None, method='GET', page='Home', registration=None, sessionId=3572, song=None, status=200, ts=1513814246284, userAgent=None, userId='', correct_id=None),\n",
       " Row(artist=None, auth='Logged Out', firstName=None, gender=None, itemInSession=3, lastName=None, length=None, level='free', location=None, method='PUT', page='Login', registration=None, sessionId=3572, song=None, status=307, ts=1513814247284, userAgent=None, userId='', correct_id=None),\n",
       " Row(artist=None, auth='Logged Out', firstName=None, gender=None, itemInSession=0, lastName=None, length=None, level='free', location=None, method='GET', page='Home', registration=None, sessionId=6845, song=None, status=200, ts=1513814961284, userAgent=None, userId='', correct_id=None),\n",
       " Row(artist=None, auth='Logged Out', firstName=None, gender=None, itemInSession=1, lastName=None, length=None, level='free', location=None, method='PUT', page='Login', registration=None, sessionId=6845, song=None, status=307, ts=1513814962284, userAgent=None, userId='', correct_id=None),\n",
       " Row(artist=None, auth='Logged Out', firstName=None, gender=None, itemInSession=0, lastName=None, length=None, level='paid', location=None, method='GET', page='Home', registration=None, sessionId=5044, song=None, status=200, ts=1513815100284, userAgent=None, userId='', correct_id=None),\n",
       " Row(artist=None, auth='Logged Out', firstName=None, gender=None, itemInSession=1, lastName=None, length=None, level='paid', location=None, method='GET', page='Home', registration=None, sessionId=5044, song=None, status=200, ts=1513815104284, userAgent=None, userId='', correct_id=None),\n",
       " Row(artist=None, auth='Logged Out', firstName=None, gender=None, itemInSession=2, lastName=None, length=None, level='paid', location=None, method='GET', page='Help', registration=None, sessionId=5044, song=None, status=200, ts=1513815107284, userAgent=None, userId='', correct_id=None),\n",
       " Row(artist=None, auth='Logged Out', firstName=None, gender=None, itemInSession=0, lastName=None, length=None, level='paid', location=None, method='PUT', page='Login', registration=None, sessionId=475, song=None, status=307, ts=1513815670284, userAgent=None, userId='', correct_id=None),\n",
       " Row(artist=None, auth='Logged Out', firstName=None, gender=None, itemInSession=10, lastName=None, length=None, level='paid', location=None, method='GET', page='Home', registration=None, sessionId=4662, song=None, status=200, ts=1513817057284, userAgent=None, userId='', correct_id=None),\n",
       " Row(artist=None, auth='Logged Out', firstName=None, gender=None, itemInSession=11, lastName=None, length=None, level='paid', location=None, method='GET', page='Home', registration=None, sessionId=4662, song=None, status=200, ts=1513817216284, userAgent=None, userId='', correct_id=None),\n",
       " Row(artist=None, auth='Logged Out', firstName=None, gender=None, itemInSession=0, lastName=None, length=None, level='paid', location=None, method='GET', page='Home', registration=None, sessionId=4454, song=None, status=200, ts=1513817372284, userAgent=None, userId='', correct_id=None),\n",
       " Row(artist=None, auth='Logged Out', firstName=None, gender=None, itemInSession=1, lastName=None, length=None, level='paid', location=None, method='PUT', page='Login', registration=None, sessionId=4454, song=None, status=307, ts=1513817373284, userAgent=None, userId='', correct_id=None),\n",
       " Row(artist=None, auth='Logged Out', firstName=None, gender=None, itemInSession=2, lastName=None, length=None, level='free', location=None, method='GET', page='Home', registration=None, sessionId=6773, song=None, status=200, ts=1513817608284, userAgent=None, userId='', correct_id=None),\n",
       " Row(artist=None, auth='Logged Out', firstName=None, gender=None, itemInSession=3, lastName=None, length=None, level='free', location=None, method='PUT', page='Login', registration=None, sessionId=6773, song=None, status=307, ts=1513817609284, userAgent=None, userId='', correct_id=None),\n",
       " Row(artist=None, auth='Logged Out', firstName=None, gender=None, itemInSession=0, lastName=None, length=None, level='free', location=None, method='GET', page='Home', registration=None, sessionId=1171, song=None, status=200, ts=1513818069284, userAgent=None, userId='', correct_id=None),\n",
       " Row(artist=None, auth='Logged Out', firstName=None, gender=None, itemInSession=17, lastName=None, length=None, level='paid', location=None, method='GET', page='Home', registration=None, sessionId=6314, song=None, status=200, ts=1513818158284, userAgent=None, userId='', correct_id=None),\n",
       " Row(artist=None, auth='Logged Out', firstName=None, gender=None, itemInSession=18, lastName=None, length=None, level='paid', location=None, method='PUT', page='Login', registration=None, sessionId=6314, song=None, status=307, ts=1513818159284, userAgent=None, userId='', correct_id=None),\n",
       " Row(artist=None, auth='Logged Out', firstName=None, gender=None, itemInSession=1, lastName=None, length=None, level='free', location=None, method='GET', page='Home', registration=None, sessionId=1171, song=None, status=200, ts=1513818200284, userAgent=None, userId='', correct_id=None),\n",
       " Row(artist=None, auth='Logged Out', firstName=None, gender=None, itemInSession=2, lastName=None, length=None, level='free', location=None, method='GET', page='Help', registration=None, sessionId=1171, song=None, status=200, ts=1513818210284, userAgent=None, userId='', correct_id=None),\n",
       " Row(artist=None, auth='Logged Out', firstName=None, gender=None, itemInSession=3, lastName=None, length=None, level='free', location=None, method='PUT', page='Login', registration=None, sessionId=1171, song=None, status=307, ts=1513818211284, userAgent=None, userId='', correct_id=None),\n",
       " Row(artist=None, auth='Logged Out', firstName=None, gender=None, itemInSession=0, lastName=None, length=None, level='free', location=None, method='PUT', page='Login', registration=None, sessionId=6476, song=None, status=307, ts=1513818424284, userAgent=None, userId='', correct_id=None),\n",
       " Row(artist=None, auth='Logged Out', firstName=None, gender=None, itemInSession=8, lastName=None, length=None, level='paid', location=None, method='GET', page='Home', registration=None, sessionId=6878, song=None, status=200, ts=1513819932284, userAgent=None, userId='', correct_id=None),\n",
       " Row(artist=None, auth='Logged Out', firstName=None, gender=None, itemInSession=9, lastName=None, length=None, level='paid', location=None, method='PUT', page='Login', registration=None, sessionId=6878, song=None, status=307, ts=1513819933284, userAgent=None, userId='', correct_id=None),\n",
       " Row(artist=None, auth='Logged Out', firstName=None, gender=None, itemInSession=9, lastName=None, length=None, level='paid', location=None, method='GET', page='Home', registration=None, sessionId=6840, song=None, status=200, ts=1513820259284, userAgent=None, userId='', correct_id=None),\n",
       " Row(artist=None, auth='Logged Out', firstName=None, gender=None, itemInSession=16, lastName=None, length=None, level='paid', location=None, method='GET', page='Home', registration=None, sessionId=6972, song=None, status=200, ts=1513820683284, userAgent=None, userId='', correct_id=None),\n",
       " Row(artist=None, auth='Logged Out', firstName=None, gender=None, itemInSession=17, lastName=None, length=None, level='paid', location=None, method='PUT', page='Login', registration=None, sessionId=6972, song=None, status=307, ts=1513820684284, userAgent=None, userId='', correct_id=None),\n",
       " Row(artist=None, auth='Logged Out', firstName=None, gender=None, itemInSession=0, lastName=None, length=None, level='free', location=None, method='GET', page='Home', registration=None, sessionId=6558, song=None, status=200, ts=1513821606284, userAgent=None, userId='', correct_id=None),\n",
       " Row(artist=None, auth='Logged Out', firstName=None, gender=None, itemInSession=1, lastName=None, length=None, level='free', location=None, method='PUT', page='Login', registration=None, sessionId=6558, song=None, status=307, ts=1513821607284, userAgent=None, userId='', correct_id=None),\n",
       " Row(artist=None, auth='Logged Out', firstName=None, gender=None, itemInSession=4, lastName=None, length=None, level='free', location=None, method='GET', page='Home', registration=None, sessionId=6362, song=None, status=200, ts=1513822243284, userAgent=None, userId='', correct_id=None),\n",
       " Row(artist=None, auth='Logged Out', firstName=None, gender=None, itemInSession=5, lastName=None, length=None, level='free', location=None, method='PUT', page='Login', registration=None, sessionId=6362, song=None, status=307, ts=1513822244284, userAgent=None, userId='', correct_id=None),\n",
       " Row(artist=None, auth='Logged Out', firstName=None, gender=None, itemInSession=0, lastName=None, length=None, level='paid', location=None, method='PUT', page='Login', registration=None, sessionId=6357, song=None, status=307, ts=1513822649284, userAgent=None, userId='', correct_id=None),\n",
       " Row(artist=None, auth='Logged Out', firstName=None, gender=None, itemInSession=0, lastName=None, length=None, level='paid', location=None, method='PUT', page='Login', registration=None, sessionId=6605, song=None, status=307, ts=1513824454284, userAgent=None, userId='', correct_id=None),\n",
       " Row(artist=None, auth='Logged Out', firstName=None, gender=None, itemInSession=0, lastName=None, length=None, level='free', location=None, method='GET', page='Home', registration=None, sessionId=2072, song=None, status=200, ts=1513824819284, userAgent=None, userId='', correct_id=None),\n",
       " Row(artist=None, auth='Logged Out', firstName=None, gender=None, itemInSession=1, lastName=None, length=None, level='free', location=None, method='PUT', page='Login', registration=None, sessionId=2072, song=None, status=307, ts=1513824820284, userAgent=None, userId='', correct_id=None),\n",
       " Row(artist=None, auth='Logged Out', firstName=None, gender=None, itemInSession=0, lastName=None, length=None, level='paid', location=None, method='PUT', page='Login', registration=None, sessionId=5686, song=None, status=307, ts=1513825926284, userAgent=None, userId='', correct_id=None),\n",
       " Row(artist=None, auth='Logged Out', firstName=None, gender=None, itemInSession=17, lastName=None, length=None, level='paid', location=None, method='GET', page='Home', registration=None, sessionId=6605, song=None, status=200, ts=1513827843284, userAgent=None, userId='', correct_id=None),\n",
       " Row(artist=None, auth='Logged Out', firstName=None, gender=None, itemInSession=0, lastName=None, length=None, level='free', location=None, method='GET', page='Home', registration=None, sessionId=2747, song=None, status=200, ts=1513829767284, userAgent=None, userId='', correct_id=None),\n",
       " Row(artist=None, auth='Logged Out', firstName=None, gender=None, itemInSession=1, lastName=None, length=None, level='free', location=None, method='PUT', page='Login', registration=None, sessionId=2747, song=None, status=307, ts=1513829768284, userAgent=None, userId='', correct_id=None),\n",
       " Row(artist=None, auth='Logged Out', firstName=None, gender=None, itemInSession=0, lastName=None, length=None, level='paid', location=None, method='GET', page='Home', registration=None, sessionId=5221, song=None, status=200, ts=1513829956284, userAgent=None, userId='', correct_id=None),\n",
       " Row(artist=None, auth='Logged Out', firstName=None, gender=None, itemInSession=1, lastName=None, length=None, level='paid', location=None, method='PUT', page='Login', registration=None, sessionId=5221, song=None, status=307, ts=1513829957284, userAgent=None, userId='', correct_id=None),\n",
       " Row(artist=None, auth='Logged Out', firstName=None, gender=None, itemInSession=58, lastName=None, length=None, level='paid', location=None, method='GET', page='Home', registration=None, sessionId=6878, song=None, status=200, ts=1513830380284, userAgent=None, userId='', correct_id=None),\n",
       " Row(artist=None, auth='Logged Out', firstName=None, gender=None, itemInSession=18, lastName=None, length=None, level='paid', location=None, method='GET', page='Home', registration=None, sessionId=6767, song=None, status=200, ts=1513830655284, userAgent=None, userId='', correct_id=None),\n",
       " Row(artist=None, auth='Logged Out', firstName=None, gender=None, itemInSession=5, lastName=None, length=None, level='free', location=None, method='GET', page='Home', registration=None, sessionId=6245, song=None, status=200, ts=1513831585284, userAgent=None, userId='', correct_id=None),\n",
       " Row(artist=None, auth='Logged Out', firstName=None, gender=None, itemInSession=6, lastName=None, length=None, level='free', location=None, method='GET', page='Home', registration=None, sessionId=6245, song=None, status=200, ts=1513831714284, userAgent=None, userId='', correct_id=None),\n",
       " Row(artist=None, auth='Logged Out', firstName=None, gender=None, itemInSession=5, lastName=None, length=None, level='free', location=None, method='GET', page='Home', registration=None, sessionId=5992, song=None, status=200, ts=1513831850284, userAgent=None, userId='', correct_id=None),\n",
       " Row(artist=None, auth='Logged Out', firstName=None, gender=None, itemInSession=6, lastName=None, length=None, level='free', location=None, method='PUT', page='Login', registration=None, sessionId=5992, song=None, status=307, ts=1513831851284, userAgent=None, userId='', correct_id=None),\n",
       " Row(artist=None, auth='Logged Out', firstName=None, gender=None, itemInSession=0, lastName=None, length=None, level='free', location=None, method='GET', page='Home', registration=None, sessionId=2602, song=None, status=200, ts=1513832509284, userAgent=None, userId='', correct_id=None),\n",
       " Row(artist=None, auth='Logged Out', firstName=None, gender=None, itemInSession=1, lastName=None, length=None, level='free', location=None, method='PUT', page='Login', registration=None, sessionId=2602, song=None, status=307, ts=1513832510284, userAgent=None, userId='', correct_id=None),\n",
       " Row(artist=None, auth='Logged Out', firstName=None, gender=None, itemInSession=0, lastName=None, length=None, level='free', location=None, method='GET', page='Home', registration=None, sessionId=5767, song=None, status=200, ts=1513834216284, userAgent=None, userId='', correct_id=None),\n",
       " Row(artist=None, auth='Logged Out', firstName=None, gender=None, itemInSession=1, lastName=None, length=None, level='free', location=None, method='PUT', page='Login', registration=None, sessionId=5767, song=None, status=307, ts=1513834217284, userAgent=None, userId='', correct_id=None),\n",
       " Row(artist=None, auth='Logged Out', firstName=None, gender=None, itemInSession=0, lastName=None, length=None, level='paid', location=None, method='PUT', page='Login', registration=None, sessionId=6232, song=None, status=307, ts=1513834853284, userAgent=None, userId='', correct_id=None),\n",
       " Row(artist=None, auth='Logged Out', firstName=None, gender=None, itemInSession=0, lastName=None, length=None, level='paid', location=None, method='GET', page='Home', registration=None, sessionId=5978, song=None, status=200, ts=1513835587284, userAgent=None, userId='', correct_id=None),\n",
       " Row(artist=None, auth='Logged Out', firstName=None, gender=None, itemInSession=3, lastName=None, length=None, level='free', location=None, method='GET', page='Home', registration=None, sessionId=5176, song=None, status=200, ts=1513835945284, userAgent=None, userId='', correct_id=None),\n",
       " Row(artist=None, auth='Logged Out', firstName=None, gender=None, itemInSession=4, lastName=None, length=None, level='free', location=None, method='GET', page='Home', registration=None, sessionId=5176, song=None, status=200, ts=1513835948284, userAgent=None, userId='', correct_id=None),\n",
       " Row(artist=None, auth='Logged Out', firstName=None, gender=None, itemInSession=5, lastName=None, length=None, level='free', location=None, method='PUT', page='Login', registration=None, sessionId=5176, song=None, status=307, ts=1513835949284, userAgent=None, userId='', correct_id=None),\n",
       " Row(artist=None, auth='Logged Out', firstName=None, gender=None, itemInSession=10, lastName=None, length=None, level='paid', location=None, method='GET', page='Home', registration=None, sessionId=6391, song=None, status=200, ts=1513836104284, userAgent=None, userId='', correct_id=None),\n",
       " Row(artist=None, auth='Logged Out', firstName=None, gender=None, itemInSession=0, lastName=None, length=None, level='paid', location=None, method='PUT', page='Login', registration=None, sessionId=5623, song=None, status=307, ts=1513837488284, userAgent=None, userId='', correct_id=None),\n",
       " Row(artist=None, auth='Logged Out', firstName=None, gender=None, itemInSession=5, lastName=None, length=None, level='paid', location=None, method='GET', page='Home', registration=None, sessionId=5786, song=None, status=200, ts=1513838110284, userAgent=None, userId='', correct_id=None),\n",
       " Row(artist=None, auth='Logged Out', firstName=None, gender=None, itemInSession=6, lastName=None, length=None, level='paid', location=None, method='GET', page='About', registration=None, sessionId=5786, song=None, status=200, ts=1513838121284, userAgent=None, userId='', correct_id=None),\n",
       " Row(artist=None, auth='Logged Out', firstName=None, gender=None, itemInSession=7, lastName=None, length=None, level='paid', location=None, method='GET', page='Home', registration=None, sessionId=5786, song=None, status=200, ts=1513838141284, userAgent=None, userId='', correct_id=None),\n",
       " Row(artist=None, auth='Logged Out', firstName=None, gender=None, itemInSession=8, lastName=None, length=None, level='paid', location=None, method='PUT', page='Login', registration=None, sessionId=5786, song=None, status=307, ts=1513838142284, userAgent=None, userId='', correct_id=None),\n",
       " Row(artist=None, auth='Logged Out', firstName=None, gender=None, itemInSession=0, lastName=None, length=None, level='free', location=None, method='GET', page='Home', registration=None, sessionId=5900, song=None, status=200, ts=1513838835284, userAgent=None, userId='', correct_id=None),\n",
       " Row(artist=None, auth='Logged Out', firstName=None, gender=None, itemInSession=1, lastName=None, length=None, level='free', location=None, method='PUT', page='Login', registration=None, sessionId=5900, song=None, status=307, ts=1513838836284, userAgent=None, userId='', correct_id=None),\n",
       " Row(artist=None, auth='Logged Out', firstName=None, gender=None, itemInSession=0, lastName=None, length=None, level='free', location=None, method='GET', page='Home', registration=None, sessionId=4824, song=None, status=200, ts=1513838857284, userAgent=None, userId='', correct_id=None),\n",
       " Row(artist=None, auth='Logged Out', firstName=None, gender=None, itemInSession=1, lastName=None, length=None, level='free', location=None, method='GET', page='Home', registration=None, sessionId=4824, song=None, status=200, ts=1513838865284, userAgent=None, userId='', correct_id=None),\n",
       " Row(artist=None, auth='Logged Out', firstName=None, gender=None, itemInSession=2, lastName=None, length=None, level='free', location=None, method='PUT', page='Login', registration=None, sessionId=4824, song=None, status=307, ts=1513838866284, userAgent=None, userId='', correct_id=None),\n",
       " Row(artist=None, auth='Logged Out', firstName=None, gender=None, itemInSession=0, lastName=None, length=None, level='paid', location=None, method='GET', page='Home', registration=None, sessionId=6951, song=None, status=200, ts=1513839824284, userAgent=None, userId='', correct_id=None),\n",
       " Row(artist=None, auth='Logged Out', firstName=None, gender=None, itemInSession=0, lastName=None, length=None, level='free', location=None, method='GET', page='Home', registration=None, sessionId=2019, song=None, status=200, ts=1513841121284, userAgent=None, userId='', correct_id=None),\n",
       " Row(artist=None, auth='Logged Out', firstName=None, gender=None, itemInSession=1, lastName=None, length=None, level='free', location=None, method='PUT', page='Login', registration=None, sessionId=2019, song=None, status=307, ts=1513841122284, userAgent=None, userId='', correct_id=None),\n",
       " Row(artist=None, auth='Logged Out', firstName=None, gender=None, itemInSession=14, lastName=None, length=None, level='free', location=None, method='GET', page='Home', registration=None, sessionId=7016, song=None, status=200, ts=1513841138284, userAgent=None, userId='', correct_id=None),\n",
       " Row(artist=None, auth='Logged Out', firstName=None, gender=None, itemInSession=15, lastName=None, length=None, level='free', location=None, method='PUT', page='Login', registration=None, sessionId=7016, song=None, status=307, ts=1513841139284, userAgent=None, userId='', correct_id=None),\n",
       " Row(artist=None, auth='Logged Out', firstName=None, gender=None, itemInSession=0, lastName=None, length=None, level='free', location=None, method='PUT', page='Login', registration=None, sessionId=7096, song=None, status=307, ts=1513841355284, userAgent=None, userId='', correct_id=None),\n",
       " Row(artist=None, auth='Logged Out', firstName=None, gender=None, itemInSession=45, lastName=None, length=None, level='paid', location=None, method='GET', page='Home', registration=None, sessionId=5431, song=None, status=200, ts=1513842367284, userAgent=None, userId='', correct_id=None),\n",
       " Row(artist=None, auth='Logged Out', firstName=None, gender=None, itemInSession=46, lastName=None, length=None, level='paid', location=None, method='PUT', page='Login', registration=None, sessionId=5431, song=None, status=307, ts=1513842368284, userAgent=None, userId='', correct_id=None),\n",
       " Row(artist=None, auth='Logged Out', firstName=None, gender=None, itemInSession=0, lastName=None, length=None, level='free', location=None, method='PUT', page='Login', registration=None, sessionId=6667, song=None, status=307, ts=1513842373284, userAgent=None, userId='', correct_id=None),\n",
       " Row(artist=None, auth='Logged Out', firstName=None, gender=None, itemInSession=3, lastName=None, length=None, level='free', location=None, method='GET', page='Home', registration=None, sessionId=4847, song=None, status=200, ts=1513843098284, userAgent=None, userId='', correct_id=None),\n",
       " Row(artist=None, auth='Logged Out', firstName=None, gender=None, itemInSession=4, lastName=None, length=None, level='free', location=None, method='GET', page='Home', registration=None, sessionId=4847, song=None, status=200, ts=1513843602284, userAgent=None, userId='', correct_id=None),\n",
       " Row(artist=None, auth='Logged Out', firstName=None, gender=None, itemInSession=5, lastName=None, length=None, level='free', location=None, method='GET', page='Home', registration=None, sessionId=3421, song=None, status=200, ts=1513844026284, userAgent=None, userId='', correct_id=None),\n",
       " Row(artist=None, auth='Logged Out', firstName=None, gender=None, itemInSession=6, lastName=None, length=None, level='free', location=None, method='PUT', page='Login', registration=None, sessionId=3421, song=None, status=307, ts=1513844027284, userAgent=None, userId='', correct_id=None),\n",
       " Row(artist=None, auth='Logged Out', firstName=None, gender=None, itemInSession=5, lastName=None, length=None, level='free', location=None, method='GET', page='About', registration=None, sessionId=4847, song=None, status=200, ts=1513844116284, userAgent=None, userId='', correct_id=None),\n",
       " Row(artist=None, auth='Logged Out', firstName=None, gender=None, itemInSession=6, lastName=None, length=None, level='free', location=None, method='GET', page='Home', registration=None, sessionId=4847, song=None, status=200, ts=1513844251284, userAgent=None, userId='', correct_id=None),\n",
       " Row(artist=None, auth='Logged Out', firstName=None, gender=None, itemInSession=7, lastName=None, length=None, level='free', location=None, method='GET', page='About', registration=None, sessionId=4847, song=None, status=200, ts=1513844295284, userAgent=None, userId='', correct_id=None),\n",
       " Row(artist=None, auth='Logged Out', firstName=None, gender=None, itemInSession=8, lastName=None, length=None, level='free', location=None, method='PUT', page='Login', registration=None, sessionId=4847, song=None, status=307, ts=1513844296284, userAgent=None, userId='', correct_id=None),\n",
       " Row(artist=None, auth='Logged Out', firstName=None, gender=None, itemInSession=3, lastName=None, length=None, level='free', location=None, method='GET', page='Home', registration=None, sessionId=1367, song=None, status=200, ts=1513845055284, userAgent=None, userId='', correct_id=None),\n",
       " Row(artist=None, auth='Logged Out', firstName=None, gender=None, itemInSession=4, lastName=None, length=None, level='free', location=None, method='PUT', page='Login', registration=None, sessionId=1367, song=None, status=307, ts=1513845056284, userAgent=None, userId='', correct_id=None),\n",
       " Row(artist=None, auth='Logged Out', firstName=None, gender=None, itemInSession=37, lastName=None, length=None, level='paid', location=None, method='GET', page='Home', registration=None, sessionId=5623, song=None, status=200, ts=1513845132284, userAgent=None, userId='', correct_id=None),\n",
       " Row(artist=None, auth='Logged Out', firstName=None, gender=None, itemInSession=26, lastName=None, length=None, level='paid', location=None, method='GET', page='Home', registration=None, sessionId=6890, song=None, status=200, ts=1513845761284, userAgent=None, userId='', correct_id=None),\n",
       " Row(artist=None, auth='Logged Out', firstName=None, gender=None, itemInSession=0, lastName=None, length=None, level='free', location=None, method='PUT', page='Login', registration=None, sessionId=2966, song=None, status=307, ts=1513845905284, userAgent=None, userId='', correct_id=None),\n",
       " Row(artist=None, auth='Logged Out', firstName=None, gender=None, itemInSession=0, lastName=None, length=None, level='paid', location=None, method='GET', page='Home', registration=None, sessionId=7064, song=None, status=200, ts=1513846494284, userAgent=None, userId='', correct_id=None)]"
      ]
     },
     "execution_count": 58,
     "metadata": {},
     "output_type": "execute_result"
    }
   ],
   "source": [
    "correct_id = F.udf(lambda x: 1 if x != '' else add_incorrect_record())\n",
    "df_accum = df.where(df.gender.isNull()).withColumn('correct_id', correct_id(df['userid']))\n",
    "df_accum.collect();\n"
   ]
  },
  {
   "cell_type": "code",
   "execution_count": 59,
   "id": "cb2430cb",
   "metadata": {},
   "outputs": [
    {
     "data": {
      "text/plain": [
       "336"
      ]
     },
     "execution_count": 59,
     "metadata": {},
     "output_type": "execute_result"
    }
   ],
   "source": [
    "incorrect_record.value"
   ]
  },
  {
   "cell_type": "markdown",
   "id": "aca05246",
   "metadata": {},
   "source": [
    "## Broadcast\n",
    "\n",
    "📌 Позволяет присоединять большие таблицы к маленьким таблицам."
   ]
  },
  {
   "cell_type": "code",
   "execution_count": 6,
   "id": "0b3a8ee3",
   "metadata": {},
   "outputs": [
    {
     "name": "stdout",
     "output_type": "stream",
     "text": [
      "[1, 2, 3, 4]\n"
     ]
    }
   ],
   "source": [
    "my_dict = {\"item1\": 1, \"item2\": 2, \"item3\": 3, \"item4\": 4} \n",
    "my_list = [\"item1\", \"item2\", \"item3\", \"item4\"]\n",
    "\n",
    "my_dict_bc = sc.broadcast(my_dict)\n",
    "\n",
    "def my_func(letter):\n",
    "    return my_dict_bc.value[letter] \n",
    "\n",
    "my_list_rdd = sc.parallelize(my_list)\n",
    "\n",
    "result = my_list_rdd.map(lambda x: my_func(x)).collect()\n",
    "\n",
    "print(result)"
   ]
  },
  {
   "cell_type": "markdown",
   "id": "946013d2",
   "metadata": {},
   "source": [
    "## Асимметрия данных\n",
    "\n",
    "📌 Обрабатывают ли определенные `partition` значительно больше данных, чем другие?\n",
    "+ https://sparkbyexamples.com/spark/spark-partitioning-understanding/\n",
    "\n",
    "\n",
    "Оптимизация асимметрии:\n",
    "+ Использовать `.repartition(number_of_workers or column_name)`\n",
    "+ Использовать `.partitionBy(column_name)` после `write`\n",
    "\n",
    "\n"
   ]
  },
  {
   "cell_type": "code",
   "execution_count": 60,
   "id": "6e72fc93",
   "metadata": {},
   "outputs": [
    {
     "name": "stdout",
     "output_type": "stream",
     "text": [
      "+---+--------------+--------+------------------+----------+----------+--------------+-----------------+------------+--------------+------------+------------+------------+-----------------------+------------------+------------------+---------------+-----------+--------------+------------+--------------+-------------------+----------------+---------------------------------+------------+-------------+-------------------+--------------------+-----------+------------+--------------------+--------------------------+--------------------+------------------+-------------+---------------------+------------+------------+--------------+-------------------+---------------------+---------------------------------+-----------------+------------------------+--------+---------+---------------+------------------+------------+----+----+----+----+-----+\n",
      "|_c0|Summons_Number|Plate_ID|Registration_State|Plate_Type|Issue_Date|Violation_Code|Vehicle_Body_Type|Vehicle_Make|Issuing_Agency|Street_Code1|Street_Code2|Street_Code3|Vehicle_Expiration_Date|Violation_Location|Violation_Precinct|Issuer_Precinct|Issuer_Code|Issuer_Command|Issuer_Squad|Violation_Time|Time_First_Observed|Violation_County|Violation_In_Front_Of_Or_Opposite|House_Number|  Street_Name|Intersecting_Street| Date_First_Observed|Law_Section|Sub_Division|Violation_Legal_Code|Days_Parking_In_Effect____|From_Hours_In_Effect|To_Hours_In_Effect|Vehicle_Color|Unregistered_Vehicle?|Vehicle_Year|Meter_Number|Feet_From_Curb|Violation_Post_Code|Violation_Description|No_Standing_or_Stopping_Violation|Hydrant_Violation|Double_Parking_Violation|Latitude|Longitude|Community_Board|Community_Council_|Census_Tract| BIN| BBL| NTA|year|month|\n",
      "+---+--------------+--------+------------------+----------+----------+--------------+-----------------+------------+--------------+------------+------------+------------+-----------------------+------------------+------------------+---------------+-----------+--------------+------------+--------------+-------------------+----------------+---------------------------------+------------+-------------+-------------------+--------------------+-----------+------------+--------------------+--------------------------+--------------------+------------------+-------------+---------------------+------------+------------+--------------+-------------------+---------------------+---------------------------------+-----------------+------------------------+--------+---------+---------------+------------------+------------+----+----+----+----+-----+\n",
      "|  0|    8002531292| EPC5238|                NY|       PAS|10/01/2014|            21|             SUBN|       CHEVR|             T|       20390|       29890|       31490|   01/01/20150111 12...|               7.0|                 7|              7|     345454|          T800|          A2|         0011A|               null|              NY|                                F|         133|     Essex St|               null|01/05/0001 12:00:...|      408.0|          d1|                null|                     Y Y Y|               1200A|             0300A|           BL|                 null|      2005.0|        null|           0.0|               A 77| 21-No Parking (st...|                             null|             null|                    null|    null|     null|           null|              null|        null|null|null|null|2014|   10|\n",
      "|  1|    8015318440|  5298MD|                NY|       COM|03/06/2015|            14|              VAN|       FRUEH|             T|       27790|       19550|       19570|   01/01/88888888 12...|              25.0|                25|             25|     333386|          T103|           B|         0942A|               null|              NY|                                F|        1916|     Park Ave|               null|01/05/0001 12:00:...|      408.0|           c|                null|                     YYYYY|               0700A|             1000A|        BROWN|                 null|         0.0|        null|           0.0|                CC3|       14-No Standing|                             null|             null|                    null|    null|     null|           null|              null|        null|null|null|null|2015|    3|\n",
      "|  2|    7611181981| FYW2775|                NY|       PAS|07/28/2014|            46|             SUBN|       SUBAR|             T|        8130|        5430|        5580|   01/01/20160524 12...|              72.0|                72|             72|     331845|          T302|           L|         1020A|               null|               K|                                F|         184|      31st St|               null|01/05/0001 12:00:...|      408.0|          f1|                null|                      null|                null|              null|        BLACK|                 null|      2010.0|        null|           0.0|               J 32| 46A-Double Parkin...|                             null|             null|                    null|    null|     null|           null|              null|        null|null|null|null|2014|    7|\n",
      "|  3|    7445908067| GWE1987|                NY|       PAS|04/13/2015|            19|             4DSD|       LEXUS|             T|       59990|       16540|       16790|   01/01/20170111 12...|             102.0|               102|            102|     355669|          T402|           D|         0318P|               null|               Q|                                F|      120-20|  Queens Blvd|               null|01/05/0001 12:00:...|      408.0|          c3|                null|                     YYYYY|               0300P|             1000P|           GY|                 null|      2015.0|        null|           0.0|               01 4| 19-No Stand (bus ...|                             null|             null|                    null|    null|     null|           null|              null|        null|null|null|null|2015|    4|\n",
      "|  4|    7037692864|T671196C|                NY|       PAS|05/19/2015|            19|             4DSD|       CHRYS|             T|       36090|       10410|       24690|   01/01/88888888 12...|              28.0|                28|             28|     341248|          T103|           X|         0410P|               null|              NY|                                F|          66|   W 116th St|               null|01/05/0001 12:00:...|      408.0|          c3|                null|                   YYYYYYY|                null|              null|        BLACK|                 null|         0.0|        null|           0.0|               19 7| 19-No Stand (bus ...|                             null|             null|                    null|    null|     null|           null|              null|        null|null|null|null|2015|    5|\n",
      "|  5|    7704791394| JJF6834|                PA|       PAS|11/20/2014|            21|             4DSD|       NISSA|             T|       74230|       37980|       38030|   01/01/20150688 12...|              67.0|                67|             67|     357104|          T302|           A|         0839A|               null|               K|                                F|        1013|   Rutland Rd|               null|01/05/0001 12:00:...|      408.0|          d1|                null|                         Y|               0830A|             0900A|        WHITE|                 null|         0.0|        null|           0.0|               C 32| 21-No Parking (st...|                             null|             null|                    null|    null|     null|           null|              null|        null|null|null|null|2014|   11|\n",
      "|  6|    7541599104| FYP8263|                NY|       PAS|08/01/2014|            21|             SUBN|       HONDA|             T|       77530|       63030|       93230|   01/01/20160605 12...|              79.0|                79|             79|     355251|          T301|           O|         0951A|               null|               K|                                F|         155|  Skillman St|               null|01/05/0001 12:00:...|      408.0|          d1|                null|                      Y  Y|               0830A|             1000A|           BK|                 null|      2012.0|        null|           0.0|               10 3| 21-No Parking (st...|                             null|             null|                    null|    null|     null|           null|              null|        null|null|null|null|2014|    8|\n",
      "|  7|    7443513951| FZL7450|                NY|       PAS|07/19/2014|            71|             4DSD|       VOLVO|             T|       49210|           0|           0|   01/01/20140927 12...|             103.0|               103|            103|     353083|          T402|           L|         1043A|               null|               Q|                                I|           S|Henderson Ave| 30ft W/of 189th St|01/05/0001 12:00:...|      408.0|          j6|                null|                   YYYYYYY|                null|              null|           GR|                 null|      2002.0|        null|           0.0|               A 42| 71A-Insp Sticker ...|                             null|             null|                    null|    null|     null|           null|              null|        null|null|null|null|2014|    7|\n",
      "|  8|    7426321423| 86318MA|                NY|       COM|09/23/2014|            69|              VAN|       CHEVR|             T|       21690|       26990|       26790|   01/01/20150720 12...|               5.0|                 5|              5|     346381|          T105|           E|         0144P|               null|              NY|                                O|         199|     Grand St|               null|01/05/0001 12:00:...|      408.0|          h1|                null|                         Y|               0900A|             0700P|           WH|                 null|      2007.0|        null|           0.0|                093| 69-Failure to Dis...|                             null|             null|                    null|    null|     null|           null|              null|        null|null|null|null|2014|    9|\n",
      "|  9|    8017159560| GKX8095|                NY|       PAS|01/20/2015|            71|             4DSD|       LEXUS|             T|       35490|       35780|       22670|   01/01/20151207 12...|             113.0|               113|            113|     361082|          T402|           R|         0259P|               null|               Q|                                F|      137-22|    Bedell St|               null|01/05/0001 12:00:...|      408.0|          j6|                null|                   YYYYYYY|                null|              null|        GREEN|                 null|      1993.0|        null|           0.0|               N 42| 71A-Insp Sticker ...|                             null|             null|                    null|    null|     null|           null|              null|        null|null|null|null|2015|    1|\n",
      "| 10|    8017159560| GKX8095|                NY|       PAS|01/20/2015|            71|             4DSD|       LEXUS|             T|       35490|       35780|       22670|   01/01/20151207 12...|             113.0|               113|            113|     361082|          T402|           R|         0259P|               null|               Q|                                F|      137-22|    Bedell St|               null|01/05/0001 12:00:...|      408.0|          j6|                null|                   YYYYYYY|                null|              null|        GREEN|                 null|      1993.0|        null|           0.0|               N 42| 71A-Insp Sticker ...|                             null|             null|                    null|    null|     null|           null|              null|        null|null|null|null|2015|    1|\n",
      "| 11|    7002571382| CXT8949|                TX|       PAS|02/17/2015|            20|             SUBN|       MAZDA|             T|       51190|        9140|       61090|   01/01/88880088 12...|             109.0|               109|            109|     359625|          T401|           G|         0459P|               null|               Q|                                O|       39-15|     Janet Pl|               null|01/05/0001 12:00:...|      408.0|           d|                null|                     YYYYY|               0800A|             0600P|        WHITE|                 null|         0.0|        null|           0.0|               17 4| 20A-No Parking (N...|                             null|             null|                    null|    null|     null|           null|              null|        null|null|null|null|2015|    2|\n",
      "| 12|    7939966900| GSR4914|                NY|       PAS|05/05/2015|            20|             SUBN|       DODGE|             T|       20090|       14010|       22890|   01/01/20160911 12...|               5.0|                 5|              5|     361097|          T101|           E|         0127P|               null|              NY|                                O|          48|  Eldridge St|               null|01/05/0001 12:00:...|      408.0|           d|                null|                     YYYYY|               0800A|             0600P|        SILVE|                 null|      2008.0|        null|           0.0|               53 1| 20A-No Parking (N...|                             null|             null|                    null|    null|     null|           null|              null|        null|null|null|null|2015|    5|\n",
      "| 13|    7704167637|  XBVP75|                NJ|       PAS|10/21/2014|            16|              VAN|        FORD|             T|        5780|       24830|       43130|   01/01/20140088 12...|              78.0|                78|             78|     361332|          T302|           K|         0401P|              1200P|               K|                                F|         138|      7th Ave|               null|01/05/0001 12:00:...|      408.0|          k2|                null|                   YYYYYYY|                null|              null|        WHITE|                 null|         0.0|        null|           0.0|               59 3| 16-No Std (Com Ve...|                             null|             null|                    null|    null|     null|           null|              null|        null|null|null|null|2014|   10|\n",
      "| 14|    7095480941|  AP515N|                NJ|       PAS|08/21/2014|            85|             DELV|       FRUEH|             T|       10790|       19040|       18990|   01/01/88888888 12...|             110.0|               110|            110|     354200|          T803|           B|         0225A|              1014P|               Q|                                O|       97-11|     50th Ave|               null|01/05/0001 12:00:...|      408.0|          k5|                null|                      null|                null|              null|        WHITE|                 null|         0.0|        null|           0.0|               G 42| 85-Storage-3 hour...|                             null|             null|                    null|    null|     null|           null|              null|        null|null|null|null|2014|    8|\n",
      "| 15|    7831181295| 16238TC|                NY|       TRC|08/07/2014|            14|             TRAC|       PETER|             T|       13610|       34410|       34430|   01/01/20150430 12...|              14.0|                14|             14|     345058|          T102|           C|         0802A|               null|              NY|                                O|        1260|     Broadway|               null|01/05/0001 12:00:...|      408.0|           c|                null|                   YYYYYYY|                null|              null|         BLUE|                 null|      2014.0|        null|           0.0|               04 6|       14-No Standing|                             null|             null|                    null|    null|     null|           null|              null|        null|null|null|null|2014|    8|\n",
      "| 16|    8007006229|  122YEZ|                CT|       PAS|08/26/2014|            21|             4DSD|       NISSA|             T|        5580|        9080|        9130|   01/01/20140088 12...|              72.0|                72|             72|     332021|          T302|           L|         0817A|               null|               K|                                O|        5022|      5th Ave|               null|01/05/0001 12:00:...|      408.0|          d1|                null|                         Y|               0800A|             0830A|          TAN|                 null|         0.0|        null|           0.0|               J 32| 21-No Parking (st...|                             null|             null|                    null|    null|     null|           null|              null|        null|null|null|null|2014|    8|\n",
      "| 17|    1369109532| 65920JW|                NY|       COM|06/23/2014|            46|              VAN|       MERCU|             P|       18770|       10010|       45590|   01/01/20141031 12...|              19.0|                19|             19|     942227|          0019|        0000|         0945A|               null|              NY|                                F|         428|         E 89|               null|01/05/0001 12:00:...|      408.0|          F1|                null|                   BBBBBBB|                 ALL|               ALL|        BROWN|                  0.0|      2007.0|           -|           0.0|               null|                 null|                             null|             null|                    null|    null|     null|           null|              null|        null|null|null|null|2014|    6|\n",
      "| 18|    7580650400| GBU2135|                NY|       PAS|09/24/2014|            71|             SUBN|       HONDA|             T|       10110|       17190|       17210|   01/01/20160816 12...|               9.0|                 9|              9|     361338|          T105|           C|         0804P|               null|              NY|                                F|         166|      2nd Ave|               null|01/05/0001 12:00:...|      408.0|          j6|                null|                   YYYYYYY|                null|              null|           WH|                 null|      2012.0|        null|           0.0|                002| 71A-Insp Sticker ...|                             null|             null|                    null|    null|     null|           null|              null|        null|null|null|null|2014|    9|\n",
      "| 19|    7420795630|  6AJWV5|                CT|       PAS|10/04/2014|            37|             SUBN|        FORD|             T|       40220|       27180|       27270|   01/01/88880088 12...|              48.0|                48|             48|     361051|          T201|           G|         0403P|              0318P|              BX|                                F|        2390|   Hoffman St|               null|01/01/20141004 12...|      408.0|          h1|                null|                         Y|               0800A|             0700P|        BLACK|                 null|         0.0|    213-1194|           0.0|               34 2| 37-Expired Muni M...|                             null|             null|                    null|    null|     null|           null|              null|        null|null|null|null|2014|   10|\n",
      "+---+--------------+--------+------------------+----------+----------+--------------+-----------------+------------+--------------+------------+------------+------------+-----------------------+------------------+------------------+---------------+-----------+--------------+------------+--------------+-------------------+----------------+---------------------------------+------------+-------------+-------------------+--------------------+-----------+------------+--------------------+--------------------------+--------------------+------------------+-------------+---------------------+------------+------------+--------------+-------------------+---------------------+---------------------------------+-----------------+------------------------+--------+---------+---------------+------------------+------------+----+----+----+----+-----+\n",
      "only showing top 20 rows\n",
      "\n"
     ]
    }
   ],
   "source": [
    "df_park = spark.read.csv('data/parking_violation.csv', header=True, inferSchema=True)\n",
    "df_park.show()"
   ]
  },
  {
   "cell_type": "code",
   "execution_count": 61,
   "id": "24c53f4b",
   "metadata": {},
   "outputs": [
    {
     "name": "stdout",
     "output_type": "stream",
     "text": [
      "+----+-------+\n",
      "|year|  count|\n",
      "+----+-------+\n",
      "|2003|      3|\n",
      "|2015|5986831|\n",
      "|2013|    592|\n",
      "|2014|5821043|\n",
      "|2012|    189|\n",
      "|2000|    261|\n",
      "|2010|    110|\n",
      "|2011|    122|\n",
      "|2007|      3|\n",
      "|1991|      1|\n",
      "|2005|     14|\n",
      "|2006|      3|\n",
      "|2004|     22|\n",
      "|2008|      6|\n",
      "|2009|      3|\n",
      "|2001|     22|\n",
      "|2002|      3|\n",
      "|1988|      3|\n",
      "|1985|      1|\n",
      "|1986|      1|\n",
      "+----+-------+\n",
      "\n"
     ]
    }
   ],
   "source": [
    "df_park.groupBy('year').count().show()"
   ]
  },
  {
   "cell_type": "code",
   "execution_count": 62,
   "id": "11e3f905",
   "metadata": {},
   "outputs": [
    {
     "name": "stdout",
     "output_type": "stream",
     "text": [
      "+-----+-------+\n",
      "|month|  count|\n",
      "+-----+-------+\n",
      "|   12| 774287|\n",
      "|    1|1392992|\n",
      "|    6|1276592|\n",
      "|    3| 965119|\n",
      "|    5|1040148|\n",
      "|    9|1029583|\n",
      "|    4| 951716|\n",
      "|    8| 911641|\n",
      "|    7| 969938|\n",
      "|   10| 966456|\n",
      "|   11| 798897|\n",
      "|    2| 731864|\n",
      "+-----+-------+\n",
      "\n"
     ]
    }
   ],
   "source": [
    "df_park.groupBy('month').count().show()"
   ]
  },
  {
   "cell_type": "code",
   "execution_count": 63,
   "id": "4b16a32e",
   "metadata": {},
   "outputs": [],
   "source": [
    "# df_park.write.partitionBy('year').csv(\"data/parking_violation_year.csv\")"
   ]
  },
  {
   "cell_type": "code",
   "execution_count": 64,
   "id": "e0a4fb2b",
   "metadata": {},
   "outputs": [],
   "source": [
    "# df_park.repartition(5).write.csv(\"data/parking_violation_repartition.csv\")"
   ]
  },
  {
   "cell_type": "markdown",
   "id": "a7683288",
   "metadata": {},
   "source": [
    "# Spark ML"
   ]
  },
  {
   "cell_type": "code",
   "execution_count": 3,
   "id": "ec498d7f",
   "metadata": {},
   "outputs": [],
   "source": [
    "from pyspark.ml.feature import RegexTokenizer, VectorAssembler, Normalizer, StandardScaler\n",
    "import re"
   ]
  },
  {
   "cell_type": "code",
   "execution_count": 4,
   "id": "1939e51f",
   "metadata": {},
   "outputs": [],
   "source": [
    "spark = SparkSession.builder \\\n",
    "    .master(\"local\") \\\n",
    "    .appName(\"Word Count\") \\\n",
    "    .getOrCreate()"
   ]
  },
  {
   "cell_type": "code",
   "execution_count": 43,
   "id": "3c48ac05",
   "metadata": {},
   "outputs": [
    {
     "data": {
      "text/plain": [
       "Row(Body=\"<p>I'd like to check if an uploaded file is an image file (e.g png, jpg, jpeg, gif, bmp) or another file. The problem is that I'm using Uploadify to upload the files, which changes the mime type and gives a 'text/octal' or something as the mime type, no matter which file type you upload.</p>\\n\\n<p>Is there a way to check if the uploaded file is an image apart from checking the file extension using PHP?</p>\\n\", Id=1, Tags='php image-processing file-upload upload mime-types', Title='How to check if an uploaded file is an image without mime type?', oneTag='php')"
      ]
     },
     "execution_count": 43,
     "metadata": {},
     "output_type": "execute_result"
    }
   ],
   "source": [
    "df = spark.read.json(\"data/Train_onetag_small.json\")\n",
    "df.head()"
   ]
  },
  {
   "cell_type": "code",
   "execution_count": 44,
   "id": "8505b749",
   "metadata": {},
   "outputs": [
    {
     "name": "stdout",
     "output_type": "stream",
     "text": [
      "root\n",
      " |-- Body: string (nullable = true)\n",
      " |-- Id: long (nullable = true)\n",
      " |-- Tags: string (nullable = true)\n",
      " |-- Title: string (nullable = true)\n",
      " |-- oneTag: string (nullable = true)\n",
      "\n"
     ]
    }
   ],
   "source": [
    "df.printSchema()"
   ]
  },
  {
   "cell_type": "markdown",
   "id": "99f68954",
   "metadata": {},
   "source": [
    "## Tokenization"
   ]
  },
  {
   "cell_type": "code",
   "execution_count": 45,
   "id": "206e9f0b",
   "metadata": {},
   "outputs": [
    {
     "data": {
      "text/plain": [
       "Row(Body=\"<p>I'd like to check if an uploaded file is an image file (e.g png, jpg, jpeg, gif, bmp) or another file. The problem is that I'm using Uploadify to upload the files, which changes the mime type and gives a 'text/octal' or something as the mime type, no matter which file type you upload.</p>\\n\\n<p>Is there a way to check if the uploaded file is an image apart from checking the file extension using PHP?</p>\\n\", Id=1, Tags='php image-processing file-upload upload mime-types', Title='How to check if an uploaded file is an image without mime type?', oneTag='php', words=['p', 'i', 'd', 'like', 'to', 'check', 'if', 'an', 'uploaded', 'file', 'is', 'an', 'image', 'file', 'e', 'g', 'png', 'jpg', 'jpeg', 'gif', 'bmp', 'or', 'another', 'file', 'the', 'problem', 'is', 'that', 'i', 'm', 'using', 'uploadify', 'to', 'upload', 'the', 'files', 'which', 'changes', 'the', 'mime', 'type', 'and', 'gives', 'a', 'text', 'octal', 'or', 'something', 'as', 'the', 'mime', 'type', 'no', 'matter', 'which', 'file', 'type', 'you', 'upload', 'p', 'p', 'is', 'there', 'a', 'way', 'to', 'check', 'if', 'the', 'uploaded', 'file', 'is', 'an', 'image', 'apart', 'from', 'checking', 'the', 'file', 'extension', 'using', 'php', 'p'])"
      ]
     },
     "execution_count": 45,
     "metadata": {},
     "output_type": "execute_result"
    }
   ],
   "source": [
    "regexTokenizer = RegexTokenizer(inputCol=\"Body\", outputCol=\"words\", pattern=\"\\\\W\")\n",
    "df = regexTokenizer.transform(df)\n",
    "df.head()"
   ]
  },
  {
   "cell_type": "markdown",
   "id": "291560cf",
   "metadata": {},
   "source": [
    "## Числовые признаки"
   ]
  },
  {
   "cell_type": "code",
   "execution_count": 46,
   "id": "92228365",
   "metadata": {},
   "outputs": [],
   "source": [
    "body_length = F.udf(lambda x: len(x), IntegerType())\n",
    "df = df.withColumn(\"BodyLength\", body_length(df.words))"
   ]
  },
  {
   "cell_type": "code",
   "execution_count": 47,
   "id": "8675a79b",
   "metadata": {},
   "outputs": [],
   "source": [
    "number_of_paragraphs = F.udf(lambda x: len(re.findall(\"</p>\", x)), IntegerType())\n",
    "number_of_links = F.udf(lambda x: len(re.findall(\"</a>\", x)), IntegerType())"
   ]
  },
  {
   "cell_type": "code",
   "execution_count": 48,
   "id": "39753242",
   "metadata": {},
   "outputs": [],
   "source": [
    "df = df.withColumn(\"NumParagraphs\", number_of_paragraphs(df.Body))\n",
    "df = df.withColumn(\"NumLinks\", number_of_links(df.Body))"
   ]
  },
  {
   "cell_type": "code",
   "execution_count": 49,
   "id": "a07140d7",
   "metadata": {},
   "outputs": [
    {
     "data": {
      "text/plain": [
       "[Row(Body=\"<p>I'd like to check if an uploaded file is an image file (e.g png, jpg, jpeg, gif, bmp) or another file. The problem is that I'm using Uploadify to upload the files, which changes the mime type and gives a 'text/octal' or something as the mime type, no matter which file type you upload.</p>\\n\\n<p>Is there a way to check if the uploaded file is an image apart from checking the file extension using PHP?</p>\\n\", Id=1, Tags='php image-processing file-upload upload mime-types', Title='How to check if an uploaded file is an image without mime type?', oneTag='php', words=['p', 'i', 'd', 'like', 'to', 'check', 'if', 'an', 'uploaded', 'file', 'is', 'an', 'image', 'file', 'e', 'g', 'png', 'jpg', 'jpeg', 'gif', 'bmp', 'or', 'another', 'file', 'the', 'problem', 'is', 'that', 'i', 'm', 'using', 'uploadify', 'to', 'upload', 'the', 'files', 'which', 'changes', 'the', 'mime', 'type', 'and', 'gives', 'a', 'text', 'octal', 'or', 'something', 'as', 'the', 'mime', 'type', 'no', 'matter', 'which', 'file', 'type', 'you', 'upload', 'p', 'p', 'is', 'there', 'a', 'way', 'to', 'check', 'if', 'the', 'uploaded', 'file', 'is', 'an', 'image', 'apart', 'from', 'checking', 'the', 'file', 'extension', 'using', 'php', 'p'], BodyLength=83, NumParagraphs=2, NumLinks=0),\n",
       " Row(Body='<p>In my favorite editor (vim), I regularly use ctrl-w to execute a certain action. Now, it quite often happens to me that firefox is the active window (on windows) while I still look at vim (thinking vim is the active window) and press ctrl-w which closes firefox. This is not what I want. Is there a way to stop ctrl-w from closing firefox?</p>\\n\\n<p>Rene</p>\\n', Id=2, Tags='firefox', Title='How can I prevent firefox from closing when I press ctrl-w', oneTag='firefox', words=['p', 'in', 'my', 'favorite', 'editor', 'vim', 'i', 'regularly', 'use', 'ctrl', 'w', 'to', 'execute', 'a', 'certain', 'action', 'now', 'it', 'quite', 'often', 'happens', 'to', 'me', 'that', 'firefox', 'is', 'the', 'active', 'window', 'on', 'windows', 'while', 'i', 'still', 'look', 'at', 'vim', 'thinking', 'vim', 'is', 'the', 'active', 'window', 'and', 'press', 'ctrl', 'w', 'which', 'closes', 'firefox', 'this', 'is', 'not', 'what', 'i', 'want', 'is', 'there', 'a', 'way', 'to', 'stop', 'ctrl', 'w', 'from', 'closing', 'firefox', 'p', 'p', 'rene', 'p'], BodyLength=71, NumParagraphs=2, NumLinks=0)]"
      ]
     },
     "execution_count": 49,
     "metadata": {},
     "output_type": "execute_result"
    }
   ],
   "source": [
    "df.head(2)"
   ]
  },
  {
   "cell_type": "markdown",
   "id": "2f10a4d4",
   "metadata": {},
   "source": [
    "### VectorAssembler"
   ]
  },
  {
   "cell_type": "code",
   "execution_count": 50,
   "id": "080f36f7",
   "metadata": {},
   "outputs": [],
   "source": [
    "assembler = VectorAssembler(inputCols=[\"BodyLength\", \"NumParagraphs\", \"NumLinks\"], outputCol=\"NumFeatures\")\n",
    "df = assembler.transform(df)"
   ]
  },
  {
   "cell_type": "code",
   "execution_count": 51,
   "id": "fbc63137",
   "metadata": {},
   "outputs": [
    {
     "data": {
      "text/plain": [
       "Row(Body=\"<p>I'd like to check if an uploaded file is an image file (e.g png, jpg, jpeg, gif, bmp) or another file. The problem is that I'm using Uploadify to upload the files, which changes the mime type and gives a 'text/octal' or something as the mime type, no matter which file type you upload.</p>\\n\\n<p>Is there a way to check if the uploaded file is an image apart from checking the file extension using PHP?</p>\\n\", Id=1, Tags='php image-processing file-upload upload mime-types', Title='How to check if an uploaded file is an image without mime type?', oneTag='php', words=['p', 'i', 'd', 'like', 'to', 'check', 'if', 'an', 'uploaded', 'file', 'is', 'an', 'image', 'file', 'e', 'g', 'png', 'jpg', 'jpeg', 'gif', 'bmp', 'or', 'another', 'file', 'the', 'problem', 'is', 'that', 'i', 'm', 'using', 'uploadify', 'to', 'upload', 'the', 'files', 'which', 'changes', 'the', 'mime', 'type', 'and', 'gives', 'a', 'text', 'octal', 'or', 'something', 'as', 'the', 'mime', 'type', 'no', 'matter', 'which', 'file', 'type', 'you', 'upload', 'p', 'p', 'is', 'there', 'a', 'way', 'to', 'check', 'if', 'the', 'uploaded', 'file', 'is', 'an', 'image', 'apart', 'from', 'checking', 'the', 'file', 'extension', 'using', 'php', 'p'], BodyLength=83, NumParagraphs=2, NumLinks=0, NumFeatures=DenseVector([83.0, 2.0, 0.0]))"
      ]
     },
     "execution_count": 51,
     "metadata": {},
     "output_type": "execute_result"
    }
   ],
   "source": [
    "df.head()"
   ]
  },
  {
   "cell_type": "markdown",
   "id": "e03b8adc",
   "metadata": {},
   "source": [
    "### Normalize the Vectors"
   ]
  },
  {
   "cell_type": "code",
   "execution_count": 52,
   "id": "6a032dc0",
   "metadata": {},
   "outputs": [],
   "source": [
    "scaler = Normalizer(inputCol=\"NumFeatures\", outputCol=\"ScaledNumFeatures\")\n",
    "df = scaler.transform(df)"
   ]
  },
  {
   "cell_type": "code",
   "execution_count": 53,
   "id": "80eff687",
   "metadata": {},
   "outputs": [
    {
     "data": {
      "text/plain": [
       "[Row(Body=\"<p>I'd like to check if an uploaded file is an image file (e.g png, jpg, jpeg, gif, bmp) or another file. The problem is that I'm using Uploadify to upload the files, which changes the mime type and gives a 'text/octal' or something as the mime type, no matter which file type you upload.</p>\\n\\n<p>Is there a way to check if the uploaded file is an image apart from checking the file extension using PHP?</p>\\n\", Id=1, Tags='php image-processing file-upload upload mime-types', Title='How to check if an uploaded file is an image without mime type?', oneTag='php', words=['p', 'i', 'd', 'like', 'to', 'check', 'if', 'an', 'uploaded', 'file', 'is', 'an', 'image', 'file', 'e', 'g', 'png', 'jpg', 'jpeg', 'gif', 'bmp', 'or', 'another', 'file', 'the', 'problem', 'is', 'that', 'i', 'm', 'using', 'uploadify', 'to', 'upload', 'the', 'files', 'which', 'changes', 'the', 'mime', 'type', 'and', 'gives', 'a', 'text', 'octal', 'or', 'something', 'as', 'the', 'mime', 'type', 'no', 'matter', 'which', 'file', 'type', 'you', 'upload', 'p', 'p', 'is', 'there', 'a', 'way', 'to', 'check', 'if', 'the', 'uploaded', 'file', 'is', 'an', 'image', 'apart', 'from', 'checking', 'the', 'file', 'extension', 'using', 'php', 'p'], BodyLength=83, NumParagraphs=2, NumLinks=0, NumFeatures=DenseVector([83.0, 2.0, 0.0]), ScaledNumFeatures=DenseVector([0.9997, 0.0241, 0.0])),\n",
       " Row(Body='<p>In my favorite editor (vim), I regularly use ctrl-w to execute a certain action. Now, it quite often happens to me that firefox is the active window (on windows) while I still look at vim (thinking vim is the active window) and press ctrl-w which closes firefox. This is not what I want. Is there a way to stop ctrl-w from closing firefox?</p>\\n\\n<p>Rene</p>\\n', Id=2, Tags='firefox', Title='How can I prevent firefox from closing when I press ctrl-w', oneTag='firefox', words=['p', 'in', 'my', 'favorite', 'editor', 'vim', 'i', 'regularly', 'use', 'ctrl', 'w', 'to', 'execute', 'a', 'certain', 'action', 'now', 'it', 'quite', 'often', 'happens', 'to', 'me', 'that', 'firefox', 'is', 'the', 'active', 'window', 'on', 'windows', 'while', 'i', 'still', 'look', 'at', 'vim', 'thinking', 'vim', 'is', 'the', 'active', 'window', 'and', 'press', 'ctrl', 'w', 'which', 'closes', 'firefox', 'this', 'is', 'not', 'what', 'i', 'want', 'is', 'there', 'a', 'way', 'to', 'stop', 'ctrl', 'w', 'from', 'closing', 'firefox', 'p', 'p', 'rene', 'p'], BodyLength=71, NumParagraphs=2, NumLinks=0, NumFeatures=DenseVector([71.0, 2.0, 0.0]), ScaledNumFeatures=DenseVector([0.9996, 0.0282, 0.0]))]"
      ]
     },
     "execution_count": 53,
     "metadata": {},
     "output_type": "execute_result"
    }
   ],
   "source": [
    "df.head(2)"
   ]
  },
  {
   "cell_type": "markdown",
   "id": "c2ff6762",
   "metadata": {},
   "source": [
    "### Scale the Vectors"
   ]
  },
  {
   "cell_type": "code",
   "execution_count": 54,
   "id": "943e3aa8",
   "metadata": {},
   "outputs": [],
   "source": [
    "scaler2 = StandardScaler(inputCol=\"NumFeatures\", outputCol=\"ScaledNumFeatures2\", withStd=True)\n",
    "scalerModel = scaler2.fit(df)\n",
    "df = scalerModel.transform(df)"
   ]
  },
  {
   "cell_type": "code",
   "execution_count": 55,
   "id": "9820f63f",
   "metadata": {},
   "outputs": [
    {
     "data": {
      "text/plain": [
       "[Row(Body=\"<p>I'd like to check if an uploaded file is an image file (e.g png, jpg, jpeg, gif, bmp) or another file. The problem is that I'm using Uploadify to upload the files, which changes the mime type and gives a 'text/octal' or something as the mime type, no matter which file type you upload.</p>\\n\\n<p>Is there a way to check if the uploaded file is an image apart from checking the file extension using PHP?</p>\\n\", Id=1, Tags='php image-processing file-upload upload mime-types', Title='How to check if an uploaded file is an image without mime type?', oneTag='php', words=['p', 'i', 'd', 'like', 'to', 'check', 'if', 'an', 'uploaded', 'file', 'is', 'an', 'image', 'file', 'e', 'g', 'png', 'jpg', 'jpeg', 'gif', 'bmp', 'or', 'another', 'file', 'the', 'problem', 'is', 'that', 'i', 'm', 'using', 'uploadify', 'to', 'upload', 'the', 'files', 'which', 'changes', 'the', 'mime', 'type', 'and', 'gives', 'a', 'text', 'octal', 'or', 'something', 'as', 'the', 'mime', 'type', 'no', 'matter', 'which', 'file', 'type', 'you', 'upload', 'p', 'p', 'is', 'there', 'a', 'way', 'to', 'check', 'if', 'the', 'uploaded', 'file', 'is', 'an', 'image', 'apart', 'from', 'checking', 'the', 'file', 'extension', 'using', 'php', 'p'], BodyLength=83, NumParagraphs=2, NumLinks=0, NumFeatures=DenseVector([83.0, 2.0, 0.0]), ScaledNumFeatures=DenseVector([0.9997, 0.0241, 0.0]), ScaledNumFeatures2=DenseVector([0.4325, 0.7037, 0.0])),\n",
       " Row(Body='<p>In my favorite editor (vim), I regularly use ctrl-w to execute a certain action. Now, it quite often happens to me that firefox is the active window (on windows) while I still look at vim (thinking vim is the active window) and press ctrl-w which closes firefox. This is not what I want. Is there a way to stop ctrl-w from closing firefox?</p>\\n\\n<p>Rene</p>\\n', Id=2, Tags='firefox', Title='How can I prevent firefox from closing when I press ctrl-w', oneTag='firefox', words=['p', 'in', 'my', 'favorite', 'editor', 'vim', 'i', 'regularly', 'use', 'ctrl', 'w', 'to', 'execute', 'a', 'certain', 'action', 'now', 'it', 'quite', 'often', 'happens', 'to', 'me', 'that', 'firefox', 'is', 'the', 'active', 'window', 'on', 'windows', 'while', 'i', 'still', 'look', 'at', 'vim', 'thinking', 'vim', 'is', 'the', 'active', 'window', 'and', 'press', 'ctrl', 'w', 'which', 'closes', 'firefox', 'this', 'is', 'not', 'what', 'i', 'want', 'is', 'there', 'a', 'way', 'to', 'stop', 'ctrl', 'w', 'from', 'closing', 'firefox', 'p', 'p', 'rene', 'p'], BodyLength=71, NumParagraphs=2, NumLinks=0, NumFeatures=DenseVector([71.0, 2.0, 0.0]), ScaledNumFeatures=DenseVector([0.9996, 0.0282, 0.0]), ScaledNumFeatures2=DenseVector([0.3699, 0.7037, 0.0]))]"
      ]
     },
     "execution_count": 55,
     "metadata": {},
     "output_type": "execute_result"
    }
   ],
   "source": [
    "df.head(2)"
   ]
  },
  {
   "cell_type": "markdown",
   "id": "f3f3b148",
   "metadata": {},
   "source": [
    "## Текстовые признаки"
   ]
  },
  {
   "cell_type": "code",
   "execution_count": 56,
   "id": "dfc59a8b",
   "metadata": {},
   "outputs": [],
   "source": [
    "from pyspark.ml.feature import CountVectorizer, IDF, StringIndexer"
   ]
  },
  {
   "cell_type": "markdown",
   "id": "4a0453f7",
   "metadata": {},
   "source": [
    "### CountVectorizer"
   ]
  },
  {
   "cell_type": "code",
   "execution_count": 57,
   "id": "6e926f27",
   "metadata": {},
   "outputs": [
    {
     "data": {
      "text/plain": [
       "[Row(Body=\"<p>I'd like to check if an uploaded file is an image file (e.g png, jpg, jpeg, gif, bmp) or another file. The problem is that I'm using Uploadify to upload the files, which changes the mime type and gives a 'text/octal' or something as the mime type, no matter which file type you upload.</p>\\n\\n<p>Is there a way to check if the uploaded file is an image apart from checking the file extension using PHP?</p>\\n\", Id=1, Tags='php image-processing file-upload upload mime-types', Title='How to check if an uploaded file is an image without mime type?', oneTag='php', words=['p', 'i', 'd', 'like', 'to', 'check', 'if', 'an', 'uploaded', 'file', 'is', 'an', 'image', 'file', 'e', 'g', 'png', 'jpg', 'jpeg', 'gif', 'bmp', 'or', 'another', 'file', 'the', 'problem', 'is', 'that', 'i', 'm', 'using', 'uploadify', 'to', 'upload', 'the', 'files', 'which', 'changes', 'the', 'mime', 'type', 'and', 'gives', 'a', 'text', 'octal', 'or', 'something', 'as', 'the', 'mime', 'type', 'no', 'matter', 'which', 'file', 'type', 'you', 'upload', 'p', 'p', 'is', 'there', 'a', 'way', 'to', 'check', 'if', 'the', 'uploaded', 'file', 'is', 'an', 'image', 'apart', 'from', 'checking', 'the', 'file', 'extension', 'using', 'php', 'p'], BodyLength=83, NumParagraphs=2, NumLinks=0, NumFeatures=DenseVector([83.0, 2.0, 0.0]), ScaledNumFeatures=DenseVector([0.9997, 0.0241, 0.0]), ScaledNumFeatures2=DenseVector([0.4325, 0.7037, 0.0]), TF=SparseVector(1000, {0: 4.0, 1: 6.0, 2: 2.0, 3: 3.0, 5: 2.0, 8: 4.0, 9: 1.0, 15: 1.0, 21: 2.0, 28: 1.0, 31: 1.0, 35: 3.0, 36: 1.0, 43: 2.0, 45: 2.0, 48: 1.0, 51: 1.0, 57: 6.0, 61: 2.0, 71: 1.0, 78: 1.0, 84: 3.0, 86: 1.0, 94: 1.0, 97: 1.0, 99: 1.0, 100: 1.0, 115: 1.0, 147: 2.0, 152: 1.0, 169: 1.0, 241: 1.0, 283: 1.0, 306: 1.0, 350: 2.0, 490: 1.0, 578: 1.0, 759: 1.0, 832: 2.0}))]"
      ]
     },
     "execution_count": 57,
     "metadata": {},
     "output_type": "execute_result"
    }
   ],
   "source": [
    "cv = CountVectorizer(inputCol=\"words\", outputCol=\"TF\", vocabSize=1000)\n",
    "cvmodel = cv.fit(df)\n",
    "df = cvmodel.transform(df)\n",
    "df.take(1)"
   ]
  },
  {
   "cell_type": "code",
   "execution_count": 58,
   "id": "53dce802",
   "metadata": {},
   "outputs": [
    {
     "data": {
      "text/plain": [
       "['p',\n",
       " 'the',\n",
       " 'i',\n",
       " 'to',\n",
       " 'code',\n",
       " 'a',\n",
       " 'gt',\n",
       " 'lt',\n",
       " 'is',\n",
       " 'and',\n",
       " 'pre',\n",
       " 'in',\n",
       " 'this',\n",
       " 'of',\n",
       " 'it',\n",
       " 'that',\n",
       " 'for',\n",
       " '0',\n",
       " '1',\n",
       " 'have',\n",
       " 'my',\n",
       " 'if',\n",
       " 'on',\n",
       " 'but',\n",
       " 'with',\n",
       " 'can',\n",
       " 'not',\n",
       " 'be',\n",
       " 'as',\n",
       " 't',\n",
       " 'li',\n",
       " 'from',\n",
       " '2',\n",
       " 's',\n",
       " 'http',\n",
       " 'an',\n",
       " 'm',\n",
       " 'strong',\n",
       " 'new',\n",
       " 'how',\n",
       " 'do',\n",
       " 'com',\n",
       " 'so',\n",
       " 'or',\n",
       " 'at',\n",
       " 'using',\n",
       " 'when',\n",
       " 'am',\n",
       " 'like',\n",
       " 'class',\n",
       " 'id',\n",
       " 'there',\n",
       " 'get',\n",
       " 'are',\n",
       " 'name',\n",
       " 'what',\n",
       " 'any',\n",
       " 'file',\n",
       " 'string',\n",
       " 'data',\n",
       " 'all',\n",
       " 'which',\n",
       " 'want',\n",
       " 'would',\n",
       " 'amp',\n",
       " 'use',\n",
       " 'java',\n",
       " 'function',\n",
       " 'public',\n",
       " 'some',\n",
       " '3',\n",
       " 'text',\n",
       " 'error',\n",
       " 'android',\n",
       " 'value',\n",
       " 'c',\n",
       " 'x',\n",
       " 'href',\n",
       " 'you',\n",
       " 'one',\n",
       " 'by',\n",
       " 'user',\n",
       " 'me',\n",
       " 'server',\n",
       " 'type',\n",
       " 'here',\n",
       " 'way',\n",
       " 'return',\n",
       " 'int',\n",
       " 'will',\n",
       " 'div',\n",
       " 'need',\n",
       " 'then',\n",
       " 'set',\n",
       " 'e',\n",
       " 'system',\n",
       " 'has',\n",
       " 'problem',\n",
       " 'out',\n",
       " 'php',\n",
       " 'no',\n",
       " 'just',\n",
       " '4',\n",
       " 'org',\n",
       " 'know',\n",
       " 'html',\n",
       " 'only',\n",
       " 'where',\n",
       " 'page',\n",
       " 'application',\n",
       " '5',\n",
       " 'thanks',\n",
       " 'var',\n",
       " 'br',\n",
       " 'we',\n",
       " 'd',\n",
       " 'should',\n",
       " 'does',\n",
       " 'add',\n",
       " 'n',\n",
       " 'true',\n",
       " 've',\n",
       " 'void',\n",
       " 'em',\n",
       " 'was',\n",
       " 'rel',\n",
       " 'work',\n",
       " 'time',\n",
       " 'other',\n",
       " '10',\n",
       " 'app',\n",
       " 'null',\n",
       " 'method',\n",
       " 'b',\n",
       " 'table',\n",
       " 'list',\n",
       " 'now',\n",
       " 'into',\n",
       " 'help',\n",
       " 'end',\n",
       " 'trying',\n",
       " 'following',\n",
       " 'object',\n",
       " 'view',\n",
       " 'nofollow',\n",
       " 'up',\n",
       " 'example',\n",
       " 'image',\n",
       " 'same',\n",
       " 'create',\n",
       " 'also',\n",
       " 'each',\n",
       " 'something',\n",
       " 'www',\n",
       " 'web',\n",
       " 'first',\n",
       " 'array',\n",
       " 'line',\n",
       " 'script',\n",
       " 'find',\n",
       " 'don',\n",
       " 'run',\n",
       " 'could',\n",
       " 'select',\n",
       " 'about',\n",
       " 'test',\n",
       " 'make',\n",
       " 'form',\n",
       " 'r',\n",
       " 'files',\n",
       " 'tried',\n",
       " 'ul',\n",
       " 'net',\n",
       " 'url',\n",
       " 'td',\n",
       " 'self',\n",
       " 'input',\n",
       " 'windows',\n",
       " 'button',\n",
       " 'see',\n",
       " 'blockquote',\n",
       " 'database',\n",
       " 'question',\n",
       " 'content',\n",
       " 'else',\n",
       " 'more',\n",
       " 'works',\n",
       " 'xml',\n",
       " '6',\n",
       " '00',\n",
       " 'two',\n",
       " '8',\n",
       " 'after',\n",
       " 'they',\n",
       " 'possible',\n",
       " 'false',\n",
       " 'right',\n",
       " 'them',\n",
       " 'y',\n",
       " 'working',\n",
       " '7',\n",
       " 'width',\n",
       " 'main',\n",
       " 'src',\n",
       " 'try',\n",
       " 'private',\n",
       " 'however',\n",
       " 'version',\n",
       " 'number',\n",
       " 'f',\n",
       " 'result',\n",
       " 'these',\n",
       " 'because',\n",
       " 'project',\n",
       " 'key',\n",
       " 'message',\n",
       " 'why',\n",
       " 'doesn',\n",
       " 'used',\n",
       " 'please',\n",
       " 'query',\n",
       " 'import',\n",
       " 'size',\n",
       " 'item',\n",
       " 'call',\n",
       " 'show',\n",
       " 'while',\n",
       " 'title',\n",
       " 'found',\n",
       " 'been',\n",
       " 'anyone',\n",
       " 'change',\n",
       " 'post',\n",
       " 'document',\n",
       " 'users',\n",
       " 'different',\n",
       " 'its',\n",
       " 'start',\n",
       " 'able',\n",
       " 'log',\n",
       " 'access',\n",
       " 'another',\n",
       " 'event',\n",
       " 'case',\n",
       " 'request',\n",
       " 'values',\n",
       " 'update',\n",
       " 'client',\n",
       " 'edit',\n",
       " 'index',\n",
       " '9',\n",
       " 'service',\n",
       " 'read',\n",
       " 'without',\n",
       " 'source',\n",
       " 'javascript',\n",
       " 'left',\n",
       " 'style',\n",
       " 'open',\n",
       " 'jquery',\n",
       " 'img',\n",
       " 'running',\n",
       " 'row',\n",
       " 'h',\n",
       " 'display',\n",
       " 'fine',\n",
       " 'write',\n",
       " 'site',\n",
       " 'google',\n",
       " 'seems',\n",
       " 'height',\n",
       " 'click',\n",
       " 'date',\n",
       " '12',\n",
       " 'static',\n",
       " 'etc',\n",
       " 'option',\n",
       " 'path',\n",
       " 'output',\n",
       " 'property',\n",
       " '20',\n",
       " 'doing',\n",
       " 'model',\n",
       " 'g',\n",
       " 'default',\n",
       " 'link',\n",
       " 'than',\n",
       " 'through',\n",
       " 'echo',\n",
       " 'below',\n",
       " 'include',\n",
       " 'even',\n",
       " 'solution',\n",
       " 'lib',\n",
       " '11',\n",
       " 'sql',\n",
       " 'questions',\n",
       " 'still',\n",
       " 'program',\n",
       " 'such',\n",
       " 'library',\n",
       " 'getting',\n",
       " 'exception',\n",
       " 'created',\n",
       " 'simple',\n",
       " 'context',\n",
       " 'png',\n",
       " 'your',\n",
       " 'very',\n",
       " 'before',\n",
       " 'apache',\n",
       " 'both',\n",
       " 'ol',\n",
       " 'sure',\n",
       " '100',\n",
       " 'order',\n",
       " 'asp',\n",
       " 'command',\n",
       " 'field',\n",
       " 'color',\n",
       " 'window',\n",
       " 'images',\n",
       " 'column',\n",
       " 'load',\n",
       " 'having',\n",
       " 'thread',\n",
       " 'background',\n",
       " 'think',\n",
       " 'js',\n",
       " 'wrong',\n",
       " 'go',\n",
       " 'point',\n",
       " 'element',\n",
       " 'process',\n",
       " 'length',\n",
       " 'really',\n",
       " 'tr',\n",
       " 'span',\n",
       " 'being',\n",
       " 'every',\n",
       " 'back',\n",
       " 'current',\n",
       " 'called',\n",
       " 'css',\n",
       " 'label',\n",
       " 'action',\n",
       " 'issue',\n",
       " 'many',\n",
       " 'info',\n",
       " 'stack',\n",
       " 'check',\n",
       " 'got',\n",
       " 'top',\n",
       " 'since',\n",
       " 'connection',\n",
       " 'looking',\n",
       " 'put',\n",
       " 'second',\n",
       " 'search',\n",
       " 'db',\n",
       " 'local',\n",
       " 'over',\n",
       " 'email',\n",
       " 'above',\n",
       " 'password',\n",
       " 'done',\n",
       " 'api',\n",
       " 'between',\n",
       " 'response',\n",
       " 'build',\n",
       " 'cannot',\n",
       " 'alt',\n",
       " 'print',\n",
       " 'j',\n",
       " 'well',\n",
       " 'body',\n",
       " 'directory',\n",
       " 'count',\n",
       " 'description',\n",
       " 'location',\n",
       " 'information',\n",
       " 'next',\n",
       " 'address',\n",
       " 'root',\n",
       " 'good',\n",
       " '01',\n",
       " 'let',\n",
       " 'control',\n",
       " 'o',\n",
       " 'microsoft',\n",
       " 'part',\n",
       " 'map',\n",
       " 'advance',\n",
       " 'instead',\n",
       " 'our',\n",
       " 'v',\n",
       " 'much',\n",
       " 'their',\n",
       " 'best',\n",
       " 'position',\n",
       " '2012',\n",
       " 'idea',\n",
       " 'custom',\n",
       " 'format',\n",
       " 'mysql',\n",
       " 'already',\n",
       " 'say',\n",
       " 'long',\n",
       " 'instance',\n",
       " 'variable',\n",
       " 'send',\n",
       " '13',\n",
       " '16',\n",
       " 'may',\n",
       " 'currently',\n",
       " 'results',\n",
       " 'inside',\n",
       " '15',\n",
       " 'k',\n",
       " 'header',\n",
       " 'enter',\n",
       " 'items',\n",
       " 'correct',\n",
       " 'home',\n",
       " 'controller',\n",
       " 'domain',\n",
       " 'node',\n",
       " 'z',\n",
       " 'override',\n",
       " 'based',\n",
       " '30',\n",
       " 'seem',\n",
       " 'group',\n",
       " 'options',\n",
       " 'last',\n",
       " 'ui',\n",
       " 'added',\n",
       " 'screen',\n",
       " 'someone',\n",
       " 'folder',\n",
       " 'save',\n",
       " 'session',\n",
       " 'website',\n",
       " 'close',\n",
       " 'stackoverflow',\n",
       " 'better',\n",
       " 'username',\n",
       " 'python',\n",
       " 'bit',\n",
       " 'box',\n",
       " 'json',\n",
       " 'menu',\n",
       " 'login',\n",
       " 'console',\n",
       " 'via',\n",
       " 'l',\n",
       " 'usr',\n",
       " 'looks',\n",
       " 'anything',\n",
       " 'def',\n",
       " 'none',\n",
       " 'https',\n",
       " 'char',\n",
       " 'lang',\n",
       " 'within',\n",
       " 'multiple',\n",
       " 'activity',\n",
       " 'everything',\n",
       " 'appreciated',\n",
       " 'tag',\n",
       " 'insert',\n",
       " 'ajax',\n",
       " 'had',\n",
       " 'config',\n",
       " 'again',\n",
       " 'understand',\n",
       " 'parent',\n",
       " 'final',\n",
       " 'install',\n",
       " 'catch',\n",
       " 'browser',\n",
       " 'objects',\n",
       " 'store',\n",
       " 'os',\n",
       " 'ideas',\n",
       " 'double',\n",
       " 'thing',\n",
       " 'contains',\n",
       " 'look',\n",
       " 'given',\n",
       " 'jpg',\n",
       " 'template',\n",
       " 'font',\n",
       " 'reference',\n",
       " 'those',\n",
       " 'answer',\n",
       " 'going',\n",
       " 'connect',\n",
       " 'debug',\n",
       " 'frame',\n",
       " 'imgur',\n",
       " 'rows',\n",
       " 'down',\n",
       " 'ruby',\n",
       " 'foo',\n",
       " 'around',\n",
       " 'always',\n",
       " 'too',\n",
       " 'state',\n",
       " 'remove',\n",
       " 'block',\n",
       " 'status',\n",
       " 'intent',\n",
       " 'yes',\n",
       " 'must',\n",
       " 'errors',\n",
       " 'thank',\n",
       " '08',\n",
       " 'layout',\n",
       " 'en',\n",
       " 'did',\n",
       " 'far',\n",
       " 'u',\n",
       " 'core',\n",
       " 'memory',\n",
       " 'most',\n",
       " 'installed',\n",
       " 'single',\n",
       " 'w',\n",
       " 'framework',\n",
       " 'bar',\n",
       " 'linux',\n",
       " 'machine',\n",
       " 'specific',\n",
       " 'loop',\n",
       " 'give',\n",
       " '14',\n",
       " 'delete',\n",
       " 'begin',\n",
       " 'take',\n",
       " 'ip',\n",
       " 'lot',\n",
       " 'returns',\n",
       " '02',\n",
       " 'facebook',\n",
       " 'device',\n",
       " 're',\n",
       " 'things',\n",
       " 'creating',\n",
       " 'base',\n",
       " 'ok',\n",
       " 'nothing',\n",
       " 'missing',\n",
       " 'module',\n",
       " 'fields',\n",
       " 'host',\n",
       " 'own',\n",
       " 'uses',\n",
       " 'support',\n",
       " 'androidruntime',\n",
       " 'might',\n",
       " 'similar',\n",
       " 'integer',\n",
       " 'float',\n",
       " 'actually',\n",
       " 'figure',\n",
       " '50',\n",
       " 'configuration',\n",
       " '2010',\n",
       " 'alert',\n",
       " 'tell',\n",
       " 'us',\n",
       " 'execute',\n",
       " 'std',\n",
       " 'tostring',\n",
       " 'few',\n",
       " 'empty',\n",
       " 'note',\n",
       " 'changes',\n",
       " 'xmlns',\n",
       " 'pass',\n",
       " 'failed',\n",
       " 'off',\n",
       " 'settings',\n",
       " 'network',\n",
       " 'either',\n",
       " 'package',\n",
       " 'interface',\n",
       " '2011',\n",
       " 'eclipse',\n",
       " 'mode',\n",
       " 'plugin',\n",
       " '25',\n",
       " 'elements',\n",
       " 'methods',\n",
       " 'classes',\n",
       " 'rb',\n",
       " 'head',\n",
       " 'shows',\n",
       " 'properties',\n",
       " 'video',\n",
       " '18',\n",
       " 'const',\n",
       " 'port',\n",
       " 'pages',\n",
       " 'break',\n",
       " 'columns',\n",
       " 'made',\n",
       " 'bin',\n",
       " 'cell',\n",
       " 'functions',\n",
       " '23',\n",
       " 'allow',\n",
       " '21',\n",
       " 'nbsp',\n",
       " 'generated',\n",
       " 'q',\n",
       " 'submit',\n",
       " 'once',\n",
       " 'setup',\n",
       " 'product',\n",
       " 'grid',\n",
       " '22',\n",
       " 'reason',\n",
       " 'copy',\n",
       " 'h2',\n",
       " 'times',\n",
       " 'aspx',\n",
       " 'sub',\n",
       " 'auto',\n",
       " 'target',\n",
       " 'dev',\n",
       " 'available',\n",
       " '04',\n",
       " 'jar',\n",
       " 'keep',\n",
       " 'filter',\n",
       " 'required',\n",
       " 'side',\n",
       " 'convert',\n",
       " 'tables',\n",
       " 'handle',\n",
       " 'center',\n",
       " 'println',\n",
       " 'task',\n",
       " 'selected',\n",
       " 'join',\n",
       " 'setting',\n",
       " 'security',\n",
       " 'gets',\n",
       " 'category',\n",
       " '17',\n",
       " '05',\n",
       " 'lines',\n",
       " 'under',\n",
       " 'though',\n",
       " 'boolean',\n",
       " 'gems',\n",
       " 'localhost',\n",
       " 'entity',\n",
       " 'isn',\n",
       " 'space',\n",
       " 'admin',\n",
       " 'sun',\n",
       " 'fix',\n",
       " 'dll',\n",
       " 'implement',\n",
       " 'internal',\n",
       " 'wondering',\n",
       " 'nil',\n",
       " 'init',\n",
       " 'val',\n",
       " '09',\n",
       " 'parameters',\n",
       " '19',\n",
       " 'binding',\n",
       " 'rails',\n",
       " 'txt',\n",
       " 'maybe',\n",
       " 'level',\n",
       " 'super',\n",
       " 'defined',\n",
       " 'several',\n",
       " 'child',\n",
       " 'non',\n",
       " '03',\n",
       " 'parameter',\n",
       " 'place',\n",
       " '24',\n",
       " 'sort',\n",
       " 'needs',\n",
       " 'language',\n",
       " 'adding',\n",
       " 'py',\n",
       " 'dialog',\n",
       " 'cache',\n",
       " 'statement',\n",
       " 'section',\n",
       " 'kind',\n",
       " 'problems',\n",
       " 'total',\n",
       " '27',\n",
       " 'margin',\n",
       " 'utf',\n",
       " 'filename',\n",
       " 'nsstring',\n",
       " 'writing',\n",
       " 'border',\n",
       " 'account',\n",
       " 'changed',\n",
       " 'computer',\n",
       " 'correctly',\n",
       " 'match',\n",
       " '255',\n",
       " 'tab',\n",
       " 'bundle',\n",
       " 'define',\n",
       " 'didn',\n",
       " 'basically',\n",
       " 'warning',\n",
       " 'solve',\n",
       " 'release',\n",
       " 'protected',\n",
       " 'hr',\n",
       " 'structure',\n",
       " 'replace',\n",
       " 'frac',\n",
       " 'software',\n",
       " 'foreach',\n",
       " 'extends',\n",
       " 'thought',\n",
       " '29',\n",
       " 'full',\n",
       " 'byte',\n",
       " 'word',\n",
       " 'stored',\n",
       " 'ie',\n",
       " '_',\n",
       " 'day',\n",
       " 'sender',\n",
       " 'record',\n",
       " 'clear',\n",
       " 'never',\n",
       " 'services',\n",
       " 'were',\n",
       " 'pdf',\n",
       " '32',\n",
       " 'stop',\n",
       " '07',\n",
       " 'resources',\n",
       " 'models',\n",
       " 'springframework',\n",
       " 'move',\n",
       " 'alloc',\n",
       " 'people',\n",
       " 'started',\n",
       " 'checked',\n",
       " 'virtual',\n",
       " 'attribute',\n",
       " 'gives',\n",
       " 'suggestions',\n",
       " 'container',\n",
       " 'ubuntu',\n",
       " 'numbers',\n",
       " 'old',\n",
       " 'mail',\n",
       " 'sample',\n",
       " 'unknown',\n",
       " 'bool',\n",
       " 'small',\n",
       " 'align',\n",
       " 'collection',\n",
       " 'success',\n",
       " 'visual',\n",
       " 'person',\n",
       " 'compile',\n",
       " 'mean',\n",
       " 'encoding',\n",
       " 'standard',\n",
       " 'iphone',\n",
       " 'param',\n",
       " 'append',\n",
       " 'events',\n",
       " 'projects',\n",
       " 'bytes',\n",
       " 'str',\n",
       " '06',\n",
       " 'rather',\n",
       " 'written',\n",
       " 'resource',\n",
       " 'reading',\n",
       " 'wrap_content',\n",
       " 'exists',\n",
       " 'details',\n",
       " 'certain',\n",
       " 'widget',\n",
       " 'handler',\n",
       " 'download',\n",
       " 'parse',\n",
       " 'stuff',\n",
       " '40',\n",
       " 'until',\n",
       " 'expected',\n",
       " 'documentation',\n",
       " 'variables',\n",
       " 'socket',\n",
       " 'git',\n",
       " 'little',\n",
       " 'servlet',\n",
       " 'hello',\n",
       " 'th',\n",
       " 'modules',\n",
       " 'environment',\n",
       " 'generate',\n",
       " 'says',\n",
       " 'development',\n",
       " 'easy',\n",
       " 'simply',\n",
       " 'large',\n",
       " 'three',\n",
       " '31',\n",
       " 'exe',\n",
       " 'game',\n",
       " 'approach',\n",
       " 'calls',\n",
       " 'args',\n",
       " 'normal',\n",
       " 'bottom',\n",
       " 'global',\n",
       " 'views',\n",
       " 'types',\n",
       " 'javax',\n",
       " 'upload',\n",
       " 'invoke',\n",
       " 'tags',\n",
       " 'hibernate',\n",
       " 'switch',\n",
       " 'stream',\n",
       " 'onclick',\n",
       " 'making',\n",
       " 'remote',\n",
       " 'layout_width',\n",
       " 'entry',\n",
       " 'layout_height',\n",
       " 'im',\n",
       " 'namespace',\n",
       " 'll',\n",
       " 'whole',\n",
       " 'he',\n",
       " 'great',\n",
       " 'original',\n",
       " 'textview',\n",
       " 'io',\n",
       " 'hidden',\n",
       " 'component',\n",
       " 'internet',\n",
       " 'free',\n",
       " 'comment',\n",
       " 'obj',\n",
       " 'links',\n",
       " 'phone',\n",
       " 'happens',\n",
       " 'loaded',\n",
       " 'developer',\n",
       " 'messages',\n",
       " 'testing',\n",
       " 'names',\n",
       " 'automatically',\n",
       " 'whether',\n",
       " 'mvc',\n",
       " 'studio',\n",
       " '2008',\n",
       " 'come',\n",
       " 'play',\n",
       " 'course',\n",
       " 'points',\n",
       " '200',\n",
       " 'chrome',\n",
       " 'xsl',\n",
       " 'appears',\n",
       " 'related',\n",
       " 'pattern',\n",
       " 'loading',\n",
       " 'pretty',\n",
       " 'who',\n",
       " 'provide',\n",
       " 'basic',\n",
       " 'django',\n",
       " 'require',\n",
       " 'range',\n",
       " 'per',\n",
       " 'player',\n",
       " 'means',\n",
       " 'particular',\n",
       " 'padding',\n",
       " 'quite',\n",
       " 'real',\n",
       " 'tools',\n",
       " 'forms',\n",
       " 'util',\n",
       " 'datetime',\n",
       " 'character',\n",
       " 'buffer',\n",
       " 'random',\n",
       " '_post',\n",
       " 'vector',\n",
       " 'itself',\n",
       " 'ms',\n",
       " 'icon',\n",
       " 'valid',\n",
       " 'records',\n",
       " 'cursor',\n",
       " 'implementation',\n",
       " 'achieve',\n",
       " 'active',\n",
       " 'drive',\n",
       " 'yet',\n",
       " 'goes',\n",
       " 'calling',\n",
       " 'runat',\n",
       " 'max',\n",
       " 'maps',\n",
       " 'unable',\n",
       " 'bind',\n",
       " 'params',\n",
       " 'except',\n",
       " 'takes',\n",
       " 'displayed',\n",
       " 'hard',\n",
       " 'report',\n",
       " 'share',\n",
       " 'common',\n",
       " 'makes',\n",
       " 'issues',\n",
       " 'firefox',\n",
       " 'temp',\n",
       " 'runs',\n",
       " 'follows',\n",
       " 'seen',\n",
       " 'limit',\n",
       " 'properly',\n",
       " '64',\n",
       " 'company',\n",
       " 'characters',\n",
       " 'doc',\n",
       " 'applications',\n",
       " 'step',\n",
       " 'native',\n",
       " 'tool',\n",
       " 'h1',\n",
       " 'attr',\n",
       " 'sent',\n",
       " 'exist',\n",
       " 'external',\n",
       " 'duplicate',\n",
       " 'controls',\n",
       " 'complete',\n",
       " 'sum',\n",
       " 'exactly',\n",
       " 'directly',\n",
       " 'schema',\n",
       " 'panel',\n",
       " 'posts',\n",
       " 'min',\n",
       " 'performance',\n",
       " 'job',\n",
       " 'dim',\n",
       " 'difference',\n",
       " 'matrix',\n",
       " 'seconds',\n",
       " 'separate',\n",
       " 'expression',\n",
       " 'docs',\n",
       " 'syntax',\n",
       " 'examples',\n",
       " 'textbox',\n",
       " 'article',\n",
       " 'book',\n",
       " 'render',\n",
       " 'thinking',\n",
       " 'flash',\n",
       " 'mac',\n",
       " 'checkbox',\n",
       " 'printf',\n",
       " 'runtime',\n",
       " 'canvas',\n",
       " 'existing',\n",
       " '28',\n",
       " 'shared',\n",
       " 'servers',\n",
       " 'customer',\n",
       " 'desktop',\n",
       " 'buttons',\n",
       " 'previous',\n",
       " 'math',\n",
       " 'master',\n",
       " '000',\n",
       " 'blog',\n",
       " 'comes',\n",
       " 'wordpress']"
      ]
     },
     "execution_count": 58,
     "metadata": {},
     "output_type": "execute_result"
    }
   ],
   "source": [
    "cvmodel.vocabulary"
   ]
  },
  {
   "cell_type": "code",
   "execution_count": 59,
   "id": "0465609f",
   "metadata": {},
   "outputs": [
    {
     "data": {
      "text/plain": [
       "['customer',\n",
       " 'desktop',\n",
       " 'buttons',\n",
       " 'previous',\n",
       " 'math',\n",
       " 'master',\n",
       " '000',\n",
       " 'blog',\n",
       " 'comes',\n",
       " 'wordpress']"
      ]
     },
     "execution_count": 59,
     "metadata": {},
     "output_type": "execute_result"
    }
   ],
   "source": [
    "cvmodel.vocabulary[-10:]"
   ]
  },
  {
   "cell_type": "markdown",
   "id": "f213b48b",
   "metadata": {},
   "source": [
    "### Inter-document Frequency"
   ]
  },
  {
   "cell_type": "code",
   "execution_count": 60,
   "id": "1fbcdd7b",
   "metadata": {},
   "outputs": [
    {
     "data": {
      "text/plain": [
       "Row(Body=\"<p>I'd like to check if an uploaded file is an image file (e.g png, jpg, jpeg, gif, bmp) or another file. The problem is that I'm using Uploadify to upload the files, which changes the mime type and gives a 'text/octal' or something as the mime type, no matter which file type you upload.</p>\\n\\n<p>Is there a way to check if the uploaded file is an image apart from checking the file extension using PHP?</p>\\n\", Id=1, Tags='php image-processing file-upload upload mime-types', Title='How to check if an uploaded file is an image without mime type?', oneTag='php', words=['p', 'i', 'd', 'like', 'to', 'check', 'if', 'an', 'uploaded', 'file', 'is', 'an', 'image', 'file', 'e', 'g', 'png', 'jpg', 'jpeg', 'gif', 'bmp', 'or', 'another', 'file', 'the', 'problem', 'is', 'that', 'i', 'm', 'using', 'uploadify', 'to', 'upload', 'the', 'files', 'which', 'changes', 'the', 'mime', 'type', 'and', 'gives', 'a', 'text', 'octal', 'or', 'something', 'as', 'the', 'mime', 'type', 'no', 'matter', 'which', 'file', 'type', 'you', 'upload', 'p', 'p', 'is', 'there', 'a', 'way', 'to', 'check', 'if', 'the', 'uploaded', 'file', 'is', 'an', 'image', 'apart', 'from', 'checking', 'the', 'file', 'extension', 'using', 'php', 'p'], BodyLength=83, NumParagraphs=2, NumLinks=0, NumFeatures=DenseVector([83.0, 2.0, 0.0]), ScaledNumFeatures=DenseVector([0.9997, 0.0241, 0.0]), ScaledNumFeatures2=DenseVector([0.4325, 0.7037, 0.0]), TF=SparseVector(1000, {0: 4.0, 1: 6.0, 2: 2.0, 3: 3.0, 5: 2.0, 8: 4.0, 9: 1.0, 15: 1.0, 21: 2.0, 28: 1.0, 31: 1.0, 35: 3.0, 36: 1.0, 43: 2.0, 45: 2.0, 48: 1.0, 51: 1.0, 57: 6.0, 61: 2.0, 71: 1.0, 78: 1.0, 84: 3.0, 86: 1.0, 94: 1.0, 97: 1.0, 99: 1.0, 100: 1.0, 115: 1.0, 147: 2.0, 152: 1.0, 169: 1.0, 241: 1.0, 283: 1.0, 306: 1.0, 350: 2.0, 490: 1.0, 578: 1.0, 759: 1.0, 832: 2.0}), TFIDF=SparseVector(1000, {0: 0.0026, 1: 0.7515, 2: 0.1374, 3: 0.3184, 5: 0.3823, 8: 1.0754, 9: 0.3344, 15: 0.5899, 21: 1.8551, 28: 1.1263, 31: 1.1113, 35: 3.3134, 36: 1.2545, 43: 2.3741, 45: 2.3753, 48: 1.2254, 51: 1.1879, 57: 11.0264, 61: 2.8957, 71: 2.1945, 78: 1.6947, 84: 6.5898, 86: 1.6136, 94: 2.3569, 97: 1.8218, 99: 2.6292, 100: 1.9206, 115: 2.3592, 147: 5.4841, 152: 2.1116, 169: 2.6328, 241: 2.5745, 283: 3.2325, 306: 3.2668, 350: 6.2367, 490: 3.8893, 578: 3.6182, 759: 3.7771, 832: 8.8964}))"
      ]
     },
     "execution_count": 60,
     "metadata": {},
     "output_type": "execute_result"
    }
   ],
   "source": [
    "idf = IDF(inputCol=\"TF\", outputCol=\"TFIDF\")\n",
    "idfModel = idf.fit(df)\n",
    "df = idfModel.transform(df)\n",
    "df.head()"
   ]
  },
  {
   "cell_type": "markdown",
   "id": "879fcf14",
   "metadata": {},
   "source": [
    "### StringIndexer"
   ]
  },
  {
   "cell_type": "code",
   "execution_count": 61,
   "id": "1d18faad",
   "metadata": {},
   "outputs": [],
   "source": [
    "indexer = StringIndexer(inputCol=\"oneTag\", outputCol=\"label\")\n",
    "df = indexer.fit(df).transform(df)"
   ]
  },
  {
   "cell_type": "code",
   "execution_count": 62,
   "id": "0a66650a",
   "metadata": {},
   "outputs": [
    {
     "data": {
      "text/plain": [
       "Row(Body=\"<p>I'd like to check if an uploaded file is an image file (e.g png, jpg, jpeg, gif, bmp) or another file. The problem is that I'm using Uploadify to upload the files, which changes the mime type and gives a 'text/octal' or something as the mime type, no matter which file type you upload.</p>\\n\\n<p>Is there a way to check if the uploaded file is an image apart from checking the file extension using PHP?</p>\\n\", Id=1, Tags='php image-processing file-upload upload mime-types', Title='How to check if an uploaded file is an image without mime type?', oneTag='php', words=['p', 'i', 'd', 'like', 'to', 'check', 'if', 'an', 'uploaded', 'file', 'is', 'an', 'image', 'file', 'e', 'g', 'png', 'jpg', 'jpeg', 'gif', 'bmp', 'or', 'another', 'file', 'the', 'problem', 'is', 'that', 'i', 'm', 'using', 'uploadify', 'to', 'upload', 'the', 'files', 'which', 'changes', 'the', 'mime', 'type', 'and', 'gives', 'a', 'text', 'octal', 'or', 'something', 'as', 'the', 'mime', 'type', 'no', 'matter', 'which', 'file', 'type', 'you', 'upload', 'p', 'p', 'is', 'there', 'a', 'way', 'to', 'check', 'if', 'the', 'uploaded', 'file', 'is', 'an', 'image', 'apart', 'from', 'checking', 'the', 'file', 'extension', 'using', 'php', 'p'], BodyLength=83, NumParagraphs=2, NumLinks=0, NumFeatures=DenseVector([83.0, 2.0, 0.0]), ScaledNumFeatures=DenseVector([0.9997, 0.0241, 0.0]), ScaledNumFeatures2=DenseVector([0.4325, 0.7037, 0.0]), TF=SparseVector(1000, {0: 4.0, 1: 6.0, 2: 2.0, 3: 3.0, 5: 2.0, 8: 4.0, 9: 1.0, 15: 1.0, 21: 2.0, 28: 1.0, 31: 1.0, 35: 3.0, 36: 1.0, 43: 2.0, 45: 2.0, 48: 1.0, 51: 1.0, 57: 6.0, 61: 2.0, 71: 1.0, 78: 1.0, 84: 3.0, 86: 1.0, 94: 1.0, 97: 1.0, 99: 1.0, 100: 1.0, 115: 1.0, 147: 2.0, 152: 1.0, 169: 1.0, 241: 1.0, 283: 1.0, 306: 1.0, 350: 2.0, 490: 1.0, 578: 1.0, 759: 1.0, 832: 2.0}), TFIDF=SparseVector(1000, {0: 0.0026, 1: 0.7515, 2: 0.1374, 3: 0.3184, 5: 0.3823, 8: 1.0754, 9: 0.3344, 15: 0.5899, 21: 1.8551, 28: 1.1263, 31: 1.1113, 35: 3.3134, 36: 1.2545, 43: 2.3741, 45: 2.3753, 48: 1.2254, 51: 1.1879, 57: 11.0264, 61: 2.8957, 71: 2.1945, 78: 1.6947, 84: 6.5898, 86: 1.6136, 94: 2.3569, 97: 1.8218, 99: 2.6292, 100: 1.9206, 115: 2.3592, 147: 5.4841, 152: 2.1116, 169: 2.6328, 241: 2.5745, 283: 3.2325, 306: 3.2668, 350: 6.2367, 490: 3.8893, 578: 3.6182, 759: 3.7771, 832: 8.8964}), label=3.0)"
      ]
     },
     "execution_count": 62,
     "metadata": {},
     "output_type": "execute_result"
    }
   ],
   "source": [
    "df.head()"
   ]
  },
  {
   "cell_type": "markdown",
   "id": "222b2c4e",
   "metadata": {},
   "source": [
    "## Квиз"
   ]
  },
  {
   "cell_type": "code",
   "execution_count": 67,
   "id": "9e44b8a2",
   "metadata": {},
   "outputs": [
    {
     "name": "stdout",
     "output_type": "stream",
     "text": [
      "+--------------------+----+--------------------+--------------------+------+--------------------+----------+-------------+--------+--------------+--------------------+--------------------+--------------------+--------------------+-----+\n",
      "|                Body|  Id|                Tags|               Title|oneTag|               words|BodyLength|NumParagraphs|NumLinks|   NumFeatures|   ScaledNumFeatures|  ScaledNumFeatures2|                  TF|               TFIDF|label|\n",
      "+--------------------+----+--------------------+--------------------+------+--------------------+----------+-------------+--------+--------------+--------------------+--------------------+--------------------+--------------------+-----+\n",
      "|<p>I submitted my...|1112|iphone app-store ...|iPhone app releas...|iphone|[p, i, submitted,...|        63|            1|       0|[63.0,1.0,0.0]|[0.99987404748359...|[0.32825169441613...|(1000,[0,1,2,3,8,...|(1000,[0,1,2,3,8,...|  7.0|\n",
      "+--------------------+----+--------------------+--------------------+------+--------------------+----------+-------------+--------+--------------+--------------------+--------------------+--------------------+--------------------+-----+\n",
      "\n"
     ]
    }
   ],
   "source": [
    "df.filter(F.col('id') == F.lit('1112')).show()"
   ]
  },
  {
   "cell_type": "code",
   "execution_count": 70,
   "id": "1f16ad9d",
   "metadata": {},
   "outputs": [],
   "source": [
    "df_quiz = df.withColumn('BodyTitle', F.concat(F.col('Body'), F.lit(\" \"), F.col('Title')))\n",
    "regexTokenizer = RegexTokenizer(inputCol=\"BodyTitle\", outputCol=\"words2\", pattern=\"\\\\W\")\n",
    "df_quiz = regexTokenizer.transform(df_quiz)\n",
    "df_quiz = df_quiz.withColumn(\"Length\", body_length(df_quiz['words2']))"
   ]
  },
  {
   "cell_type": "code",
   "execution_count": 71,
   "id": "1fcb3efe",
   "metadata": {},
   "outputs": [
    {
     "name": "stdout",
     "output_type": "stream",
     "text": [
      "+------+\n",
      "|Length|\n",
      "+------+\n",
      "|   135|\n",
      "+------+\n",
      "\n"
     ]
    }
   ],
   "source": [
    "df_quiz.filter(F.col('id') == F.lit('5123')).select(\"Length\").show()"
   ]
  },
  {
   "cell_type": "markdown",
   "id": "4fa9e130",
   "metadata": {},
   "source": [
    "Дальше на курсе еще есть пару примеров"
   ]
  }
 ],
 "metadata": {
  "kernelspec": {
   "display_name": "Python 3 (ipykernel)",
   "language": "python",
   "name": "python3"
  },
  "language_info": {
   "codemirror_mode": {
    "name": "ipython",
    "version": 3
   },
   "file_extension": ".py",
   "mimetype": "text/x-python",
   "name": "python",
   "nbconvert_exporter": "python",
   "pygments_lexer": "ipython3",
   "version": "3.8.13"
  },
  "toc": {
   "base_numbering": 1,
   "nav_menu": {},
   "number_sections": true,
   "sideBar": true,
   "skip_h1_title": false,
   "title_cell": "Table of Contents",
   "title_sidebar": "Contents",
   "toc_cell": false,
   "toc_position": {},
   "toc_section_display": true,
   "toc_window_display": false
  }
 },
 "nbformat": 4,
 "nbformat_minor": 5
}
