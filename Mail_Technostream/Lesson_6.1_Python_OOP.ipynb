{
 "cells": [
  {
   "cell_type": "markdown",
   "metadata": {},
   "source": [
    "# Объектно-ориентированное программирование (ООП)."
   ]
  },
  {
   "cell_type": "markdown",
   "metadata": {},
   "source": [
    "https://python-scripts.com/object-oriented-programming-in-python"
   ]
  },
  {
   "cell_type": "markdown",
   "metadata": {},
   "source": [
    "**Столпы ООП:**\n",
    "+ Инкапсуляция\n",
    "+ Полиморфизм\n",
    "+ Наследование"
   ]
  },
  {
   "cell_type": "markdown",
   "metadata": {},
   "source": [
    "## 1. Классы"
   ]
  },
  {
   "cell_type": "markdown",
   "metadata": {},
   "source": [
    "**Объект** - контейнер, состоящий из:\n",
    "1. данных и состояния (атрибуты)\n",
    "2. поведения (методы)"
   ]
  },
  {
   "cell_type": "markdown",
   "metadata": {},
   "source": [
    "**Класс** - шаблон при помощи, которго создаются объекты (чертеж для объекта)."
   ]
  },
  {
   "cell_type": "code",
   "execution_count": 185,
   "metadata": {},
   "outputs": [],
   "source": [
    "from datetime import datetime"
   ]
  },
  {
   "cell_type": "code",
   "execution_count": 2,
   "metadata": {},
   "outputs": [],
   "source": [
    "class TimeInterval:\n",
    "    \"\"\"Class describes time interval\"\"\"\n",
    "    \n",
    "    def __init__(self, begin, end):\n",
    "        self.begin = begin\n",
    "        self.end = end\n",
    "    \n",
    "    def get_length(self):\n",
    "        return self.end - self.begin"
   ]
  },
  {
   "cell_type": "markdown",
   "metadata": {},
   "source": [
    "### Создание экземпляра класса"
   ]
  },
  {
   "cell_type": "markdown",
   "metadata": {},
   "source": [
    "📌 Объект также называется **экземпляром**. Процесс создания объекта класса называется **инициализация**."
   ]
  },
  {
   "cell_type": "code",
   "execution_count": 3,
   "metadata": {},
   "outputs": [],
   "source": [
    "interval = TimeInterval(\n",
    "    datetime(year=2019, month=8, day=6),\n",
    "    datetime.now()\n",
    ")"
   ]
  },
  {
   "cell_type": "code",
   "execution_count": 4,
   "metadata": {},
   "outputs": [
    {
     "data": {
      "text/plain": [
       "<__main__.TimeInterval at 0x1a323db0448>"
      ]
     },
     "execution_count": 4,
     "metadata": {},
     "output_type": "execute_result"
    }
   ],
   "source": [
    "interval"
   ]
  },
  {
   "cell_type": "code",
   "execution_count": 5,
   "metadata": {},
   "outputs": [
    {
     "name": "stdout",
     "output_type": "stream",
     "text": [
      "<class '__main__.TimeInterval'>\n"
     ]
    }
   ],
   "source": [
    "print(type(interval))"
   ]
  },
  {
   "cell_type": "code",
   "execution_count": 6,
   "metadata": {},
   "outputs": [
    {
     "name": "stdout",
     "output_type": "stream",
     "text": [
      "<class 'type'>\n"
     ]
    }
   ],
   "source": [
    "# метакласс\n",
    "print(type(TimeInterval))"
   ]
  },
  {
   "cell_type": "markdown",
   "metadata": {},
   "source": [
    "## 1. Атрибуты "
   ]
  },
  {
   "cell_type": "markdown",
   "metadata": {},
   "source": [
    "Атрибуты бывают двух типов:\n",
    "+ атрибуты класса\n",
    "+ атрибуты экземпляров"
   ]
  },
  {
   "cell_type": "markdown",
   "metadata": {},
   "source": [
    "📌 **Атрибуты класса** общие для всех объектов класса, в то время как **атрибуты экземпляров** являются собственностью экземпляра.\n",
    "\n",
    "📌 **Атрибуты экземпляра** объявляются внутри любого метода, в то время как **атрибуты класса** объявляются вне любого метода."
   ]
  },
  {
   "cell_type": "markdown",
   "metadata": {},
   "source": [
    "### 1.1. Просмотр атрибутов"
   ]
  },
  {
   "cell_type": "markdown",
   "metadata": {},
   "source": [
    "<p style='font-size:22px; font-weight: bold'>- dir</p>"
   ]
  },
  {
   "cell_type": "code",
   "execution_count": 7,
   "metadata": {},
   "outputs": [
    {
     "data": {
      "text/plain": [
       "['__class__',\n",
       " '__delattr__',\n",
       " '__dict__',\n",
       " '__dir__',\n",
       " '__doc__',\n",
       " '__eq__',\n",
       " '__format__',\n",
       " '__ge__',\n",
       " '__getattribute__',\n",
       " '__gt__',\n",
       " '__hash__',\n",
       " '__init__',\n",
       " '__init_subclass__',\n",
       " '__le__',\n",
       " '__lt__',\n",
       " '__module__',\n",
       " '__ne__',\n",
       " '__new__',\n",
       " '__reduce__',\n",
       " '__reduce_ex__',\n",
       " '__repr__',\n",
       " '__setattr__',\n",
       " '__sizeof__',\n",
       " '__str__',\n",
       " '__subclasshook__',\n",
       " '__weakref__',\n",
       " 'begin',\n",
       " 'end',\n",
       " 'get_length']"
      ]
     },
     "execution_count": 7,
     "metadata": {},
     "output_type": "execute_result"
    }
   ],
   "source": [
    "# Просмотр всех методов и атрибутов\n",
    "dir(interval)"
   ]
  },
  {
   "cell_type": "markdown",
   "metadata": {},
   "source": [
    "<p style='font-size:22px; font-weight: bold'>- __dict__</p>"
   ]
  },
  {
   "cell_type": "code",
   "execution_count": 8,
   "metadata": {},
   "outputs": [
    {
     "data": {
      "text/plain": [
       "{'begin': datetime.datetime(2019, 8, 6, 0, 0),\n",
       " 'end': datetime.datetime(2020, 11, 4, 17, 0, 5, 255025)}"
      ]
     },
     "execution_count": 8,
     "metadata": {},
     "output_type": "execute_result"
    }
   ],
   "source": [
    "# Все атрибуты храняться в словаре\n",
    "interval.__dict__"
   ]
  },
  {
   "cell_type": "code",
   "execution_count": 9,
   "metadata": {},
   "outputs": [
    {
     "data": {
      "text/plain": [
       "mappingproxy({'__module__': '__main__',\n",
       "              '__doc__': 'Class describes time interval',\n",
       "              '__init__': <function __main__.TimeInterval.__init__(self, begin, end)>,\n",
       "              'get_length': <function __main__.TimeInterval.get_length(self)>,\n",
       "              '__dict__': <attribute '__dict__' of 'TimeInterval' objects>,\n",
       "              '__weakref__': <attribute '__weakref__' of 'TimeInterval' objects>})"
      ]
     },
     "execution_count": 9,
     "metadata": {},
     "output_type": "execute_result"
    }
   ],
   "source": [
    "TimeInterval.__dict__"
   ]
  },
  {
   "cell_type": "markdown",
   "metadata": {},
   "source": [
    "### 1.2. Получить значение атрибута"
   ]
  },
  {
   "cell_type": "markdown",
   "metadata": {},
   "source": [
    "Чтобы получить значение атрибута, к нему нужно:\n",
    "+ обратиться через точку;\n",
    "+ применить функцию `getattr`"
   ]
  },
  {
   "cell_type": "code",
   "execution_count": 10,
   "metadata": {},
   "outputs": [
    {
     "data": {
      "text/plain": [
       "datetime.datetime(2019, 8, 6, 0, 0)"
      ]
     },
     "execution_count": 10,
     "metadata": {},
     "output_type": "execute_result"
    }
   ],
   "source": [
    "#обратиться через точку\n",
    "interval.begin"
   ]
  },
  {
   "cell_type": "code",
   "execution_count": 11,
   "metadata": {},
   "outputs": [
    {
     "data": {
      "text/plain": [
       "datetime.datetime(2019, 8, 6, 0, 0)"
      ]
     },
     "execution_count": 11,
     "metadata": {},
     "output_type": "execute_result"
    }
   ],
   "source": [
    "# Получение атрибута по имени\n",
    "getattr(interval, 'begin')"
   ]
  },
  {
   "cell_type": "code",
   "execution_count": 12,
   "metadata": {},
   "outputs": [
    {
     "data": {
      "text/plain": [
       "'d49'"
      ]
     },
     "execution_count": 12,
     "metadata": {},
     "output_type": "execute_result"
    }
   ],
   "source": [
    "# Если нет вызываемого атрибута, то присвоит ему значение по умолчанию\n",
    "getattr(interval, 'Kolomna', 'd49')"
   ]
  },
  {
   "cell_type": "markdown",
   "metadata": {},
   "source": [
    "### 1.3. Создание атрибута"
   ]
  },
  {
   "cell_type": "markdown",
   "metadata": {},
   "source": [
    "Чтобы создать атрибут можно:\n",
    "+ создать на месте через точку\n",
    "+ использовать функцию `setattr`"
   ]
  },
  {
   "cell_type": "code",
   "execution_count": 13,
   "metadata": {},
   "outputs": [
    {
     "name": "stdout",
     "output_type": "stream",
     "text": [
      "1256\n"
     ]
    },
    {
     "data": {
      "text/plain": [
       "{'begin': datetime.datetime(2019, 8, 6, 0, 0),\n",
       " 'end': datetime.datetime(2020, 11, 4, 17, 0, 5, 255025),\n",
       " 'attr_to_set': 1256}"
      ]
     },
     "execution_count": 13,
     "metadata": {},
     "output_type": "execute_result"
    }
   ],
   "source": [
    "# Создание атрибута на месте\n",
    "interval.attr_to_set = 1256\n",
    "print(interval.attr_to_set)\n",
    "interval.__dict__"
   ]
  },
  {
   "cell_type": "code",
   "execution_count": 14,
   "metadata": {},
   "outputs": [
    {
     "name": "stdout",
     "output_type": "stream",
     "text": [
      "777\n"
     ]
    },
    {
     "data": {
      "text/plain": [
       "{'begin': datetime.datetime(2019, 8, 6, 0, 0),\n",
       " 'end': datetime.datetime(2020, 11, 4, 17, 0, 5, 255025),\n",
       " 'attr_to_set': 1256,\n",
       " 'new_attr': 777}"
      ]
     },
     "execution_count": 14,
     "metadata": {},
     "output_type": "execute_result"
    }
   ],
   "source": [
    "setattr(interval, 'new_attr', 777)\n",
    "print(interval.new_attr)\n",
    "interval.__dict__"
   ]
  },
  {
   "cell_type": "markdown",
   "metadata": {},
   "source": [
    "### 1.4 Удаление атрибута"
   ]
  },
  {
   "cell_type": "markdown",
   "metadata": {},
   "source": [
    "Чтобы удалить атрибут можно:\n",
    "+ применить оператор `del`\n",
    "+ использовать функцию `delattr`"
   ]
  },
  {
   "cell_type": "code",
   "execution_count": 15,
   "metadata": {},
   "outputs": [
    {
     "name": "stdout",
     "output_type": "stream",
     "text": [
      "{'begin': datetime.datetime(2019, 8, 6, 0, 0), 'end': datetime.datetime(2020, 11, 4, 17, 0, 5, 255025), 'new_attr': 777}\n"
     ]
    }
   ],
   "source": [
    "del interval.attr_to_set\n",
    "print(interval.__dict__)"
   ]
  },
  {
   "cell_type": "code",
   "execution_count": 16,
   "metadata": {},
   "outputs": [
    {
     "name": "stdout",
     "output_type": "stream",
     "text": [
      "{'begin': datetime.datetime(2019, 8, 6, 0, 0), 'end': datetime.datetime(2020, 11, 4, 17, 0, 5, 255025)}\n"
     ]
    }
   ],
   "source": [
    "delattr(interval, 'new_attr')\n",
    "print(interval.__dict__)"
   ]
  },
  {
   "cell_type": "markdown",
   "metadata": {},
   "source": [
    "## 2. Методы"
   ]
  },
  {
   "cell_type": "markdown",
   "metadata": {},
   "source": [
    " 📌 Методы в классах — это те же функции, которые принимают один обязательный параметр — `self` (с англ. можно перевести как «собственная личность»). Он нужен для связи с конкретным объектом.\n",
    "\n",
    "📌 Методы используются для реализации функционалов объекта"
   ]
  },
  {
   "cell_type": "markdown",
   "metadata": {},
   "source": [
    "Аргумент **self** — это ссылка на создаваемый в памяти компьютера объект."
   ]
  },
  {
   "cell_type": "markdown",
   "metadata": {},
   "source": [
    "1) Чтобы вызвать метод, к нему нужно обратиться через точку и передать аргументы"
   ]
  },
  {
   "cell_type": "code",
   "execution_count": 17,
   "metadata": {},
   "outputs": [
    {
     "data": {
      "text/plain": [
       "datetime.timedelta(days=456, seconds=61205, microseconds=255025)"
      ]
     },
     "execution_count": 17,
     "metadata": {},
     "output_type": "execute_result"
    }
   ],
   "source": [
    "interval.get_length()"
   ]
  },
  {
   "cell_type": "code",
   "execution_count": 18,
   "metadata": {},
   "outputs": [
    {
     "data": {
      "text/plain": [
       "<bound method TimeInterval.get_length of <__main__.TimeInterval object at 0x000001A323DB0448>>"
      ]
     },
     "execution_count": 18,
     "metadata": {},
     "output_type": "execute_result"
    }
   ],
   "source": [
    "interval.get_length"
   ]
  },
  {
   "cell_type": "code",
   "execution_count": 19,
   "metadata": {},
   "outputs": [
    {
     "data": {
      "text/plain": [
       "<function __main__.TimeInterval.get_length(self)>"
      ]
     },
     "execution_count": 19,
     "metadata": {},
     "output_type": "execute_result"
    }
   ],
   "source": [
    "TimeInterval.get_length"
   ]
  },
  {
   "cell_type": "markdown",
   "metadata": {},
   "source": [
    "2) 2 способ вызвать метод"
   ]
  },
  {
   "cell_type": "code",
   "execution_count": 20,
   "metadata": {},
   "outputs": [
    {
     "data": {
      "text/plain": [
       "datetime.timedelta(days=456, seconds=61205, microseconds=255025)"
      ]
     },
     "execution_count": 20,
     "metadata": {},
     "output_type": "execute_result"
    }
   ],
   "source": [
    "TimeInterval.get_length(interval)"
   ]
  },
  {
   "cell_type": "code",
   "execution_count": 21,
   "metadata": {},
   "outputs": [
    {
     "name": "stdout",
     "output_type": "stream",
     "text": [
      "ABC DEF GHJ\n"
     ]
    }
   ],
   "source": [
    "s = ['abc', 'def', 'ghj']\n",
    "\n",
    "print(*map(str.upper, s), sep=' ') # same as map(lambda e: e.upper(), s)"
   ]
  },
  {
   "cell_type": "code",
   "execution_count": 22,
   "metadata": {},
   "outputs": [
    {
     "data": {
      "text/plain": [
       "{1, 2, 3, 4, 5, 6}"
      ]
     },
     "execution_count": 22,
     "metadata": {},
     "output_type": "execute_result"
    }
   ],
   "source": [
    "from functools import reduce\n",
    "\n",
    "reduce(set.union, [{1, 2}, {2, 3, 4}, {4, 5, 6}])"
   ]
  },
  {
   "cell_type": "code",
   "execution_count": 23,
   "metadata": {},
   "outputs": [
    {
     "data": {
      "text/plain": [
       "{1, 2, 3, 4, 5, 6}"
      ]
     },
     "execution_count": 23,
     "metadata": {},
     "output_type": "execute_result"
    }
   ],
   "source": [
    "reduce(lambda a, b: a | b, [{1, 2}, {2, 3, 4}, {4, 5, 6}])"
   ]
  },
  {
   "cell_type": "markdown",
   "metadata": {},
   "source": [
    "## 3. Инкапсуляция (приватность)"
   ]
  },
  {
   "cell_type": "markdown",
   "metadata": {},
   "source": [
    "Как правило, в ООП один класс не должен иметь прямого доступа к данным другого класса. Вместо этого, доступ должен контролироваться через методы класса.\n",
    "\n",
    "Чтобы предоставить контролируемый доступ к данным класса в Python, используются:\n",
    "1. Модификаторы доступа;\n",
    "2. Свойства `property`."
   ]
  },
  {
   "cell_type": "markdown",
   "metadata": {},
   "source": [
    "**Модификаторы доступа**:\n",
    "+ `public` - атирибут доступен отовсюду;\n",
    "+ `protected` - атрибут доступен внутри экземпляра класса и в экземплярах классов наследников;\n",
    "+ `private` - атрибут доступен только внутри экземпляра класса."
   ]
  },
  {
   "cell_type": "code",
   "execution_count": 24,
   "metadata": {},
   "outputs": [],
   "source": [
    "class TimeInterval:\n",
    "    \n",
    "    def __init__(self, begin, end):\n",
    "        self.__begin = begin         #private с оговорками (обращаться можно только внутри класса)\n",
    "        self._end = end              #как бы protected (можно обращаться, но программист не хотел бы этого)\n",
    "        self.secret = 'jdsfjasd'     #public\n",
    "        self.__hidden__ = 'hidden'   #так не делать\n",
    "    \n",
    "    def get_length(self):\n",
    "        return self._end - self.__begin"
   ]
  },
  {
   "cell_type": "code",
   "execution_count": 25,
   "metadata": {},
   "outputs": [],
   "source": [
    "interval = TimeInterval(\n",
    "    datetime(year=2019, month=8, day=6, hour=10, minute=7),\n",
    "    datetime(year=2019, month=8, day=6, hour=12, minute=30)\n",
    ")"
   ]
  },
  {
   "cell_type": "markdown",
   "metadata": {},
   "source": [
    "1) public"
   ]
  },
  {
   "cell_type": "code",
   "execution_count": 26,
   "metadata": {},
   "outputs": [
    {
     "data": {
      "text/plain": [
       "'jdsfjasd'"
      ]
     },
     "execution_count": 26,
     "metadata": {},
     "output_type": "execute_result"
    }
   ],
   "source": [
    "interval.secret"
   ]
  },
  {
   "cell_type": "markdown",
   "metadata": {},
   "source": [
    "2) protected - данный атрибут лучше не использовать вне класса"
   ]
  },
  {
   "cell_type": "code",
   "execution_count": 27,
   "metadata": {},
   "outputs": [
    {
     "data": {
      "text/plain": [
       "datetime.datetime(2019, 8, 6, 12, 30)"
      ]
     },
     "execution_count": 27,
     "metadata": {},
     "output_type": "execute_result"
    }
   ],
   "source": [
    "interval._end"
   ]
  },
  {
   "cell_type": "markdown",
   "metadata": {},
   "source": [
    "3) private"
   ]
  },
  {
   "cell_type": "code",
   "execution_count": 29,
   "metadata": {},
   "outputs": [
    {
     "ename": "AttributeError",
     "evalue": "'TimeInterval' object has no attribute '__begin'",
     "output_type": "error",
     "traceback": [
      "\u001b[1;31m---------------------------------------------------------------------------\u001b[0m",
      "\u001b[1;31mAttributeError\u001b[0m                            Traceback (most recent call last)",
      "\u001b[1;32m<ipython-input-29-db79a5e55077>\u001b[0m in \u001b[0;36m<module>\u001b[1;34m\u001b[0m\n\u001b[1;32m----> 1\u001b[1;33m \u001b[0minterval\u001b[0m\u001b[1;33m.\u001b[0m\u001b[0m__begin\u001b[0m\u001b[1;33m\u001b[0m\u001b[1;33m\u001b[0m\u001b[0m\n\u001b[0m",
      "\u001b[1;31mAttributeError\u001b[0m: 'TimeInterval' object has no attribute '__begin'"
     ]
    }
   ],
   "source": [
    "interval.__begin"
   ]
  },
  {
   "cell_type": "markdown",
   "metadata": {},
   "source": [
    "Хотя метод с приватным атрибутом работает"
   ]
  },
  {
   "cell_type": "code",
   "execution_count": null,
   "metadata": {},
   "outputs": [],
   "source": [
    "interval.get_length().total_seconds()"
   ]
  },
  {
   "cell_type": "code",
   "execution_count": null,
   "metadata": {},
   "outputs": [],
   "source": [
    "TimeInterval.__dict__"
   ]
  },
  {
   "cell_type": "markdown",
   "metadata": {},
   "source": [
    "Но все же можно обратиться к приватному атрибуту. В словаре атрибутов посмотрим как он называется:"
   ]
  },
  {
   "cell_type": "code",
   "execution_count": null,
   "metadata": {},
   "outputs": [],
   "source": [
    "interval.__dict__"
   ]
  },
  {
   "cell_type": "code",
   "execution_count": 30,
   "metadata": {},
   "outputs": [
    {
     "data": {
      "text/plain": [
       "datetime.datetime(2019, 8, 6, 10, 7)"
      ]
     },
     "execution_count": 30,
     "metadata": {},
     "output_type": "execute_result"
    }
   ],
   "source": [
    "interval._TimeInterval__begin"
   ]
  },
  {
   "cell_type": "markdown",
   "metadata": {},
   "source": [
    "Приватные атрибуты нельяз создавать на месте, создастся публичный:"
   ]
  },
  {
   "cell_type": "code",
   "execution_count": 31,
   "metadata": {},
   "outputs": [
    {
     "data": {
      "text/plain": [
       "12"
      ]
     },
     "execution_count": 31,
     "metadata": {},
     "output_type": "execute_result"
    }
   ],
   "source": [
    "interval.__attr = 12\n",
    "interval.__attr"
   ]
  },
  {
   "cell_type": "code",
   "execution_count": 32,
   "metadata": {},
   "outputs": [
    {
     "data": {
      "text/plain": [
       "{'_TimeInterval__begin': datetime.datetime(2019, 8, 6, 10, 7),\n",
       " '_end': datetime.datetime(2019, 8, 6, 12, 30),\n",
       " 'secret': 'jdsfjasd',\n",
       " '__hidden__': 'hidden',\n",
       " '__attr': 12}"
      ]
     },
     "execution_count": 32,
     "metadata": {},
     "output_type": "execute_result"
    }
   ],
   "source": [
    "interval.__dict__"
   ]
  },
  {
   "cell_type": "markdown",
   "metadata": {},
   "source": [
    "Два нижних подчеркивания спереди и в конце говорят о том, что атрибут системный"
   ]
  },
  {
   "cell_type": "code",
   "execution_count": 33,
   "metadata": {},
   "outputs": [
    {
     "data": {
      "text/plain": [
       "'hidden'"
      ]
     },
     "execution_count": 33,
     "metadata": {},
     "output_type": "execute_result"
    }
   ],
   "source": [
    "interval.__hidden__"
   ]
  },
  {
   "cell_type": "markdown",
   "metadata": {},
   "source": [
    "## 4. Атрибуты классов"
   ]
  },
  {
   "cell_type": "markdown",
   "metadata": {},
   "source": [
    "[Ссылка на статью из хабра 'Пользовательские атрибуты в Python'](https://habr.com/ru/post/137415/)"
   ]
  },
  {
   "cell_type": "markdown",
   "metadata": {},
   "source": [
    "[Статья про дескрипторы](https://docs-python.ru/tutorial/klassy-jazyke-python/deskriptory-klassov/)"
   ]
  },
  {
   "cell_type": "markdown",
   "metadata": {},
   "source": [
    "### 4.1. Патерн «Моносостояние»"
   ]
  },
  {
   "cell_type": "markdown",
   "metadata": {},
   "source": [
    "Одинаковое состояние достигается за счет:\n",
    "+ атрибута класса в виде словаря, а словарь изменяемый тип данных\n",
    "+ у каждого экземпляра в атрибуте `__dict__` хранится ссылка на один и тот же словарь"
   ]
  },
  {
   "cell_type": "code",
   "execution_count": 34,
   "metadata": {},
   "outputs": [],
   "source": [
    "class Cat:\n",
    "\n",
    "    __shared_attrs = {\n",
    "        'breed': 'pers',\n",
    "        'color': 'black'\n",
    "    }\n",
    "    \n",
    "    def __init__(self):\n",
    "        self.__dict__ = Cat.__shared_attrs"
   ]
  },
  {
   "cell_type": "code",
   "execution_count": 35,
   "metadata": {},
   "outputs": [
    {
     "data": {
      "text/plain": [
       "{'breed': 'pers', 'color': 'black'}"
      ]
     },
     "execution_count": 35,
     "metadata": {},
     "output_type": "execute_result"
    }
   ],
   "source": [
    "a = Cat()\n",
    "b = Cat()\n",
    "b.__dict__"
   ]
  },
  {
   "cell_type": "code",
   "execution_count": 36,
   "metadata": {},
   "outputs": [
    {
     "data": {
      "text/plain": [
       "{'breed': 'siam', 'color': 'black'}"
      ]
     },
     "execution_count": 36,
     "metadata": {},
     "output_type": "execute_result"
    }
   ],
   "source": [
    "a.breed = 'siam'\n",
    "b.__dict__"
   ]
  },
  {
   "cell_type": "code",
   "execution_count": 37,
   "metadata": {},
   "outputs": [
    {
     "data": {
      "text/plain": [
       "{'breed': 'siam', 'color': 'black', 'name': 'Bob'}"
      ]
     },
     "execution_count": 37,
     "metadata": {},
     "output_type": "execute_result"
    }
   ],
   "source": [
    "a.name = 'Bob'\n",
    "b.__dict__"
   ]
  },
  {
   "cell_type": "code",
   "execution_count": 38,
   "metadata": {},
   "outputs": [
    {
     "data": {
      "text/plain": [
       "{'breed': 'siam', 'color': 'black', 'name': 'Bob'}"
      ]
     },
     "execution_count": 38,
     "metadata": {},
     "output_type": "execute_result"
    }
   ],
   "source": [
    "c = Cat()\n",
    "c.__dict__"
   ]
  },
  {
   "cell_type": "markdown",
   "metadata": {},
   "source": [
    "### 4.2. Пространство имен класса"
   ]
  },
  {
   "cell_type": "markdown",
   "metadata": {},
   "source": [
    "Хотим иметь клпасс `TimeInterval`, который задает временной интервал. Хотелось бы чтобы:\n",
    "+ Если начало интервала отсутствует, то оно равнялось 1 января 1970 г.\n",
    "+ Если конец интервала отсутствует, то он равняется текущему времени."
   ]
  },
  {
   "cell_type": "code",
   "execution_count": 39,
   "metadata": {},
   "outputs": [],
   "source": [
    "from time import sleep"
   ]
  },
  {
   "cell_type": "code",
   "execution_count": 40,
   "metadata": {},
   "outputs": [],
   "source": [
    "class TimeInterval:\n",
    "    DEFAULT_BEGIN = datetime(1970, 1, 1)\n",
    "    DEFAULT_END = datetime.now()\n",
    "    \n",
    "    def __init__(self, begin=None, end=None):\n",
    "        if begin is None:\n",
    "            begin = self.DEFAULT_BEGIN\n",
    "        if end is None:\n",
    "            end = self.DEFAULT_END\n",
    "            \n",
    "        self._begin = begin\n",
    "        self._end = end\n",
    "    \n",
    "    def get_length(self):\n",
    "        return self._end - self._begin\n",
    "    \n",
    "    def set_default_end(self, value):\n",
    "        self.DEFAULT_END = value"
   ]
  },
  {
   "cell_type": "code",
   "execution_count": 41,
   "metadata": {},
   "outputs": [
    {
     "data": {
      "text/plain": [
       "mappingproxy({'__module__': '__main__',\n",
       "              'DEFAULT_BEGIN': datetime.datetime(1970, 1, 1, 0, 0),\n",
       "              'DEFAULT_END': datetime.datetime(2020, 11, 4, 17, 0, 31, 195635),\n",
       "              '__init__': <function __main__.TimeInterval.__init__(self, begin=None, end=None)>,\n",
       "              'get_length': <function __main__.TimeInterval.get_length(self)>,\n",
       "              'set_default_end': <function __main__.TimeInterval.set_default_end(self, value)>,\n",
       "              '__dict__': <attribute '__dict__' of 'TimeInterval' objects>,\n",
       "              '__weakref__': <attribute '__weakref__' of 'TimeInterval' objects>,\n",
       "              '__doc__': None})"
      ]
     },
     "execution_count": 41,
     "metadata": {},
     "output_type": "execute_result"
    }
   ],
   "source": [
    "TimeInterval.__dict__"
   ]
  },
  {
   "cell_type": "code",
   "execution_count": 42,
   "metadata": {},
   "outputs": [
    {
     "name": "stdout",
     "output_type": "stream",
     "text": [
      "Before:  2020-11-04 17:00:31.195635\n",
      "Current:  2020-11-04 17:00:34.404789\n",
      "After:  2020-11-04 17:00:31.195635\n"
     ]
    }
   ],
   "source": [
    "interval = TimeInterval()\n",
    "print('Before: ', interval.DEFAULT_END)\n",
    "\n",
    "sleep(3)\n",
    "\n",
    "print(\"Current: \", datetime.now())\n",
    "\n",
    "interval = TimeInterval()\n",
    "print('After: ', interval.DEFAULT_END)"
   ]
  },
  {
   "cell_type": "markdown",
   "metadata": {},
   "source": [
    "DEFAULT_END образуется при создании класса!"
   ]
  },
  {
   "cell_type": "code",
   "execution_count": 43,
   "metadata": {},
   "outputs": [
    {
     "data": {
      "text/plain": [
       "'2020-11-04 17:00:31.195635'"
      ]
     },
     "execution_count": 43,
     "metadata": {},
     "output_type": "execute_result"
    }
   ],
   "source": [
    "str(TimeInterval.DEFAULT_END)"
   ]
  },
  {
   "cell_type": "markdown",
   "metadata": {},
   "source": [
    "<p style='font-size: 18px;color: black; font-weight:bold; background:#e6ffed; padding:5px'>Если у экземпяра класса обратиться к атрибуту, то сначала ищется данный атрибут в пространстве имен <span style='color: blue'>ЭКЗЕМПЛЯРА</span> класса, если атрибута не существует, то дальше он ищется в пространстве имен <span style='color: blue'>КЛАССА</span>.</p>"
   ]
  },
  {
   "cell_type": "markdown",
   "metadata": {},
   "source": [
    "Для экземпляра класса атрибут DEFAULT_END поменяется (точнее создатся, так как до этого такого атрибута в экземпляре класса не было). Подобие области видимости функций"
   ]
  },
  {
   "cell_type": "code",
   "execution_count": 44,
   "metadata": {},
   "outputs": [
    {
     "name": "stdout",
     "output_type": "stream",
     "text": [
      "2020-11-04 17:00:31.195635\n",
      "2020-11-04 17:00:34.567552\n"
     ]
    }
   ],
   "source": [
    "interval.set_default_end(datetime.now())\n",
    "print(TimeInterval.DEFAULT_END)\n",
    "print(interval.DEFAULT_END)"
   ]
  },
  {
   "cell_type": "code",
   "execution_count": 45,
   "metadata": {},
   "outputs": [
    {
     "data": {
      "text/plain": [
       "{'_begin': datetime.datetime(1970, 1, 1, 0, 0),\n",
       " '_end': datetime.datetime(2020, 11, 4, 17, 0, 31, 195635),\n",
       " 'DEFAULT_END': datetime.datetime(2020, 11, 4, 17, 0, 34, 567552)}"
      ]
     },
     "execution_count": 45,
     "metadata": {},
     "output_type": "execute_result"
    }
   ],
   "source": [
    "interval.__dict__"
   ]
  },
  {
   "cell_type": "markdown",
   "metadata": {},
   "source": [
    "У нового экземпляра DEFAULT_END не будет"
   ]
  },
  {
   "cell_type": "code",
   "execution_count": 46,
   "metadata": {},
   "outputs": [
    {
     "data": {
      "text/plain": [
       "{'_begin': datetime.datetime(1970, 1, 1, 0, 0),\n",
       " '_end': datetime.datetime(2020, 11, 4, 17, 0, 31, 195635)}"
      ]
     },
     "execution_count": 46,
     "metadata": {},
     "output_type": "execute_result"
    }
   ],
   "source": [
    "interval = TimeInterval()\n",
    "interval.__dict__"
   ]
  },
  {
   "cell_type": "markdown",
   "metadata": {},
   "source": [
    "Что же делать, если мы хотим поменять атрибут класса? <span style='font-size: 24px'>🤔</span>\n",
    "+ явно обратиться к классу\n",
    "+ воспользоваться декоратором `@classmethod`"
   ]
  },
  {
   "cell_type": "markdown",
   "metadata": {},
   "source": [
    "### 4.3. Класса-методы"
   ]
  },
  {
   "cell_type": "markdown",
   "metadata": {},
   "source": [
    "<p style='color:#ba0dbb; font-size:24px; font-weight:bold'>- @classmethod</p>"
   ]
  },
  {
   "cell_type": "code",
   "execution_count": 47,
   "metadata": {},
   "outputs": [],
   "source": [
    "class TimeInterval:\n",
    "    DEFAULT_BEGIN = datetime(1970, 1, 1)\n",
    "    DEFAULT_END = datetime.now()\n",
    "    \n",
    "    def __init__(self, begin=None, end=None):\n",
    "        if begin is None:\n",
    "            begin = self.DEFAULT_BEGIN\n",
    "        if end is None:\n",
    "            end = self.DEFAULT_END\n",
    "            \n",
    "        self._begin = begin\n",
    "        self._end = end\n",
    "    \n",
    "    def get_length(self):\n",
    "        return self._end - self._begin\n",
    "    \n",
    "    # явное обращение к классу\n",
    "    \"\"\"\n",
    "    def set_default_end(self, value):     \n",
    "        TimeInterval.DEFAULT_END = value\n",
    "    \"\"\"\n",
    "    \n",
    "    @classmethod\n",
    "    def set_default_end(cls, value):\n",
    "        cls.DEFAULT_END = value\n",
    "    \n",
    "interval = TimeInterval()       "
   ]
  },
  {
   "cell_type": "markdown",
   "metadata": {},
   "source": [
    "`get_length` это метод класса `TimeInterval`, который связан с экземпляром этого класса"
   ]
  },
  {
   "cell_type": "code",
   "execution_count": 48,
   "metadata": {},
   "outputs": [
    {
     "data": {
      "text/plain": [
       "<bound method TimeInterval.get_length of <__main__.TimeInterval object at 0x000001A323E7D288>>"
      ]
     },
     "execution_count": 48,
     "metadata": {},
     "output_type": "execute_result"
    }
   ],
   "source": [
    "interval.get_length"
   ]
  },
  {
   "cell_type": "markdown",
   "metadata": {},
   "source": [
    "`get_length` просто некоторая функция класса"
   ]
  },
  {
   "cell_type": "code",
   "execution_count": 49,
   "metadata": {},
   "outputs": [
    {
     "data": {
      "text/plain": [
       "<function __main__.TimeInterval.get_length(self)>"
      ]
     },
     "execution_count": 49,
     "metadata": {},
     "output_type": "execute_result"
    }
   ],
   "source": [
    "TimeInterval.get_length"
   ]
  },
  {
   "cell_type": "markdown",
   "metadata": {},
   "source": [
    "`set_default_end` это метод класса `TimeInterval`, который связан с классом"
   ]
  },
  {
   "cell_type": "code",
   "execution_count": 50,
   "metadata": {},
   "outputs": [
    {
     "data": {
      "text/plain": [
       "<bound method TimeInterval.set_default_end of <class '__main__.TimeInterval'>>"
      ]
     },
     "execution_count": 50,
     "metadata": {},
     "output_type": "execute_result"
    }
   ],
   "source": [
    "interval.set_default_end"
   ]
  },
  {
   "cell_type": "code",
   "execution_count": 51,
   "metadata": {},
   "outputs": [
    {
     "data": {
      "text/plain": [
       "<bound method TimeInterval.set_default_end of <class '__main__.TimeInterval'>>"
      ]
     },
     "execution_count": 51,
     "metadata": {},
     "output_type": "execute_result"
    }
   ],
   "source": [
    "TimeInterval.set_default_end"
   ]
  },
  {
   "cell_type": "code",
   "execution_count": 52,
   "metadata": {},
   "outputs": [
    {
     "name": "stdout",
     "output_type": "stream",
     "text": [
      "2020-11-04 17:00:35.453979\n",
      "2020-11-04 17:00:35.453979\n"
     ]
    }
   ],
   "source": [
    "TimeInterval.set_default_end(datetime.now())\n",
    "print(TimeInterval.DEFAULT_END)\n",
    "print(interval.DEFAULT_END)"
   ]
  },
  {
   "cell_type": "code",
   "execution_count": 53,
   "metadata": {},
   "outputs": [
    {
     "name": "stdout",
     "output_type": "stream",
     "text": [
      "2020-11-04 17:00:35.585499\n",
      "2020-11-04 17:00:35.585499\n"
     ]
    }
   ],
   "source": [
    "interval.set_default_end(datetime.now())\n",
    "print(TimeInterval.DEFAULT_END)\n",
    "print(interval.DEFAULT_END)"
   ]
  },
  {
   "cell_type": "markdown",
   "metadata": {},
   "source": [
    "Новый атрибут не появился"
   ]
  },
  {
   "cell_type": "code",
   "execution_count": 54,
   "metadata": {},
   "outputs": [
    {
     "data": {
      "text/plain": [
       "{'_begin': datetime.datetime(1970, 1, 1, 0, 0),\n",
       " '_end': datetime.datetime(2020, 11, 4, 17, 0, 34, 921390)}"
      ]
     },
     "execution_count": 54,
     "metadata": {},
     "output_type": "execute_result"
    }
   ],
   "source": [
    "interval.__dict__"
   ]
  },
  {
   "cell_type": "markdown",
   "metadata": {},
   "source": [
    "### 4.4. Статические методы"
   ]
  },
  {
   "cell_type": "markdown",
   "metadata": {},
   "source": [
    "📌 Не имеют доступа к экземплярам класса и к самому классу (атрибутам и методам)"
   ]
  },
  {
   "cell_type": "markdown",
   "metadata": {},
   "source": [
    "<p style='color:#ba0dbb; font-size:24px; font-weight:bold'>- @staticmethod</p>"
   ]
  },
  {
   "cell_type": "code",
   "execution_count": 55,
   "metadata": {},
   "outputs": [],
   "source": [
    "class TimeInterval:\n",
    "    DEFAULT_BEGIN = datetime(1970, 1, 1)\n",
    "    \n",
    "    def __init__(self, begin=None, end=None):\n",
    "        if begin is None:\n",
    "            begin = self.DEFAULT_BEGIN\n",
    "        if end is None:\n",
    "            end = self.get_default_end()\n",
    "            \n",
    "        self._begin = begin\n",
    "        self._end = end\n",
    "    \n",
    "    def get_length(self):\n",
    "        return self._end - self._begin\n",
    "    \n",
    "    @staticmethod\n",
    "    def get_default_begin():\n",
    "        return TimeInterval.DEFAULT_BEGIN  # Обязательно явно указывать имя класса\n",
    "    \n",
    "    @staticmethod\n",
    "    def get_default_end():\n",
    "        return datetime.now()\n",
    "    \n",
    "interval = TimeInterval()"
   ]
  },
  {
   "cell_type": "markdown",
   "metadata": {},
   "source": [
    "Для экземпляра класса и самого класса `get_default_end` - это просто функция"
   ]
  },
  {
   "cell_type": "code",
   "execution_count": 56,
   "metadata": {},
   "outputs": [
    {
     "data": {
      "text/plain": [
       "<function __main__.TimeInterval.get_default_end()>"
      ]
     },
     "execution_count": 56,
     "metadata": {},
     "output_type": "execute_result"
    }
   ],
   "source": [
    "interval.get_default_end"
   ]
  },
  {
   "cell_type": "code",
   "execution_count": 57,
   "metadata": {},
   "outputs": [
    {
     "data": {
      "text/plain": [
       "<function __main__.TimeInterval.get_default_end()>"
      ]
     },
     "execution_count": 57,
     "metadata": {},
     "output_type": "execute_result"
    }
   ],
   "source": [
    "TimeInterval.get_default_end"
   ]
  },
  {
   "cell_type": "markdown",
   "metadata": {},
   "source": [
    "Статические методы можно вызыват из экземпляров класса и самого класса (Но лучше из класса):"
   ]
  },
  {
   "cell_type": "code",
   "execution_count": 58,
   "metadata": {},
   "outputs": [
    {
     "data": {
      "text/plain": [
       "datetime.datetime(2020, 11, 4, 17, 0, 36, 165298)"
      ]
     },
     "execution_count": 58,
     "metadata": {},
     "output_type": "execute_result"
    }
   ],
   "source": [
    "interval.get_default_end()"
   ]
  },
  {
   "cell_type": "code",
   "execution_count": 59,
   "metadata": {},
   "outputs": [
    {
     "data": {
      "text/plain": [
       "datetime.datetime(2020, 11, 4, 17, 0, 36, 293639)"
      ]
     },
     "execution_count": 59,
     "metadata": {},
     "output_type": "execute_result"
    }
   ],
   "source": [
    "TimeInterval.get_default_end()"
   ]
  },
  {
   "cell_type": "code",
   "execution_count": 60,
   "metadata": {},
   "outputs": [
    {
     "name": "stdout",
     "output_type": "stream",
     "text": [
      "Before:  2020-11-04 17:00:36.393896\n",
      "Current:  2020-11-04 17:00:39.417879\n",
      "After:  2020-11-04 17:00:39.417879\n"
     ]
    }
   ],
   "source": [
    "interval = TimeInterval()\n",
    "print('Before: ', interval._end)\n",
    "\n",
    "sleep(3)\n",
    "\n",
    "print(\"Current: \", datetime.now())\n",
    "\n",
    "interval = TimeInterval()\n",
    "print('After: ', interval._end)"
   ]
  },
  {
   "cell_type": "markdown",
   "metadata": {},
   "source": [
    "<p style='color:#ba0dbb; font-size:24px; font-weight:bold'>Отличия `staticmethod` от `classmethod`:</p>\n",
    "\n",
    "+ `staticmethod` - просто функция и не имеет неявной подстановки аргументов, в отличие от `classmethod` и обычных методов;\n",
    "+ `staticmethod` можно переопределть в другом месте (например в другом модуле), в отличие от `classmethod`;\n",
    "+ `staticmethod` нужен для логического размещения функций, например, `itertools.chain.from_iterable`."
   ]
  },
  {
   "cell_type": "markdown",
   "metadata": {},
   "source": [
    "### 4.5. Вычисляемые атрибуты класса (property)"
   ]
  },
  {
   "cell_type": "markdown",
   "metadata": {},
   "source": [
    "📌 Позволяет для методов добавить точечную нотацию атрибутов"
   ]
  },
  {
   "cell_type": "markdown",
   "metadata": {},
   "source": [
    "📌 Динамическое вычисление атрибута"
   ]
  },
  {
   "cell_type": "markdown",
   "metadata": {},
   "source": [
    "Хотим иметь класс `TimeInterval`, который задает временной интервал. Хотелось бы, чтобы:\n",
    "+ Значение конца интервала **всегда** было больше, либо равно его начала."
   ]
  },
  {
   "cell_type": "code",
   "execution_count": 61,
   "metadata": {},
   "outputs": [],
   "source": [
    "class TimeInterval:\n",
    "    DEFAULT_BEGIN = datetime(1991, 1, 1)\n",
    "    \n",
    "    def __init__(self, begin=None, end=None):\n",
    "        if begin is None:\n",
    "            begin = self.DEFAULT_BEGIN\n",
    "        if end is None:\n",
    "            end = get_default_end()\n",
    "            \n",
    "        self.begin = begin\n",
    "        self.end = max(begin, end)\n",
    "    \n",
    "    def get_length(self):\n",
    "        return self.end - self.begin\n",
    "    \n",
    "    @classmethod\n",
    "    def get_default_end(cls):\n",
    "        return datetime.now()\n",
    "     "
   ]
  },
  {
   "cell_type": "markdown",
   "metadata": {},
   "source": [
    "Определение `end` через инициализацию работает"
   ]
  },
  {
   "cell_type": "code",
   "execution_count": 62,
   "metadata": {},
   "outputs": [
    {
     "data": {
      "text/plain": [
       "datetime.datetime(1991, 1, 1, 0, 0)"
      ]
     },
     "execution_count": 62,
     "metadata": {},
     "output_type": "execute_result"
    }
   ],
   "source": [
    "interval = TimeInterval(end=datetime(1986, 1, 1))\n",
    "interval.end"
   ]
  },
  {
   "cell_type": "markdown",
   "metadata": {},
   "source": [
    "Если задать атрибут вне класса, то все порушится"
   ]
  },
  {
   "cell_type": "code",
   "execution_count": 63,
   "metadata": {},
   "outputs": [
    {
     "data": {
      "text/plain": [
       "datetime.datetime(1969, 1, 1, 0, 0)"
      ]
     },
     "execution_count": 63,
     "metadata": {},
     "output_type": "execute_result"
    }
   ],
   "source": [
    "interval.end = datetime(1969, 1, 1)\n",
    "interval.end"
   ]
  },
  {
   "cell_type": "markdown",
   "metadata": {},
   "source": [
    "Нам помогут вычисляемые атрибуты `property`"
   ]
  },
  {
   "cell_type": "code",
   "execution_count": 64,
   "metadata": {},
   "outputs": [],
   "source": [
    "class TimeInterval:\n",
    "    DEFAULT_BEGIN = datetime(1991, 1, 1)\n",
    "\n",
    "    def __init__(self, begin=None, end=None):\n",
    "        if begin is None or begin < self.DEFAULT_BEGIN:\n",
    "            begin = self.DEFAULT_BEGIN\n",
    "        if end is None:\n",
    "            end = get_default_end()\n",
    "            \n",
    "        self._begin = begin           # self.begin -> self._begin\n",
    "        self._end = max(begin, end)   # self.end -> self._end\n",
    "    \n",
    "    end = property()\n",
    "    \n",
    "    @end.setter\n",
    "    def end(self, value):\n",
    "        self._end = max(self._begin, value)\n",
    "        \n",
    "    @end.getter\n",
    "    def end(self):\n",
    "        return self._end \n",
    "    \n",
    "    @end.deleter\n",
    "    def end(self):\n",
    "        del self._end \n",
    "    \n",
    "    def get_length(self):\n",
    "        return self._end - self._begin\n",
    "    \n",
    "    @classmethod\n",
    "    def get_default_end(cls):\n",
    "        return datetime.now()"
   ]
  },
  {
   "cell_type": "markdown",
   "metadata": {},
   "source": [
    "Работает, так как в `@end.getter` возвращается `self._end`"
   ]
  },
  {
   "cell_type": "code",
   "execution_count": 65,
   "metadata": {},
   "outputs": [
    {
     "data": {
      "text/plain": [
       "datetime.datetime(1991, 1, 1, 0, 0)"
      ]
     },
     "execution_count": 65,
     "metadata": {},
     "output_type": "execute_result"
    }
   ],
   "source": [
    "interval = TimeInterval(end=datetime(1986, 1, 1))\n",
    "interval.end"
   ]
  },
  {
   "cell_type": "markdown",
   "metadata": {},
   "source": [
    "Работает, так как в `@end.setter` переопределяется `self._end`"
   ]
  },
  {
   "cell_type": "code",
   "execution_count": 66,
   "metadata": {},
   "outputs": [
    {
     "data": {
      "text/plain": [
       "datetime.datetime(1991, 1, 1, 0, 0)"
      ]
     },
     "execution_count": 66,
     "metadata": {},
     "output_type": "execute_result"
    }
   ],
   "source": [
    "interval.end = datetime(1969, 1, 1)\n",
    "interval.end"
   ]
  },
  {
   "cell_type": "markdown",
   "metadata": {},
   "source": [
    "Свойство - это как атрибут класса, который может принимать атрибуты экземпляров класса. В отличие от обычного атрибута класса, который не может содержать атрибуты экземпляров"
   ]
  },
  {
   "cell_type": "code",
   "execution_count": 67,
   "metadata": {},
   "outputs": [
    {
     "data": {
      "text/plain": [
       "{'_begin': datetime.datetime(1991, 1, 1, 0, 0),\n",
       " '_end': datetime.datetime(1991, 1, 1, 0, 0)}"
      ]
     },
     "execution_count": 67,
     "metadata": {},
     "output_type": "execute_result"
    }
   ],
   "source": [
    "interval.__dict__"
   ]
  },
  {
   "cell_type": "code",
   "execution_count": 68,
   "metadata": {},
   "outputs": [
    {
     "data": {
      "text/plain": [
       "mappingproxy({'__module__': '__main__',\n",
       "              'DEFAULT_BEGIN': datetime.datetime(1991, 1, 1, 0, 0),\n",
       "              '__init__': <function __main__.TimeInterval.__init__(self, begin=None, end=None)>,\n",
       "              'end': <property at 0x1a323e82a98>,\n",
       "              'get_length': <function __main__.TimeInterval.get_length(self)>,\n",
       "              'get_default_end': <classmethod at 0x1a323de06c8>,\n",
       "              '__dict__': <attribute '__dict__' of 'TimeInterval' objects>,\n",
       "              '__weakref__': <attribute '__weakref__' of 'TimeInterval' objects>,\n",
       "              '__doc__': None})"
      ]
     },
     "execution_count": 68,
     "metadata": {},
     "output_type": "execute_result"
    }
   ],
   "source": [
    "TimeInterval.__dict__"
   ]
  },
  {
   "cell_type": "markdown",
   "metadata": {},
   "source": [
    "Удалим и нельяз будет обратиться"
   ]
  },
  {
   "cell_type": "code",
   "execution_count": 70,
   "metadata": {},
   "outputs": [
    {
     "ename": "AttributeError",
     "evalue": "_end",
     "output_type": "error",
     "traceback": [
      "\u001b[1;31m---------------------------------------------------------------------------\u001b[0m",
      "\u001b[1;31mAttributeError\u001b[0m                            Traceback (most recent call last)",
      "\u001b[1;32m<ipython-input-70-db2b2b95b5ac>\u001b[0m in \u001b[0;36m<module>\u001b[1;34m\u001b[0m\n\u001b[1;32m----> 1\u001b[1;33m \u001b[1;32mdel\u001b[0m \u001b[0minterval\u001b[0m\u001b[1;33m.\u001b[0m\u001b[0mend\u001b[0m\u001b[1;33m\u001b[0m\u001b[1;33m\u001b[0m\u001b[0m\n\u001b[0m\u001b[0;32m      2\u001b[0m \u001b[0minterval\u001b[0m\u001b[1;33m.\u001b[0m\u001b[0mend\u001b[0m\u001b[1;33m\u001b[0m\u001b[1;33m\u001b[0m\u001b[0m\n",
      "\u001b[1;32m<ipython-input-64-a5bd3f975dd7>\u001b[0m in \u001b[0;36mend\u001b[1;34m(self)\u001b[0m\n\u001b[0;32m     23\u001b[0m     \u001b[1;33m@\u001b[0m\u001b[0mend\u001b[0m\u001b[1;33m.\u001b[0m\u001b[0mdeleter\u001b[0m\u001b[1;33m\u001b[0m\u001b[1;33m\u001b[0m\u001b[0m\n\u001b[0;32m     24\u001b[0m     \u001b[1;32mdef\u001b[0m \u001b[0mend\u001b[0m\u001b[1;33m(\u001b[0m\u001b[0mself\u001b[0m\u001b[1;33m)\u001b[0m\u001b[1;33m:\u001b[0m\u001b[1;33m\u001b[0m\u001b[1;33m\u001b[0m\u001b[0m\n\u001b[1;32m---> 25\u001b[1;33m         \u001b[1;32mdel\u001b[0m \u001b[0mself\u001b[0m\u001b[1;33m.\u001b[0m\u001b[0m_end\u001b[0m\u001b[1;33m\u001b[0m\u001b[1;33m\u001b[0m\u001b[0m\n\u001b[0m\u001b[0;32m     26\u001b[0m \u001b[1;33m\u001b[0m\u001b[0m\n\u001b[0;32m     27\u001b[0m     \u001b[1;32mdef\u001b[0m \u001b[0mget_length\u001b[0m\u001b[1;33m(\u001b[0m\u001b[0mself\u001b[0m\u001b[1;33m)\u001b[0m\u001b[1;33m:\u001b[0m\u001b[1;33m\u001b[0m\u001b[1;33m\u001b[0m\u001b[0m\n",
      "\u001b[1;31mAttributeError\u001b[0m: _end"
     ]
    }
   ],
   "source": [
    "del interval.end\n",
    "interval.end"
   ]
  },
  {
   "cell_type": "markdown",
   "metadata": {},
   "source": [
    "<p style='color:#ba0dbb; font-size:24px; font-weight:bold'>- @property</p>"
   ]
  },
  {
   "cell_type": "markdown",
   "metadata": {},
   "source": [
    "📌 Конвертация метода класса в атрибуты только для чтения"
   ]
  },
  {
   "cell_type": "markdown",
   "metadata": {},
   "source": [
    "<p style='font-size:20px'><span style=\"font-weight:bold\">Пример 1.</span> Вычисляемый readonly-атрибут (только на чтение)</p>"
   ]
  },
  {
   "cell_type": "code",
   "execution_count": null,
   "metadata": {},
   "outputs": [],
   "source": [
    "class Rectangle:\n",
    "    def __init__(self, a, b):\n",
    "        self._a = a\n",
    "        self._b = b\n",
    "        \n",
    "    @property\n",
    "    def square(self):\n",
    "        return self._a * self._b\n",
    "    \n",
    "r = Rectangle(10, 2)\n",
    "r.square"
   ]
  },
  {
   "cell_type": "markdown",
   "metadata": {},
   "source": [
    "Изменять свойство не можем"
   ]
  },
  {
   "cell_type": "code",
   "execution_count": null,
   "metadata": {},
   "outputs": [],
   "source": [
    "r.square = 12\n",
    "r.square"
   ]
  },
  {
   "cell_type": "markdown",
   "metadata": {},
   "source": [
    "Эквивалентная запись:"
   ]
  },
  {
   "cell_type": "code",
   "execution_count": 71,
   "metadata": {},
   "outputs": [
    {
     "data": {
      "text/plain": [
       "20"
      ]
     },
     "execution_count": 71,
     "metadata": {},
     "output_type": "execute_result"
    }
   ],
   "source": [
    "class Rectangle:\n",
    "    def __init__(self, a, b):\n",
    "        self._a = a\n",
    "        self._b = b\n",
    "        \n",
    "    square = property()\n",
    "    \n",
    "    @square.getter\n",
    "    def square(self):\n",
    "        return self._a * self._b\n",
    "    \n",
    "r = Rectangle(10, 2)\n",
    "r.square"
   ]
  },
  {
   "cell_type": "markdown",
   "metadata": {},
   "source": [
    "<p style='font-size:20px'><span style=\"font-weight:bold\">Пример 2.</span> Как сделать атрибут `value` у класса `A` readonly-атрибутом?</p>"
   ]
  },
  {
   "cell_type": "code",
   "execution_count": 72,
   "metadata": {},
   "outputs": [
    {
     "data": {
      "text/plain": [
       "10"
      ]
     },
     "execution_count": 72,
     "metadata": {},
     "output_type": "execute_result"
    }
   ],
   "source": [
    "class A:\n",
    "    def __init__(self, value):\n",
    "        self.value = value\n",
    "        \n",
    "a = A(12)\n",
    "a.value = 10\n",
    "a.value      "
   ]
  },
  {
   "cell_type": "markdown",
   "metadata": {},
   "source": [
    "Через декоратор `property`"
   ]
  },
  {
   "cell_type": "code",
   "execution_count": 75,
   "metadata": {},
   "outputs": [
    {
     "data": {
      "text/plain": [
       "12"
      ]
     },
     "execution_count": 75,
     "metadata": {},
     "output_type": "execute_result"
    }
   ],
   "source": [
    "class A:\n",
    "    def __init__(self, value):\n",
    "        self._value = value\n",
    "    \n",
    "    @property\n",
    "    def value(self):\n",
    "        return self._value\n",
    "        \n",
    "a = A(12)\n",
    "a.value  "
   ]
  },
  {
   "cell_type": "code",
   "execution_count": 76,
   "metadata": {},
   "outputs": [
    {
     "data": {
      "text/plain": [
       "12"
      ]
     },
     "execution_count": 76,
     "metadata": {},
     "output_type": "execute_result"
    }
   ],
   "source": [
    "a._value"
   ]
  },
  {
   "cell_type": "markdown",
   "metadata": {},
   "source": [
    "### 4.6. Фиксация атрибутов"
   ]
  },
  {
   "cell_type": "markdown",
   "metadata": {},
   "source": [
    "<p style='color:#ba0dbb; font-size:24px; font-weight:bold'>- __slots__</p>"
   ]
  },
  {
   "cell_type": "markdown",
   "metadata": {},
   "source": [
    "📌 Позволяет зафиксировать те атрибуты, которые будут созданы внутри класса. Другие атрибуты нельзя будет создать\n",
    "\n",
    "📌 Нужны чтобы экономить память (кортежи меньше занимают памяти чем словари)"
   ]
  },
  {
   "cell_type": "code",
   "execution_count": 77,
   "metadata": {},
   "outputs": [],
   "source": [
    "class TimeInterval:\n",
    "    __slots__ = ('_begin', '_end')\n",
    "    \n",
    "    def __init__(self, begin=None, end=None):  \n",
    "        self._begin = begin\n",
    "        self._end = end\n",
    "    \n",
    "    def get_length(self):\n",
    "        return self._end - self._begin\n",
    "    \n",
    "    @staticmethod\n",
    "    def get_default_end():\n",
    "        return datetime.now()"
   ]
  },
  {
   "cell_type": "code",
   "execution_count": 78,
   "metadata": {},
   "outputs": [],
   "source": [
    "interval = TimeInterval(datetime(1990, 1, 1), datetime.now())"
   ]
  },
  {
   "cell_type": "code",
   "execution_count": 80,
   "metadata": {},
   "outputs": [
    {
     "ename": "AttributeError",
     "evalue": "'TimeInterval' object has no attribute 'new_attr'",
     "output_type": "error",
     "traceback": [
      "\u001b[1;31m---------------------------------------------------------------------------\u001b[0m",
      "\u001b[1;31mAttributeError\u001b[0m                            Traceback (most recent call last)",
      "\u001b[1;32m<ipython-input-80-d9fe8f9514d0>\u001b[0m in \u001b[0;36m<module>\u001b[1;34m\u001b[0m\n\u001b[1;32m----> 1\u001b[1;33m \u001b[0minterval\u001b[0m\u001b[1;33m.\u001b[0m\u001b[0mnew_attr\u001b[0m \u001b[1;33m=\u001b[0m \u001b[1;36m5\u001b[0m\u001b[1;33m\u001b[0m\u001b[1;33m\u001b[0m\u001b[0m\n\u001b[0m\u001b[0;32m      2\u001b[0m \u001b[0minterval\u001b[0m\u001b[1;33m.\u001b[0m\u001b[0mnew_attr\u001b[0m\u001b[1;33m\u001b[0m\u001b[1;33m\u001b[0m\u001b[0m\n",
      "\u001b[1;31mAttributeError\u001b[0m: 'TimeInterval' object has no attribute 'new_attr'"
     ]
    }
   ],
   "source": [
    "interval.new_attr = 5\n",
    "interval.new_attr"
   ]
  },
  {
   "cell_type": "markdown",
   "metadata": {},
   "source": [
    "Можем обращаться"
   ]
  },
  {
   "cell_type": "code",
   "execution_count": 87,
   "metadata": {},
   "outputs": [
    {
     "data": {
      "text/plain": [
       "datetime.datetime(1990, 1, 1, 0, 0)"
      ]
     },
     "execution_count": 87,
     "metadata": {},
     "output_type": "execute_result"
    }
   ],
   "source": [
    "interval._begin"
   ]
  },
  {
   "cell_type": "markdown",
   "metadata": {},
   "source": [
    "Можем удалять"
   ]
  },
  {
   "cell_type": "code",
   "execution_count": 88,
   "metadata": {},
   "outputs": [
    {
     "ename": "AttributeError",
     "evalue": "_begin",
     "output_type": "error",
     "traceback": [
      "\u001b[1;31m---------------------------------------------------------------------------\u001b[0m",
      "\u001b[1;31mAttributeError\u001b[0m                            Traceback (most recent call last)",
      "\u001b[1;32m<ipython-input-88-9778b38c20bc>\u001b[0m in \u001b[0;36m<module>\u001b[1;34m\u001b[0m\n\u001b[0;32m      1\u001b[0m \u001b[1;32mdel\u001b[0m \u001b[0minterval\u001b[0m\u001b[1;33m.\u001b[0m\u001b[0m_begin\u001b[0m\u001b[1;33m\u001b[0m\u001b[1;33m\u001b[0m\u001b[0m\n\u001b[1;32m----> 2\u001b[1;33m \u001b[0minterval\u001b[0m\u001b[1;33m.\u001b[0m\u001b[0m_begin\u001b[0m\u001b[1;33m\u001b[0m\u001b[1;33m\u001b[0m\u001b[0m\n\u001b[0m",
      "\u001b[1;31mAttributeError\u001b[0m: _begin"
     ]
    }
   ],
   "source": [
    "del interval._begin\n",
    "interval._begin"
   ]
  },
  {
   "cell_type": "markdown",
   "metadata": {},
   "source": [
    "Можем присваивать значения"
   ]
  },
  {
   "cell_type": "code",
   "execution_count": 89,
   "metadata": {},
   "outputs": [
    {
     "data": {
      "text/plain": [
       "datetime.datetime(2020, 11, 4, 17, 2, 58, 791733)"
      ]
     },
     "execution_count": 89,
     "metadata": {},
     "output_type": "execute_result"
    }
   ],
   "source": [
    "interval._begin = datetime.now()\n",
    "interval._begin"
   ]
  },
  {
   "cell_type": "markdown",
   "metadata": {},
   "source": [
    "### Экономия памяти"
   ]
  },
  {
   "cell_type": "code",
   "execution_count": 81,
   "metadata": {},
   "outputs": [
    {
     "name": "stdout",
     "output_type": "stream",
     "text": [
      "Requirement already satisfied: memory_profiler in c:\\programs\\anaconda\\anaconda3\\lib\\site-packages (0.58.0)\n",
      "Requirement already satisfied: psutil in c:\\programs\\anaconda\\anaconda3\\lib\\site-packages (from memory_profiler) (5.6.7)\n"
     ]
    }
   ],
   "source": [
    "!pip install memory_profiler\n",
    "%load_ext memory_profiler"
   ]
  },
  {
   "cell_type": "code",
   "execution_count": 82,
   "metadata": {},
   "outputs": [],
   "source": [
    "class A:\n",
    "    def __init__(self, a):\n",
    "        self.a = a"
   ]
  },
  {
   "cell_type": "code",
   "execution_count": 83,
   "metadata": {},
   "outputs": [
    {
     "name": "stdout",
     "output_type": "stream",
     "text": [
      "peak memory: 263.04 MiB, increment: 217.21 MiB\n"
     ]
    }
   ],
   "source": [
    "%memit [A(i) for i in range(1_000_000)]"
   ]
  },
  {
   "cell_type": "code",
   "execution_count": 84,
   "metadata": {},
   "outputs": [],
   "source": [
    "class A:\n",
    "    __slots__ = ('a', )\n",
    "    def __init__(self, a):\n",
    "        self.a = a"
   ]
  },
  {
   "cell_type": "code",
   "execution_count": 85,
   "metadata": {},
   "outputs": [
    {
     "name": "stdout",
     "output_type": "stream",
     "text": [
      "peak memory: 132.61 MiB, increment: 86.53 MiB\n"
     ]
    }
   ],
   "source": [
    "%memit [A(i) for i in range(1_000_000)]"
   ]
  },
  {
   "cell_type": "markdown",
   "metadata": {},
   "source": [
    "Словарь пропал, появился slots"
   ]
  },
  {
   "cell_type": "code",
   "execution_count": 86,
   "metadata": {},
   "outputs": [
    {
     "ename": "AttributeError",
     "evalue": "'A' object has no attribute '__dict__'",
     "output_type": "error",
     "traceback": [
      "\u001b[1;31m---------------------------------------------------------------------------\u001b[0m",
      "\u001b[1;31mAttributeError\u001b[0m                            Traceback (most recent call last)",
      "\u001b[1;32m<ipython-input-86-33c917cb4e89>\u001b[0m in \u001b[0;36m<module>\u001b[1;34m\u001b[0m\n\u001b[0;32m      1\u001b[0m \u001b[0ma\u001b[0m \u001b[1;33m=\u001b[0m \u001b[0mA\u001b[0m\u001b[1;33m(\u001b[0m\u001b[1;36m0\u001b[0m\u001b[1;33m)\u001b[0m\u001b[1;33m\u001b[0m\u001b[1;33m\u001b[0m\u001b[0m\n\u001b[1;32m----> 2\u001b[1;33m \u001b[0ma\u001b[0m\u001b[1;33m.\u001b[0m\u001b[0m__dict__\u001b[0m\u001b[1;33m\u001b[0m\u001b[1;33m\u001b[0m\u001b[0m\n\u001b[0m",
      "\u001b[1;31mAttributeError\u001b[0m: 'A' object has no attribute '__dict__'"
     ]
    }
   ],
   "source": [
    "a = A(0)\n",
    "a.__dict__"
   ]
  },
  {
   "cell_type": "code",
   "execution_count": 91,
   "metadata": {},
   "outputs": [
    {
     "data": {
      "text/plain": [
       "('a',)"
      ]
     },
     "execution_count": 91,
     "metadata": {},
     "output_type": "execute_result"
    }
   ],
   "source": [
    "a = A(0)\n",
    "a.__slots__"
   ]
  },
  {
   "cell_type": "markdown",
   "metadata": {},
   "source": [
    "## 5. Магические методы"
   ]
  },
  {
   "cell_type": "markdown",
   "metadata": {},
   "source": [
    "📌 Магические методы - это методы, которые начинаются с двух подчеркиваний и заканчиваются двумя подчеркиваниями"
   ]
  },
  {
   "cell_type": "markdown",
   "metadata": {},
   "source": [
    "### 5.1. Основные математические операции"
   ]
  },
  {
   "cell_type": "markdown",
   "metadata": {},
   "source": [
    "<p style='font-size:20px'><span style=\"font-weight:bold\">Пример. </span>Элемент кольца вычетов по модулю 4</p>"
   ]
  },
  {
   "cell_type": "code",
   "execution_count": 1,
   "metadata": {},
   "outputs": [],
   "source": [
    "class RingInt:\n",
    "    modulo = 4\n",
    "    \n",
    "    def __init__(self, value):\n",
    "        self.value = value % self.modulo\n",
    "    \n",
    "    def __int__(self):\n",
    "        return self.value\n",
    "    \n",
    "    def __add__(self, obj):\n",
    "        return RingInt(self.value + obj.value)\n",
    "    \n",
    "    def __mul__(self, obj):\n",
    "        return RingInt(self.value * obj.value)\n",
    "\n",
    "    #аналогично __sub__, __truediv__"
   ]
  },
  {
   "cell_type": "code",
   "execution_count": 93,
   "metadata": {},
   "outputs": [
    {
     "data": {
      "text/plain": [
       "1"
      ]
     },
     "execution_count": 93,
     "metadata": {},
     "output_type": "execute_result"
    }
   ],
   "source": [
    "res = RingInt(2) + RingInt(3)\n",
    "res.value"
   ]
  },
  {
   "cell_type": "code",
   "execution_count": 7,
   "metadata": {},
   "outputs": [
    {
     "data": {
      "text/plain": [
       "2"
      ]
     },
     "execution_count": 7,
     "metadata": {},
     "output_type": "execute_result"
    }
   ],
   "source": [
    "res = RingInt(3) + RingInt(3)\n",
    "res.value"
   ]
  },
  {
   "cell_type": "code",
   "execution_count": 95,
   "metadata": {},
   "outputs": [
    {
     "data": {
      "text/plain": [
       "2"
      ]
     },
     "execution_count": 95,
     "metadata": {},
     "output_type": "execute_result"
    }
   ],
   "source": [
    "res = RingInt(2) * RingInt(3)\n",
    "res.value"
   ]
  },
  {
   "cell_type": "code",
   "execution_count": 96,
   "metadata": {},
   "outputs": [
    {
     "data": {
      "text/plain": [
       "1"
      ]
     },
     "execution_count": 96,
     "metadata": {},
     "output_type": "execute_result"
    }
   ],
   "source": [
    "res = RingInt(3) * RingInt(3)\n",
    "res.value"
   ]
  },
  {
   "cell_type": "code",
   "execution_count": 8,
   "metadata": {},
   "outputs": [
    {
     "data": {
      "text/plain": [
       "3"
      ]
     },
     "execution_count": 8,
     "metadata": {},
     "output_type": "execute_result"
    }
   ],
   "source": [
    "int(RingInt(3))"
   ]
  },
  {
   "cell_type": "markdown",
   "metadata": {},
   "source": [
    "### 5.2. Строковое представление объекта"
   ]
  },
  {
   "cell_type": "markdown",
   "metadata": {},
   "source": [
    "<p style='font-size:20px'><span style=\"font-weight:bold\">Пример. </span>repr и str</p>"
   ]
  },
  {
   "cell_type": "markdown",
   "metadata": {},
   "source": [
    "<p style='color:#ba0dbb; font-size:24px; font-weight:bold'>- __repr__</p>"
   ]
  },
  {
   "cell_type": "markdown",
   "metadata": {},
   "source": [
    "📌 **repr** возвращает объект в формате понятном для питона. Если выполнить строку как код, то получим новый объект"
   ]
  },
  {
   "cell_type": "markdown",
   "metadata": {},
   "source": [
    "<p style='color:#ba0dbb; font-size:24px; font-weight:bold'>- __str__</p>"
   ]
  },
  {
   "cell_type": "markdown",
   "metadata": {},
   "source": [
    "📌 **str** возвращает строковое представление объекта в человекочетабельном формате"
   ]
  },
  {
   "cell_type": "code",
   "execution_count": 98,
   "metadata": {},
   "outputs": [
    {
     "name": "stdout",
     "output_type": "stream",
     "text": [
      "[PLANET]\n",
      "\tname:    Earth\n",
      "\tmass:    5.9726\n",
      "\tradius:    6371\n",
      "\n",
      "[PLANET]\n",
      "\tname:    Earth\n",
      "\tmass:    5.9726\n",
      "\tradius:    6371\n"
     ]
    },
    {
     "data": {
      "text/plain": [
       "Planet(\"Earth\", 5.9726, 6371)"
      ]
     },
     "execution_count": 98,
     "metadata": {},
     "output_type": "execute_result"
    }
   ],
   "source": [
    "class Planet:\n",
    "    def __init__(self, name, mass, radius):\n",
    "        self.name = name\n",
    "        self.mass = mass\n",
    "        self.radius = radius\n",
    "        \n",
    "    def __str__(self):\n",
    "        return f\"[PLANET]\\n\\tname:    {self.name}\\n\\tmass:    {self.mass}\\n\\tradius:    {self.radius}\"\n",
    "    \n",
    "    def __repr__(self):\n",
    "        return f'Planet(\"{self.name}\", {self.mass}, {self.radius})'\n",
    "    \n",
    "  \n",
    "earth = Planet(\"Earth\", mass=5.9726, radius=6371)\n",
    "print(earth, end=\"\\n\\n\")\n",
    "print(str(earth))\n",
    "earth"
   ]
  },
  {
   "cell_type": "markdown",
   "metadata": {},
   "source": [
    "**print** автоматически вызывает **str**"
   ]
  },
  {
   "cell_type": "code",
   "execution_count": 99,
   "metadata": {},
   "outputs": [
    {
     "data": {
      "text/plain": [
       "'Planet(\"Earth\", 5.9726, 6371)'"
      ]
     },
     "execution_count": 99,
     "metadata": {},
     "output_type": "execute_result"
    }
   ],
   "source": [
    "# В repr формате строки\n",
    "repr(earth)"
   ]
  },
  {
   "cell_type": "code",
   "execution_count": 100,
   "metadata": {},
   "outputs": [
    {
     "data": {
      "text/plain": [
       "Planet(\"Earth\", 5.9726, 6371)"
      ]
     },
     "execution_count": 100,
     "metadata": {},
     "output_type": "execute_result"
    }
   ],
   "source": [
    "\n",
    "earth_ = eval(repr(earth))\n",
    "earth_"
   ]
  },
  {
   "cell_type": "markdown",
   "metadata": {},
   "source": [
    "### 5.3. Метод конструктор"
   ]
  },
  {
   "cell_type": "markdown",
   "metadata": {},
   "source": [
    "<p style='font-size:20px'><span style=\"font-weight:bold\">Пример. </span>singleton</p>"
   ]
  },
  {
   "cell_type": "markdown",
   "metadata": {},
   "source": [
    "📌 **Singleton** (одиночка) - патерн проектирования, который позволяет иметь вовсей программе только один экземпляр объекта данного класса"
   ]
  },
  {
   "cell_type": "markdown",
   "metadata": {},
   "source": [
    "<p style='font-size:20px'><span style='color:#ba0dbb; font-size:24px; font-weight:bold'>- __new__</span> (метод конструктор)</p>"
   ]
  },
  {
   "cell_type": "code",
   "execution_count": 101,
   "metadata": {},
   "outputs": [],
   "source": [
    "class Singleton:\n",
    "    instance = None\n",
    "    \n",
    "    # NOTE: __init__ принимает те же аргументы что и __new__\n",
    "    \n",
    "    def __new__(cls, *args, **kwargs):  \n",
    "        if cls.instance is None:\n",
    "            cls.instance = super().__new__(cls)\n",
    "        return cls.instance    "
   ]
  },
  {
   "cell_type": "code",
   "execution_count": 102,
   "metadata": {},
   "outputs": [
    {
     "name": "stdout",
     "output_type": "stream",
     "text": [
      "<__main__.Singleton object at 0x000001A3333274C8>\n",
      "<__main__.Singleton object at 0x000001A3333274C8>\n"
     ]
    },
    {
     "data": {
      "text/plain": [
       "True"
      ]
     },
     "execution_count": 102,
     "metadata": {},
     "output_type": "execute_result"
    }
   ],
   "source": [
    "a, b = Singleton(1), Singleton()\n",
    "\n",
    "print(a)\n",
    "print(b)\n",
    "\n",
    "a is b"
   ]
  },
  {
   "cell_type": "code",
   "execution_count": 103,
   "metadata": {},
   "outputs": [
    {
     "data": {
      "text/plain": [
       "<__main__.Singleton at 0x1a3333274c8>"
      ]
     },
     "execution_count": 103,
     "metadata": {},
     "output_type": "execute_result"
    }
   ],
   "source": [
    "Singleton.instance"
   ]
  },
  {
   "cell_type": "markdown",
   "metadata": {},
   "source": [
    "В Python есть свои Singelton, например None."
   ]
  },
  {
   "cell_type": "code",
   "execution_count": 104,
   "metadata": {},
   "outputs": [
    {
     "data": {
      "text/plain": [
       "(140717525130464, 140717525130464)"
      ]
     },
     "execution_count": 104,
     "metadata": {},
     "output_type": "execute_result"
    }
   ],
   "source": [
    "id(None), id(None)"
   ]
  },
  {
   "cell_type": "code",
   "execution_count": 105,
   "metadata": {},
   "outputs": [
    {
     "data": {
      "text/plain": [
       "(False, True)"
      ]
     },
     "execution_count": 105,
     "metadata": {},
     "output_type": "execute_result"
    }
   ],
   "source": [
    "a is None, a is Singleton()"
   ]
  },
  {
   "cell_type": "markdown",
   "metadata": {},
   "source": [
    "Как сделать несколько классов, которые являются `singelton`-ами?"
   ]
  },
  {
   "cell_type": "markdown",
   "metadata": {},
   "source": [
    "<div style='height:20px; border-top: 3px, solid, red; border-left: 3px, solid, red'></div>"
   ]
  },
  {
   "cell_type": "markdown",
   "metadata": {},
   "source": [
    "## * Декораторы классов 😲🕵🏼"
   ]
  },
  {
   "cell_type": "code",
   "execution_count": 106,
   "metadata": {},
   "outputs": [],
   "source": [
    "import functools\n",
    "\n",
    "def singleton(cls):\n",
    "    instance = None\n",
    "    \n",
    "    @functools.wraps(cls)\n",
    "    def wrapper(*args, **kwargs):\n",
    "        nonlocal instance\n",
    "        if instance is None:\n",
    "            instance = cls(*args, **kwargs)\n",
    "        return instance\n",
    "    return wrapper"
   ]
  },
  {
   "cell_type": "code",
   "execution_count": 107,
   "metadata": {},
   "outputs": [
    {
     "data": {
      "text/plain": [
       "False"
      ]
     },
     "execution_count": 107,
     "metadata": {},
     "output_type": "execute_result"
    }
   ],
   "source": [
    "class A:\n",
    "    pass\n",
    "\n",
    "A() is A()"
   ]
  },
  {
   "cell_type": "code",
   "execution_count": 108,
   "metadata": {},
   "outputs": [
    {
     "data": {
      "text/plain": [
       "True"
      ]
     },
     "execution_count": 108,
     "metadata": {},
     "output_type": "execute_result"
    }
   ],
   "source": [
    "@singleton\n",
    "class A:\n",
    "    pass\n",
    "\n",
    "A() is A()"
   ]
  },
  {
   "cell_type": "markdown",
   "metadata": {},
   "source": [
    "<div style='height:20px; border-bottom: 3px, solid, red; border-right: 3px, solid, red'></div>"
   ]
  },
  {
   "cell_type": "markdown",
   "metadata": {},
   "source": [
    "### 5.4. Метод вызова функции"
   ]
  },
  {
   "cell_type": "markdown",
   "metadata": {},
   "source": [
    "### Пример. Декотатор. (Создание своей функции класса)"
   ]
  },
  {
   "cell_type": "markdown",
   "metadata": {},
   "source": [
    "<p style='color:#ba0dbb; font-size:24px; font-weight:bold'>- __call__</p>"
   ]
  },
  {
   "cell_type": "markdown",
   "metadata": {},
   "source": [
    "Функция - это тоже класс, отличается от остальных наличием метода `__call__` (определяет оператор `()`)"
   ]
  },
  {
   "cell_type": "code",
   "execution_count": 110,
   "metadata": {},
   "outputs": [],
   "source": [
    "class Logger:\n",
    "    def __init__(self, filename):\n",
    "        self._filename = filename\n",
    "       \n",
    "    def __call__(self, func):\n",
    "        @functools.wraps(func)\n",
    "        def wrapper(*args, **argv):\n",
    "            result = func(*args, **argv)\n",
    "            with open(self._filename, 'a') as f_output:\n",
    "                f_output.write(\"func = \\\"{}\\\"; result = {}\\n\".format(func.__name__, result))\n",
    "            return result\n",
    "        return wrapper"
   ]
  },
  {
   "cell_type": "code",
   "execution_count": 111,
   "metadata": {},
   "outputs": [
    {
     "data": {
      "text/plain": [
       "17"
      ]
     },
     "execution_count": 111,
     "metadata": {},
     "output_type": "execute_result"
    }
   ],
   "source": [
    "logger = Logger(\"tmp/decorator.logs\")\n",
    "\n",
    "@logger\n",
    "def summator(a):\n",
    "    return sum(a)\n",
    "\n",
    "summator([1, 2, 3, 5, 6])"
   ]
  },
  {
   "cell_type": "code",
   "execution_count": 113,
   "metadata": {},
   "outputs": [
    {
     "data": {
      "text/plain": [
       "12"
      ]
     },
     "execution_count": 113,
     "metadata": {},
     "output_type": "execute_result"
    }
   ],
   "source": [
    "@Logger(\"tmp/decorator.logs\")\n",
    "def summator(a):\n",
    "    return sum(a)\n",
    "\n",
    "summator([1, 0, 0, 5, 6])"
   ]
  },
  {
   "cell_type": "markdown",
   "metadata": {},
   "source": [
    "### 5.5. Итераторы"
   ]
  },
  {
   "cell_type": "markdown",
   "metadata": {},
   "source": [
    "### Пример. Итератор"
   ]
  },
  {
   "cell_type": "markdown",
   "metadata": {},
   "source": [
    "<p style='color:#ba0dbb; font-size:24px; font-weight:bold'>- __iter__ ; __next__</p>"
   ]
  },
  {
   "cell_type": "code",
   "execution_count": 116,
   "metadata": {},
   "outputs": [],
   "source": [
    "class Range():\n",
    "    def __init__(self, start, end, step=1):\n",
    "        self._current = start\n",
    "        self._end = end\n",
    "        self._step = step\n",
    "        \n",
    "    def __iter__(self):\n",
    "        return self\n",
    "    \n",
    "    def __next__(self):\n",
    "        if self._current >= self._end:\n",
    "            raise StopIteration()\n",
    "        \n",
    "        ret = self._current\n",
    "        self._current += self._step\n",
    "        return ret\n",
    "        "
   ]
  },
  {
   "cell_type": "code",
   "execution_count": 117,
   "metadata": {},
   "outputs": [
    {
     "name": "stdout",
     "output_type": "stream",
     "text": [
      "1\n",
      "3\n",
      "5\n"
     ]
    }
   ],
   "source": [
    "for i in Range(1, 7, 2):\n",
    "    print(i)"
   ]
  },
  {
   "cell_type": "code",
   "execution_count": 119,
   "metadata": {},
   "outputs": [
    {
     "name": "stdout",
     "output_type": "stream",
     "text": [
      "1\n",
      "3\n",
      "5\n"
     ]
    },
    {
     "ename": "StopIteration",
     "evalue": "",
     "output_type": "error",
     "traceback": [
      "\u001b[1;31m---------------------------------------------------------------------------\u001b[0m",
      "\u001b[1;31mStopIteration\u001b[0m                             Traceback (most recent call last)",
      "\u001b[1;32m<ipython-input-119-caf91738afca>\u001b[0m in \u001b[0;36m<module>\u001b[1;34m\u001b[0m\n\u001b[0;32m      4\u001b[0m \u001b[0mprint\u001b[0m\u001b[1;33m(\u001b[0m\u001b[0mnext\u001b[0m\u001b[1;33m(\u001b[0m\u001b[0mr\u001b[0m\u001b[1;33m)\u001b[0m\u001b[1;33m)\u001b[0m\u001b[1;33m\u001b[0m\u001b[1;33m\u001b[0m\u001b[0m\n\u001b[0;32m      5\u001b[0m \u001b[0mprint\u001b[0m\u001b[1;33m(\u001b[0m\u001b[0mnext\u001b[0m\u001b[1;33m(\u001b[0m\u001b[0mr\u001b[0m\u001b[1;33m)\u001b[0m\u001b[1;33m)\u001b[0m\u001b[1;33m\u001b[0m\u001b[1;33m\u001b[0m\u001b[0m\n\u001b[1;32m----> 6\u001b[1;33m \u001b[0mprint\u001b[0m\u001b[1;33m(\u001b[0m\u001b[0mnext\u001b[0m\u001b[1;33m(\u001b[0m\u001b[0mr\u001b[0m\u001b[1;33m)\u001b[0m\u001b[1;33m)\u001b[0m\u001b[1;33m\u001b[0m\u001b[1;33m\u001b[0m\u001b[0m\n\u001b[0m",
      "\u001b[1;32m<ipython-input-116-f646fd482f1f>\u001b[0m in \u001b[0;36m__next__\u001b[1;34m(self)\u001b[0m\n\u001b[0;32m     10\u001b[0m     \u001b[1;32mdef\u001b[0m \u001b[0m__next__\u001b[0m\u001b[1;33m(\u001b[0m\u001b[0mself\u001b[0m\u001b[1;33m)\u001b[0m\u001b[1;33m:\u001b[0m\u001b[1;33m\u001b[0m\u001b[1;33m\u001b[0m\u001b[0m\n\u001b[0;32m     11\u001b[0m         \u001b[1;32mif\u001b[0m \u001b[0mself\u001b[0m\u001b[1;33m.\u001b[0m\u001b[0m_current\u001b[0m \u001b[1;33m>=\u001b[0m \u001b[0mself\u001b[0m\u001b[1;33m.\u001b[0m\u001b[0m_end\u001b[0m\u001b[1;33m:\u001b[0m\u001b[1;33m\u001b[0m\u001b[1;33m\u001b[0m\u001b[0m\n\u001b[1;32m---> 12\u001b[1;33m             \u001b[1;32mraise\u001b[0m \u001b[0mStopIteration\u001b[0m\u001b[1;33m(\u001b[0m\u001b[1;33m)\u001b[0m\u001b[1;33m\u001b[0m\u001b[1;33m\u001b[0m\u001b[0m\n\u001b[0m\u001b[0;32m     13\u001b[0m \u001b[1;33m\u001b[0m\u001b[0m\n\u001b[0;32m     14\u001b[0m         \u001b[0mret\u001b[0m \u001b[1;33m=\u001b[0m \u001b[0mself\u001b[0m\u001b[1;33m.\u001b[0m\u001b[0m_current\u001b[0m\u001b[1;33m\u001b[0m\u001b[1;33m\u001b[0m\u001b[0m\n",
      "\u001b[1;31mStopIteration\u001b[0m: "
     ]
    }
   ],
   "source": [
    "r = Range(1, 7, 2)\n",
    "\n",
    "print(next(r))\n",
    "print(next(r))\n",
    "print(next(r))\n",
    "print(next(r))"
   ]
  },
  {
   "cell_type": "markdown",
   "metadata": {},
   "source": [
    "### Ещё:\n",
    "+ `__contains__` - проверка наличия элемента (чтобы работал `in`)\n",
    "+ `__hash__` - расчет хеша для объекта"
   ]
  },
  {
   "cell_type": "markdown",
   "metadata": {},
   "source": [
    "## 6. Полиморфизм"
   ]
  },
  {
   "cell_type": "markdown",
   "metadata": {},
   "source": [
    "📌 Поведение одного и того же метода (атрибута) будет зависеть от класса"
   ]
  },
  {
   "cell_type": "code",
   "execution_count": 18,
   "metadata": {},
   "outputs": [],
   "source": [
    "from math import pi\n",
    "\n",
    "class Circle:\n",
    "    def __init__(self, radius):\n",
    "        self._radius = radius\n",
    "   \n",
    "    def area(self):\n",
    "        return pi * self._radius ** 2\n",
    "    \n",
    "    \n",
    "class Rectangle:\n",
    "    def __init__(self, width, height):\n",
    "        self._width = width\n",
    "        self._height = height\n",
    "    \n",
    "    def area(self):\n",
    "        return self._width * self._height\n",
    "    \n",
    "    \n",
    "class Square:\n",
    "    def __init__(self, side):\n",
    "        self.side = side\n",
    "        \n",
    "    def area(self):\n",
    "        return self.side ** 2    "
   ]
  },
  {
   "cell_type": "code",
   "execution_count": 24,
   "metadata": {},
   "outputs": [
    {
     "name": "stdout",
     "output_type": "stream",
     "text": [
      "12.566370614359172\n",
      "8\n",
      "4\n"
     ]
    }
   ],
   "source": [
    "circle = Circle(2)\n",
    "rectangle = Rectangle(2, 4)\n",
    "square = Square(2)\n",
    "\n",
    "figures = [circle, rectangle, square]\n",
    "for figure in figures:\n",
    "    print(figure.area())"
   ]
  },
  {
   "cell_type": "markdown",
   "metadata": {},
   "source": [
    "## 7. Наследование"
   ]
  },
  {
   "cell_type": "markdown",
   "metadata": {},
   "source": [
    "📌 Приобретение подклассом всех методов и атрибутов родительского класса\n",
    "\n",
    "📌 Делегирование - способ, при котором в дочернем классе можно вызвать метод родительского класса при помощи функции `super()`\n"
   ]
  },
  {
   "cell_type": "markdown",
   "metadata": {},
   "source": [
    "> `super()` - обращение к родительскому классу"
   ]
  },
  {
   "cell_type": "code",
   "execution_count": 123,
   "metadata": {},
   "outputs": [],
   "source": [
    "class Rectangle:  #parent\n",
    "    def __init__(self, width, height, secret='GFGFKHhghf'):\n",
    "        self._width = width\n",
    "        self._height = height\n",
    "        self.__secret = secret\n",
    "    \n",
    "    def area(self):\n",
    "        return self._width * self._height\n",
    "    \n",
    "    def trick_secret(self):\n",
    "        return self.__secret[5:] + self.__secret[:5]\n",
    "    \n",
    "    def __private_method(self):\n",
    "        pass\n",
    "    \n",
    "    \n",
    "class Square(Rectangle):  #subclass\n",
    "    def __init__(self, side):\n",
    "        super().__init__(side, side)\n",
    "    \n",
    "    def show_secret(self):\n",
    "        print(self.__secret)\n",
    "        \n",
    "rectangle = Rectangle(2, 3)\n",
    "square = Square(5)"
   ]
  },
  {
   "cell_type": "code",
   "execution_count": 121,
   "metadata": {},
   "outputs": [
    {
     "name": "stdout",
     "output_type": "stream",
     "text": [
      "Rectangle: 6\n",
      "Square: 25\n"
     ]
    }
   ],
   "source": [
    "print(\"Rectangle:\", rectangle.area())\n",
    "print(\"Square:\", square.area())"
   ]
  },
  {
   "cell_type": "code",
   "execution_count": 122,
   "metadata": {},
   "outputs": [
    {
     "data": {
      "text/plain": [
       "5"
      ]
     },
     "execution_count": 122,
     "metadata": {},
     "output_type": "execute_result"
    }
   ],
   "source": [
    "square._width"
   ]
  },
  {
   "cell_type": "markdown",
   "metadata": {},
   "source": [
    "Приватный атрибут переименовывается!"
   ]
  },
  {
   "cell_type": "code",
   "execution_count": 124,
   "metadata": {},
   "outputs": [
    {
     "ename": "AttributeError",
     "evalue": "'Square' object has no attribute '_Square__secret'",
     "output_type": "error",
     "traceback": [
      "\u001b[1;31m---------------------------------------------------------------------------\u001b[0m",
      "\u001b[1;31mAttributeError\u001b[0m                            Traceback (most recent call last)",
      "\u001b[1;32m<ipython-input-124-01ddf4b02ee7>\u001b[0m in \u001b[0;36m<module>\u001b[1;34m\u001b[0m\n\u001b[1;32m----> 1\u001b[1;33m \u001b[0msquare\u001b[0m\u001b[1;33m.\u001b[0m\u001b[0mshow_secret\u001b[0m\u001b[1;33m(\u001b[0m\u001b[1;33m)\u001b[0m\u001b[1;33m\u001b[0m\u001b[1;33m\u001b[0m\u001b[0m\n\u001b[0m",
      "\u001b[1;32m<ipython-input-123-b63c7645d593>\u001b[0m in \u001b[0;36mshow_secret\u001b[1;34m(self)\u001b[0m\n\u001b[0;32m     20\u001b[0m \u001b[1;33m\u001b[0m\u001b[0m\n\u001b[0;32m     21\u001b[0m     \u001b[1;32mdef\u001b[0m \u001b[0mshow_secret\u001b[0m\u001b[1;33m(\u001b[0m\u001b[0mself\u001b[0m\u001b[1;33m)\u001b[0m\u001b[1;33m:\u001b[0m\u001b[1;33m\u001b[0m\u001b[1;33m\u001b[0m\u001b[0m\n\u001b[1;32m---> 22\u001b[1;33m         \u001b[0mprint\u001b[0m\u001b[1;33m(\u001b[0m\u001b[0mself\u001b[0m\u001b[1;33m.\u001b[0m\u001b[0m__secret\u001b[0m\u001b[1;33m)\u001b[0m\u001b[1;33m\u001b[0m\u001b[1;33m\u001b[0m\u001b[0m\n\u001b[0m\u001b[0;32m     23\u001b[0m \u001b[1;33m\u001b[0m\u001b[0m\n\u001b[0;32m     24\u001b[0m \u001b[0mrectangle\u001b[0m \u001b[1;33m=\u001b[0m \u001b[0mRectangle\u001b[0m\u001b[1;33m(\u001b[0m\u001b[1;36m2\u001b[0m\u001b[1;33m,\u001b[0m \u001b[1;36m3\u001b[0m\u001b[1;33m)\u001b[0m\u001b[1;33m\u001b[0m\u001b[1;33m\u001b[0m\u001b[0m\n",
      "\u001b[1;31mAttributeError\u001b[0m: 'Square' object has no attribute '_Square__secret'"
     ]
    }
   ],
   "source": [
    "square.show_secret()"
   ]
  },
  {
   "cell_type": "code",
   "execution_count": 125,
   "metadata": {},
   "outputs": [
    {
     "data": {
      "text/plain": [
       "{'_width': 5, '_height': 5, '_Rectangle__secret': 'GFGFKHhghf'}"
      ]
     },
     "execution_count": 125,
     "metadata": {},
     "output_type": "execute_result"
    }
   ],
   "source": [
    "square.__dict__"
   ]
  },
  {
   "cell_type": "code",
   "execution_count": 126,
   "metadata": {},
   "outputs": [
    {
     "data": {
      "text/plain": [
       "'HhghfGFGFK'"
      ]
     },
     "execution_count": 126,
     "metadata": {},
     "output_type": "execute_result"
    }
   ],
   "source": [
    "square.trick_secret()"
   ]
  },
  {
   "cell_type": "markdown",
   "metadata": {},
   "source": [
    "### 7.1. Перегрузка функций"
   ]
  },
  {
   "cell_type": "markdown",
   "metadata": {},
   "source": [
    "📌 Нельзя создаать функции, которые в одном случае принимают одно количество аргументов, а в другом иное количество"
   ]
  },
  {
   "cell_type": "code",
   "execution_count": 127,
   "metadata": {},
   "outputs": [],
   "source": [
    "class Porter:\n",
    "    def greetings(self):\n",
    "        print(\"Hello world!\")\n",
    "        \n",
    "    def greetings(self, a):\n",
    "        print(f\"Bonjour, {a}!\")"
   ]
  },
  {
   "cell_type": "code",
   "execution_count": 128,
   "metadata": {},
   "outputs": [
    {
     "name": "stdout",
     "output_type": "stream",
     "text": [
      "Bonjour, Alexander!\n"
     ]
    },
    {
     "ename": "TypeError",
     "evalue": "greetings() missing 1 required positional argument: 'a'",
     "output_type": "error",
     "traceback": [
      "\u001b[1;31m---------------------------------------------------------------------------\u001b[0m",
      "\u001b[1;31mTypeError\u001b[0m                                 Traceback (most recent call last)",
      "\u001b[1;32m<ipython-input-128-40cf61e9ae17>\u001b[0m in \u001b[0;36m<module>\u001b[1;34m\u001b[0m\n\u001b[0;32m      1\u001b[0m \u001b[0mp\u001b[0m \u001b[1;33m=\u001b[0m \u001b[0mPorter\u001b[0m\u001b[1;33m(\u001b[0m\u001b[1;33m)\u001b[0m\u001b[1;33m\u001b[0m\u001b[1;33m\u001b[0m\u001b[0m\n\u001b[0;32m      2\u001b[0m \u001b[0mp\u001b[0m\u001b[1;33m.\u001b[0m\u001b[0mgreetings\u001b[0m\u001b[1;33m(\u001b[0m\u001b[1;34m\"Alexander\"\u001b[0m\u001b[1;33m)\u001b[0m\u001b[1;33m\u001b[0m\u001b[1;33m\u001b[0m\u001b[0m\n\u001b[1;32m----> 3\u001b[1;33m \u001b[0mp\u001b[0m\u001b[1;33m.\u001b[0m\u001b[0mgreetings\u001b[0m\u001b[1;33m(\u001b[0m\u001b[1;33m)\u001b[0m\u001b[1;33m\u001b[0m\u001b[1;33m\u001b[0m\u001b[0m\n\u001b[0m",
      "\u001b[1;31mTypeError\u001b[0m: greetings() missing 1 required positional argument: 'a'"
     ]
    }
   ],
   "source": [
    "p = Porter()\n",
    "p.greetings(\"Alexander\")\n",
    "p.greetings()"
   ]
  },
  {
   "cell_type": "code",
   "execution_count": 129,
   "metadata": {},
   "outputs": [
    {
     "data": {
      "text/plain": [
       "mappingproxy({'__module__': '__main__',\n",
       "              'greetings': <function __main__.Porter.greetings(self, a)>,\n",
       "              '__dict__': <attribute '__dict__' of 'Porter' objects>,\n",
       "              '__weakref__': <attribute '__weakref__' of 'Porter' objects>,\n",
       "              '__doc__': None})"
      ]
     },
     "execution_count": 129,
     "metadata": {},
     "output_type": "execute_result"
    }
   ],
   "source": [
    "Porter.__dict__"
   ]
  },
  {
   "cell_type": "markdown",
   "metadata": {},
   "source": [
    "<p style='color:red; font-size:20px; font-weight:bold'>Нельзя перегружать функции объявленные в классе родителе</p>"
   ]
  },
  {
   "cell_type": "code",
   "execution_count": 130,
   "metadata": {},
   "outputs": [],
   "source": [
    "class Square(Rectangle):\n",
    "    def __init__(self, side):\n",
    "        super().__init__(side, side)\n",
    "    \n",
    "    def trick_secret(self, message):\n",
    "        return \"I don`t know secret message. Let`s try this one: \" + message\n",
    "\n",
    "square = Square(5)    "
   ]
  },
  {
   "cell_type": "code",
   "execution_count": 131,
   "metadata": {},
   "outputs": [
    {
     "ename": "TypeError",
     "evalue": "trick_secret() missing 1 required positional argument: 'message'",
     "output_type": "error",
     "traceback": [
      "\u001b[1;31m---------------------------------------------------------------------------\u001b[0m",
      "\u001b[1;31mTypeError\u001b[0m                                 Traceback (most recent call last)",
      "\u001b[1;32m<ipython-input-131-595253b164c4>\u001b[0m in \u001b[0;36m<module>\u001b[1;34m\u001b[0m\n\u001b[1;32m----> 1\u001b[1;33m \u001b[0msquare\u001b[0m\u001b[1;33m.\u001b[0m\u001b[0mtrick_secret\u001b[0m\u001b[1;33m(\u001b[0m\u001b[1;33m)\u001b[0m\u001b[1;33m\u001b[0m\u001b[1;33m\u001b[0m\u001b[0m\n\u001b[0m",
      "\u001b[1;31mTypeError\u001b[0m: trick_secret() missing 1 required positional argument: 'message'"
     ]
    }
   ],
   "source": [
    "square.trick_secret()"
   ]
  },
  {
   "cell_type": "markdown",
   "metadata": {},
   "source": [
    "Создался новый атрибут `trick_secret_`"
   ]
  },
  {
   "cell_type": "code",
   "execution_count": 132,
   "metadata": {},
   "outputs": [
    {
     "data": {
      "text/plain": [
       "mappingproxy({'__module__': '__main__',\n",
       "              '__init__': <function __main__.Square.__init__(self, side)>,\n",
       "              'trick_secret': <function __main__.Square.trick_secret(self, message)>,\n",
       "              '__doc__': None})"
      ]
     },
     "execution_count": 132,
     "metadata": {},
     "output_type": "execute_result"
    }
   ],
   "source": [
    "Square.__dict__"
   ]
  },
  {
   "cell_type": "code",
   "execution_count": 133,
   "metadata": {},
   "outputs": [
    {
     "data": {
      "text/plain": [
       "mappingproxy({'__module__': '__main__',\n",
       "              '__init__': <function __main__.Rectangle.__init__(self, width, height, secret='GFGFKHhghf')>,\n",
       "              'area': <function __main__.Rectangle.area(self)>,\n",
       "              'trick_secret': <function __main__.Rectangle.trick_secret(self)>,\n",
       "              '_Rectangle__private_method': <function __main__.Rectangle.__private_method(self)>,\n",
       "              '__dict__': <attribute '__dict__' of 'Rectangle' objects>,\n",
       "              '__weakref__': <attribute '__weakref__' of 'Rectangle' objects>,\n",
       "              '__doc__': None})"
      ]
     },
     "execution_count": 133,
     "metadata": {},
     "output_type": "execute_result"
    }
   ],
   "source": [
    "Rectangle.__dict__"
   ]
  },
  {
   "cell_type": "code",
   "execution_count": 134,
   "metadata": {},
   "outputs": [
    {
     "data": {
      "text/plain": [
       "'I don`t know secret message. Let`s try this one: Go'"
      ]
     },
     "execution_count": 134,
     "metadata": {},
     "output_type": "execute_result"
    }
   ],
   "source": [
    "square.trick_secret(\"Go\")"
   ]
  },
  {
   "cell_type": "markdown",
   "metadata": {},
   "source": [
    "### 7.2 Абстрактные классы"
   ]
  },
  {
   "cell_type": "markdown",
   "metadata": {},
   "source": [
    "📌 Используется метапрограммирование\n",
    "\n",
    "📌 Абстрактные классы - это классы, которые нельзя инстанцировать (создать экземпляр класса)\n",
    "\n",
    "📌 Абстракный метод - это метод, который нельзя вызвать. Для них в классах наследниках нужно указать реализацию"
   ]
  },
  {
   "cell_type": "code",
   "execution_count": 135,
   "metadata": {},
   "outputs": [],
   "source": [
    "from math import pi\n",
    "from abc import ABCMeta, abstractmethod\n",
    "\n",
    "class Figure(metaclass=ABCMeta):\n",
    "    @abstractmethod\n",
    "    def area(self):\n",
    "        pass\n",
    "    \n",
    "    \n",
    "class Circle(Figure):\n",
    "    def __init__(self, radius):\n",
    "        self._radius = radius\n",
    "   \n",
    "    def area(self):\n",
    "        return pi * self._radius ** 2\n",
    "    \n",
    "    \n",
    "class Rectangle(Figure):\n",
    "    def __init__(self, width, height):\n",
    "        self._width = width\n",
    "        self._height = height\n",
    "    \n",
    "    def area(self):\n",
    "        return self._width * self._height\n",
    "    \n",
    "    \n",
    "class Square(Rectangle):\n",
    "    def __init__(self, side):\n",
    "        super().__init__(side, side) "
   ]
  },
  {
   "cell_type": "code",
   "execution_count": 137,
   "metadata": {},
   "outputs": [
    {
     "name": "stdout",
     "output_type": "stream",
     "text": [
      "Rectangle: 6\n",
      "Square: 25\n",
      "Circle: 7.0685834705770345\n"
     ]
    },
    {
     "ename": "TypeError",
     "evalue": "Can't instantiate abstract class Figure with abstract methods area",
     "output_type": "error",
     "traceback": [
      "\u001b[1;31m---------------------------------------------------------------------------\u001b[0m",
      "\u001b[1;31mTypeError\u001b[0m                                 Traceback (most recent call last)",
      "\u001b[1;32m<ipython-input-137-5f80bfa034fb>\u001b[0m in \u001b[0;36m<module>\u001b[1;34m\u001b[0m\n\u001b[0;32m      2\u001b[0m \u001b[0mprint\u001b[0m\u001b[1;33m(\u001b[0m\u001b[1;34m\"Square:\"\u001b[0m\u001b[1;33m,\u001b[0m \u001b[0mSquare\u001b[0m\u001b[1;33m(\u001b[0m\u001b[1;36m5\u001b[0m\u001b[1;33m)\u001b[0m\u001b[1;33m.\u001b[0m\u001b[0marea\u001b[0m\u001b[1;33m(\u001b[0m\u001b[1;33m)\u001b[0m\u001b[1;33m)\u001b[0m\u001b[1;33m\u001b[0m\u001b[1;33m\u001b[0m\u001b[0m\n\u001b[0;32m      3\u001b[0m \u001b[0mprint\u001b[0m\u001b[1;33m(\u001b[0m\u001b[1;34m\"Circle:\"\u001b[0m\u001b[1;33m,\u001b[0m \u001b[0mCircle\u001b[0m\u001b[1;33m(\u001b[0m\u001b[1;36m1.5\u001b[0m\u001b[1;33m)\u001b[0m\u001b[1;33m.\u001b[0m\u001b[0marea\u001b[0m\u001b[1;33m(\u001b[0m\u001b[1;33m)\u001b[0m\u001b[1;33m)\u001b[0m\u001b[1;33m\u001b[0m\u001b[1;33m\u001b[0m\u001b[0m\n\u001b[1;32m----> 4\u001b[1;33m \u001b[0mprint\u001b[0m\u001b[1;33m(\u001b[0m\u001b[1;34m\"Figure:\"\u001b[0m\u001b[1;33m,\u001b[0m \u001b[0mFigure\u001b[0m\u001b[1;33m(\u001b[0m\u001b[1;33m)\u001b[0m\u001b[1;33m.\u001b[0m\u001b[0marea\u001b[0m\u001b[1;33m(\u001b[0m\u001b[1;33m)\u001b[0m\u001b[1;33m)\u001b[0m\u001b[1;33m\u001b[0m\u001b[1;33m\u001b[0m\u001b[0m\n\u001b[0m",
      "\u001b[1;31mTypeError\u001b[0m: Can't instantiate abstract class Figure with abstract methods area"
     ]
    }
   ],
   "source": [
    "print(\"Rectangle:\", Rectangle(2, 3).area())\n",
    "print(\"Square:\", Square(5).area())\n",
    "print(\"Circle:\", Circle(1.5).area())\n",
    "print(\"Figure:\", Figure().area())"
   ]
  },
  {
   "cell_type": "markdown",
   "metadata": {},
   "source": [
    "Нужен ли в Python механизм виртуальных функций? НЕТ"
   ]
  },
  {
   "cell_type": "markdown",
   "metadata": {},
   "source": [
    "### 7.3. Множественное наследование"
   ]
  },
  {
   "cell_type": "code",
   "execution_count": 161,
   "metadata": {},
   "outputs": [],
   "source": [
    "instances = []\n",
    "  \n",
    "def decor(cls):\n",
    "    def wrap(*args, **kwargs):\n",
    "        obj = cls(*args, **kwargs)\n",
    "        instances.append(obj)\n",
    "        return obj\n",
    "    return wrap"
   ]
  },
  {
   "cell_type": "code",
   "execution_count": 162,
   "metadata": {},
   "outputs": [],
   "source": [
    "class A:\n",
    "    def __init__(self, a):\n",
    "        print(\"A`s __init__ is called\")\n",
    "        self.a = a\n",
    "        \n",
    "    def method(self):\n",
    "        print(\"A`s method is called\")\n",
    "        \n",
    "class B:\n",
    "    def __init__(self, b):\n",
    "        print(\"B`s __init__ is called\")\n",
    "        self.b = b\n",
    "        \n",
    "    def method(self):\n",
    "        print(\"B`s method is called\")        "
   ]
  },
  {
   "cell_type": "code",
   "execution_count": 163,
   "metadata": {},
   "outputs": [],
   "source": [
    "class C(A, B):\n",
    "    def __init__(self, a, b):\n",
    "        print(\"C`s __init__ is called\")\n",
    "        A.__init__(self, a)\n",
    "        B.__init__(self, b)\n",
    "        \n",
    "    def method(self):\n",
    "        print(\"C`s method is called\")"
   ]
  },
  {
   "cell_type": "markdown",
   "metadata": {},
   "source": [
    "От каких классов произошло наследование:"
   ]
  },
  {
   "cell_type": "markdown",
   "metadata": {},
   "source": [
    "<p style='color:#ba0dbb; font-size:20px; font-weight:bold'>- __bases__</p>"
   ]
  },
  {
   "cell_type": "code",
   "execution_count": 164,
   "metadata": {},
   "outputs": [
    {
     "data": {
      "text/plain": [
       "(__main__.A, __main__.B)"
      ]
     },
     "execution_count": 164,
     "metadata": {},
     "output_type": "execute_result"
    }
   ],
   "source": [
    "C.__bases__"
   ]
  },
  {
   "cell_type": "code",
   "execution_count": 165,
   "metadata": {},
   "outputs": [
    {
     "name": "stdout",
     "output_type": "stream",
     "text": [
      "C`s __init__ is called\n",
      "A`s __init__ is called\n",
      "B`s __init__ is called\n",
      "c.a = 12\n",
      "c.b = 5\n",
      "C`s method is called\n"
     ]
    }
   ],
   "source": [
    "c = C(12, 5)\n",
    "print(\"c.a =\", c.a)\n",
    "print(\"c.b =\", c.b)\n",
    "c.method()"
   ]
  },
  {
   "cell_type": "code",
   "execution_count": 166,
   "metadata": {},
   "outputs": [
    {
     "data": {
      "text/plain": [
       "{'a': 12, 'b': 5}"
      ]
     },
     "execution_count": 166,
     "metadata": {},
     "output_type": "execute_result"
    }
   ],
   "source": [
    "c.__dict__"
   ]
  },
  {
   "cell_type": "markdown",
   "metadata": {},
   "source": [
    "### Теперь сложности"
   ]
  },
  {
   "cell_type": "markdown",
   "metadata": {},
   "source": [
    "Допустим в классе С нет метода, а в А и В есть"
   ]
  },
  {
   "cell_type": "code",
   "execution_count": 167,
   "metadata": {},
   "outputs": [],
   "source": [
    "class C(A, B):\n",
    "    def __init__(self, a, b):\n",
    "        print(\"C`s __init__ is called\")\n",
    "        A.__init__(self, a)\n",
    "        B.__init__(self, b)"
   ]
  },
  {
   "cell_type": "code",
   "execution_count": 168,
   "metadata": {},
   "outputs": [
    {
     "name": "stdout",
     "output_type": "stream",
     "text": [
      "C`s __init__ is called\n",
      "A`s __init__ is called\n",
      "B`s __init__ is called\n",
      "A`s method is called\n"
     ]
    }
   ],
   "source": [
    "c = C(12, 5)\n",
    "c.method()"
   ]
  },
  {
   "cell_type": "markdown",
   "metadata": {},
   "source": [
    "Необъявление метода эквиваленто следующей записи"
   ]
  },
  {
   "cell_type": "code",
   "execution_count": 169,
   "metadata": {},
   "outputs": [],
   "source": [
    "class C(A, B):\n",
    "    def __init__(self, a, b):\n",
    "        print(\"C`s __init__ is called\")\n",
    "        A.__init__(self, a)\n",
    "        B.__init__(self, b)\n",
    "        \n",
    "    def method(self):\n",
    "        return super().method()"
   ]
  },
  {
   "cell_type": "code",
   "execution_count": 170,
   "metadata": {},
   "outputs": [
    {
     "name": "stdout",
     "output_type": "stream",
     "text": [
      "C`s __init__ is called\n",
      "A`s __init__ is called\n",
      "B`s __init__ is called\n",
      "A`s method is called\n"
     ]
    }
   ],
   "source": [
    "c = C(12, 5)\n",
    "c.method()"
   ]
  },
  {
   "cell_type": "markdown",
   "metadata": {},
   "source": [
    "<p style='color:#ba0dbb; font-size:20px; font-weight:bold'>Порядок поиска методов при их вызове можно посмотреть в специальном атрибуте:</p>\n",
    "<p style='color:#ba0dbb; font-size:20px; font-weight:bold'>- __mro__</p>"
   ]
  },
  {
   "cell_type": "code",
   "execution_count": 171,
   "metadata": {},
   "outputs": [
    {
     "data": {
      "text/plain": [
       "(__main__.C, __main__.A, __main__.B, object)"
      ]
     },
     "execution_count": 171,
     "metadata": {},
     "output_type": "execute_result"
    }
   ],
   "source": [
    "C.__mro__"
   ]
  },
  {
   "cell_type": "markdown",
   "metadata": {},
   "source": [
    "Порядок зависит от порядка аргументов класса `C(A, B)`"
   ]
  },
  {
   "cell_type": "markdown",
   "metadata": {},
   "source": [
    "### Проверка типа объекта"
   ]
  },
  {
   "cell_type": "markdown",
   "metadata": {},
   "source": [
    "Функция `type` четко сравнивает принадлежность к классу, а `isinstance` проверяет иерархию (наследников)"
   ]
  },
  {
   "cell_type": "code",
   "execution_count": 172,
   "metadata": {},
   "outputs": [
    {
     "name": "stdout",
     "output_type": "stream",
     "text": [
      "                       type   isinstane\n",
      "<class '__main__.C'>      1            1\n",
      "<class '__main__.A'>      0            1\n",
      "<class '__main__.B'>      0            1\n",
      "<class 'object'>          0            1\n"
     ]
    }
   ],
   "source": [
    "print(\"{:20}   type   isinstane\".format(''))\n",
    "for cls in C.__mro__:\n",
    "    print(\"{:20}   {:4}   {:10}\".format(str(cls), type(c) is cls, isinstance(c, cls)))"
   ]
  },
  {
   "cell_type": "markdown",
   "metadata": {},
   "source": [
    "### 7.4. Как работает super()"
   ]
  },
  {
   "cell_type": "markdown",
   "metadata": {},
   "source": [
    "📌 Возвращает следующий класс стоящий в цепочке `__mro__`"
   ]
  },
  {
   "cell_type": "code",
   "execution_count": 173,
   "metadata": {},
   "outputs": [
    {
     "name": "stdout",
     "output_type": "stream",
     "text": [
      "Some\n"
     ]
    }
   ],
   "source": [
    "class A:\n",
    "    def get_some(self):\n",
    "        super().get_some()\n",
    "\n",
    "class B:\n",
    "    def get_some(self):\n",
    "        print(\"Some\")\n",
    "        \n",
    "class C(A,B):\n",
    "    def get_some(self):\n",
    "        super().get_some()\n",
    "        \n",
    "c = C()\n",
    "c.get_some()"
   ]
  },
  {
   "cell_type": "code",
   "execution_count": 174,
   "metadata": {},
   "outputs": [
    {
     "data": {
      "text/plain": [
       "(__main__.C, __main__.A, __main__.B, object)"
      ]
     },
     "execution_count": 174,
     "metadata": {},
     "output_type": "execute_result"
    }
   ],
   "source": [
    "C.__mro__"
   ]
  },
  {
   "cell_type": "markdown",
   "metadata": {},
   "source": [
    "Эквивалентная запись, НО теперь можно менять последовательность вызова `super()`"
   ]
  },
  {
   "cell_type": "code",
   "execution_count": 180,
   "metadata": {},
   "outputs": [
    {
     "name": "stdout",
     "output_type": "stream",
     "text": [
      "Some\n"
     ]
    }
   ],
   "source": [
    "class A:\n",
    "    def get_some(self):\n",
    "        super(A, self).get_some()  # взять следущий класс из цепочки __mro__ для класса объекта self, который стоит после A\n",
    "\n",
    "class B:\n",
    "    def get_some(self):\n",
    "        print(\"Some\")\n",
    "        \n",
    "class C(A,B):\n",
    "    def get_some(self):\n",
    "        super(C, self).get_some()\n",
    "        \n",
    "c = C()\n",
    "c.get_some()"
   ]
  },
  {
   "cell_type": "code",
   "execution_count": 181,
   "metadata": {},
   "outputs": [
    {
     "name": "stdout",
     "output_type": "stream",
     "text": [
      "#C <super: <class 'C'>, <C object>>\n",
      "#A <super: <class 'A'>, <C object>>\n",
      "#B <super: <class 'B'>, <C object>>\n",
      "Some\n"
     ]
    }
   ],
   "source": [
    "class A:\n",
    "    def get_some(self):\n",
    "        print(\"#A\", super())\n",
    "        super().get_some()\n",
    "\n",
    "class B:\n",
    "    def get_some(self):\n",
    "        print(\"#B\", super())\n",
    "        print(\"Some\")\n",
    "        \n",
    "class C(A,B):\n",
    "    def get_some(self):\n",
    "        print(\"#C\", super())\n",
    "        super().get_some()\n",
    "        \n",
    "c = C()\n",
    "c.get_some()"
   ]
  },
  {
   "cell_type": "code",
   "execution_count": 182,
   "metadata": {},
   "outputs": [
    {
     "data": {
      "text/plain": [
       "(__main__.C, __main__.A, __main__.B, object)"
      ]
     },
     "execution_count": 182,
     "metadata": {},
     "output_type": "execute_result"
    }
   ],
   "source": [
    "C.__mro__"
   ]
  },
  {
   "cell_type": "code",
   "execution_count": 183,
   "metadata": {},
   "outputs": [
    {
     "name": "stdout",
     "output_type": "stream",
     "text": [
      "#A <super: <class 'A'>, <A object>>\n"
     ]
    },
    {
     "ename": "AttributeError",
     "evalue": "'super' object has no attribute 'get_some'",
     "output_type": "error",
     "traceback": [
      "\u001b[1;31m---------------------------------------------------------------------------\u001b[0m",
      "\u001b[1;31mAttributeError\u001b[0m                            Traceback (most recent call last)",
      "\u001b[1;32m<ipython-input-183-16a0706968e9>\u001b[0m in \u001b[0;36m<module>\u001b[1;34m\u001b[0m\n\u001b[0;32m      1\u001b[0m \u001b[0ma\u001b[0m \u001b[1;33m=\u001b[0m \u001b[0mA\u001b[0m\u001b[1;33m(\u001b[0m\u001b[1;33m)\u001b[0m\u001b[1;33m\u001b[0m\u001b[1;33m\u001b[0m\u001b[0m\n\u001b[1;32m----> 2\u001b[1;33m \u001b[0ma\u001b[0m\u001b[1;33m.\u001b[0m\u001b[0mget_some\u001b[0m\u001b[1;33m(\u001b[0m\u001b[1;33m)\u001b[0m\u001b[1;33m\u001b[0m\u001b[1;33m\u001b[0m\u001b[0m\n\u001b[0m",
      "\u001b[1;32m<ipython-input-181-61d6a8c925ca>\u001b[0m in \u001b[0;36mget_some\u001b[1;34m(self)\u001b[0m\n\u001b[0;32m      2\u001b[0m     \u001b[1;32mdef\u001b[0m \u001b[0mget_some\u001b[0m\u001b[1;33m(\u001b[0m\u001b[0mself\u001b[0m\u001b[1;33m)\u001b[0m\u001b[1;33m:\u001b[0m\u001b[1;33m\u001b[0m\u001b[1;33m\u001b[0m\u001b[0m\n\u001b[0;32m      3\u001b[0m         \u001b[0mprint\u001b[0m\u001b[1;33m(\u001b[0m\u001b[1;34m\"#A\"\u001b[0m\u001b[1;33m,\u001b[0m \u001b[0msuper\u001b[0m\u001b[1;33m(\u001b[0m\u001b[1;33m)\u001b[0m\u001b[1;33m)\u001b[0m\u001b[1;33m\u001b[0m\u001b[1;33m\u001b[0m\u001b[0m\n\u001b[1;32m----> 4\u001b[1;33m         \u001b[0msuper\u001b[0m\u001b[1;33m(\u001b[0m\u001b[1;33m)\u001b[0m\u001b[1;33m.\u001b[0m\u001b[0mget_some\u001b[0m\u001b[1;33m(\u001b[0m\u001b[1;33m)\u001b[0m\u001b[1;33m\u001b[0m\u001b[1;33m\u001b[0m\u001b[0m\n\u001b[0m\u001b[0;32m      5\u001b[0m \u001b[1;33m\u001b[0m\u001b[0m\n\u001b[0;32m      6\u001b[0m \u001b[1;32mclass\u001b[0m \u001b[0mB\u001b[0m\u001b[1;33m:\u001b[0m\u001b[1;33m\u001b[0m\u001b[1;33m\u001b[0m\u001b[0m\n",
      "\u001b[1;31mAttributeError\u001b[0m: 'super' object has no attribute 'get_some'"
     ]
    }
   ],
   "source": [
    "a = A()\n",
    "a.get_some()"
   ]
  },
  {
   "cell_type": "code",
   "execution_count": 184,
   "metadata": {},
   "outputs": [
    {
     "data": {
      "text/plain": [
       "(__main__.A, object)"
      ]
     },
     "execution_count": 184,
     "metadata": {},
     "output_type": "execute_result"
    }
   ],
   "source": [
    "A.__mro__"
   ]
  }
 ],
 "metadata": {
  "kernelspec": {
   "display_name": "Python 3",
   "language": "python",
   "name": "python3"
  },
  "language_info": {
   "codemirror_mode": {
    "name": "ipython",
    "version": 3
   },
   "file_extension": ".py",
   "mimetype": "text/x-python",
   "name": "python",
   "nbconvert_exporter": "python",
   "pygments_lexer": "ipython3",
   "version": "3.7.6"
  }
 },
 "nbformat": 4,
 "nbformat_minor": 4
}
